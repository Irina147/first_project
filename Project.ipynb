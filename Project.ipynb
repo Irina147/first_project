{
 "cells": [
  {
   "cell_type": "code",
   "execution_count": null,
   "id": "11cf0046-1d40-4965-9031-9ed3171b385e",
   "metadata": {},
   "outputs": [],
   "source": [
    "head()"
   ]
  },
  {
   "cell_type": "code",
   "execution_count": null,
   "id": "ea1dd2b6-19e3-43d0-a7ef-e102883412d2",
   "metadata": {},
   "outputs": [],
   "source": []
  },
  {
   "cell_type": "code",
   "execution_count": null,
   "id": "25ffe3b9-de13-4e57-8e73-1cb111fe1692",
   "metadata": {},
   "outputs": [],
   "source": []
  },
  {
   "cell_type": "code",
   "execution_count": null,
   "id": "1b6ca446-f7dc-4ab0-806f-f721f968a316",
   "metadata": {},
   "outputs": [],
   "source": []
  }
 ],
 "metadata": {
  "kernelspec": {
   "display_name": "Python 3 (ipykernel)",
   "language": "python",
   "name": "python3"
  },
  "language_info": {
   "codemirror_mode": {
    "name": "ipython",
    "version": 3
   },
   "file_extension": ".py",
   "mimetype": "text/x-python",
   "name": "python",
   "nbconvert_exporter": "python",
   "pygments_lexer": "ipython3",
   "version": "3.12.7"
  }
 },
 "nbformat": 4,
 "nbformat_minor": 5
}
