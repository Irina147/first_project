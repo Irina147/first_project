{
 "cells": [
  {
   "cell_type": "markdown",
   "metadata": {},
   "source": [
    "<span style=\"color:purple\">**Привет, Ирина!**</span>\n",
    "\n",
    "Меня зовут **Василий** и я - ревьювер, буду проверять твой проект.\n",
    "\n",
    "Если не против, я буду обращаться к тебе на \"ТЫ\". Если это неприемлемо, обязательно напиши мне в комментариях – мы прейдем на \"ВЫ\".\n",
    "\n",
    "В тетради ты сможешь найти мои комментарии. Пострайся учесть эти комментарии в ходе выполнения дальнейших проектов.\n",
    "\n",
    "Обрати внимание, я буду выделять свои комментарии цветом, в зависимости от того, какие действия, важность и особенности тебя ждут в процессе проверки.\n",
    "\n",
    "<div class=\"alert alert-block alert-success\">\n",
    "\n",
    "**Комментарий ревьювера (все отлично)**\n",
    "    \n",
    "Такими комментариями я буду помечать хорошо проделаную работу, а так же хорошо проделаную работу над ошибками.\n",
    "</div>\n",
    "\n",
    "<div class=\"alert alert-block alert-warning\">\n",
    "\n",
    "**Комментарий ревьювера (что можно улучшить)**\n",
    "    \n",
    "После таких комментариев ничего исправлять не нужно, но я дам рекомендации на будущее и подскажу, что можно улучшить.\n",
    "</div>\n",
    "\n",
    "<div class=\"alert alert-block alert-danger\">\n",
    "    \n",
    "**Комментарий ревьювера (недочет, который нужно доработать)**\n",
    "    \n",
    "Если ты видишь такой комментарий, значит я указываю тебе на недочёт, его нужно исправить. Без такого исправления я не приму твою работу:)\n",
    "</div>\n",
    "\n",
    "**Пожалуста, не удаляй мои комментарии. При повторной проверке, я буду ориентироваться на них.**\n",
    "\n",
    "<span style=\"color:blue\"> Можешь под моими комментариями оставлять свои, в которых опиши свои исправления. Это облегчит процесс проверки и мне, и тебе:) Например, вот так:</span>\n",
    "\n",
    "<div class=\"alert alert-block alert-info\">\n",
    "<b>КОММЕНТАРИЙ ОТ УЧЕНИКА: </b>\n",
    "</div>"
   ]
  },
  {
   "cell_type": "markdown",
   "metadata": {
    "id": "-VFbjcb3Awb7"
   },
   "source": [
    "# Исследование объявлений о продаже квартир\n",
    "\n",
    "В нашем распоряжении данные сервиса Яндекс Недвижимость — архив объявлений о продаже квартир в Санкт-Петербурге и соседних населённых пунктах за несколько лет. В целях определения рыночной стоимости объектов недвижимости необходио провести исследовательский анализ данных и установить параметры, влияющие на цену объектов. Это позволит построить автоматизированную систему: она отследит аномалии и мошенническую деятельность.\n",
    "\n",
    "По каждой квартире на продажу доступны два вида данных. Первые вписаны пользователем, вторые — получены автоматически на основе картографических данных. Например, расстояние до центра, аэропорта и других объектов — эти данные автоматически получены из геосервисов. Количество парков и водоёмов также заполняется без участия пользователя."
   ]
  },
  {
   "cell_type": "markdown",
   "metadata": {},
   "source": [
    "В ходе исследования предстоит изучить и обработать представленные данные, провести исследовательский анализ данных и сделать выводы по поставленным вопросам.\n",
    "\n",
    "# **Цель исследования**:\n",
    "\n",
    "- определить факторы, которые влияют на формирование рыночной цены квартир.\n",
    "\n",
    "Представленная информация: датасет `real_estate_data.csv` содержит следующие данные по квартирам, которые продавались в Санкт-Петербурге и области в 2014 - 2019 гг:\n",
    "\n",
    "Описание данных:\n",
    "+ `airports_nearest` — расстояние до ближайшего аэропорта в метрах (м)\n",
    "+ `balcony` — число балконов (шт)\n",
    "+ `ceiling_height` — высота потолков (м)\n",
    "+ `cityCenters_nearest` — расстояние до центра города (м)\n",
    "+ `days_exposition` — сколько дней было размещено объявление (от публикации до снятия)\n",
    "+ `first_day_exposition` — дата публикации\n",
    "+ `floor` — этаж (номер)\n",
    "+ `floors_total` — всего этажей в доме (шт)\n",
    "+ `is_apartment` — апартаменты (булев тип)\n",
    "+ `kitchen_area` — площадь кухни в квадратных метрах (м²)\n",
    "+ `last_price` — цена на момент снятия с публикации (руб)\n",
    "+ `living_area` — жилая площадь в квадратных метрах (м²)\n",
    "+ `locality_name` — название населённого пункта\n",
    "+ `open_plan` — свободная планировка (булев тип)\n",
    "+ `parks_around3000` — число парков в радиусе 3 км (шт)\n",
    "+ `parks_nearest` — расстояние до ближайшего парка (м)\n",
    "+ `ponds_around3000` — число водоёмов в радиусе 3 км (шт)\n",
    "+ `ponds_nearest` — расстояние до ближайшего водоёма (м)\n",
    "+ `rooms — число` комнат (шт)\n",
    "+ `studio` — квартира-студия (булев тип)\n",
    "+ `total_area` — общая площадь квартиры в квадратных метрах (м²)\n",
    "+ `total_images` — число фотографий квартиры в объявлении (шт)\n",
    "\n",
    "\n",
    "# Этапы исследования:\n",
    "\n",
    "## 1. Обзор данных и изучение общей информации о датафрейме\n",
    "- Загрузить данные из csv-файла в датафрейм c помощью библиотеки pandas.\n",
    "- Вывести общую информацию о датафрейме.\n",
    "- Построить гистограмму для всех числовых столбцов датафрейма. \n",
    "\n",
    "## 2. Предобработка данных\n",
    "- Изучить типы данных в столбцах и изменить их при необходимости.\n",
    "- Выявить пропуски данных, заполнить пропущенные значения там, где возможно, или удалить пропуски.\n",
    "- Выявить и обработать дубликаты.\n",
    "- Проверить и обработать аномальные значения.\n",
    "\n",
    "## 3. Добавить в таблицу дополнительные столбцы со следующими параметрами:\n",
    "- цена одного квадратного метра;\n",
    "- день недели публикации объявления (0 — понедельник, 1 — вторник и так далее);\n",
    "- месяц публикации объявления;\n",
    "- год публикации объявления;\n",
    "- тип этажа квартиры (значения — «первый», «последний», «другой»);\n",
    "- расстояние до центра города в километрах (перевести из м в км и округлить до целых значений).\n",
    "\n",
    "## 4. Провеcти исследовательский анализ данных\n",
    "\n",
    "#### Часть 1. Изучение и описание параметров \n",
    "\n",
    "Изучить следующие параметры объектов:\n",
    "\n",
    "+ общая площадь; \n",
    "+ жилая площадь;\n",
    "+ площадь кухни;\n",
    "+ цена объекта;\n",
    "+ количество комнат;\n",
    "+ высота потолков;\n",
    "+ этаж квартиры;\n",
    "+ тип этажа квартиры («первый», «последний», «другой»);\n",
    "+ общее количество этажей в доме;\n",
    "+ расстояние до центра города в метрах;\n",
    "+ расстояние до ближайшего аэропорта;\n",
    "+ расстояние до ближайшего парка;\n",
    "+ день и месяц публикации объявления.\n",
    "\n",
    "Построить отдельные гистограммы для каждого из этих параметров.\n",
    "\n",
    "#### Часть 2. Изучить, как быстро продавались квартиры (`days_exposition`)\n",
    "\n",
    "- построить гистограмму;\n",
    "- посчитать среднее и медиану;\n",
    "- проанализировать, сколько времени обычно занимает продажа; охарактеризовать, какие продажи можно считать быстрыми, а какие — необычно долгими?\n",
    "\n",
    "#### Часть 3.  Определить, какие факторы больше всего влияют на общую (полную) стоимость объекта\n",
    "\n",
    "Изучить, зависит ли цена от:\n",
    "- общей площади;\n",
    "- жилой площади;\n",
    "- площади кухни;\n",
    "- количества комнат;\n",
    "- этажа, на котором расположена квартира (первый, последний, другой);\n",
    "- даты размещения (день недели, месяц, год).\n",
    "\n",
    "Построить графики, которые покажут зависимость цены от указанных выше параметров.\n",
    "\n",
    "#### Часть 4.  Посчитать среднюю цену одного квадратного метра в 10 населённых пунктах с наибольшим числом объявлений. Выделить населённые пункты с самой высокой и низкой стоимостью квадратного метра. \n",
    "\n",
    "#### Часть 5.  Выделить квартиры в Санкт-Петербурге с помощью столбца `locality_name` и вычислить их среднюю стоимость для разного расстояния от центра, учитывая каждый километр расстояния. Описать, как стоимость объектов зависит от расстояния до центра города.\n",
    "\n",
    "## 5. Сделать общий вывод\n",
    "\n",
    "---\n",
    "\n"
   ]
  },
  {
   "cell_type": "markdown",
   "metadata": {},
   "source": [
    "<div class=\"alert alert-block alert-success\">\n",
    "\n",
    "**Комментарий ревьювера (все отлично)**\n",
    "    \n",
    "Введение перед исследованием даст понимание о том, чему оно посвящено. Здорово, что обращаешь на это внимание.\n",
    "    \n",
    "Старайся выполнять свой проект в порядке, прописанном в твоем плане. Содержание можно добавить автоматически при помощи плагина table of contents в панели инструментов. Или расставляя метки и ссылки на них вручную. Вот тут почитай, как сделать <a href=\"https://sebastianraschka.com/Articles/2014_ipython_internal_links.html\">кликабельные разделы</a>.\n",
    "_________________\n",
    "\n",
    "\n",
    "**Почему это важно?** Когда ты будешь в будущем выполнять тестовые задания, просто скопировав присланную тебе задачу и не составив плана, ты можешь смутить будущего работодателя. А грамотно сконфигурированный план покажет тебя как ответсвенного и усидчивого специалиста. Также такой подход научит тебя структурировать исследование и не путаться при работе с большими проектами.\n",
    "</div>"
   ]
  },
  {
   "cell_type": "markdown",
   "metadata": {
    "id": "aeFLH07FAwb9"
   },
   "source": [
    "## Приступаем к исследованию\n",
    "\n",
    "## 1. Обзор данных и изучение общей информации о датафрейме: \n",
    "       открыть файл с данными и изучить общую информацию; построить гистограмму для всех столбцов"
   ]
  },
  {
   "cell_type": "code",
   "execution_count": 1,
   "metadata": {
    "id": "7MZxY65pAwb9"
   },
   "outputs": [],
   "source": [
    "# Импортируем библиотеки\n",
    "import pandas as pd\n",
    "import matplotlib.pyplot as plt"
   ]
  },
  {
   "cell_type": "markdown",
   "metadata": {},
   "source": [
    "<div class=\"alert alert-block alert-success\">\n",
    "\n",
    "**Комментарий ревьювера (все отлично)**\n",
    "    \n",
    "Правильно, что импортируешь необходимые библиотеки в первой ячейке. Так твой коллега, запускающий работу, будет в курсе используемых в ней библиотек и сможет настроить свое окружение при необходимости.\n",
    "</div>"
   ]
  },
  {
   "cell_type": "code",
   "execution_count": 2,
   "metadata": {
    "scrolled": true
   },
   "outputs": [
    {
     "data": {
      "text/html": [
       "<div>\n",
       "<style scoped>\n",
       "    .dataframe tbody tr th:only-of-type {\n",
       "        vertical-align: middle;\n",
       "    }\n",
       "\n",
       "    .dataframe tbody tr th {\n",
       "        vertical-align: top;\n",
       "    }\n",
       "\n",
       "    .dataframe thead th {\n",
       "        text-align: right;\n",
       "    }\n",
       "</style>\n",
       "<table border=\"1\" class=\"dataframe\">\n",
       "  <thead>\n",
       "    <tr style=\"text-align: right;\">\n",
       "      <th></th>\n",
       "      <th>total_images</th>\n",
       "      <th>last_price</th>\n",
       "      <th>total_area</th>\n",
       "      <th>first_day_exposition</th>\n",
       "      <th>rooms</th>\n",
       "      <th>ceiling_height</th>\n",
       "      <th>floors_total</th>\n",
       "      <th>living_area</th>\n",
       "      <th>floor</th>\n",
       "      <th>is_apartment</th>\n",
       "      <th>studio</th>\n",
       "      <th>open_plan</th>\n",
       "      <th>kitchen_area</th>\n",
       "      <th>balcony</th>\n",
       "      <th>locality_name</th>\n",
       "      <th>airports_nearest</th>\n",
       "      <th>cityCenters_nearest</th>\n",
       "      <th>parks_around3000</th>\n",
       "      <th>parks_nearest</th>\n",
       "      <th>ponds_around3000</th>\n",
       "      <th>ponds_nearest</th>\n",
       "      <th>days_exposition</th>\n",
       "    </tr>\n",
       "  </thead>\n",
       "  <tbody>\n",
       "    <tr>\n",
       "      <th>0</th>\n",
       "      <td>20</td>\n",
       "      <td>13000000.0</td>\n",
       "      <td>108.0</td>\n",
       "      <td>2019-03-07T00:00:00</td>\n",
       "      <td>3</td>\n",
       "      <td>2.70</td>\n",
       "      <td>16.0</td>\n",
       "      <td>51.0</td>\n",
       "      <td>8</td>\n",
       "      <td>NaN</td>\n",
       "      <td>False</td>\n",
       "      <td>False</td>\n",
       "      <td>25.0</td>\n",
       "      <td>NaN</td>\n",
       "      <td>Санкт-Петербург</td>\n",
       "      <td>18863.0</td>\n",
       "      <td>16028.0</td>\n",
       "      <td>1.0</td>\n",
       "      <td>482.0</td>\n",
       "      <td>2.0</td>\n",
       "      <td>755.0</td>\n",
       "      <td>NaN</td>\n",
       "    </tr>\n",
       "    <tr>\n",
       "      <th>1</th>\n",
       "      <td>7</td>\n",
       "      <td>3350000.0</td>\n",
       "      <td>40.4</td>\n",
       "      <td>2018-12-04T00:00:00</td>\n",
       "      <td>1</td>\n",
       "      <td>NaN</td>\n",
       "      <td>11.0</td>\n",
       "      <td>18.6</td>\n",
       "      <td>1</td>\n",
       "      <td>NaN</td>\n",
       "      <td>False</td>\n",
       "      <td>False</td>\n",
       "      <td>11.0</td>\n",
       "      <td>2.0</td>\n",
       "      <td>посёлок Шушары</td>\n",
       "      <td>12817.0</td>\n",
       "      <td>18603.0</td>\n",
       "      <td>0.0</td>\n",
       "      <td>NaN</td>\n",
       "      <td>0.0</td>\n",
       "      <td>NaN</td>\n",
       "      <td>81.0</td>\n",
       "    </tr>\n",
       "    <tr>\n",
       "      <th>2</th>\n",
       "      <td>10</td>\n",
       "      <td>5196000.0</td>\n",
       "      <td>56.0</td>\n",
       "      <td>2015-08-20T00:00:00</td>\n",
       "      <td>2</td>\n",
       "      <td>NaN</td>\n",
       "      <td>5.0</td>\n",
       "      <td>34.3</td>\n",
       "      <td>4</td>\n",
       "      <td>NaN</td>\n",
       "      <td>False</td>\n",
       "      <td>False</td>\n",
       "      <td>8.3</td>\n",
       "      <td>0.0</td>\n",
       "      <td>Санкт-Петербург</td>\n",
       "      <td>21741.0</td>\n",
       "      <td>13933.0</td>\n",
       "      <td>1.0</td>\n",
       "      <td>90.0</td>\n",
       "      <td>2.0</td>\n",
       "      <td>574.0</td>\n",
       "      <td>558.0</td>\n",
       "    </tr>\n",
       "    <tr>\n",
       "      <th>3</th>\n",
       "      <td>0</td>\n",
       "      <td>64900000.0</td>\n",
       "      <td>159.0</td>\n",
       "      <td>2015-07-24T00:00:00</td>\n",
       "      <td>3</td>\n",
       "      <td>NaN</td>\n",
       "      <td>14.0</td>\n",
       "      <td>NaN</td>\n",
       "      <td>9</td>\n",
       "      <td>NaN</td>\n",
       "      <td>False</td>\n",
       "      <td>False</td>\n",
       "      <td>NaN</td>\n",
       "      <td>0.0</td>\n",
       "      <td>Санкт-Петербург</td>\n",
       "      <td>28098.0</td>\n",
       "      <td>6800.0</td>\n",
       "      <td>2.0</td>\n",
       "      <td>84.0</td>\n",
       "      <td>3.0</td>\n",
       "      <td>234.0</td>\n",
       "      <td>424.0</td>\n",
       "    </tr>\n",
       "    <tr>\n",
       "      <th>4</th>\n",
       "      <td>2</td>\n",
       "      <td>10000000.0</td>\n",
       "      <td>100.0</td>\n",
       "      <td>2018-06-19T00:00:00</td>\n",
       "      <td>2</td>\n",
       "      <td>3.03</td>\n",
       "      <td>14.0</td>\n",
       "      <td>32.0</td>\n",
       "      <td>13</td>\n",
       "      <td>NaN</td>\n",
       "      <td>False</td>\n",
       "      <td>False</td>\n",
       "      <td>41.0</td>\n",
       "      <td>NaN</td>\n",
       "      <td>Санкт-Петербург</td>\n",
       "      <td>31856.0</td>\n",
       "      <td>8098.0</td>\n",
       "      <td>2.0</td>\n",
       "      <td>112.0</td>\n",
       "      <td>1.0</td>\n",
       "      <td>48.0</td>\n",
       "      <td>121.0</td>\n",
       "    </tr>\n",
       "  </tbody>\n",
       "</table>\n",
       "</div>"
      ],
      "text/plain": [
       "   total_images  last_price  total_area first_day_exposition  rooms  \\\n",
       "0            20  13000000.0       108.0  2019-03-07T00:00:00      3   \n",
       "1             7   3350000.0        40.4  2018-12-04T00:00:00      1   \n",
       "2            10   5196000.0        56.0  2015-08-20T00:00:00      2   \n",
       "3             0  64900000.0       159.0  2015-07-24T00:00:00      3   \n",
       "4             2  10000000.0       100.0  2018-06-19T00:00:00      2   \n",
       "\n",
       "   ceiling_height  floors_total  living_area  floor is_apartment  studio  \\\n",
       "0            2.70          16.0         51.0      8          NaN   False   \n",
       "1             NaN          11.0         18.6      1          NaN   False   \n",
       "2             NaN           5.0         34.3      4          NaN   False   \n",
       "3             NaN          14.0          NaN      9          NaN   False   \n",
       "4            3.03          14.0         32.0     13          NaN   False   \n",
       "\n",
       "   open_plan  kitchen_area  balcony    locality_name  airports_nearest  \\\n",
       "0      False          25.0      NaN  Санкт-Петербург           18863.0   \n",
       "1      False          11.0      2.0   посёлок Шушары           12817.0   \n",
       "2      False           8.3      0.0  Санкт-Петербург           21741.0   \n",
       "3      False           NaN      0.0  Санкт-Петербург           28098.0   \n",
       "4      False          41.0      NaN  Санкт-Петербург           31856.0   \n",
       "\n",
       "   cityCenters_nearest  parks_around3000  parks_nearest  ponds_around3000  \\\n",
       "0              16028.0               1.0          482.0               2.0   \n",
       "1              18603.0               0.0            NaN               0.0   \n",
       "2              13933.0               1.0           90.0               2.0   \n",
       "3               6800.0               2.0           84.0               3.0   \n",
       "4               8098.0               2.0          112.0               1.0   \n",
       "\n",
       "   ponds_nearest  days_exposition  \n",
       "0          755.0              NaN  \n",
       "1            NaN             81.0  \n",
       "2          574.0            558.0  \n",
       "3          234.0            424.0  \n",
       "4           48.0            121.0  "
      ]
     },
     "execution_count": 2,
     "metadata": {},
     "output_type": "execute_result"
    }
   ],
   "source": [
    "# Открываем файл и смотрим первые 5 строчек датафрейма data\n",
    "data = pd.read_csv('/datasets/real_estate_data.csv', sep='\\t')\n",
    "pd.set_option('display.max_columns', None)\n",
    "data.head()"
   ]
  },
  {
   "cell_type": "code",
   "execution_count": 3,
   "metadata": {},
   "outputs": [
    {
     "name": "stdout",
     "output_type": "stream",
     "text": [
      "<class 'pandas.core.frame.DataFrame'>\n",
      "RangeIndex: 23699 entries, 0 to 23698\n",
      "Data columns (total 22 columns):\n",
      " #   Column                Non-Null Count  Dtype  \n",
      "---  ------                --------------  -----  \n",
      " 0   total_images          23699 non-null  int64  \n",
      " 1   last_price            23699 non-null  float64\n",
      " 2   total_area            23699 non-null  float64\n",
      " 3   first_day_exposition  23699 non-null  object \n",
      " 4   rooms                 23699 non-null  int64  \n",
      " 5   ceiling_height        14504 non-null  float64\n",
      " 6   floors_total          23613 non-null  float64\n",
      " 7   living_area           21796 non-null  float64\n",
      " 8   floor                 23699 non-null  int64  \n",
      " 9   is_apartment          2775 non-null   object \n",
      " 10  studio                23699 non-null  bool   \n",
      " 11  open_plan             23699 non-null  bool   \n",
      " 12  kitchen_area          21421 non-null  float64\n",
      " 13  balcony               12180 non-null  float64\n",
      " 14  locality_name         23650 non-null  object \n",
      " 15  airports_nearest      18157 non-null  float64\n",
      " 16  cityCenters_nearest   18180 non-null  float64\n",
      " 17  parks_around3000      18181 non-null  float64\n",
      " 18  parks_nearest         8079 non-null   float64\n",
      " 19  ponds_around3000      18181 non-null  float64\n",
      " 20  ponds_nearest         9110 non-null   float64\n",
      " 21  days_exposition       20518 non-null  float64\n",
      "dtypes: bool(2), float64(14), int64(3), object(3)\n",
      "memory usage: 3.7+ MB\n"
     ]
    }
   ],
   "source": [
    "# Выведем основную информацию о датафрейме с помощью метода info()\n",
    "data.info()"
   ]
  },
  {
   "cell_type": "code",
   "execution_count": 4,
   "metadata": {},
   "outputs": [
    {
     "data": {
      "image/png": "[encoded data removed]",
      "text/plain": [
       "<Figure size 1080x1440 with 20 Axes>"
      ]
     },
     "metadata": {
      "needs_background": "light"
     },
     "output_type": "display_data"
    }
   ],
   "source": [
    "# Построим гистограмму для всех числовых столбцов таблицы на одном графике\n",
    "data.hist(figsize=(15, 20));"
   ]
  },
  {
   "cell_type": "markdown",
   "metadata": {},
   "source": [
    "Из полученных данных видно, что таблица состоит из 23699 строк и 22 столбцов. В столбцах находятся данные различных типов. Можно увидеть, что есть достаточно много пропусков в данных, с чем будет необходимо разобраться. \n",
    "Есть данные, у которых нужно изменить тип: \n",
    "- `first_day_exposition` (дата публикации объявления) имеет тип данных `object`, что необходимо преобразовать в тип `datetime`\n",
    "- представляется разумным в тех столбцах, где данные целочисленные, изменить тип данных с `float64` на `int64`, а именно, в столбцах:\n",
    "  - `floors_total`\n",
    "  - `balcony`\n",
    "  - `parks_around3000`\n",
    "  - `ponds_around3000`\n",
    "  - `days_exposition`\n",
    "  \n",
    "Также необходимо откорректировать название столбца `cityCenters_nearest`, чтобы оно имело вид snake_case\n",
    "\n",
    "Из гистограмм видно, что в некоторых столбцах присутствуют данные с очень высокими значениями. Посмотрим их.\n"
   ]
  },
  {
   "cell_type": "markdown",
   "metadata": {},
   "source": [
    "<div class=\"alert alert-block alert-success\">\n",
    "\n",
    "**Комментарий ревьювера (все отлично)**\n",
    "    \n",
    "Основные проблемы и особенности данных определены! Молодец, что пишешь вывод по результатам раздела👍\n",
    "</div>"
   ]
  },
  {
   "cell_type": "markdown",
   "metadata": {
    "id": "-O5NtivEAwb9"
   },
   "source": [
    "## 2. Предобработка данных"
   ]
  },
  {
   "cell_type": "markdown",
   "metadata": {},
   "source": [
    "*Сразу приведем названия столбцов к виду snake_case*"
   ]
  },
  {
   "cell_type": "code",
   "execution_count": 5,
   "metadata": {
    "id": "7v3vAeTuAwb-"
   },
   "outputs": [
    {
     "name": "stdout",
     "output_type": "stream",
     "text": [
      "Index(['total_images', 'last_price', 'total_area', 'first_day_exposition',\n",
      "       'rooms', 'ceiling_height', 'floors_total', 'living_area', 'floor',\n",
      "       'is_apartment', 'studio', 'open_plan', 'kitchen_area', 'balcony',\n",
      "       'locality_name', 'airports_nearest', 'city_centers_nearest',\n",
      "       'parks_around3000', 'parks_nearest', 'ponds_around3000',\n",
      "       'ponds_nearest', 'days_exposition'],\n",
      "      dtype='object')\n"
     ]
    }
   ],
   "source": [
    "# Изменим название столбца `cityCenters_nearest` на `city_centers_nearest`\n",
    "data = data.rename(columns={'cityCenters_nearest': 'city_centers_nearest'})\n",
    "# Проверим\n",
    "print(data.columns)"
   ]
  },
  {
   "cell_type": "markdown",
   "metadata": {},
   "source": [
    "### **Выявление и обработка пропущенных значений**"
   ]
  },
  {
   "cell_type": "code",
   "execution_count": 6,
   "metadata": {},
   "outputs": [
    {
     "data": {
      "text/plain": [
       "total_images                0\n",
       "last_price                  0\n",
       "total_area                  0\n",
       "first_day_exposition        0\n",
       "rooms                       0\n",
       "ceiling_height           9195\n",
       "floors_total               86\n",
       "living_area              1903\n",
       "floor                       0\n",
       "is_apartment            20924\n",
       "studio                      0\n",
       "open_plan                   0\n",
       "kitchen_area             2278\n",
       "balcony                 11519\n",
       "locality_name              49\n",
       "airports_nearest         5542\n",
       "city_centers_nearest     5519\n",
       "parks_around3000         5518\n",
       "parks_nearest           15620\n",
       "ponds_around3000         5518\n",
       "ponds_nearest           14589\n",
       "days_exposition          3181\n",
       "dtype: int64"
      ]
     },
     "execution_count": 6,
     "metadata": {},
     "output_type": "execute_result"
    }
   ],
   "source": [
    "# Выведем количество пропущеных значений для каждого столбца\n",
    "data.isna().sum()"
   ]
  },
  {
   "cell_type": "markdown",
   "metadata": {},
   "source": [
    "<div class=\"alert alert-block alert-warning\">\n",
    "\n",
    "**Комментарий ревьювера (что можно улучшить)**\n",
    "    \n",
    "Здорово, что посчитала пустые значения в данных. Можно дополнительно посчитать их долю:\n",
    "    \n",
    "    df.isnull().mean() * 100\n",
    "    \n",
    "</div>"
   ]
  },
  {
   "cell_type": "markdown",
   "metadata": {},
   "source": [
    "В 14 столбцах из 22-х есть пропуски.  \n",
    "Рассмотрим столбцы с пропусками."
   ]
  },
  {
   "cell_type": "markdown",
   "metadata": {},
   "source": [
    "Начнем со столбцов `floors_total` и `locality_name`  \n",
    "\n",
    "**Столбец `locality_name` - место расположения**    \n",
    "Это значимый параметр для оценки объектов недвижимости, и он будет использоваться в дальнейшем при анализе. Количество пропусков в этом столбце мало - 49, что составляет всего 0,2%. Соответственно, считаю возможным эти строки из исследования исключить (удалить), что не окажет существенного влияния на результат:"
   ]
  },
  {
   "cell_type": "code",
   "execution_count": 7,
   "metadata": {},
   "outputs": [
    {
     "data": {
      "text/plain": [
       "0"
      ]
     },
     "execution_count": 7,
     "metadata": {},
     "output_type": "execute_result"
    }
   ],
   "source": [
    "# Удаляем строки с пропусками\n",
    "data = data.dropna(subset=['locality_name'])\n",
    "# Проверим\n",
    "data['locality_name'].isna().sum()"
   ]
  },
  {
   "cell_type": "markdown",
   "metadata": {},
   "source": [
    "Пропущенных значений в столбце `locality_name` не осталось."
   ]
  },
  {
   "cell_type": "markdown",
   "metadata": {},
   "source": [
    "<div class=\"alert alert-block alert-success\">\n",
    "\n",
    "**Комментарий ревьювера (все отлично)**\n",
    "    \n",
    "Верное решение, удаление такой малой доли данных не повлияет на анализ👍\n",
    "</div>"
   ]
  },
  {
   "cell_type": "markdown",
   "metadata": {},
   "source": [
    "**Столбец `floors_total` - Количество этажей**  \n",
    "  \n",
    "В этом столбце 86 пропусков, что составляет всего около 0,4%. Как и в случае со столбцом `locality_name`, в данном случае строки с пропусками также можно исключить, и это не должно повлиять на результат:"
   ]
  },
  {
   "cell_type": "code",
   "execution_count": 8,
   "metadata": {
    "scrolled": true
   },
   "outputs": [
    {
     "data": {
      "text/plain": [
       "0"
      ]
     },
     "execution_count": 8,
     "metadata": {},
     "output_type": "execute_result"
    }
   ],
   "source": [
    "# Удаляем строки с пропусками\n",
    "data = data.dropna(subset=['floors_total'])\n",
    "# Проверим\n",
    "data['floors_total'].isna().sum()"
   ]
  },
  {
   "cell_type": "markdown",
   "metadata": {},
   "source": [
    "Пропущенных значений в столбце `floors_total` нет."
   ]
  },
  {
   "cell_type": "markdown",
   "metadata": {},
   "source": [
    "<div class=\"alert alert-block alert-success\">\n",
    "\n",
    "**Комментарий ревьювера (все отлично)**\n",
    "    \n",
    "Здесь тоже верно👍\n",
    "</div>"
   ]
  },
  {
   "cell_type": "markdown",
   "metadata": {},
   "source": [
    "После удаления строк с пропусками еще раз выведем основную информацию о датафрейме \n",
    "и количество пропущенных значений для каждого столбца"
   ]
  },
  {
   "cell_type": "code",
   "execution_count": 9,
   "metadata": {},
   "outputs": [
    {
     "name": "stdout",
     "output_type": "stream",
     "text": [
      "<class 'pandas.core.frame.DataFrame'>\n",
      "Int64Index: 23565 entries, 0 to 23698\n",
      "Data columns (total 22 columns):\n",
      " #   Column                Non-Null Count  Dtype  \n",
      "---  ------                --------------  -----  \n",
      " 0   total_images          23565 non-null  int64  \n",
      " 1   last_price            23565 non-null  float64\n",
      " 2   total_area            23565 non-null  float64\n",
      " 3   first_day_exposition  23565 non-null  object \n",
      " 4   rooms                 23565 non-null  int64  \n",
      " 5   ceiling_height        14481 non-null  float64\n",
      " 6   floors_total          23565 non-null  float64\n",
      " 7   living_area           21700 non-null  float64\n",
      " 8   floor                 23565 non-null  int64  \n",
      " 9   is_apartment          2760 non-null   object \n",
      " 10  studio                23565 non-null  bool   \n",
      " 11  open_plan             23565 non-null  bool   \n",
      " 12  kitchen_area          21343 non-null  float64\n",
      " 13  balcony               12090 non-null  float64\n",
      " 14  locality_name         23565 non-null  object \n",
      " 15  airports_nearest      18041 non-null  float64\n",
      " 16  city_centers_nearest  18064 non-null  float64\n",
      " 17  parks_around3000      18065 non-null  float64\n",
      " 18  parks_nearest         8030 non-null   float64\n",
      " 19  ponds_around3000      18065 non-null  float64\n",
      " 20  ponds_nearest         9036 non-null   float64\n",
      " 21  days_exposition       20394 non-null  float64\n",
      "dtypes: bool(2), float64(14), int64(3), object(3)\n",
      "memory usage: 3.8+ MB\n"
     ]
    }
   ],
   "source": [
    "data.info()"
   ]
  },
  {
   "cell_type": "code",
   "execution_count": 10,
   "metadata": {},
   "outputs": [
    {
     "data": {
      "text/plain": [
       "total_images                0\n",
       "last_price                  0\n",
       "total_area                  0\n",
       "first_day_exposition        0\n",
       "rooms                       0\n",
       "ceiling_height           9084\n",
       "floors_total                0\n",
       "living_area              1865\n",
       "floor                       0\n",
       "is_apartment            20805\n",
       "studio                      0\n",
       "open_plan                   0\n",
       "kitchen_area             2222\n",
       "balcony                 11475\n",
       "locality_name               0\n",
       "airports_nearest         5524\n",
       "city_centers_nearest     5501\n",
       "parks_around3000         5500\n",
       "parks_nearest           15535\n",
       "ponds_around3000         5500\n",
       "ponds_nearest           14529\n",
       "days_exposition          3171\n",
       "dtype: int64"
      ]
     },
     "execution_count": 10,
     "metadata": {},
     "output_type": "execute_result"
    }
   ],
   "source": [
    "data.isna().sum()"
   ]
  },
  {
   "cell_type": "markdown",
   "metadata": {},
   "source": [
    "**Столбец `ceiling_height` - Высота потолков**  \n",
    "\n",
    "В этом столбце 9084 пропусков, т.е.почти 40%. Между тем это довольно важная информация, поэтому данные пропуски желательно заполнить. Можно предположить, что высота потолков может быть представлена исходя из района расположения квартиры и этажности зданий в этом районе. Соответственно, пропуски можно заменить на медианные значения по каждому месту расположения и соответствующей этажности в данной локации. "
   ]
  },
  {
   "cell_type": "code",
   "execution_count": 11,
   "metadata": {},
   "outputs": [
    {
     "data": {
      "text/plain": [
       "392"
      ]
     },
     "execution_count": 11,
     "metadata": {},
     "output_type": "execute_result"
    }
   ],
   "source": [
    "# Заполняем пропуски\n",
    "\n",
    "data['ceiling_height'] = data['ceiling_height'].fillna(data.groupby(['locality_name', 'floors_total'])['ceiling_height'].transform('median'))\n",
    "\n",
    "# Проверяем\n",
    "data['ceiling_height'].isna().sum()\n"
   ]
  },
  {
   "cell_type": "markdown",
   "metadata": {},
   "source": [
    "Оставшиеся пропуски в столбце `ceiling_height` заменим на медианное значение столбца `ceiling_height`"
   ]
  },
  {
   "cell_type": "code",
   "execution_count": 12,
   "metadata": {
    "scrolled": true
   },
   "outputs": [
    {
     "data": {
      "text/plain": [
       "0"
      ]
     },
     "execution_count": 12,
     "metadata": {},
     "output_type": "execute_result"
    }
   ],
   "source": [
    "data['ceiling_height'] = data['ceiling_height'].fillna(data['ceiling_height'].median())\n",
    "\n",
    "# Проверим\n",
    "data['ceiling_height'].isna().sum()"
   ]
  },
  {
   "cell_type": "markdown",
   "metadata": {},
   "source": [
    "Пропущенных значений в столбце `ceiling_height` не осталось."
   ]
  },
  {
   "cell_type": "markdown",
   "metadata": {},
   "source": [
    "<div class=\"alert alert-block alert-success\">\n",
    "\n",
    "**Комментарий ревьювера (все отлично)**\n",
    "    \n",
    "Согласен с решением👍\n",
    "</div>"
   ]
  },
  {
   "cell_type": "markdown",
   "metadata": {},
   "source": [
    "**Столбцы `living_area` и `kitchen_area` - Жилая площадь и площадь кухни**\n",
    "\n",
    "В данных столбцах 1865 и 2222 пропусков соответственно. Эти данные могли быть не заполнены по той причине, что продавцы не посчитали необходимым высчитывать жилую площадь и могли не уточнять площадь кухни, особенно в отношений студий. Хотя количество пропусков составляет только 7,9% и 9,4% (т.е., менее 10% в обоих случаях), но это важные данные, и они нужны для исследования. Для заполнения пропусков будем иходить из того, что если нам известна общая площадь недвижимости, то на основе уже имеющихся данных об общей и жилой площади, а также площади кухни мы можем узнать их примерные соотношения и по ним оценить размер жилой площади и площади кухни - как произведение среднего % жилой площади и площади кухни на общую площадь.\n",
    "\n"
   ]
  },
  {
   "cell_type": "code",
   "execution_count": 13,
   "metadata": {
    "scrolled": true
   },
   "outputs": [
    {
     "data": {
      "text/plain": [
       "0.5259695853925763"
      ]
     },
     "execution_count": 13,
     "metadata": {},
     "output_type": "execute_result"
    }
   ],
   "source": [
    "# Для жилой площади\n",
    "# средний процент\n",
    "data['living_area'].sum() / data['total_area'].sum()\n"
   ]
  },
  {
   "cell_type": "code",
   "execution_count": 14,
   "metadata": {},
   "outputs": [
    {
     "name": "stdout",
     "output_type": "stream",
     "text": [
      "0        51.0\n",
      "1        18.6\n",
      "2        34.3\n",
      "3        83.6\n",
      "4        32.0\n",
      "         ... \n",
      "23694    73.3\n",
      "23695    38.0\n",
      "23696    29.7\n",
      "23697    40.4\n",
      "23698    12.3\n",
      "Name: living_area, Length: 23565, dtype: float64\n"
     ]
    }
   ],
   "source": [
    "data['living_area'] = data['living_area'].fillna(data['total_area'] * (data['living_area'].sum() / data['total_area'].sum())).round(1)\n",
    "\n",
    "# Посмотрим на получившийся столбец\n",
    "print(data['living_area'])\n",
    "\n",
    "\n"
   ]
  },
  {
   "cell_type": "code",
   "execution_count": 15,
   "metadata": {},
   "outputs": [
    {
     "data": {
      "text/plain": [
       "0"
      ]
     },
     "execution_count": 15,
     "metadata": {},
     "output_type": "execute_result"
    }
   ],
   "source": [
    "# Проверим на пропуски\n",
    "data['living_area'].isna().sum()"
   ]
  },
  {
   "cell_type": "code",
   "execution_count": 16,
   "metadata": {},
   "outputs": [
    {
     "data": {
      "text/plain": [
       "0.1585663978452169"
      ]
     },
     "execution_count": 16,
     "metadata": {},
     "output_type": "execute_result"
    }
   ],
   "source": [
    "# Для площади кухни\n",
    "# средний процент\n",
    "data['kitchen_area'].sum() / data['total_area'].sum()"
   ]
  },
  {
   "cell_type": "code",
   "execution_count": 17,
   "metadata": {},
   "outputs": [
    {
     "name": "stdout",
     "output_type": "stream",
     "text": [
      "0        25.0\n",
      "1        11.0\n",
      "2         8.3\n",
      "3        25.2\n",
      "4        41.0\n",
      "         ... \n",
      "23694    13.8\n",
      "23695     8.5\n",
      "23696     9.0\n",
      "23697    23.3\n",
      "23698     9.0\n",
      "Name: kitchen_area, Length: 23565, dtype: float64\n"
     ]
    },
    {
     "data": {
      "text/plain": [
       "0"
      ]
     },
     "execution_count": 17,
     "metadata": {},
     "output_type": "execute_result"
    }
   ],
   "source": [
    "data['kitchen_area'] = data['kitchen_area'].fillna(data['total_area'] * (data['kitchen_area'] \\\n",
    "                                                                         .sum() / data['total_area'].sum())).round(1)\n",
    "  \n",
    "# Посмотрим на получившийся столбец\n",
    "print(data['kitchen_area'])\n",
    "\n",
    "# Проверим на пропуски\n",
    "data['kitchen_area'].isna().sum()"
   ]
  },
  {
   "cell_type": "markdown",
   "metadata": {},
   "source": [
    "Пропущенных значений в столбцах `living_area` и `kitchen_area` не осталось. "
   ]
  },
  {
   "cell_type": "markdown",
   "metadata": {},
   "source": [
    "Зададим условие, чтобы проверять, не превышает ли сумма жилой площади и площади кухни общую площадь (и даже не равна ли, потому что так не должно быть). Если превышает, скорректировать значения жилой площади и площади кухни из расчета 0,6.\n"
   ]
  },
  {
   "cell_type": "code",
   "execution_count": 18,
   "metadata": {},
   "outputs": [],
   "source": [
    "condition = (data['kitchen_area'] + data['living_area']) >= data['total_area']\n",
    "data.loc[condition, ['living_area', 'kitchen_area']] *= 0.6"
   ]
  },
  {
   "cell_type": "code",
   "execution_count": 19,
   "metadata": {},
   "outputs": [
    {
     "data": {
      "text/html": [
       "<div>\n",
       "<style scoped>\n",
       "    .dataframe tbody tr th:only-of-type {\n",
       "        vertical-align: middle;\n",
       "    }\n",
       "\n",
       "    .dataframe tbody tr th {\n",
       "        vertical-align: top;\n",
       "    }\n",
       "\n",
       "    .dataframe thead th {\n",
       "        text-align: right;\n",
       "    }\n",
       "</style>\n",
       "<table border=\"1\" class=\"dataframe\">\n",
       "  <thead>\n",
       "    <tr style=\"text-align: right;\">\n",
       "      <th></th>\n",
       "      <th>total_area</th>\n",
       "      <th>living_area</th>\n",
       "      <th>kitchen_area</th>\n",
       "    </tr>\n",
       "  </thead>\n",
       "  <tbody>\n",
       "  </tbody>\n",
       "</table>\n",
       "</div>"
      ],
      "text/plain": [
       "Empty DataFrame\n",
       "Columns: [total_area, living_area, kitchen_area]\n",
       "Index: []"
      ]
     },
     "execution_count": 19,
     "metadata": {},
     "output_type": "execute_result"
    }
   ],
   "source": [
    "# Проверим, не больше ли или равна где-нибудь сумма жилой площади и площади кухни общей площади \n",
    "\n",
    "#data['excess_area'] = data['total_area'] - (data['kitchen_area'] + data['living_area']) \n",
    "#data.query('excess_area <= 0')[['total_area', 'living_area', 'kitchen_area', 'excess_area']]\n",
    "data.query('total_area <= kitchen_area + living_area')[['total_area', 'living_area', 'kitchen_area']]"
   ]
  },
  {
   "cell_type": "markdown",
   "metadata": {},
   "source": [
    "Превышения или равенство общей площади не фиксируются."
   ]
  },
  {
   "cell_type": "markdown",
   "metadata": {},
   "source": [
    "<div class=\"alert alert-block alert-success\">\n",
    "\n",
    "**Комментарий ревьювера (все отлично)**\n",
    "    \n",
    "Пропуски по площадям обработаны успешно👍\n",
    "</div>"
   ]
  },
  {
   "cell_type": "markdown",
   "metadata": {},
   "source": [
    "**Столбец `is apartment` - Апартаменты**\n",
    "\n",
    "В столбце 20805 пропусков. Пропуски, возможно, говорят о том, что данные объекты недвижимости апартаментами не являются, поэтому продавцы просто не указывали эту информацию.Исходя из этого осуществим замену на `False`.  "
   ]
  },
  {
   "cell_type": "code",
   "execution_count": 20,
   "metadata": {},
   "outputs": [
    {
     "name": "stdout",
     "output_type": "stream",
     "text": [
      "0        False\n",
      "1        False\n",
      "2        False\n",
      "3        False\n",
      "4        False\n",
      "         ...  \n",
      "23694    False\n",
      "23695    False\n",
      "23696    False\n",
      "23697    False\n",
      "23698    False\n",
      "Name: is_apartment, Length: 23565, dtype: bool\n"
     ]
    },
    {
     "data": {
      "text/plain": [
       "0"
      ]
     },
     "execution_count": 20,
     "metadata": {},
     "output_type": "execute_result"
    }
   ],
   "source": [
    "data['is_apartment'] = data['is_apartment'].fillna(False)\n",
    "\n",
    "# Посмотрим на получившийся столбец\n",
    "print(data['is_apartment'])\n",
    "\n",
    "# Проверим на пропуски\n",
    "data['is_apartment'].isna().sum()"
   ]
  },
  {
   "cell_type": "markdown",
   "metadata": {},
   "source": [
    "Пропущенных значений в столбце `is_apartПment` не осталось."
   ]
  },
  {
   "cell_type": "markdown",
   "metadata": {},
   "source": [
    "**Столбец `balcony` - Число балконов**\n",
    "\n",
    "В этом столбце 11475 пропусков. Весьма вероятно, что пропуск значений говорит об отсутствии балконов. Поэтому заполним пропуски нулями."
   ]
  },
  {
   "cell_type": "code",
   "execution_count": 21,
   "metadata": {},
   "outputs": [
    {
     "name": "stdout",
     "output_type": "stream",
     "text": [
      "0        0.0\n",
      "1        2.0\n",
      "2        0.0\n",
      "3        0.0\n",
      "4        0.0\n",
      "        ... \n",
      "23694    0.0\n",
      "23695    0.0\n",
      "23696    0.0\n",
      "23697    2.0\n",
      "23698    0.0\n",
      "Name: balcony, Length: 23565, dtype: float64\n"
     ]
    },
    {
     "data": {
      "text/plain": [
       "0"
      ]
     },
     "execution_count": 21,
     "metadata": {},
     "output_type": "execute_result"
    }
   ],
   "source": [
    "data['balcony'] = data['balcony'].fillna(0)\n",
    "\n",
    "# Посмотрим на получившийся столбец\n",
    "print(data['balcony'])\n",
    "\n",
    "# Проверим на пропуски\n",
    "data['balcony'].isna().sum()"
   ]
  },
  {
   "cell_type": "markdown",
   "metadata": {},
   "source": [
    "Пропущенных значений в столбце `balcony` не осталось."
   ]
  },
  {
   "cell_type": "markdown",
   "metadata": {},
   "source": [
    "**Столбцы с географическими данными: `airports_nearest`, `city_centers_nearest`, `ponds_nearest`, `ponds_around3000`, `parks_nearest`, `parks_around3000` - расстояния до ближайшего аэропорта, центра города, парков и водоемов**\n",
    "\n",
    "Посмотрим столбцы с этими данными"
   ]
  },
  {
   "cell_type": "code",
   "execution_count": 22,
   "metadata": {},
   "outputs": [
    {
     "data": {
      "text/html": [
       "<div>\n",
       "<style scoped>\n",
       "    .dataframe tbody tr th:only-of-type {\n",
       "        vertical-align: middle;\n",
       "    }\n",
       "\n",
       "    .dataframe tbody tr th {\n",
       "        vertical-align: top;\n",
       "    }\n",
       "\n",
       "    .dataframe thead th {\n",
       "        text-align: right;\n",
       "    }\n",
       "</style>\n",
       "<table border=\"1\" class=\"dataframe\">\n",
       "  <thead>\n",
       "    <tr style=\"text-align: right;\">\n",
       "      <th></th>\n",
       "      <th>airports_nearest</th>\n",
       "      <th>city_centers_nearest</th>\n",
       "      <th>parks_around3000</th>\n",
       "      <th>parks_nearest</th>\n",
       "      <th>ponds_around3000</th>\n",
       "      <th>ponds_nearest</th>\n",
       "    </tr>\n",
       "  </thead>\n",
       "  <tbody>\n",
       "    <tr>\n",
       "      <th>0</th>\n",
       "      <td>18863.0</td>\n",
       "      <td>16028.0</td>\n",
       "      <td>1.0</td>\n",
       "      <td>482.0</td>\n",
       "      <td>2.0</td>\n",
       "      <td>755.0</td>\n",
       "    </tr>\n",
       "    <tr>\n",
       "      <th>1</th>\n",
       "      <td>12817.0</td>\n",
       "      <td>18603.0</td>\n",
       "      <td>0.0</td>\n",
       "      <td>NaN</td>\n",
       "      <td>0.0</td>\n",
       "      <td>NaN</td>\n",
       "    </tr>\n",
       "    <tr>\n",
       "      <th>2</th>\n",
       "      <td>21741.0</td>\n",
       "      <td>13933.0</td>\n",
       "      <td>1.0</td>\n",
       "      <td>90.0</td>\n",
       "      <td>2.0</td>\n",
       "      <td>574.0</td>\n",
       "    </tr>\n",
       "    <tr>\n",
       "      <th>3</th>\n",
       "      <td>28098.0</td>\n",
       "      <td>6800.0</td>\n",
       "      <td>2.0</td>\n",
       "      <td>84.0</td>\n",
       "      <td>3.0</td>\n",
       "      <td>234.0</td>\n",
       "    </tr>\n",
       "    <tr>\n",
       "      <th>4</th>\n",
       "      <td>31856.0</td>\n",
       "      <td>8098.0</td>\n",
       "      <td>2.0</td>\n",
       "      <td>112.0</td>\n",
       "      <td>1.0</td>\n",
       "      <td>48.0</td>\n",
       "    </tr>\n",
       "    <tr>\n",
       "      <th>5</th>\n",
       "      <td>NaN</td>\n",
       "      <td>NaN</td>\n",
       "      <td>NaN</td>\n",
       "      <td>NaN</td>\n",
       "      <td>NaN</td>\n",
       "      <td>NaN</td>\n",
       "    </tr>\n",
       "    <tr>\n",
       "      <th>6</th>\n",
       "      <td>52996.0</td>\n",
       "      <td>19143.0</td>\n",
       "      <td>0.0</td>\n",
       "      <td>NaN</td>\n",
       "      <td>0.0</td>\n",
       "      <td>NaN</td>\n",
       "    </tr>\n",
       "    <tr>\n",
       "      <th>7</th>\n",
       "      <td>23982.0</td>\n",
       "      <td>11634.0</td>\n",
       "      <td>0.0</td>\n",
       "      <td>NaN</td>\n",
       "      <td>0.0</td>\n",
       "      <td>NaN</td>\n",
       "    </tr>\n",
       "    <tr>\n",
       "      <th>8</th>\n",
       "      <td>NaN</td>\n",
       "      <td>NaN</td>\n",
       "      <td>NaN</td>\n",
       "      <td>NaN</td>\n",
       "      <td>NaN</td>\n",
       "      <td>NaN</td>\n",
       "    </tr>\n",
       "    <tr>\n",
       "      <th>9</th>\n",
       "      <td>50898.0</td>\n",
       "      <td>15008.0</td>\n",
       "      <td>0.0</td>\n",
       "      <td>NaN</td>\n",
       "      <td>0.0</td>\n",
       "      <td>NaN</td>\n",
       "    </tr>\n",
       "  </tbody>\n",
       "</table>\n",
       "</div>"
      ],
      "text/plain": [
       "   airports_nearest  city_centers_nearest  parks_around3000  parks_nearest  \\\n",
       "0           18863.0               16028.0               1.0          482.0   \n",
       "1           12817.0               18603.0               0.0            NaN   \n",
       "2           21741.0               13933.0               1.0           90.0   \n",
       "3           28098.0                6800.0               2.0           84.0   \n",
       "4           31856.0                8098.0               2.0          112.0   \n",
       "5               NaN                   NaN               NaN            NaN   \n",
       "6           52996.0               19143.0               0.0            NaN   \n",
       "7           23982.0               11634.0               0.0            NaN   \n",
       "8               NaN                   NaN               NaN            NaN   \n",
       "9           50898.0               15008.0               0.0            NaN   \n",
       "\n",
       "   ponds_around3000  ponds_nearest  \n",
       "0               2.0          755.0  \n",
       "1               0.0            NaN  \n",
       "2               2.0          574.0  \n",
       "3               3.0          234.0  \n",
       "4               1.0           48.0  \n",
       "5               NaN            NaN  \n",
       "6               0.0            NaN  \n",
       "7               0.0            NaN  \n",
       "8               NaN            NaN  \n",
       "9               0.0            NaN  "
      ]
     },
     "execution_count": 22,
     "metadata": {},
     "output_type": "execute_result"
    }
   ],
   "source": [
    "data[['airports_nearest', 'city_centers_nearest', 'parks_around3000', 'parks_nearest', 'ponds_around3000','ponds_nearest']] \\\n",
    ".head(10)"
   ]
  },
  {
   "cell_type": "markdown",
   "metadata": {},
   "source": [
    "Можно заметить, что по некоторым объектам картографические значения отсуствуют в нескольких (или даже во всех) колонках. Возможно, это связано с проблемами при автоматическом заполнении картографических данных при определении места расположения объекта.\n",
    "\n",
    "На основании имеющейся в датасете информации точное определение расстояний не представляется возможным. Использование средних  или медианных значений для всех локаций также не является корректным, учитывая размеры Санкт - Петербурга и области, где расстояния, например, до аэропорта, могут отличаться в несколько раз. Заполнение пропусков нулями в данном случае также не представляется хорошим решением. Все это может привести к некорректным результатам. Оставим эти данные, кроме расстояний до центра, пока без изменений. Если в дальнейшем возникнет необходимость, будем решать, имеет ли смысл избавляться от этих пропусков, и каким образом это делать.\n",
    "Что касается данных о расстояниях до центра, они являются важным параметром, который может оказать существенное влияние на формирование рыночной цены объекта недвижимости. Поэтому остановимся на нем. Рассмотрим сейчас только Санкт-Петербург. По нему пропусков немного, но ввиду существенности этих данных заполним их медианным значением для Санкт-Петербурга. "
   ]
  },
  {
   "cell_type": "code",
   "execution_count": 23,
   "metadata": {},
   "outputs": [
    {
     "data": {
      "text/plain": [
       "60"
      ]
     },
     "execution_count": 23,
     "metadata": {},
     "output_type": "execute_result"
    }
   ],
   "source": [
    "# Проверим на пропуски по Санкт_Петербургу\n",
    "data.loc[data['locality_name']  == 'Санкт-Петербург', 'city_centers_nearest'].isna().sum()"
   ]
  },
  {
   "cell_type": "code",
   "execution_count": 24,
   "metadata": {},
   "outputs": [],
   "source": [
    "# Вычисляем медиану для столбца  'city_centers_nearest' для тех значений, где 'locality_name' - Санкт-Петербург.\n",
    "median_value = data.loc[data['locality_name']  == 'Санкт-Петербург', 'city_centers_nearest'].median()\n",
    "\n",
    "# Заполняем пропуски в столбце 'city_centers_nearest' полученным выше медианным значением и только для Санкт-Петербурга\n",
    "data.loc[(data['locality_name'] =='Санкт-Петербург') & (data['city_centers_nearest'].isna()), 'city_centers_nearest'] = median_value"
   ]
  },
  {
   "cell_type": "code",
   "execution_count": 25,
   "metadata": {},
   "outputs": [
    {
     "data": {
      "text/plain": [
       "0"
      ]
     },
     "execution_count": 25,
     "metadata": {},
     "output_type": "execute_result"
    }
   ],
   "source": [
    "# Проверим еще раз на пропуски по Санкт_Петербургу\n",
    "data.loc[data['locality_name']  == 'Санкт-Петербург', 'city_centers_nearest'].isna().sum()"
   ]
  },
  {
   "cell_type": "markdown",
   "metadata": {},
   "source": [
    "<div class=\"alert alert-block alert-warning\">\n",
    "\n",
    "**Комментарий ревьювера (что можно улучшить)**\n",
    "    \n",
    "Мы не можем с уверенностью утверждать, что пропуски в расстоянии до центра равны медианному значению. Они могут быть, как близко к центру, так и далеко. Лучше оставить пропуски, как есть, чтобы не вносить искажения.\n",
    "</div>\n"
   ]
  },
  {
   "cell_type": "markdown",
   "metadata": {},
   "source": [
    "По Санкт-Петербургу пропусков больше нет"
   ]
  },
  {
   "cell_type": "markdown",
   "metadata": {},
   "source": [
    "По остальным локациям пропуски пока оставим, по аналогии с другими картографическими данными (как говорилось выше)."
   ]
  },
  {
   "cell_type": "markdown",
   "metadata": {},
   "source": [
    "**Столбец `days_exposition` - Cколько дней было размещено объявление (от публикации до снятия)**\n",
    "\n",
    "В этом столбце 3171 пропусков, или 13%. Возможно, пропуски связаны с тем, что какие-то объявления еще не сняты, и для них не подсчитано количество дней до снятия, соответственно, значения в столбце нет. Оставляем пока без изменений. В дальнейшем, если понадобится, будем решать, что нужно делать с этими пропусками."
   ]
  },
  {
   "cell_type": "markdown",
   "metadata": {},
   "source": [
    "Переходим к выявлению и обработке дубликатов.\n"
   ]
  },
  {
   "cell_type": "markdown",
   "metadata": {},
   "source": [
    "### **Выявление и обработка дубликатов**\n"
   ]
  },
  {
   "cell_type": "markdown",
   "metadata": {},
   "source": [
    "Проверим наличие явных дубликатов"
   ]
  },
  {
   "cell_type": "code",
   "execution_count": 26,
   "metadata": {},
   "outputs": [
    {
     "data": {
      "text/plain": [
       "0"
      ]
     },
     "execution_count": 26,
     "metadata": {},
     "output_type": "execute_result"
    }
   ],
   "source": [
    "data.duplicated().sum()"
   ]
  },
  {
   "cell_type": "markdown",
   "metadata": {},
   "source": [
    "Явных дубликатов не обнаружено.\n"
   ]
  },
  {
   "cell_type": "markdown",
   "metadata": {},
   "source": [
    "Неявные дубликаты:\n",
    "\n",
    "Посмотрим перечень уникальных значений с столбце `locality_name`"
   ]
  },
  {
   "cell_type": "code",
   "execution_count": 27,
   "metadata": {},
   "outputs": [
    {
     "data": {
      "text/plain": [
       "array(['Бокситогорск', 'Волосово', 'Волхов', 'Всеволожск', 'Выборг',\n",
       "       'Высоцк', 'Гатчина', 'Зеленогорск', 'Ивангород', 'Каменногорск',\n",
       "       'Кингисепп', 'Кириши', 'Кировск', 'Колпино', 'Коммунар',\n",
       "       'Красное Село', 'Кронштадт', 'Кудрово', 'Лодейное Поле',\n",
       "       'Ломоносов', 'Луга', 'Любань', 'Мурино', 'Никольское',\n",
       "       'Новая Ладога', 'Отрадное', 'Павловск', 'Петергоф', 'Пикалёво',\n",
       "       'Подпорожье', 'Приморск', 'Приозерск', 'Пушкин', 'Санкт-Петербург',\n",
       "       'Светогорск', 'Сертолово', 'Сестрорецк', 'Сланцы', 'Сосновый Бор',\n",
       "       'Сясьстрой', 'Тихвин', 'Тосно', 'Шлиссельбург',\n",
       "       'городской поселок Большая Ижора', 'городской поселок Янино-1',\n",
       "       'городской посёлок Будогощь', 'городской посёлок Виллози',\n",
       "       'городской посёлок Лесогорский', 'городской посёлок Мга',\n",
       "       'городской посёлок Назия', 'городской посёлок Новоселье',\n",
       "       'городской посёлок Павлово', 'городской посёлок Рощино',\n",
       "       'городской посёлок Свирьстрой', 'городской посёлок Советский',\n",
       "       'городской посёлок Фёдоровское', 'городской посёлок Янино-1',\n",
       "       'деревня Агалатово', 'деревня Аро', 'деревня Батово',\n",
       "       'деревня Бегуницы', 'деревня Белогорка', 'деревня Большая Вруда',\n",
       "       'деревня Большая Пустомержа', 'деревня Большие Колпаны',\n",
       "       'деревня Большое Рейзино', 'деревня Большой Сабск', 'деревня Бор',\n",
       "       'деревня Борисова Грива', 'деревня Ваганово', 'деревня Вартемяги',\n",
       "       'деревня Вахнова Кара', 'деревня Выскатка', 'деревня Гарболово',\n",
       "       'деревня Глинка', 'деревня Горбунки', 'деревня Гостилицы',\n",
       "       'деревня Заклинье', 'деревня Заневка', 'деревня Зимитицы',\n",
       "       'деревня Извара', 'деревня Иссад', 'деревня Калитино',\n",
       "       'деревня Кальтино', 'деревня Камышовка', 'деревня Каськово',\n",
       "       'деревня Келози', 'деревня Кипень', 'деревня Кисельня',\n",
       "       'деревня Колтуши', 'деревня Коркино', 'деревня Котлы',\n",
       "       'деревня Кривко', 'деревня Кудрово', 'деревня Кузьмолово',\n",
       "       'деревня Курковицы', 'деревня Куровицы', 'деревня Куттузи',\n",
       "       'деревня Лаврики', 'деревня Лаголово', 'деревня Лампово',\n",
       "       'деревня Лесколово', 'деревня Лопухинка', 'деревня Лупполово',\n",
       "       'деревня Малая Романовка', 'деревня Малое Верево',\n",
       "       'деревня Малое Карлино', 'деревня Малые Колпаны',\n",
       "       'деревня Мануйлово', 'деревня Меньково', 'деревня Мины',\n",
       "       'деревня Мистолово', 'деревня Ненимяки', 'деревня Нижние Осельки',\n",
       "       'деревня Нижняя', 'деревня Низино', 'деревня Новое Девяткино',\n",
       "       'деревня Новолисино', 'деревня Нурма', 'деревня Оржицы',\n",
       "       'деревня Парицы', 'деревня Пельгора', 'деревня Пеники',\n",
       "       'деревня Пижма', 'деревня Пикколово', 'деревня Пудомяги',\n",
       "       'деревня Пустынка', 'деревня Пчева', 'деревня Рабитицы',\n",
       "       'деревня Разбегаево', 'деревня Раздолье', 'деревня Разметелево',\n",
       "       'деревня Рапполово', 'деревня Реброво', 'деревня Русско',\n",
       "       'деревня Сижно', 'деревня Снегирёвка', 'деревня Старая',\n",
       "       'деревня Старая Пустошь', 'деревня Старое Хинколово',\n",
       "       'деревня Старополье', 'деревня Старосиверская',\n",
       "       'деревня Старые Бегуницы', 'деревня Суоранда',\n",
       "       'деревня Сяськелево', 'деревня Тарасово', 'деревня Терпилицы',\n",
       "       'деревня Тихковицы', 'деревня Тойворово', 'деревня Торосово',\n",
       "       'деревня Торошковичи', 'деревня Трубников Бор',\n",
       "       'деревня Фалилеево', 'деревня Фёдоровское', 'деревня Хапо-Ое',\n",
       "       'деревня Хязельки', 'деревня Чудской Бор', 'деревня Шпаньково',\n",
       "       'деревня Щеглово', 'деревня Юкки', 'деревня Ялгино',\n",
       "       'деревня Яльгелево', 'деревня Ям-Тесово',\n",
       "       'коттеджный поселок Кивеннапа Север', 'коттеджный поселок Счастье',\n",
       "       'коттеджный посёлок Лесное', 'поселок Аннино', 'поселок Барышево',\n",
       "       'поселок Бугры', 'поселок Возрождение', 'поселок Войсковицы',\n",
       "       'поселок Володарское', 'поселок Гаврилово', 'поселок Гарболово',\n",
       "       'поселок Гладкое', 'поселок Глажево', 'поселок Глебычево',\n",
       "       'поселок Гончарово', 'поселок Громово', 'поселок Дружноселье',\n",
       "       'поселок Елизаветино', 'поселок Жилгородок', 'поселок Жилпосёлок',\n",
       "       'поселок Житково', 'поселок Заводской', 'поселок Запорожское',\n",
       "       'поселок Зимитицы', 'поселок Ильичёво', 'поселок Калитино',\n",
       "       'поселок Каложицы', 'поселок Кингисеппский', 'поселок Кирпичное',\n",
       "       'поселок Кобралово', 'поселок Кобринское', 'поселок Коммунары',\n",
       "       'поселок Коробицыно', 'поселок Котельский',\n",
       "       'поселок Красная Долина', 'поселок Красносельское',\n",
       "       'поселок Лесное', 'поселок Лисий Нос', 'поселок Лукаши',\n",
       "       'поселок Любань', 'поселок Мельниково', 'поселок Мичуринское',\n",
       "       'поселок Молодцово', 'поселок Мурино', 'поселок Новый Свет',\n",
       "       'поселок Новый Учхоз', 'поселок Оредеж',\n",
       "       'поселок Пансионат Зелёный Бор', 'поселок Первомайское',\n",
       "       'поселок Перово', 'поселок Петровское', 'поселок Победа',\n",
       "       'поселок Поляны', 'поселок Почап', 'поселок Починок',\n",
       "       'поселок Пушное', 'поселок Пчевжа', 'поселок Рабитицы',\n",
       "       'поселок Романовка', 'поселок Ромашки', 'поселок Рябово',\n",
       "       'поселок Севастьяново', 'поселок Селезнёво', 'поселок Сельцо',\n",
       "       'поселок Семиозерье', 'поселок Семрино', 'поселок Серебрянский',\n",
       "       'поселок Совхозный', 'поселок Старая Малукса',\n",
       "       'поселок Стеклянный', 'поселок Сумино', 'поселок Суходолье',\n",
       "       'поселок Тельмана', 'поселок Терволово', 'поселок Торковичи',\n",
       "       'поселок Тёсово-4', 'поселок Углово', 'поселок Усть-Луга',\n",
       "       'поселок Ушаки', 'поселок Цвелодубово', 'поселок Цвылёво',\n",
       "       'поселок городского типа Большая Ижора',\n",
       "       'поселок городского типа Вырица',\n",
       "       'поселок городского типа Дружная Горка',\n",
       "       'поселок городского типа Дубровка',\n",
       "       'поселок городского типа Ефимовский',\n",
       "       'поселок городского типа Кондратьево',\n",
       "       'поселок городского типа Красный Бор',\n",
       "       'поселок городского типа Кузьмоловский',\n",
       "       'поселок городского типа Лебяжье',\n",
       "       'поселок городского типа Лесогорский',\n",
       "       'поселок городского типа Назия',\n",
       "       'поселок городского типа Никольский',\n",
       "       'поселок городского типа Приладожский',\n",
       "       'поселок городского типа Рахья', 'поселок городского типа Рощино',\n",
       "       'поселок городского типа Рябово',\n",
       "       'поселок городского типа Синявино',\n",
       "       'поселок городского типа Советский',\n",
       "       'поселок городского типа Токсово',\n",
       "       'поселок городского типа Форносово',\n",
       "       'поселок городского типа имени Свердлова',\n",
       "       'поселок станции Вещево', 'поселок станции Корнево',\n",
       "       'поселок станции Лужайка', 'поселок станции Приветнинское',\n",
       "       'посёлок Александровская', 'посёлок Алексеевка', 'посёлок Аннино',\n",
       "       'посёлок Белоостров', 'посёлок Бугры', 'посёлок Возрождение',\n",
       "       'посёлок Войскорово', 'посёлок Высокоключевой',\n",
       "       'посёлок Гаврилово', 'посёлок Дзержинского', 'посёлок Жилгородок',\n",
       "       'посёлок Ильичёво', 'посёлок Кикерино', 'посёлок Кобралово',\n",
       "       'посёлок Коробицыно', 'посёлок Левашово', 'посёлок Ленинское',\n",
       "       'посёлок Лисий Нос', 'посёлок Мельниково', 'посёлок Металлострой',\n",
       "       'посёлок Мичуринское', 'посёлок Молодёжное', 'посёлок Мурино',\n",
       "       'посёлок Мыза-Ивановка', 'посёлок Новогорелово',\n",
       "       'посёлок Новый Свет', 'посёлок Пансионат Зелёный Бор',\n",
       "       'посёлок Парголово', 'посёлок Перово', 'посёлок Песочный',\n",
       "       'посёлок Петро-Славянка', 'посёлок Петровское',\n",
       "       'посёлок Платформа 69-й километр', 'посёлок Плодовое',\n",
       "       'посёлок Плоское', 'посёлок Победа', 'посёлок Поляны',\n",
       "       'посёлок Понтонный', 'посёлок Пригородный', 'посёлок Пудость',\n",
       "       'посёлок Репино', 'посёлок Ропша', 'посёлок Сапёрное',\n",
       "       'посёлок Сапёрный', 'посёлок Сосново', 'посёлок Старая Малукса',\n",
       "       'посёлок Стеклянный', 'посёлок Стрельна', 'посёлок Суйда',\n",
       "       'посёлок Сумино', 'посёлок Тельмана', 'посёлок Терволово',\n",
       "       'посёлок Торфяное', 'посёлок Усть-Ижора', 'посёлок Усть-Луга',\n",
       "       'посёлок Форт Красная Горка', 'посёлок Шугозеро', 'посёлок Шушары',\n",
       "       'посёлок Щеглово', 'посёлок городского типа Важины',\n",
       "       'посёлок городского типа Вознесенье',\n",
       "       'посёлок городского типа Вырица',\n",
       "       'посёлок городского типа Красный Бор',\n",
       "       'посёлок городского типа Кузнечное',\n",
       "       'посёлок городского типа Кузьмоловский',\n",
       "       'посёлок городского типа Лебяжье', 'посёлок городского типа Мга',\n",
       "       'посёлок городского типа Павлово',\n",
       "       'посёлок городского типа Рощино', 'посёлок городского типа Рябово',\n",
       "       'посёлок городского типа Сиверский',\n",
       "       'посёлок городского типа Тайцы', 'посёлок городского типа Токсово',\n",
       "       'посёлок городского типа Ульяновка',\n",
       "       'посёлок городского типа Форносово',\n",
       "       'посёлок городского типа имени Морозова',\n",
       "       'посёлок городского типа имени Свердлова',\n",
       "       'посёлок при железнодорожной станции Вещево',\n",
       "       'посёлок при железнодорожной станции Приветнинское',\n",
       "       'посёлок станции Громово', 'посёлок станции Свирь',\n",
       "       'садоводческое некоммерческое товарищество Лесная Поляна',\n",
       "       'садовое товарищество Новая Ропша',\n",
       "       'садовое товарищество Приладожский', 'садовое товарищество Рахья',\n",
       "       'садовое товарищество Садко', 'село Копорье', 'село Никольское',\n",
       "       'село Павлово', 'село Паша', 'село Путилово', 'село Рождествено',\n",
       "       'село Русско-Высоцкое', 'село Старая Ладога', 'село Шум'],\n",
       "      dtype=object)"
      ]
     },
     "execution_count": 27,
     "metadata": {},
     "output_type": "execute_result"
    }
   ],
   "source": [
    "# выведем уникальные значения locality_name\n",
    "\n",
    "data['locality_name'].sort_values().unique()"
   ]
  },
  {
   "cell_type": "markdown",
   "metadata": {},
   "source": [
    "Можно единообразить виды населенных пунктов. В ОК 033-2013 «Общероссийский классификатор территорий муниципальных образований» конкретизированы виды населенных пунктов:\n",
    "города;\n",
    "посёлки городского типа (рабочие поселки, курортные посёлки, дачные посёлки, поселки, городские посёлки);\n",
    "сельские населенные пункты (посёлки, села, станицы, деревни, хутора, кишлаки, аулы и др.).\n",
    "И хотя в некоторых регионах, в том числе и в Ленинградской области, используется термин \"городской посёлок\", даже там городскими посёлками называются все посёлки городского типа. Соответственно, полагаю нужным везде определить данный тип населенного пункта как \"посёлок городского типа\" в соответствии с классификатором.\n",
    "Кроме того, можно использовать одинаковое написание \"посёлок\" вместо \"поселок\"; \"посёлок станции\" вместо \"посёлок при железнодорожной станции\" (очень длинно)."
   ]
  },
  {
   "cell_type": "code",
   "execution_count": 28,
   "metadata": {},
   "outputs": [
    {
     "data": {
      "text/plain": [
       "array(['Бокситогорск', 'Волосово', 'Волхов', 'Всеволожск', 'Выборг',\n",
       "       'Высоцк', 'Гатчина', 'Зеленогорск', 'Ивангород', 'Каменногорск',\n",
       "       'Кингисепп', 'Кириши', 'Кировск', 'Колпино', 'Коммунар',\n",
       "       'Красное Село', 'Кронштадт', 'Кудрово', 'Лодейное Поле',\n",
       "       'Ломоносов', 'Луга', 'Любань', 'Мурино', 'Никольское',\n",
       "       'Новая Ладога', 'Отрадное', 'Павловск', 'Петергоф', 'Пикалёво',\n",
       "       'Подпорожье', 'Приморск', 'Приозерск', 'Пушкин', 'Санкт-Петербург',\n",
       "       'Светогорск', 'Сертолово', 'Сестрорецк', 'Сланцы', 'Сосновый Бор',\n",
       "       'Сясьстрой', 'Тихвин', 'Тосно', 'Шлиссельбург',\n",
       "       'деревня Агалатово', 'деревня Аро', 'деревня Батово',\n",
       "       'деревня Бегуницы', 'деревня Белогорка', 'деревня Большая Вруда',\n",
       "       'деревня Большая Пустомержа', 'деревня Большие Колпаны',\n",
       "       'деревня Большое Рейзино', 'деревня Большой Сабск', 'деревня Бор',\n",
       "       'деревня Борисова Грива', 'деревня Ваганово', 'деревня Вартемяги',\n",
       "       'деревня Вахнова Кара', 'деревня Выскатка', 'деревня Гарболово',\n",
       "       'деревня Глинка', 'деревня Горбунки', 'деревня Гостилицы',\n",
       "       'деревня Заклинье', 'деревня Заневка', 'деревня Зимитицы',\n",
       "       'деревня Извара', 'деревня Иссад', 'деревня Калитино',\n",
       "       'деревня Кальтино', 'деревня Камышовка', 'деревня Каськово',\n",
       "       'деревня Келози', 'деревня Кипень', 'деревня Кисельня',\n",
       "       'деревня Колтуши', 'деревня Коркино', 'деревня Котлы',\n",
       "       'деревня Кривко', 'деревня Кудрово', 'деревня Кузьмолово',\n",
       "       'деревня Курковицы', 'деревня Куровицы', 'деревня Куттузи',\n",
       "       'деревня Лаврики', 'деревня Лаголово', 'деревня Лампово',\n",
       "       'деревня Лесколово', 'деревня Лопухинка', 'деревня Лупполово',\n",
       "       'деревня Малая Романовка', 'деревня Малое Верево',\n",
       "       'деревня Малое Карлино', 'деревня Малые Колпаны',\n",
       "       'деревня Мануйлово', 'деревня Меньково', 'деревня Мины',\n",
       "       'деревня Мистолово', 'деревня Ненимяки', 'деревня Нижние Осельки',\n",
       "       'деревня Нижняя', 'деревня Низино', 'деревня Новое Девяткино',\n",
       "       'деревня Новолисино', 'деревня Нурма', 'деревня Оржицы',\n",
       "       'деревня Парицы', 'деревня Пельгора', 'деревня Пеники',\n",
       "       'деревня Пижма', 'деревня Пикколово', 'деревня Пудомяги',\n",
       "       'деревня Пустынка', 'деревня Пчева', 'деревня Рабитицы',\n",
       "       'деревня Разбегаево', 'деревня Раздолье', 'деревня Разметелево',\n",
       "       'деревня Рапполово', 'деревня Реброво', 'деревня Русско',\n",
       "       'деревня Сижно', 'деревня Снегирёвка', 'деревня Старая',\n",
       "       'деревня Старая Пустошь', 'деревня Старое Хинколово',\n",
       "       'деревня Старополье', 'деревня Старосиверская',\n",
       "       'деревня Старые Бегуницы', 'деревня Суоранда',\n",
       "       'деревня Сяськелево', 'деревня Тарасово', 'деревня Терпилицы',\n",
       "       'деревня Тихковицы', 'деревня Тойворово', 'деревня Торосово',\n",
       "       'деревня Торошковичи', 'деревня Трубников Бор',\n",
       "       'деревня Фалилеево', 'деревня Фёдоровское', 'деревня Хапо-Ое',\n",
       "       'деревня Хязельки', 'деревня Чудской Бор', 'деревня Шпаньково',\n",
       "       'деревня Щеглово', 'деревня Юкки', 'деревня Ялгино',\n",
       "       'деревня Яльгелево', 'деревня Ям-Тесово',\n",
       "       'коттеджный посёлок Кивеннапа Север', 'коттеджный посёлок Лесное',\n",
       "       'коттеджный посёлок Счастье', 'посёлок Александровская',\n",
       "       'посёлок Алексеевка', 'посёлок Аннино', 'посёлок Барышево',\n",
       "       'посёлок Белоостров', 'посёлок Бугры', 'посёлок Возрождение',\n",
       "       'посёлок Войсковицы', 'посёлок Войскорово', 'посёлок Володарское',\n",
       "       'посёлок Высокоключевой', 'посёлок Гаврилово', 'посёлок Гарболово',\n",
       "       'посёлок Гладкое', 'посёлок Глажево', 'посёлок Глебычево',\n",
       "       'посёлок Гончарово', 'посёлок Громово', 'посёлок Дзержинского',\n",
       "       'посёлок Дружноселье', 'посёлок Елизаветино', 'посёлок Жилгородок',\n",
       "       'посёлок Жилпосёлок', 'посёлок Житково', 'посёлок Заводской',\n",
       "       'посёлок Запорожское', 'посёлок Зимитицы', 'посёлок Ильичёво',\n",
       "       'посёлок Калитино', 'посёлок Каложицы', 'посёлок Кикерино',\n",
       "       'посёлок Кингисеппский', 'посёлок Кирпичное', 'посёлок Кобралово',\n",
       "       'посёлок Кобринское', 'посёлок Коммунары', 'посёлок Коробицыно',\n",
       "       'посёлок Котельский', 'посёлок Красная Долина',\n",
       "       'посёлок Красносельское', 'посёлок Левашово', 'посёлок Ленинское',\n",
       "       'посёлок Лесное', 'посёлок Лисий Нос', 'посёлок Лукаши',\n",
       "       'посёлок Любань', 'посёлок Мельниково', 'посёлок Металлострой',\n",
       "       'посёлок Мичуринское', 'посёлок Молодцово', 'посёлок Молодёжное',\n",
       "       'посёлок Мурино', 'посёлок Мыза-Ивановка', 'посёлок Новогорелово',\n",
       "       'посёлок Новый Свет', 'посёлок Новый Учхоз', 'посёлок Оредеж',\n",
       "       'посёлок Пансионат Зелёный Бор', 'посёлок Парголово',\n",
       "       'посёлок Первомайское', 'посёлок Перово', 'посёлок Песочный',\n",
       "       'посёлок Петро-Славянка', 'посёлок Петровское',\n",
       "       'посёлок Платформа 69-й километр', 'посёлок Плодовое',\n",
       "       'посёлок Плоское', 'посёлок Победа', 'посёлок Поляны',\n",
       "       'посёлок Понтонный', 'посёлок Почап', 'посёлок Починок',\n",
       "       'посёлок Пригородный', 'посёлок Пудость', 'посёлок Пушное',\n",
       "       'посёлок Пчевжа', 'посёлок Рабитицы', 'посёлок Репино',\n",
       "       'посёлок Романовка', 'посёлок Ромашки', 'посёлок Ропша',\n",
       "       'посёлок Рябово', 'посёлок Сапёрное', 'посёлок Сапёрный',\n",
       "       'посёлок Севастьяново', 'посёлок Селезнёво', 'посёлок Сельцо',\n",
       "       'посёлок Семиозерье', 'посёлок Семрино', 'посёлок Серебрянский',\n",
       "       'посёлок Совхозный', 'посёлок Сосново', 'посёлок Старая Малукса',\n",
       "       'посёлок Стеклянный', 'посёлок Стрельна', 'посёлок Суйда',\n",
       "       'посёлок Сумино', 'посёлок Суходолье', 'посёлок Тельмана',\n",
       "       'посёлок Терволово', 'посёлок Торковичи', 'посёлок Торфяное',\n",
       "       'посёлок Тёсово-4', 'посёлок Углово', 'посёлок Усть-Ижора',\n",
       "       'посёлок Усть-Луга', 'посёлок Ушаки', 'посёлок Форт Красная Горка',\n",
       "       'посёлок Цвелодубово', 'посёлок Цвылёво', 'посёлок Шугозеро',\n",
       "       'посёлок Шушары', 'посёлок Щеглово',\n",
       "       'посёлок городского типа Большая Ижора',\n",
       "       'посёлок городского типа Будогощь',\n",
       "       'посёлок городского типа Важины',\n",
       "       'посёлок городского типа Виллози',\n",
       "       'посёлок городского типа Вознесенье',\n",
       "       'посёлок городского типа Вырица',\n",
       "       'посёлок городского типа Дружная Горка',\n",
       "       'посёлок городского типа Дубровка',\n",
       "       'посёлок городского типа Ефимовский',\n",
       "       'посёлок городского типа Кондратьево',\n",
       "       'посёлок городского типа Красный Бор',\n",
       "       'посёлок городского типа Кузнечное',\n",
       "       'посёлок городского типа Кузьмоловский',\n",
       "       'посёлок городского типа Лебяжье',\n",
       "       'посёлок городского типа Лесогорский',\n",
       "       'посёлок городского типа Мга', 'посёлок городского типа Назия',\n",
       "       'посёлок городского типа Никольский',\n",
       "       'посёлок городского типа Новоселье',\n",
       "       'посёлок городского типа Павлово',\n",
       "       'посёлок городского типа Приладожский',\n",
       "       'посёлок городского типа Рахья', 'посёлок городского типа Рощино',\n",
       "       'посёлок городского типа Рябово',\n",
       "       'посёлок городского типа Свирьстрой',\n",
       "       'посёлок городского типа Сиверский',\n",
       "       'посёлок городского типа Синявино',\n",
       "       'посёлок городского типа Советский',\n",
       "       'посёлок городского типа Тайцы', 'посёлок городского типа Токсово',\n",
       "       'посёлок городского типа Ульяновка',\n",
       "       'посёлок городского типа Форносово',\n",
       "       'посёлок городского типа Фёдоровское',\n",
       "       'посёлок городского типа Янино-1',\n",
       "       'посёлок городского типа имени Морозова',\n",
       "       'посёлок городского типа имени Свердлова',\n",
       "       'посёлок станции Вещево', 'посёлок станции Громово',\n",
       "       'посёлок станции Корнево', 'посёлок станции Лужайка',\n",
       "       'посёлок станции Приветнинское', 'посёлок станции Свирь',\n",
       "       'садоводческое некоммерческое товарищество Лесная Поляна',\n",
       "       'садовое товарищество Новая Ропша',\n",
       "       'садовое товарищество Приладожский', 'садовое товарищество Рахья',\n",
       "       'садовое товарищество Садко', 'село Копорье', 'село Никольское',\n",
       "       'село Павлово', 'село Паша', 'село Путилово', 'село Рождествено',\n",
       "       'село Русско-Высоцкое', 'село Старая Ладога', 'село Шум'],\n",
       "      dtype=object)"
      ]
     },
     "execution_count": 28,
     "metadata": {},
     "output_type": "execute_result"
    }
   ],
   "source": [
    "# заменяем \"поселок\" на \"посёлок\"\n",
    "\n",
    "data['locality_name'] = data['locality_name'].str.replace('поселок', 'посёлок')\n",
    "\n",
    "# заменяем \"городской посёлок\" на \"посёлок городского типа\"\n",
    "\n",
    "data['locality_name'] = data['locality_name'].str.replace('городской посёлок', 'посёлок городского типа')\n",
    "\n",
    "# заменяем \"посёлок при железнодорожной станции\" на \"посёлок станции\"\n",
    "\n",
    "data['locality_name'] = data['locality_name'].str.replace('посёлок при железнодорожной станции', 'посёлок станции')\n",
    "\n",
    "data['locality_name'].sort_values().unique()"
   ]
  },
  {
   "cell_type": "markdown",
   "metadata": {},
   "source": [
    "Также присутствуют разные написания названия одного и того же населенного пункта. Приведем их в соответствие. "
   ]
  },
  {
   "cell_type": "code",
   "execution_count": 29,
   "metadata": {},
   "outputs": [
    {
     "data": {
      "text/plain": [
       "array(['Бокситогорск', 'Волосово', 'Волхов', 'Всеволожск', 'Выборг',\n",
       "       'Высоцк', 'Гатчина', 'Зеленогорск', 'Ивангород', 'Каменногорск',\n",
       "       'Кингисепп', 'Кириши', 'Кировск', 'Колпино', 'Коммунар',\n",
       "       'Красное Село', 'Кронштадт', 'Лодейное Поле', 'Ломоносов', 'Луга',\n",
       "       'Новая Ладога', 'Отрадное', 'Павловск', 'Петергоф', 'Пикалёво',\n",
       "       'Подпорожье', 'Приморск', 'Приозерск', 'Пушкин', 'Санкт-Петербург',\n",
       "       'Светогорск', 'Сертолово', 'Сестрорецк', 'Сланцы', 'Сосновый Бор',\n",
       "       'Сясьстрой', 'Тихвин', 'Тосно', 'Шлиссельбург',\n",
       "       'деревня Агалатово', 'деревня Аро', 'деревня Батово',\n",
       "       'деревня Бегуницы', 'деревня Белогорка', 'деревня Большая Вруда',\n",
       "       'деревня Большая Пустомержа', 'деревня Большие Колпаны',\n",
       "       'деревня Большое Рейзино', 'деревня Большой Сабск', 'деревня Бор',\n",
       "       'деревня Борисова Грива', 'деревня Ваганово', 'деревня Вартемяги',\n",
       "       'деревня Вахнова Кара', 'деревня Выскатка', 'деревня Гарболово',\n",
       "       'деревня Глинка', 'деревня Горбунки', 'деревня Гостилицы',\n",
       "       'деревня Заклинье', 'деревня Заневка', 'деревня Зимитицы',\n",
       "       'деревня Извара', 'деревня Иссад', 'деревня Калитино',\n",
       "       'деревня Кальтино', 'деревня Камышовка', 'деревня Каськово',\n",
       "       'деревня Келози', 'деревня Кипень', 'деревня Кисельня',\n",
       "       'деревня Колтуши', 'деревня Коркино', 'деревня Котлы',\n",
       "       'деревня Кривко', 'деревня Кудрово', 'деревня Кузьмолово',\n",
       "       'деревня Курковицы', 'деревня Куровицы', 'деревня Куттузи',\n",
       "       'деревня Лаврики', 'деревня Лаголово', 'деревня Лампово',\n",
       "       'деревня Лесколово', 'деревня Лопухинка', 'деревня Лупполово',\n",
       "       'деревня Малая Романовка', 'деревня Малое Верево',\n",
       "       'деревня Малое Карлино', 'деревня Малые Колпаны',\n",
       "       'деревня Мануйлово', 'деревня Меньково', 'деревня Мины',\n",
       "       'деревня Мистолово', 'деревня Ненимяки', 'деревня Нижние Осельки',\n",
       "       'деревня Нижняя', 'деревня Низино', 'деревня Новое Девяткино',\n",
       "       'деревня Новолисино', 'деревня Нурма', 'деревня Оржицы',\n",
       "       'деревня Парицы', 'деревня Пельгора', 'деревня Пеники',\n",
       "       'деревня Пижма', 'деревня Пикколово', 'деревня Пудомяги',\n",
       "       'деревня Пустынка', 'деревня Пчева', 'деревня Рабитицы',\n",
       "       'деревня Разбегаево', 'деревня Раздолье', 'деревня Разметелево',\n",
       "       'деревня Рапполово', 'деревня Реброво', 'деревня Русско',\n",
       "       'деревня Сижно', 'деревня Снегирёвка', 'деревня Старая',\n",
       "       'деревня Старая Пустошь', 'деревня Старое Хинколово',\n",
       "       'деревня Старополье', 'деревня Старосиверская',\n",
       "       'деревня Старые Бегуницы', 'деревня Суоранда',\n",
       "       'деревня Сяськелево', 'деревня Тарасово', 'деревня Терпилицы',\n",
       "       'деревня Тихковицы', 'деревня Тойворово', 'деревня Торосово',\n",
       "       'деревня Торошковичи', 'деревня Трубников Бор',\n",
       "       'деревня Фалилеево', 'деревня Фёдоровское', 'деревня Хапо-Ое',\n",
       "       'деревня Хязельки', 'деревня Чудской Бор', 'деревня Шпаньково',\n",
       "       'деревня Щеглово', 'деревня Юкки', 'деревня Ялгино',\n",
       "       'деревня Яльгелево', 'деревня Ям-Тесово',\n",
       "       'коттеджный посёлок Кивеннапа Север', 'коттеджный посёлок Лесное',\n",
       "       'коттеджный посёлок Счастье', 'посёлок Александровская',\n",
       "       'посёлок Алексеевка', 'посёлок Аннино', 'посёлок Барышево',\n",
       "       'посёлок Белоостров', 'посёлок Бугры', 'посёлок Возрождение',\n",
       "       'посёлок Войсковицы', 'посёлок Войскорово', 'посёлок Володарское',\n",
       "       'посёлок Высокоключевой', 'посёлок Гаврилово', 'посёлок Гарболово',\n",
       "       'посёлок Гладкое', 'посёлок Глажево', 'посёлок Глебычево',\n",
       "       'посёлок Гончарово', 'посёлок Громово', 'посёлок Дзержинского',\n",
       "       'посёлок Дружноселье', 'посёлок Елизаветино', 'посёлок Жилгородок',\n",
       "       'посёлок Жилпосёлок', 'посёлок Житково', 'посёлок Заводской',\n",
       "       'посёлок Запорожское', 'посёлок Зимитицы', 'посёлок Ильичёво',\n",
       "       'посёлок Калитино', 'посёлок Каложицы', 'посёлок Кикерино',\n",
       "       'посёлок Кингисеппский', 'посёлок Кирпичное', 'посёлок Кобралово',\n",
       "       'посёлок Кобринское', 'посёлок Коммунары', 'посёлок Коробицыно',\n",
       "       'посёлок Котельский', 'посёлок Красная Долина',\n",
       "       'посёлок Красносельское', 'посёлок Левашово', 'посёлок Ленинское',\n",
       "       'посёлок Лисий Нос', 'посёлок Лукаши', 'посёлок Любань',\n",
       "       'посёлок Мельниково', 'посёлок Металлострой',\n",
       "       'посёлок Мичуринское', 'посёлок Молодцово', 'посёлок Молодёжное',\n",
       "       'посёлок Мурино', 'посёлок Мыза-Ивановка', 'посёлок Новогорелово',\n",
       "       'посёлок Новый Свет', 'посёлок Новый Учхоз', 'посёлок Оредеж',\n",
       "       'посёлок Пансионат Зелёный Бор', 'посёлок Парголово',\n",
       "       'посёлок Первомайское', 'посёлок Перово', 'посёлок Песочный',\n",
       "       'посёлок Петро-Славянка', 'посёлок Петровское',\n",
       "       'посёлок Платформа 69-й километр', 'посёлок Плодовое',\n",
       "       'посёлок Плоское', 'посёлок Победа', 'посёлок Поляны',\n",
       "       'посёлок Понтонный', 'посёлок Почап', 'посёлок Починок',\n",
       "       'посёлок Пригородный', 'посёлок Пудость', 'посёлок Пушное',\n",
       "       'посёлок Пчевжа', 'посёлок Рабитицы', 'посёлок Репино',\n",
       "       'посёлок Романовка', 'посёлок Ромашки', 'посёлок Ропша',\n",
       "       'посёлок Рябово', 'посёлок Сапёрное', 'посёлок Сапёрный',\n",
       "       'посёлок Севастьяново', 'посёлок Селезнёво', 'посёлок Сельцо',\n",
       "       'посёлок Семиозерье', 'посёлок Семрино', 'посёлок Серебрянский',\n",
       "       'посёлок Совхозный', 'посёлок Сосново', 'посёлок Старая Малукса',\n",
       "       'посёлок Стеклянный', 'посёлок Стрельна', 'посёлок Суйда',\n",
       "       'посёлок Сумино', 'посёлок Суходолье', 'посёлок Тельмана',\n",
       "       'посёлок Терволово', 'посёлок Торковичи', 'посёлок Торфяное',\n",
       "       'посёлок Тёсово-4', 'посёлок Углово', 'посёлок Усть-Ижора',\n",
       "       'посёлок Усть-Луга', 'посёлок Ушаки', 'посёлок Форт Красная Горка',\n",
       "       'посёлок Цвелодубово', 'посёлок Цвылёво', 'посёлок Шугозеро',\n",
       "       'посёлок Шушары', 'посёлок Щеглово',\n",
       "       'посёлок городского типа Большая Ижора',\n",
       "       'посёлок городского типа Будогощь',\n",
       "       'посёлок городского типа Важины',\n",
       "       'посёлок городского типа Виллози',\n",
       "       'посёлок городского типа Вознесенье',\n",
       "       'посёлок городского типа Вырица',\n",
       "       'посёлок городского типа Дружная Горка',\n",
       "       'посёлок городского типа Дубровка',\n",
       "       'посёлок городского типа Ефимовский',\n",
       "       'посёлок городского типа Кондратьево',\n",
       "       'посёлок городского типа Красный Бор',\n",
       "       'посёлок городского типа Кузнечное',\n",
       "       'посёлок городского типа Кузьмоловский',\n",
       "       'посёлок городского типа Лебяжье',\n",
       "       'посёлок городского типа Лесогорский',\n",
       "       'посёлок городского типа Мга', 'посёлок городского типа Назия',\n",
       "       'посёлок городского типа Никольский',\n",
       "       'посёлок городского типа Новоселье',\n",
       "       'посёлок городского типа Павлово',\n",
       "       'посёлок городского типа Приладожский',\n",
       "       'посёлок городского типа Рахья', 'посёлок городского типа Рощино',\n",
       "       'посёлок городского типа Рябово',\n",
       "       'посёлок городского типа Свирьстрой',\n",
       "       'посёлок городского типа Сиверский',\n",
       "       'посёлок городского типа Синявино',\n",
       "       'посёлок городского типа Советский',\n",
       "       'посёлок городского типа Тайцы', 'посёлок городского типа Токсово',\n",
       "       'посёлок городского типа Ульяновка',\n",
       "       'посёлок городского типа Форносово',\n",
       "       'посёлок городского типа Фёдоровское',\n",
       "       'посёлок городского типа Янино-1',\n",
       "       'посёлок городского типа имени Морозова',\n",
       "       'посёлок городского типа имени Свердлова',\n",
       "       'посёлок станции Вещево', 'посёлок станции Громово',\n",
       "       'посёлок станции Корнево', 'посёлок станции Лужайка',\n",
       "       'посёлок станции Приветнинское', 'посёлок станции Свирь',\n",
       "       'садовое товарищество Лесная Поляна',\n",
       "       'садовое товарищество Новая Ропша',\n",
       "       'садовое товарищество Приладожский', 'садовое товарищество Рахья',\n",
       "       'садовое товарищество Садко', 'село Копорье', 'село Никольское',\n",
       "       'село Павлово', 'село Паша', 'село Путилово', 'село Рождествено',\n",
       "       'село Русско-Высоцкое', 'село Старая Ладога', 'село Шум'],\n",
       "      dtype=object)"
      ]
     },
     "execution_count": 29,
     "metadata": {},
     "output_type": "execute_result"
    }
   ],
   "source": [
    "# заменим значения \n",
    "\n",
    "data['locality_name'] = data['locality_name'].replace({'посёлок Лесное': 'коттеджный посёлок Лесное', 'Никольское': 'село Никольское', 'Мурино': 'посёлок Мурино', 'Любань': 'посёлок Любань', 'Кудрово': 'деревня Кудрово', 'садоводческое некоммерческое товарищество Лесная Поляна': 'садовое товарищество Лесная Поляна'})\n",
    "\n",
    "# посмотрим\n",
    "\n",
    "data['locality_name'].sort_values().unique()"
   ]
  },
  {
   "cell_type": "markdown",
   "metadata": {},
   "source": [
    "Неявные дубликаты устранены."
   ]
  },
  {
   "cell_type": "markdown",
   "metadata": {},
   "source": [
    "<div class=\"alert alert-block alert-warning\">\n",
    "\n",
    "**Комментарий ревьювера (что можно улучшить)**\n",
    "    \n",
    "Если обратить внимание на то, как составлены записи населенных пунктов, то можно заметить общий принцип `тип населенного пункта + Название (или топоним)`. Названия начинаются с заглавной буквы, поэтому можно убрать название всех типов населенных пунктов, оставив только топоним. \n",
    "    \n",
    "</div>"
   ]
  },
  {
   "cell_type": "markdown",
   "metadata": {},
   "source": [
    "### **Проверка и обработка аномальных значений**\n"
   ]
  },
  {
   "cell_type": "markdown",
   "metadata": {},
   "source": [
    "Посмотрим на аномалии в значениях числовых полей датафрейма."
   ]
  },
  {
   "cell_type": "code",
   "execution_count": 30,
   "metadata": {},
   "outputs": [
    {
     "data": {
      "text/html": [
       "<div>\n",
       "<style scoped>\n",
       "    .dataframe tbody tr th:only-of-type {\n",
       "        vertical-align: middle;\n",
       "    }\n",
       "\n",
       "    .dataframe tbody tr th {\n",
       "        vertical-align: top;\n",
       "    }\n",
       "\n",
       "    .dataframe thead th {\n",
       "        text-align: right;\n",
       "    }\n",
       "</style>\n",
       "<table border=\"1\" class=\"dataframe\">\n",
       "  <thead>\n",
       "    <tr style=\"text-align: right;\">\n",
       "      <th></th>\n",
       "      <th>airports_nearest</th>\n",
       "      <th>balcony</th>\n",
       "      <th>ceiling_height</th>\n",
       "      <th>city_centers_nearest</th>\n",
       "      <th>days_exposition</th>\n",
       "      <th>floor</th>\n",
       "      <th>floors_total</th>\n",
       "      <th>kitchen_area</th>\n",
       "      <th>last_price</th>\n",
       "      <th>living_area</th>\n",
       "      <th>parks_around3000</th>\n",
       "      <th>parks_nearest</th>\n",
       "      <th>ponds_around3000</th>\n",
       "      <th>ponds_nearest</th>\n",
       "      <th>rooms</th>\n",
       "      <th>total_area</th>\n",
       "      <th>total_images</th>\n",
       "    </tr>\n",
       "  </thead>\n",
       "  <tbody>\n",
       "    <tr>\n",
       "      <th>count</th>\n",
       "      <td>18041.0</td>\n",
       "      <td>23565.0</td>\n",
       "      <td>23565.0</td>\n",
       "      <td>18124.0</td>\n",
       "      <td>20394.0</td>\n",
       "      <td>23565.0</td>\n",
       "      <td>23565.0</td>\n",
       "      <td>23565.0</td>\n",
       "      <td>23565.0</td>\n",
       "      <td>23565.0</td>\n",
       "      <td>18065.0</td>\n",
       "      <td>8030.0</td>\n",
       "      <td>18065.0</td>\n",
       "      <td>9036.0</td>\n",
       "      <td>23565.0</td>\n",
       "      <td>23565.0</td>\n",
       "      <td>23565.0</td>\n",
       "    </tr>\n",
       "    <tr>\n",
       "      <th>mean</th>\n",
       "      <td>28797.1</td>\n",
       "      <td>0.6</td>\n",
       "      <td>2.7</td>\n",
       "      <td>14186.2</td>\n",
       "      <td>180.7</td>\n",
       "      <td>5.9</td>\n",
       "      <td>10.7</td>\n",
       "      <td>10.4</td>\n",
       "      <td>6540058.3</td>\n",
       "      <td>34.2</td>\n",
       "      <td>0.6</td>\n",
       "      <td>490.6</td>\n",
       "      <td>0.8</td>\n",
       "      <td>518.3</td>\n",
       "      <td>2.1</td>\n",
       "      <td>60.3</td>\n",
       "      <td>9.9</td>\n",
       "    </tr>\n",
       "    <tr>\n",
       "      <th>std</th>\n",
       "      <td>12632.5</td>\n",
       "      <td>1.0</td>\n",
       "      <td>1.0</td>\n",
       "      <td>8599.8</td>\n",
       "      <td>219.7</td>\n",
       "      <td>4.9</td>\n",
       "      <td>6.6</td>\n",
       "      <td>5.9</td>\n",
       "      <td>10910934.7</td>\n",
       "      <td>22.1</td>\n",
       "      <td>0.8</td>\n",
       "      <td>341.6</td>\n",
       "      <td>0.9</td>\n",
       "      <td>278.0</td>\n",
       "      <td>1.1</td>\n",
       "      <td>35.7</td>\n",
       "      <td>5.7</td>\n",
       "    </tr>\n",
       "    <tr>\n",
       "      <th>min</th>\n",
       "      <td>0.0</td>\n",
       "      <td>0.0</td>\n",
       "      <td>1.0</td>\n",
       "      <td>181.0</td>\n",
       "      <td>1.0</td>\n",
       "      <td>1.0</td>\n",
       "      <td>1.0</td>\n",
       "      <td>1.3</td>\n",
       "      <td>12190.0</td>\n",
       "      <td>2.0</td>\n",
       "      <td>0.0</td>\n",
       "      <td>1.0</td>\n",
       "      <td>0.0</td>\n",
       "      <td>13.0</td>\n",
       "      <td>0.0</td>\n",
       "      <td>12.0</td>\n",
       "      <td>0.0</td>\n",
       "    </tr>\n",
       "    <tr>\n",
       "      <th>25%</th>\n",
       "      <td>18565.0</td>\n",
       "      <td>0.0</td>\n",
       "      <td>2.6</td>\n",
       "      <td>9256.2</td>\n",
       "      <td>45.0</td>\n",
       "      <td>2.0</td>\n",
       "      <td>5.0</td>\n",
       "      <td>7.0</td>\n",
       "      <td>3400000.0</td>\n",
       "      <td>18.9</td>\n",
       "      <td>0.0</td>\n",
       "      <td>288.0</td>\n",
       "      <td>0.0</td>\n",
       "      <td>293.0</td>\n",
       "      <td>1.0</td>\n",
       "      <td>40.0</td>\n",
       "      <td>6.0</td>\n",
       "    </tr>\n",
       "    <tr>\n",
       "      <th>50%</th>\n",
       "      <td>26757.0</td>\n",
       "      <td>0.0</td>\n",
       "      <td>2.6</td>\n",
       "      <td>13073.0</td>\n",
       "      <td>95.0</td>\n",
       "      <td>4.0</td>\n",
       "      <td>9.0</td>\n",
       "      <td>9.0</td>\n",
       "      <td>4646000.0</td>\n",
       "      <td>30.0</td>\n",
       "      <td>0.0</td>\n",
       "      <td>455.0</td>\n",
       "      <td>1.0</td>\n",
       "      <td>503.0</td>\n",
       "      <td>2.0</td>\n",
       "      <td>52.0</td>\n",
       "      <td>9.0</td>\n",
       "    </tr>\n",
       "    <tr>\n",
       "      <th>75%</th>\n",
       "      <td>37273.0</td>\n",
       "      <td>1.0</td>\n",
       "      <td>2.8</td>\n",
       "      <td>16275.0</td>\n",
       "      <td>231.0</td>\n",
       "      <td>8.0</td>\n",
       "      <td>16.0</td>\n",
       "      <td>11.8</td>\n",
       "      <td>6790000.0</td>\n",
       "      <td>42.0</td>\n",
       "      <td>1.0</td>\n",
       "      <td>612.0</td>\n",
       "      <td>1.0</td>\n",
       "      <td>730.0</td>\n",
       "      <td>3.0</td>\n",
       "      <td>69.7</td>\n",
       "      <td>14.0</td>\n",
       "    </tr>\n",
       "    <tr>\n",
       "      <th>max</th>\n",
       "      <td>84869.0</td>\n",
       "      <td>5.0</td>\n",
       "      <td>100.0</td>\n",
       "      <td>65968.0</td>\n",
       "      <td>1580.0</td>\n",
       "      <td>33.0</td>\n",
       "      <td>60.0</td>\n",
       "      <td>112.0</td>\n",
       "      <td>763000000.0</td>\n",
       "      <td>409.7</td>\n",
       "      <td>3.0</td>\n",
       "      <td>3190.0</td>\n",
       "      <td>3.0</td>\n",
       "      <td>1344.0</td>\n",
       "      <td>19.0</td>\n",
       "      <td>900.0</td>\n",
       "      <td>50.0</td>\n",
       "    </tr>\n",
       "  </tbody>\n",
       "</table>\n",
       "</div>"
      ],
      "text/plain": [
       "       airports_nearest  balcony  ceiling_height  city_centers_nearest  \\\n",
       "count           18041.0  23565.0         23565.0               18124.0   \n",
       "mean            28797.1      0.6             2.7               14186.2   \n",
       "std             12632.5      1.0             1.0                8599.8   \n",
       "min                 0.0      0.0             1.0                 181.0   \n",
       "25%             18565.0      0.0             2.6                9256.2   \n",
       "50%             26757.0      0.0             2.6               13073.0   \n",
       "75%             37273.0      1.0             2.8               16275.0   \n",
       "max             84869.0      5.0           100.0               65968.0   \n",
       "\n",
       "       days_exposition    floor  floors_total  kitchen_area   last_price  \\\n",
       "count          20394.0  23565.0       23565.0       23565.0      23565.0   \n",
       "mean             180.7      5.9          10.7          10.4    6540058.3   \n",
       "std              219.7      4.9           6.6           5.9   10910934.7   \n",
       "min                1.0      1.0           1.0           1.3      12190.0   \n",
       "25%               45.0      2.0           5.0           7.0    3400000.0   \n",
       "50%               95.0      4.0           9.0           9.0    4646000.0   \n",
       "75%              231.0      8.0          16.0          11.8    6790000.0   \n",
       "max             1580.0     33.0          60.0         112.0  763000000.0   \n",
       "\n",
       "       living_area  parks_around3000  parks_nearest  ponds_around3000  \\\n",
       "count      23565.0           18065.0         8030.0           18065.0   \n",
       "mean          34.2               0.6          490.6               0.8   \n",
       "std           22.1               0.8          341.6               0.9   \n",
       "min            2.0               0.0            1.0               0.0   \n",
       "25%           18.9               0.0          288.0               0.0   \n",
       "50%           30.0               0.0          455.0               1.0   \n",
       "75%           42.0               1.0          612.0               1.0   \n",
       "max          409.7               3.0         3190.0               3.0   \n",
       "\n",
       "       ponds_nearest    rooms  total_area  total_images  \n",
       "count         9036.0  23565.0     23565.0       23565.0  \n",
       "mean           518.3      2.1        60.3           9.9  \n",
       "std            278.0      1.1        35.7           5.7  \n",
       "min             13.0      0.0        12.0           0.0  \n",
       "25%            293.0      1.0        40.0           6.0  \n",
       "50%            503.0      2.0        52.0           9.0  \n",
       "75%            730.0      3.0        69.7          14.0  \n",
       "max           1344.0     19.0       900.0          50.0  "
      ]
     },
     "execution_count": 30,
     "metadata": {},
     "output_type": "execute_result"
    }
   ],
   "source": [
    "# используем метод `describe()`\n",
    "\n",
    "data[['airports_nearest', 'balcony', 'ceiling_height', 'city_centers_nearest', 'days_exposition', 'floor', 'floors_total', 'kitchen_area', 'last_price', 'living_area', 'parks_around3000', 'parks_nearest', 'ponds_around3000', 'ponds_nearest', 'rooms', 'total_area', 'total_images']].describe().round(1)"
   ]
  },
  {
   "cell_type": "markdown",
   "metadata": {},
   "source": [
    "Привлекают внимание столбцы `ceiling_height`, `floors_total`, `last_price`, `total_area` (и, соответственно, `living_area` и `kitchen_area`). Посмотрим каждый столбец по отдельности."
   ]
  },
  {
   "cell_type": "markdown",
   "metadata": {},
   "source": [
    "Столбец `ceiling_height`:\n",
    "\n",
    "минимальная высота потолков 1 метр, максимальная - 100 метров. Это явная ошибка. Посмотрим уникальные значения в столбце."
   ]
  },
  {
   "cell_type": "code",
   "execution_count": 31,
   "metadata": {},
   "outputs": [
    {
     "data": {
      "text/plain": [
       "array([  1.   ,   1.2  ,   1.75 ,   2.   ,   2.2  ,   2.25 ,   2.3  ,\n",
       "         2.34 ,   2.4  ,   2.45 ,   2.46 ,   2.47 ,   2.48 ,   2.49 ,\n",
       "         2.5  ,   2.505,   2.51 ,   2.52 ,   2.525,   2.53 ,   2.54 ,\n",
       "         2.55 ,   2.555,   2.56 ,   2.565,   2.57 ,   2.575,   2.58 ,\n",
       "         2.59 ,   2.6  ,   2.6  ,   2.61 ,   2.615,   2.62 ,   2.625,\n",
       "         2.63 ,   2.64 ,   2.645,   2.65 ,   2.65 ,   2.66 ,   2.67 ,\n",
       "         2.675,   2.68 ,   2.69 ,   2.7  ,   2.71 ,   2.715,   2.72 ,\n",
       "         2.725,   2.73 ,   2.735,   2.74 ,   2.745,   2.75 ,   2.76 ,\n",
       "         2.77 ,   2.775,   2.775,   2.78 ,   2.785,   2.79 ,   2.8  ,\n",
       "         2.81 ,   2.82 ,   2.83 ,   2.84 ,   2.85 ,   2.86 ,   2.87 ,\n",
       "         2.88 ,   2.89 ,   2.9  ,   2.91 ,   2.92 ,   2.93 ,   2.94 ,\n",
       "         2.95 ,   2.96 ,   2.97 ,   2.98 ,   2.99 ,   3.   ,   3.01 ,\n",
       "         3.02 ,   3.03 ,   3.04 ,   3.05 ,   3.06 ,   3.07 ,   3.08 ,\n",
       "         3.09 ,   3.1  ,   3.11 ,   3.12 ,   3.13 ,   3.14 ,   3.15 ,\n",
       "         3.16 ,   3.17 ,   3.18 ,   3.2  ,   3.21 ,   3.22 ,   3.23 ,\n",
       "         3.24 ,   3.25 ,   3.26 ,   3.27 ,   3.28 ,   3.29 ,   3.3  ,\n",
       "         3.31 ,   3.32 ,   3.325,   3.33 ,   3.34 ,   3.35 ,   3.36 ,\n",
       "         3.37 ,   3.38 ,   3.39 ,   3.4  ,   3.42 ,   3.43 ,   3.44 ,\n",
       "         3.45 ,   3.46 ,   3.47 ,   3.48 ,   3.49 ,   3.5  ,   3.51 ,\n",
       "         3.52 ,   3.53 ,   3.54 ,   3.55 ,   3.56 ,   3.57 ,   3.58 ,\n",
       "         3.59 ,   3.6  ,   3.62 ,   3.63 ,   3.65 ,   3.66 ,   3.67 ,\n",
       "         3.68 ,   3.69 ,   3.7  ,   3.75 ,   3.76 ,   3.78 ,   3.8  ,\n",
       "         3.82 ,   3.83 ,   3.84 ,   3.85 ,   3.86 ,   3.87 ,   3.88 ,\n",
       "         3.9  ,   3.93 ,   3.95 ,   3.98 ,   4.   ,   4.06 ,   4.1  ,\n",
       "         4.14 ,   4.15 ,   4.19 ,   4.2  ,   4.25 ,   4.3  ,   4.37 ,\n",
       "         4.4  ,   4.45 ,   4.5  ,   4.65 ,   4.7  ,   4.8  ,   4.9  ,\n",
       "         5.   ,   5.2  ,   5.3  ,   5.5  ,   5.6  ,   5.8  ,   6.   ,\n",
       "         8.   ,   8.3  ,  10.3  ,  13.85 ,  14.   ,  14.85 ,  15.   ,\n",
       "        20.   ,  22.6  ,  24.   ,  25.   ,  26.   ,  27.   ,  27.5  ,\n",
       "        32.   , 100.   ])"
      ]
     },
     "execution_count": 31,
     "metadata": {},
     "output_type": "execute_result"
    }
   ],
   "source": [
    "data['ceiling_height'].sort_values().unique()"
   ]
  },
  {
   "cell_type": "markdown",
   "metadata": {},
   "source": [
    "Встречаются потолки высотой 20 - 30 м, что тоже аномалия. Можно предположить, что это опечатки при вводе данных: на самом деле высота 2 - 3 м. Исходя из этого, такие значения нужно поделить на 10. В целом, в Санкт-Петербурге есть квартиры, в которых верхняя точка может доходить до 5–6 м, но они встречаются крайне редко. Минимальная высота потолка в жилых помещениях согласно нормативам должна составлять не менее 2,5 м. В помещениях на цокольных этажах (особенно в старых зданиях) этот показатель может быть и меньше. Принимая во внимание вышесказанное, оставим строки с высотой потолков от 2,2 м до 5 м. Остальные значения заменим на медианное."
   ]
  },
  {
   "cell_type": "code",
   "execution_count": 32,
   "metadata": {
    "scrolled": true
   },
   "outputs": [],
   "source": [
    "# Для значений больше 20 произведем деление на 10\n",
    "data.loc[data['ceiling_height'] > 20, 'ceiling_height'] = data['ceiling_height'] / 10"
   ]
  },
  {
   "cell_type": "code",
   "execution_count": 33,
   "metadata": {},
   "outputs": [
    {
     "data": {
      "text/plain": [
       "array([ 1.   ,  1.2  ,  1.75 ,  2.   ,  2.2  ,  2.25 ,  2.26 ,  2.3  ,\n",
       "        2.34 ,  2.4  ,  2.45 ,  2.46 ,  2.47 ,  2.48 ,  2.49 ,  2.5  ,\n",
       "        2.505,  2.51 ,  2.52 ,  2.525,  2.53 ,  2.54 ,  2.55 ,  2.555,\n",
       "        2.56 ,  2.565,  2.57 ,  2.575,  2.58 ,  2.59 ,  2.6  ,  2.6  ,\n",
       "        2.61 ,  2.615,  2.62 ,  2.625,  2.63 ,  2.64 ,  2.645,  2.65 ,\n",
       "        2.65 ,  2.66 ,  2.67 ,  2.675,  2.68 ,  2.69 ,  2.7  ,  2.71 ,\n",
       "        2.715,  2.72 ,  2.725,  2.73 ,  2.735,  2.74 ,  2.745,  2.75 ,\n",
       "        2.76 ,  2.77 ,  2.775,  2.775,  2.78 ,  2.785,  2.79 ,  2.8  ,\n",
       "        2.81 ,  2.82 ,  2.83 ,  2.84 ,  2.85 ,  2.86 ,  2.87 ,  2.88 ,\n",
       "        2.89 ,  2.9  ,  2.91 ,  2.92 ,  2.93 ,  2.94 ,  2.95 ,  2.96 ,\n",
       "        2.97 ,  2.98 ,  2.99 ,  3.   ,  3.01 ,  3.02 ,  3.03 ,  3.04 ,\n",
       "        3.05 ,  3.06 ,  3.07 ,  3.08 ,  3.09 ,  3.1  ,  3.11 ,  3.12 ,\n",
       "        3.13 ,  3.14 ,  3.15 ,  3.16 ,  3.17 ,  3.18 ,  3.2  ,  3.21 ,\n",
       "        3.22 ,  3.23 ,  3.24 ,  3.25 ,  3.26 ,  3.27 ,  3.28 ,  3.29 ,\n",
       "        3.3  ,  3.31 ,  3.32 ,  3.325,  3.33 ,  3.34 ,  3.35 ,  3.36 ,\n",
       "        3.37 ,  3.38 ,  3.39 ,  3.4  ,  3.42 ,  3.43 ,  3.44 ,  3.45 ,\n",
       "        3.46 ,  3.47 ,  3.48 ,  3.49 ,  3.5  ,  3.51 ,  3.52 ,  3.53 ,\n",
       "        3.54 ,  3.55 ,  3.56 ,  3.57 ,  3.58 ,  3.59 ,  3.6  ,  3.62 ,\n",
       "        3.63 ,  3.65 ,  3.66 ,  3.67 ,  3.68 ,  3.69 ,  3.7  ,  3.75 ,\n",
       "        3.76 ,  3.78 ,  3.8  ,  3.82 ,  3.83 ,  3.84 ,  3.85 ,  3.86 ,\n",
       "        3.87 ,  3.88 ,  3.9  ,  3.93 ,  3.95 ,  3.98 ,  4.   ,  4.06 ,\n",
       "        4.1  ,  4.14 ,  4.15 ,  4.19 ,  4.2  ,  4.25 ,  4.3  ,  4.37 ,\n",
       "        4.4  ,  4.45 ,  4.5  ,  4.65 ,  4.7  ,  4.8  ,  4.9  ,  5.   ,\n",
       "        5.2  ,  5.3  ,  5.5  ,  5.6  ,  5.8  ,  6.   ,  8.   ,  8.3  ,\n",
       "       10.   , 10.3  , 13.85 , 14.   , 14.85 , 15.   , 20.   ])"
      ]
     },
     "execution_count": 33,
     "metadata": {},
     "output_type": "execute_result"
    }
   ],
   "source": [
    "data['ceiling_height'].sort_values().unique()"
   ]
  },
  {
   "cell_type": "code",
   "execution_count": 34,
   "metadata": {},
   "outputs": [
    {
     "data": {
      "text/plain": [
       "array([2.2  , 2.25 , 2.26 , 2.3  , 2.34 , 2.4  , 2.45 , 2.46 , 2.47 ,\n",
       "       2.48 , 2.49 , 2.5  , 2.505, 2.51 , 2.52 , 2.525, 2.53 , 2.54 ,\n",
       "       2.55 , 2.555, 2.56 , 2.565, 2.57 , 2.575, 2.58 , 2.59 , 2.6  ,\n",
       "       2.6  , 2.61 , 2.615, 2.62 , 2.625, 2.63 , 2.64 , 2.645, 2.65 ,\n",
       "       2.65 , 2.66 , 2.67 , 2.675, 2.68 , 2.69 , 2.7  , 2.71 , 2.715,\n",
       "       2.72 , 2.725, 2.73 , 2.735, 2.74 , 2.745, 2.75 , 2.76 , 2.77 ,\n",
       "       2.775, 2.775, 2.78 , 2.785, 2.79 , 2.8  , 2.81 , 2.82 , 2.83 ,\n",
       "       2.84 , 2.85 , 2.86 , 2.87 , 2.88 , 2.89 , 2.9  , 2.91 , 2.92 ,\n",
       "       2.93 , 2.94 , 2.95 , 2.96 , 2.97 , 2.98 , 2.99 , 3.   , 3.01 ,\n",
       "       3.02 , 3.03 , 3.04 , 3.05 , 3.06 , 3.07 , 3.08 , 3.09 , 3.1  ,\n",
       "       3.11 , 3.12 , 3.13 , 3.14 , 3.15 , 3.16 , 3.17 , 3.18 , 3.2  ,\n",
       "       3.21 , 3.22 , 3.23 , 3.24 , 3.25 , 3.26 , 3.27 , 3.28 , 3.29 ,\n",
       "       3.3  , 3.31 , 3.32 , 3.325, 3.33 , 3.34 , 3.35 , 3.36 , 3.37 ,\n",
       "       3.38 , 3.39 , 3.4  , 3.42 , 3.43 , 3.44 , 3.45 , 3.46 , 3.47 ,\n",
       "       3.48 , 3.49 , 3.5  , 3.51 , 3.52 , 3.53 , 3.54 , 3.55 , 3.56 ,\n",
       "       3.57 , 3.58 , 3.59 , 3.6  , 3.62 , 3.63 , 3.65 , 3.66 , 3.67 ,\n",
       "       3.68 , 3.69 , 3.7  , 3.75 , 3.76 , 3.78 , 3.8  , 3.82 , 3.83 ,\n",
       "       3.84 , 3.85 , 3.86 , 3.87 , 3.88 , 3.9  , 3.93 , 3.95 , 3.98 ,\n",
       "       4.   , 4.06 , 4.1  , 4.14 , 4.15 , 4.19 , 4.2  , 4.25 , 4.3  ,\n",
       "       4.37 , 4.4  , 4.45 , 4.5  , 4.65 , 4.7  , 4.8  , 4.9  , 5.   ])"
      ]
     },
     "execution_count": 34,
     "metadata": {},
     "output_type": "execute_result"
    }
   ],
   "source": [
    "# Заменяем на медианное значение те значения, которые меньше 2,2 м и больше 5 м.\n",
    "data['ceiling_height'] = data['ceiling_height'].where(data['ceiling_height'] <= 5, data['ceiling_height'].median())\n",
    "data['ceiling_height'] = data['ceiling_height'].where(2.2 <= data['ceiling_height'], data['ceiling_height'].median())\n",
    "# Проверяем\n",
    "data['ceiling_height'].sort_values().unique()"
   ]
  },
  {
   "cell_type": "code",
   "execution_count": 35,
   "metadata": {},
   "outputs": [
    {
     "data": {
      "text/plain": [
       "<AxesSubplot:>"
      ]
     },
     "execution_count": 35,
     "metadata": {},
     "output_type": "execute_result"
    },
    {
     "data": {
      "image/png": "[encoded data removed]",
      "text/plain": [
       "<Figure size 432x288 with 1 Axes>"
      ]
     },
     "metadata": {
      "needs_background": "light"
     },
     "output_type": "display_data"
    }
   ],
   "source": [
    "# Построим диаграмму размаха для наглядности\n",
    "data.boxplot(column='ceiling_height')"
   ]
  },
  {
   "cell_type": "markdown",
   "metadata": {},
   "source": [
    "<div class=\"alert alert-block alert-success\">\n",
    "\n",
    "**Комментарий ревьювера (все отлично)**\n",
    "    \n",
    "Согласен👍\n",
    "    \n",
    "</div>"
   ]
  },
  {
   "cell_type": "markdown",
   "metadata": {},
   "source": [
    "Так гораздо лучше."
   ]
  },
  {
   "cell_type": "markdown",
   "metadata": {},
   "source": [
    "Столбец `floors_total` - Количество этажей\n",
    "\n",
    "Максимальное количество этажей - 60. Это явная ошибка. Вполне вероятно, что это опечатка, и имелось в виду 6 этажей. Посмотрим уникальные значения в столбце."
   ]
  },
  {
   "cell_type": "code",
   "execution_count": 36,
   "metadata": {},
   "outputs": [
    {
     "data": {
      "text/plain": [
       "array([ 1.,  2.,  3.,  4.,  5.,  6.,  7.,  8.,  9., 10., 11., 12., 13.,\n",
       "       14., 15., 16., 17., 18., 19., 20., 21., 22., 23., 24., 25., 26.,\n",
       "       27., 28., 29., 33., 34., 35., 36., 37., 52., 60.])"
      ]
     },
     "execution_count": 36,
     "metadata": {},
     "output_type": "execute_result"
    }
   ],
   "source": [
    "data['floors_total'].sort_values().unique()"
   ]
  },
  {
   "cell_type": "markdown",
   "metadata": {},
   "source": [
    "Согласно открытым источникам в самом высоком жилом здании Санкт-Петербурга 37 этажей, два из которых подземные, но оставим 36 и 37 этажи. Что касается 52 этажа, это тоже скорее всего опечатка. Посмотрим на строки с 52 и 60 этажами."
   ]
  },
  {
   "cell_type": "code",
   "execution_count": 37,
   "metadata": {
    "scrolled": true
   },
   "outputs": [
    {
     "data": {
      "text/html": [
       "<div>\n",
       "<style scoped>\n",
       "    .dataframe tbody tr th:only-of-type {\n",
       "        vertical-align: middle;\n",
       "    }\n",
       "\n",
       "    .dataframe tbody tr th {\n",
       "        vertical-align: top;\n",
       "    }\n",
       "\n",
       "    .dataframe thead th {\n",
       "        text-align: right;\n",
       "    }\n",
       "</style>\n",
       "<table border=\"1\" class=\"dataframe\">\n",
       "  <thead>\n",
       "    <tr style=\"text-align: right;\">\n",
       "      <th></th>\n",
       "      <th>total_images</th>\n",
       "      <th>last_price</th>\n",
       "      <th>total_area</th>\n",
       "      <th>first_day_exposition</th>\n",
       "      <th>rooms</th>\n",
       "      <th>ceiling_height</th>\n",
       "      <th>floors_total</th>\n",
       "      <th>living_area</th>\n",
       "      <th>floor</th>\n",
       "      <th>is_apartment</th>\n",
       "      <th>studio</th>\n",
       "      <th>open_plan</th>\n",
       "      <th>kitchen_area</th>\n",
       "      <th>balcony</th>\n",
       "      <th>locality_name</th>\n",
       "      <th>airports_nearest</th>\n",
       "      <th>city_centers_nearest</th>\n",
       "      <th>parks_around3000</th>\n",
       "      <th>parks_nearest</th>\n",
       "      <th>ponds_around3000</th>\n",
       "      <th>ponds_nearest</th>\n",
       "      <th>days_exposition</th>\n",
       "    </tr>\n",
       "  </thead>\n",
       "  <tbody>\n",
       "    <tr>\n",
       "      <th>2253</th>\n",
       "      <td>12</td>\n",
       "      <td>3800000.0</td>\n",
       "      <td>45.5</td>\n",
       "      <td>2018-06-28T00:00:00</td>\n",
       "      <td>2</td>\n",
       "      <td>2.88</td>\n",
       "      <td>60.0</td>\n",
       "      <td>27.4</td>\n",
       "      <td>4</td>\n",
       "      <td>False</td>\n",
       "      <td>False</td>\n",
       "      <td>False</td>\n",
       "      <td>7.4</td>\n",
       "      <td>0.0</td>\n",
       "      <td>Кронштадт</td>\n",
       "      <td>67763.0</td>\n",
       "      <td>49488.0</td>\n",
       "      <td>2.0</td>\n",
       "      <td>342.0</td>\n",
       "      <td>3.0</td>\n",
       "      <td>614.0</td>\n",
       "      <td>166.0</td>\n",
       "    </tr>\n",
       "    <tr>\n",
       "      <th>16731</th>\n",
       "      <td>9</td>\n",
       "      <td>3978000.0</td>\n",
       "      <td>40.0</td>\n",
       "      <td>2018-09-24T00:00:00</td>\n",
       "      <td>1</td>\n",
       "      <td>2.65</td>\n",
       "      <td>52.0</td>\n",
       "      <td>10.5</td>\n",
       "      <td>18</td>\n",
       "      <td>False</td>\n",
       "      <td>False</td>\n",
       "      <td>False</td>\n",
       "      <td>14.0</td>\n",
       "      <td>0.0</td>\n",
       "      <td>Санкт-Петербург</td>\n",
       "      <td>20728.0</td>\n",
       "      <td>12978.0</td>\n",
       "      <td>1.0</td>\n",
       "      <td>793.0</td>\n",
       "      <td>0.0</td>\n",
       "      <td>NaN</td>\n",
       "      <td>45.0</td>\n",
       "    </tr>\n",
       "  </tbody>\n",
       "</table>\n",
       "</div>"
      ],
      "text/plain": [
       "       total_images  last_price  total_area first_day_exposition  rooms  \\\n",
       "2253             12   3800000.0        45.5  2018-06-28T00:00:00      2   \n",
       "16731             9   3978000.0        40.0  2018-09-24T00:00:00      1   \n",
       "\n",
       "       ceiling_height  floors_total  living_area  floor  is_apartment  studio  \\\n",
       "2253             2.88          60.0         27.4      4         False   False   \n",
       "16731            2.65          52.0         10.5     18         False   False   \n",
       "\n",
       "       open_plan  kitchen_area  balcony    locality_name  airports_nearest  \\\n",
       "2253       False           7.4      0.0        Кронштадт           67763.0   \n",
       "16731      False          14.0      0.0  Санкт-Петербург           20728.0   \n",
       "\n",
       "       city_centers_nearest  parks_around3000  parks_nearest  \\\n",
       "2253                49488.0               2.0          342.0   \n",
       "16731               12978.0               1.0          793.0   \n",
       "\n",
       "       ponds_around3000  ponds_nearest  days_exposition  \n",
       "2253                3.0          614.0            166.0  \n",
       "16731               0.0            NaN             45.0  "
      ]
     },
     "execution_count": 37,
     "metadata": {},
     "output_type": "execute_result"
    }
   ],
   "source": [
    "data.query('floors_total > 50')"
   ]
  },
  {
   "cell_type": "markdown",
   "metadata": {},
   "source": [
    "В строке, где 60 этажей, речь идет о квартире, расположенной в здании в Кронштадте, на 4 этаже. Поэтому, видимо, действительно имелось в виду, что в здании 6 этажей. Поделим значение 60 на 10.\n",
    "В строке, где указано 52 этажа, фигурирует квартира, находящаяся в Санкт-Петербурге, на 18 этаже. Вероятно, это в самом деле опечатка, и подразумевался 22 или 32 этаж. Вероятнее, что это 22 этаж. Возьмем это значение. "
   ]
  },
  {
   "cell_type": "code",
   "execution_count": 38,
   "metadata": {},
   "outputs": [],
   "source": [
    "# Заменим значение этажа 60 на 6, а 52 - на 22\n",
    "data['floors_total'] = data['floors_total'].replace({60.0: 6, 52.0: 22})"
   ]
  },
  {
   "cell_type": "markdown",
   "metadata": {},
   "source": [
    "<div class=\"alert alert-block alert-warning\">\n",
    "\n",
    "**Комментарий ревьювера (что можно улучшить)**\n",
    "    \n",
    "Такие мелкие корректировки не сильно повлияют на анализ, но отнимут ценное время. Лучше удалить то, что можно считать аномалиями – верно было отмечено, что 37 этажей максимум для жилой застройки в Санкт-Петербурге и Лен. области.\n",
    "</div>"
   ]
  },
  {
   "cell_type": "code",
   "execution_count": 39,
   "metadata": {},
   "outputs": [
    {
     "data": {
      "text/plain": [
       "array([ 1.,  2.,  3.,  4.,  5.,  6.,  7.,  8.,  9., 10., 11., 12., 13.,\n",
       "       14., 15., 16., 17., 18., 19., 20., 21., 22., 23., 24., 25., 26.,\n",
       "       27., 28., 29., 33., 34., 35., 36., 37.])"
      ]
     },
     "execution_count": 39,
     "metadata": {},
     "output_type": "execute_result"
    }
   ],
   "source": [
    "# Посмотрим\n",
    "data['floors_total'].sort_values().unique()"
   ]
  },
  {
   "cell_type": "markdown",
   "metadata": {},
   "source": [
    "Столбец `last_price`"
   ]
  },
  {
   "cell_type": "code",
   "execution_count": 40,
   "metadata": {},
   "outputs": [
    {
     "data": {
      "text/plain": [
       "<AxesSubplot:>"
      ]
     },
     "execution_count": 40,
     "metadata": {},
     "output_type": "execute_result"
    },
    {
     "data": {
      "image/png": "[encoded data removed]",
      "text/plain": [
       "<Figure size 432x288 with 1 Axes>"
      ]
     },
     "metadata": {
      "needs_background": "light"
     },
     "output_type": "display_data"
    }
   ],
   "source": [
    "# Построим диаграмму размаха \n",
    "data.boxplot(column='last_price')"
   ]
  },
  {
   "cell_type": "markdown",
   "metadata": {},
   "source": [
    "Наблюдается явный выброс. "
   ]
  },
  {
   "cell_type": "code",
   "execution_count": 41,
   "metadata": {
    "scrolled": true
   },
   "outputs": [
    {
     "data": {
      "text/plain": [
       "count        23565.0\n",
       "mean       6540058.3\n",
       "std       10910934.7\n",
       "min          12190.0\n",
       "25%        3400000.0\n",
       "50%        4646000.0\n",
       "75%        6790000.0\n",
       "max      763000000.0\n",
       "Name: last_price, dtype: float64"
      ]
     },
     "execution_count": 41,
     "metadata": {},
     "output_type": "execute_result"
    }
   ],
   "source": [
    "# Посмотрим также основные показатели для столбца, для чего применим метод `describe`.\n",
    "\n",
    "data['last_price'].describe().round(1)"
   ]
  },
  {
   "cell_type": "markdown",
   "metadata": {},
   "source": [
    "Максимальное значение в столбце составляет 763 млн руб. При этом среднее значение цены составляет 6,5 млн руб. Стандартное отклонение составляет 10,9 млн руб. Максимальное значение находится далеко за пределами 3 стандартных отклонений от среднего. \n",
    "Также настораживает минимальное значение цены, равное 12,2 тыс. руб., что не очень реалистично.\n",
    "Посмотрим на строки с минимальным и максимальным значением цены."
   ]
  },
  {
   "cell_type": "code",
   "execution_count": 42,
   "metadata": {},
   "outputs": [
    {
     "data": {
      "text/html": [
       "<div>\n",
       "<style scoped>\n",
       "    .dataframe tbody tr th:only-of-type {\n",
       "        vertical-align: middle;\n",
       "    }\n",
       "\n",
       "    .dataframe tbody tr th {\n",
       "        vertical-align: top;\n",
       "    }\n",
       "\n",
       "    .dataframe thead th {\n",
       "        text-align: right;\n",
       "    }\n",
       "</style>\n",
       "<table border=\"1\" class=\"dataframe\">\n",
       "  <thead>\n",
       "    <tr style=\"text-align: right;\">\n",
       "      <th></th>\n",
       "      <th>total_images</th>\n",
       "      <th>last_price</th>\n",
       "      <th>total_area</th>\n",
       "      <th>first_day_exposition</th>\n",
       "      <th>rooms</th>\n",
       "      <th>ceiling_height</th>\n",
       "      <th>floors_total</th>\n",
       "      <th>living_area</th>\n",
       "      <th>floor</th>\n",
       "      <th>is_apartment</th>\n",
       "      <th>studio</th>\n",
       "      <th>open_plan</th>\n",
       "      <th>kitchen_area</th>\n",
       "      <th>balcony</th>\n",
       "      <th>locality_name</th>\n",
       "      <th>airports_nearest</th>\n",
       "      <th>city_centers_nearest</th>\n",
       "      <th>parks_around3000</th>\n",
       "      <th>parks_nearest</th>\n",
       "      <th>ponds_around3000</th>\n",
       "      <th>ponds_nearest</th>\n",
       "      <th>days_exposition</th>\n",
       "    </tr>\n",
       "  </thead>\n",
       "  <tbody>\n",
       "    <tr>\n",
       "      <th>8793</th>\n",
       "      <td>7</td>\n",
       "      <td>12190.0</td>\n",
       "      <td>109.0</td>\n",
       "      <td>2019-03-20T00:00:00</td>\n",
       "      <td>2</td>\n",
       "      <td>2.75</td>\n",
       "      <td>25.0</td>\n",
       "      <td>32.0</td>\n",
       "      <td>25</td>\n",
       "      <td>False</td>\n",
       "      <td>False</td>\n",
       "      <td>False</td>\n",
       "      <td>40.5</td>\n",
       "      <td>0.0</td>\n",
       "      <td>Санкт-Петербург</td>\n",
       "      <td>36421.0</td>\n",
       "      <td>9176.0</td>\n",
       "      <td>1.0</td>\n",
       "      <td>805.0</td>\n",
       "      <td>0.0</td>\n",
       "      <td>NaN</td>\n",
       "      <td>8.0</td>\n",
       "    </tr>\n",
       "    <tr>\n",
       "      <th>12971</th>\n",
       "      <td>19</td>\n",
       "      <td>763000000.0</td>\n",
       "      <td>400.0</td>\n",
       "      <td>2017-09-30T00:00:00</td>\n",
       "      <td>7</td>\n",
       "      <td>2.60</td>\n",
       "      <td>10.0</td>\n",
       "      <td>250.0</td>\n",
       "      <td>10</td>\n",
       "      <td>False</td>\n",
       "      <td>False</td>\n",
       "      <td>False</td>\n",
       "      <td>63.4</td>\n",
       "      <td>2.0</td>\n",
       "      <td>Санкт-Петербург</td>\n",
       "      <td>25108.0</td>\n",
       "      <td>3956.0</td>\n",
       "      <td>1.0</td>\n",
       "      <td>530.0</td>\n",
       "      <td>3.0</td>\n",
       "      <td>756.0</td>\n",
       "      <td>33.0</td>\n",
       "    </tr>\n",
       "  </tbody>\n",
       "</table>\n",
       "</div>"
      ],
      "text/plain": [
       "       total_images   last_price  total_area first_day_exposition  rooms  \\\n",
       "8793              7      12190.0       109.0  2019-03-20T00:00:00      2   \n",
       "12971            19  763000000.0       400.0  2017-09-30T00:00:00      7   \n",
       "\n",
       "       ceiling_height  floors_total  living_area  floor  is_apartment  studio  \\\n",
       "8793             2.75          25.0         32.0     25         False   False   \n",
       "12971            2.60          10.0        250.0     10         False   False   \n",
       "\n",
       "       open_plan  kitchen_area  balcony    locality_name  airports_nearest  \\\n",
       "8793       False          40.5      0.0  Санкт-Петербург           36421.0   \n",
       "12971      False          63.4      2.0  Санкт-Петербург           25108.0   \n",
       "\n",
       "       city_centers_nearest  parks_around3000  parks_nearest  \\\n",
       "8793                 9176.0               1.0          805.0   \n",
       "12971                3956.0               1.0          530.0   \n",
       "\n",
       "       ponds_around3000  ponds_nearest  days_exposition  \n",
       "8793                0.0            NaN              8.0  \n",
       "12971               3.0          756.0             33.0  "
      ]
     },
     "execution_count": 42,
     "metadata": {},
     "output_type": "execute_result"
    }
   ],
   "source": [
    "data.query('last_price == last_price.max() or last_price == last_price.min()')"
   ]
  },
  {
   "cell_type": "markdown",
   "metadata": {},
   "source": [
    "Видим, что квартира с минимальной ценой имеет площадь 109 кв.м. и находится в Санкт-Петербурге. Полагаю, что при вводе цены этой квартиры была совершена ошибка. Возможно, имелось в виду 12,2 млн руб., что в принципе сопоставимо с рыночной ценой подобных квартир, а не 12,2 тыс.руб. Заменим это значение цены на 12,2 млн руб.\n",
    "Что касается, максимальной цены, то в настоящее время таких цен на квартиры схожей площади и с похожим количеством комнат в целом не наблюдается. Например, эксклюзивные квартиры в центре города площадью около 400 кв.м (+/-) (как в нашем случае) с 5 -7 комнатами стоят от 300  до 555 млн руб. Поэтому цена 763 млн совершенно нереалистична. А вот 6 - 7 комнатные коммунальные квартиры стоят около 70 млн руб. Поэтому считаю, что это относится и к нашему случаю, цена была введена неверно, и ее нужно скорректировать с 763 млн. на 76,3 млн. "
   ]
  },
  {
   "cell_type": "code",
   "execution_count": 43,
   "metadata": {},
   "outputs": [],
   "source": [
    "# Заменим значения цены:763000000 на 76300000, а 12190 - на 12190000.\n",
    "data['last_price'] = data['last_price'].replace({763000000.0: 76300000.0, 12190.0: 12190000.0})"
   ]
  },
  {
   "cell_type": "code",
   "execution_count": 44,
   "metadata": {},
   "outputs": [
    {
     "data": {
      "text/plain": [
       "<AxesSubplot:>"
      ]
     },
     "execution_count": 44,
     "metadata": {},
     "output_type": "execute_result"
    },
    {
     "data": {
      "image/png": "[encoded data removed]",
      "text/plain": [
       "<Figure size 432x288 with 1 Axes>"
      ]
     },
     "metadata": {
      "needs_background": "light"
     },
     "output_type": "display_data"
    }
   ],
   "source": [
    "# Построим диаграмму размаха \n",
    "data.boxplot(column='last_price')"
   ]
  },
  {
   "cell_type": "markdown",
   "metadata": {},
   "source": [
    "Есть выбивающиеся значения. Посмотрим на всякий случай объекты со стоимостью более 200 млн руб. "
   ]
  },
  {
   "cell_type": "code",
   "execution_count": 45,
   "metadata": {},
   "outputs": [
    {
     "data": {
      "text/html": [
       "<div>\n",
       "<style scoped>\n",
       "    .dataframe tbody tr th:only-of-type {\n",
       "        vertical-align: middle;\n",
       "    }\n",
       "\n",
       "    .dataframe tbody tr th {\n",
       "        vertical-align: top;\n",
       "    }\n",
       "\n",
       "    .dataframe thead th {\n",
       "        text-align: right;\n",
       "    }\n",
       "</style>\n",
       "<table border=\"1\" class=\"dataframe\">\n",
       "  <thead>\n",
       "    <tr style=\"text-align: right;\">\n",
       "      <th></th>\n",
       "      <th>total_images</th>\n",
       "      <th>last_price</th>\n",
       "      <th>total_area</th>\n",
       "      <th>first_day_exposition</th>\n",
       "      <th>rooms</th>\n",
       "      <th>ceiling_height</th>\n",
       "      <th>floors_total</th>\n",
       "      <th>living_area</th>\n",
       "      <th>floor</th>\n",
       "      <th>is_apartment</th>\n",
       "      <th>studio</th>\n",
       "      <th>open_plan</th>\n",
       "      <th>kitchen_area</th>\n",
       "      <th>balcony</th>\n",
       "      <th>locality_name</th>\n",
       "      <th>airports_nearest</th>\n",
       "      <th>city_centers_nearest</th>\n",
       "      <th>parks_around3000</th>\n",
       "      <th>parks_nearest</th>\n",
       "      <th>ponds_around3000</th>\n",
       "      <th>ponds_nearest</th>\n",
       "      <th>days_exposition</th>\n",
       "    </tr>\n",
       "  </thead>\n",
       "  <tbody>\n",
       "    <tr>\n",
       "      <th>1436</th>\n",
       "      <td>19</td>\n",
       "      <td>330000000.0</td>\n",
       "      <td>190.0</td>\n",
       "      <td>2018-04-04T00:00:00</td>\n",
       "      <td>3</td>\n",
       "      <td>3.50</td>\n",
       "      <td>7.0</td>\n",
       "      <td>95.0</td>\n",
       "      <td>5</td>\n",
       "      <td>False</td>\n",
       "      <td>False</td>\n",
       "      <td>False</td>\n",
       "      <td>40.0</td>\n",
       "      <td>0.0</td>\n",
       "      <td>Санкт-Петербург</td>\n",
       "      <td>23011.0</td>\n",
       "      <td>1197.0</td>\n",
       "      <td>3.0</td>\n",
       "      <td>519.0</td>\n",
       "      <td>3.0</td>\n",
       "      <td>285.0</td>\n",
       "      <td>233.0</td>\n",
       "    </tr>\n",
       "    <tr>\n",
       "      <th>5893</th>\n",
       "      <td>3</td>\n",
       "      <td>230000000.0</td>\n",
       "      <td>500.0</td>\n",
       "      <td>2017-05-31T00:00:00</td>\n",
       "      <td>6</td>\n",
       "      <td>3.00</td>\n",
       "      <td>7.0</td>\n",
       "      <td>263.0</td>\n",
       "      <td>7</td>\n",
       "      <td>False</td>\n",
       "      <td>False</td>\n",
       "      <td>False</td>\n",
       "      <td>40.0</td>\n",
       "      <td>0.0</td>\n",
       "      <td>Санкт-Петербург</td>\n",
       "      <td>32440.0</td>\n",
       "      <td>5297.0</td>\n",
       "      <td>0.0</td>\n",
       "      <td>NaN</td>\n",
       "      <td>2.0</td>\n",
       "      <td>198.0</td>\n",
       "      <td>50.0</td>\n",
       "    </tr>\n",
       "    <tr>\n",
       "      <th>13749</th>\n",
       "      <td>7</td>\n",
       "      <td>240000000.0</td>\n",
       "      <td>410.0</td>\n",
       "      <td>2017-04-01T00:00:00</td>\n",
       "      <td>6</td>\n",
       "      <td>3.40</td>\n",
       "      <td>7.0</td>\n",
       "      <td>218.0</td>\n",
       "      <td>7</td>\n",
       "      <td>False</td>\n",
       "      <td>False</td>\n",
       "      <td>False</td>\n",
       "      <td>40.0</td>\n",
       "      <td>0.0</td>\n",
       "      <td>Санкт-Петербург</td>\n",
       "      <td>32440.0</td>\n",
       "      <td>5297.0</td>\n",
       "      <td>0.0</td>\n",
       "      <td>NaN</td>\n",
       "      <td>2.0</td>\n",
       "      <td>198.0</td>\n",
       "      <td>199.0</td>\n",
       "    </tr>\n",
       "    <tr>\n",
       "      <th>14706</th>\n",
       "      <td>15</td>\n",
       "      <td>401300000.0</td>\n",
       "      <td>401.0</td>\n",
       "      <td>2016-02-20T00:00:00</td>\n",
       "      <td>5</td>\n",
       "      <td>2.55</td>\n",
       "      <td>9.0</td>\n",
       "      <td>204.0</td>\n",
       "      <td>9</td>\n",
       "      <td>False</td>\n",
       "      <td>False</td>\n",
       "      <td>False</td>\n",
       "      <td>24.0</td>\n",
       "      <td>3.0</td>\n",
       "      <td>Санкт-Петербург</td>\n",
       "      <td>21912.0</td>\n",
       "      <td>2389.0</td>\n",
       "      <td>1.0</td>\n",
       "      <td>545.0</td>\n",
       "      <td>1.0</td>\n",
       "      <td>478.0</td>\n",
       "      <td>393.0</td>\n",
       "    </tr>\n",
       "    <tr>\n",
       "      <th>15651</th>\n",
       "      <td>20</td>\n",
       "      <td>300000000.0</td>\n",
       "      <td>618.0</td>\n",
       "      <td>2017-12-18T00:00:00</td>\n",
       "      <td>7</td>\n",
       "      <td>3.40</td>\n",
       "      <td>7.0</td>\n",
       "      <td>258.0</td>\n",
       "      <td>5</td>\n",
       "      <td>False</td>\n",
       "      <td>False</td>\n",
       "      <td>False</td>\n",
       "      <td>70.0</td>\n",
       "      <td>0.0</td>\n",
       "      <td>Санкт-Петербург</td>\n",
       "      <td>32440.0</td>\n",
       "      <td>5297.0</td>\n",
       "      <td>0.0</td>\n",
       "      <td>NaN</td>\n",
       "      <td>2.0</td>\n",
       "      <td>198.0</td>\n",
       "      <td>111.0</td>\n",
       "    </tr>\n",
       "    <tr>\n",
       "      <th>16461</th>\n",
       "      <td>17</td>\n",
       "      <td>245000000.0</td>\n",
       "      <td>285.7</td>\n",
       "      <td>2017-04-10T00:00:00</td>\n",
       "      <td>6</td>\n",
       "      <td>3.35</td>\n",
       "      <td>7.0</td>\n",
       "      <td>182.8</td>\n",
       "      <td>4</td>\n",
       "      <td>False</td>\n",
       "      <td>False</td>\n",
       "      <td>False</td>\n",
       "      <td>29.8</td>\n",
       "      <td>0.0</td>\n",
       "      <td>Санкт-Петербург</td>\n",
       "      <td>33143.0</td>\n",
       "      <td>6235.0</td>\n",
       "      <td>3.0</td>\n",
       "      <td>400.0</td>\n",
       "      <td>3.0</td>\n",
       "      <td>140.0</td>\n",
       "      <td>249.0</td>\n",
       "    </tr>\n",
       "    <tr>\n",
       "      <th>19540</th>\n",
       "      <td>8</td>\n",
       "      <td>420000000.0</td>\n",
       "      <td>900.0</td>\n",
       "      <td>2017-12-06T00:00:00</td>\n",
       "      <td>12</td>\n",
       "      <td>2.80</td>\n",
       "      <td>25.0</td>\n",
       "      <td>409.7</td>\n",
       "      <td>25</td>\n",
       "      <td>False</td>\n",
       "      <td>False</td>\n",
       "      <td>False</td>\n",
       "      <td>112.0</td>\n",
       "      <td>0.0</td>\n",
       "      <td>Санкт-Петербург</td>\n",
       "      <td>30706.0</td>\n",
       "      <td>7877.0</td>\n",
       "      <td>0.0</td>\n",
       "      <td>NaN</td>\n",
       "      <td>2.0</td>\n",
       "      <td>318.0</td>\n",
       "      <td>106.0</td>\n",
       "    </tr>\n",
       "    <tr>\n",
       "      <th>22831</th>\n",
       "      <td>18</td>\n",
       "      <td>289238400.0</td>\n",
       "      <td>187.5</td>\n",
       "      <td>2019-03-19T00:00:00</td>\n",
       "      <td>2</td>\n",
       "      <td>3.37</td>\n",
       "      <td>6.0</td>\n",
       "      <td>63.7</td>\n",
       "      <td>6</td>\n",
       "      <td>False</td>\n",
       "      <td>False</td>\n",
       "      <td>False</td>\n",
       "      <td>30.2</td>\n",
       "      <td>0.0</td>\n",
       "      <td>Санкт-Петербург</td>\n",
       "      <td>22494.0</td>\n",
       "      <td>1073.0</td>\n",
       "      <td>3.0</td>\n",
       "      <td>386.0</td>\n",
       "      <td>3.0</td>\n",
       "      <td>188.0</td>\n",
       "      <td>NaN</td>\n",
       "    </tr>\n",
       "  </tbody>\n",
       "</table>\n",
       "</div>"
      ],
      "text/plain": [
       "       total_images   last_price  total_area first_day_exposition  rooms  \\\n",
       "1436             19  330000000.0       190.0  2018-04-04T00:00:00      3   \n",
       "5893              3  230000000.0       500.0  2017-05-31T00:00:00      6   \n",
       "13749             7  240000000.0       410.0  2017-04-01T00:00:00      6   \n",
       "14706            15  401300000.0       401.0  2016-02-20T00:00:00      5   \n",
       "15651            20  300000000.0       618.0  2017-12-18T00:00:00      7   \n",
       "16461            17  245000000.0       285.7  2017-04-10T00:00:00      6   \n",
       "19540             8  420000000.0       900.0  2017-12-06T00:00:00     12   \n",
       "22831            18  289238400.0       187.5  2019-03-19T00:00:00      2   \n",
       "\n",
       "       ceiling_height  floors_total  living_area  floor  is_apartment  studio  \\\n",
       "1436             3.50           7.0         95.0      5         False   False   \n",
       "5893             3.00           7.0        263.0      7         False   False   \n",
       "13749            3.40           7.0        218.0      7         False   False   \n",
       "14706            2.55           9.0        204.0      9         False   False   \n",
       "15651            3.40           7.0        258.0      5         False   False   \n",
       "16461            3.35           7.0        182.8      4         False   False   \n",
       "19540            2.80          25.0        409.7     25         False   False   \n",
       "22831            3.37           6.0         63.7      6         False   False   \n",
       "\n",
       "       open_plan  kitchen_area  balcony    locality_name  airports_nearest  \\\n",
       "1436       False          40.0      0.0  Санкт-Петербург           23011.0   \n",
       "5893       False          40.0      0.0  Санкт-Петербург           32440.0   \n",
       "13749      False          40.0      0.0  Санкт-Петербург           32440.0   \n",
       "14706      False          24.0      3.0  Санкт-Петербург           21912.0   \n",
       "15651      False          70.0      0.0  Санкт-Петербург           32440.0   \n",
       "16461      False          29.8      0.0  Санкт-Петербург           33143.0   \n",
       "19540      False         112.0      0.0  Санкт-Петербург           30706.0   \n",
       "22831      False          30.2      0.0  Санкт-Петербург           22494.0   \n",
       "\n",
       "       city_centers_nearest  parks_around3000  parks_nearest  \\\n",
       "1436                 1197.0               3.0          519.0   \n",
       "5893                 5297.0               0.0            NaN   \n",
       "13749                5297.0               0.0            NaN   \n",
       "14706                2389.0               1.0          545.0   \n",
       "15651                5297.0               0.0            NaN   \n",
       "16461                6235.0               3.0          400.0   \n",
       "19540                7877.0               0.0            NaN   \n",
       "22831                1073.0               3.0          386.0   \n",
       "\n",
       "       ponds_around3000  ponds_nearest  days_exposition  \n",
       "1436                3.0          285.0            233.0  \n",
       "5893                2.0          198.0             50.0  \n",
       "13749               2.0          198.0            199.0  \n",
       "14706               1.0          478.0            393.0  \n",
       "15651               2.0          198.0            111.0  \n",
       "16461               3.0          140.0            249.0  \n",
       "19540               2.0          318.0            106.0  \n",
       "22831               3.0          188.0              NaN  "
      ]
     },
     "execution_count": 45,
     "metadata": {},
     "output_type": "execute_result"
    }
   ],
   "source": [
    "data.query('last_price > 200000000.0')"
   ]
  },
  {
   "cell_type": "markdown",
   "metadata": {},
   "source": [
    "Все это квартиры с большой площадью и большим количеством комнат, расположенные в Санкт-Петербурге, которые, всего вероятнее, представляют сегмент элитных квартир, который тоже надо изучить. Оставим их и в дальнейшем будем стараться использовать для анализа методы, устойчивые к выбросам."
   ]
  },
  {
   "cell_type": "markdown",
   "metadata": {},
   "source": [
    "Столбец `total_area`"
   ]
  },
  {
   "cell_type": "code",
   "execution_count": 46,
   "metadata": {},
   "outputs": [
    {
     "data": {
      "text/plain": [
       "<AxesSubplot:>"
      ]
     },
     "execution_count": 46,
     "metadata": {},
     "output_type": "execute_result"
    },
    {
     "data": {
      "image/png": "[encoded data removed]",
      "text/plain": [
       "<Figure size 432x288 with 1 Axes>"
      ]
     },
     "metadata": {
      "needs_background": "light"
     },
     "output_type": "display_data"
    }
   ],
   "source": [
    "# Построим диаграмму размаха \n",
    "data.boxplot(column='total_area')"
   ]
  },
  {
   "cell_type": "markdown",
   "metadata": {},
   "source": [
    "Наблюдаем выброс."
   ]
  },
  {
   "cell_type": "code",
   "execution_count": 47,
   "metadata": {},
   "outputs": [
    {
     "data": {
      "text/plain": [
       "count    23565.000000\n",
       "mean        60.322824\n",
       "std         35.657060\n",
       "min         12.000000\n",
       "25%         40.000000\n",
       "50%         52.000000\n",
       "75%         69.700000\n",
       "max        900.000000\n",
       "Name: total_area, dtype: float64"
      ]
     },
     "execution_count": 47,
     "metadata": {},
     "output_type": "execute_result"
    }
   ],
   "source": [
    "# Посмотрим также основные показатели для столбца, для чего применим метод `describe`.\n",
    "\n",
    "data['total_area'].describe()\n"
   ]
  },
  {
   "cell_type": "markdown",
   "metadata": {},
   "source": [
    "Максимальное значение общей площади  составляет 900 кв.м, что кажется очень большим. Из предыдущего среза по цене видно, что эта квартира находится в Санкт-Петербурге, расположена на 25 этаже и у нее 12 комнат. Вероятно, в новом ЖК, относящемся к элитному классу. Например, в Санкт_Петербурге есть трехуровневый пентхаус площадью 903,5 кв.м. И хоть это огромный выброс, пока его оставим как объект класса \"люкс\". Полагаю, что эта аномалия является частью реальных данных, будучи элитной недвижимостью с огромной площадью и ценой. Их удаление может исказить анализ.\n",
    "Также пока оставим и микроквартиры - они тоже на самом деле присутствуют на рынке недвижмости в Санкт-Петербурге. В дальнейшем вернемся к этим вопросам. "
   ]
  },
  {
   "cell_type": "markdown",
   "metadata": {},
   "source": [
    "*Изучим типы данных в столбцах и изменим их при необходимости*"
   ]
  },
  {
   "cell_type": "markdown",
   "metadata": {},
   "source": [
    "Ране мы выделили столбцы, в которых нужно преобразовать один тип данных в другой. Тип данных в следующих столбцах предполагалось изменить с float на int: 'balcony' (балконов не может быть дробное число), 'days_exposition' (количество дней также не может быть выражено дробным числом), 'floors_total' (количество этажей тоже не может быть дробным), 'parks_around3000' и 'ponds_around3000' (количество парков и прудов не может быть дробным). Также надо преобразовать данные в столбце 'first_day_exposition', и, наконец, поле 'is_apartment', исходя из описания, имеет тип bool, а не object. В ходе обработки пропусков некоторые пропуски оставили. В этих случаях преобразовать в другой тип (int64) не получится. Для этих случаев оставим тип float64."
   ]
  },
  {
   "cell_type": "code",
   "execution_count": 48,
   "metadata": {},
   "outputs": [],
   "source": [
    "# преобразуем столбец 'balcony' к типу данных int\n",
    "data['balcony'] = data['balcony'].astype(int)\n"
   ]
  },
  {
   "cell_type": "code",
   "execution_count": 49,
   "metadata": {},
   "outputs": [
    {
     "data": {
      "text/plain": [
       "dtype('int64')"
      ]
     },
     "execution_count": 49,
     "metadata": {},
     "output_type": "execute_result"
    }
   ],
   "source": [
    "data['balcony'].dtypes"
   ]
  },
  {
   "cell_type": "code",
   "execution_count": 50,
   "metadata": {},
   "outputs": [],
   "source": [
    "# преобразуем столбец 'floors_total' к типу данных int\n",
    "data['floors_total'] = data['floors_total'].astype(int)"
   ]
  },
  {
   "cell_type": "code",
   "execution_count": 51,
   "metadata": {},
   "outputs": [
    {
     "data": {
      "text/plain": [
       "dtype('int64')"
      ]
     },
     "execution_count": 51,
     "metadata": {},
     "output_type": "execute_result"
    }
   ],
   "source": [
    "data['floors_total'].dtypes"
   ]
  },
  {
   "cell_type": "code",
   "execution_count": 52,
   "metadata": {},
   "outputs": [],
   "source": [
    "# преобразуем столбец 'first_day_exposition' к типу данных int\n",
    "data['first_day_exposition'] = pd.to_datetime(data['first_day_exposition'], format='%Y-%m-%dT%H:%M:%S')"
   ]
  },
  {
   "cell_type": "code",
   "execution_count": 53,
   "metadata": {},
   "outputs": [
    {
     "data": {
      "text/plain": [
       "0       2019-03-07\n",
       "1       2018-12-04\n",
       "2       2015-08-20\n",
       "3       2015-07-24\n",
       "4       2018-06-19\n",
       "           ...    \n",
       "23694   2017-03-21\n",
       "23695   2018-01-15\n",
       "23696   2018-02-11\n",
       "23697   2017-03-28\n",
       "23698   2017-07-21\n",
       "Name: first_day_exposition, Length: 23565, dtype: datetime64[ns]"
      ]
     },
     "execution_count": 53,
     "metadata": {},
     "output_type": "execute_result"
    }
   ],
   "source": [
    "data['first_day_exposition']"
   ]
  },
  {
   "cell_type": "code",
   "execution_count": 54,
   "metadata": {},
   "outputs": [
    {
     "data": {
      "text/plain": [
       "BooleanDtype"
      ]
     },
     "execution_count": 54,
     "metadata": {},
     "output_type": "execute_result"
    }
   ],
   "source": [
    "# преобразуем к булевому типу\n",
    "data['is_apartment'] = data['is_apartment'].astype('boolean')\n",
    "# проверим\n",
    "data['is_apartment'].dtypes"
   ]
  },
  {
   "cell_type": "code",
   "execution_count": 55,
   "metadata": {},
   "outputs": [
    {
     "data": {
      "text/plain": [
       "total_images                     int64\n",
       "last_price                     float64\n",
       "total_area                     float64\n",
       "first_day_exposition    datetime64[ns]\n",
       "rooms                            int64\n",
       "ceiling_height                 float64\n",
       "floors_total                     int64\n",
       "living_area                    float64\n",
       "floor                            int64\n",
       "is_apartment                   boolean\n",
       "studio                            bool\n",
       "open_plan                         bool\n",
       "kitchen_area                   float64\n",
       "balcony                          int64\n",
       "locality_name                   object\n",
       "airports_nearest               float64\n",
       "city_centers_nearest           float64\n",
       "parks_around3000               float64\n",
       "parks_nearest                  float64\n",
       "ponds_around3000               float64\n",
       "ponds_nearest                  float64\n",
       "days_exposition                float64\n",
       "dtype: object"
      ]
     },
     "execution_count": 55,
     "metadata": {},
     "output_type": "execute_result"
    }
   ],
   "source": [
    "# проверяем все столбцы\n",
    "data.dtypes"
   ]
  },
  {
   "cell_type": "markdown",
   "metadata": {},
   "source": [
    "Завершено.\n"
   ]
  },
  {
   "cell_type": "markdown",
   "metadata": {},
   "source": [
    "Итак, была произведена предобработка данных, а именно:\n",
    "\n",
    "- имена столбцов были приведены к единому стилю,\n",
    "- выявлены и обработаны пропуска\n",
    "- обработаны явные и неявные дубликаты,\n",
    "- изменены типы данных."
   ]
  },
  {
   "cell_type": "markdown",
   "metadata": {},
   "source": [
    "<div class=\"alert alert-block alert-success\">\n",
    "\n",
    "**Комментарий ревьювера (все отлично)**\n",
    "    \n",
    "Всё круто, хорошая работа на этапе предобработки данных.\n",
    "</div>"
   ]
  },
  {
   "cell_type": "markdown",
   "metadata": {
    "id": "QCcvyY6YAwb-"
   },
   "source": [
    "## 3. Добавление в таблицу дополнительных столбцов\n"
   ]
  },
  {
   "cell_type": "markdown",
   "metadata": {},
   "source": [
    "Добавим в таблицу новые столбцы со следующими параметрами:\n",
    "\n",
    "`price_square_meter`: цена одного квадратного метра;\n",
    "`exposition_weekday`: день недели публикации объявления (0 — понедельник, 1 — вторник и так далее);\n",
    "`exposition_month`: месяц публикации объявления;\n",
    "`exposition_year`: год публикации объявления;\n",
    "`floor_category`: тип этажа квартиры (значения — «первый», «последний», «другой»);\n",
    "`city_centers_km`: расстояние до центра города в километрах (перевести из м в км и округлить до целых значений)."
   ]
  },
  {
   "cell_type": "markdown",
   "metadata": {
    "id": "Z8eJek3IAwb-"
   },
   "source": [
    "Добавим столбец `price_square_meter`"
   ]
  },
  {
   "cell_type": "code",
   "execution_count": 56,
   "metadata": {},
   "outputs": [],
   "source": [
    "# Добавим столбец с ценой за 1 м² и округлим полученную цену до копеек\n",
    "data['price_square_meter'] = (data['last_price'] / data['total_area']).round(2)\n",
    "\n",
    "# Округлим полученную цену до копеек\n",
    "#data['price_square_meter'] = data['price_square_meter'].round(2)"
   ]
  },
  {
   "cell_type": "code",
   "execution_count": 57,
   "metadata": {},
   "outputs": [
    {
     "data": {
      "text/html": [
       "<div>\n",
       "<style scoped>\n",
       "    .dataframe tbody tr th:only-of-type {\n",
       "        vertical-align: middle;\n",
       "    }\n",
       "\n",
       "    .dataframe tbody tr th {\n",
       "        vertical-align: top;\n",
       "    }\n",
       "\n",
       "    .dataframe thead th {\n",
       "        text-align: right;\n",
       "    }\n",
       "</style>\n",
       "<table border=\"1\" class=\"dataframe\">\n",
       "  <thead>\n",
       "    <tr style=\"text-align: right;\">\n",
       "      <th></th>\n",
       "      <th>total_images</th>\n",
       "      <th>last_price</th>\n",
       "      <th>total_area</th>\n",
       "      <th>first_day_exposition</th>\n",
       "      <th>rooms</th>\n",
       "      <th>ceiling_height</th>\n",
       "      <th>floors_total</th>\n",
       "      <th>living_area</th>\n",
       "      <th>floor</th>\n",
       "      <th>is_apartment</th>\n",
       "      <th>studio</th>\n",
       "      <th>open_plan</th>\n",
       "      <th>kitchen_area</th>\n",
       "      <th>balcony</th>\n",
       "      <th>locality_name</th>\n",
       "      <th>airports_nearest</th>\n",
       "      <th>city_centers_nearest</th>\n",
       "      <th>parks_around3000</th>\n",
       "      <th>parks_nearest</th>\n",
       "      <th>ponds_around3000</th>\n",
       "      <th>ponds_nearest</th>\n",
       "      <th>days_exposition</th>\n",
       "      <th>price_square_meter</th>\n",
       "    </tr>\n",
       "  </thead>\n",
       "  <tbody>\n",
       "    <tr>\n",
       "      <th>0</th>\n",
       "      <td>20</td>\n",
       "      <td>13000000.0</td>\n",
       "      <td>108.0</td>\n",
       "      <td>2019-03-07</td>\n",
       "      <td>3</td>\n",
       "      <td>2.700</td>\n",
       "      <td>16</td>\n",
       "      <td>51.0</td>\n",
       "      <td>8</td>\n",
       "      <td>False</td>\n",
       "      <td>False</td>\n",
       "      <td>False</td>\n",
       "      <td>25.0</td>\n",
       "      <td>0</td>\n",
       "      <td>Санкт-Петербург</td>\n",
       "      <td>18863.0</td>\n",
       "      <td>16028.0</td>\n",
       "      <td>1.0</td>\n",
       "      <td>482.0</td>\n",
       "      <td>2.0</td>\n",
       "      <td>755.0</td>\n",
       "      <td>NaN</td>\n",
       "      <td>120370.37</td>\n",
       "    </tr>\n",
       "    <tr>\n",
       "      <th>1</th>\n",
       "      <td>7</td>\n",
       "      <td>3350000.0</td>\n",
       "      <td>40.4</td>\n",
       "      <td>2018-12-04</td>\n",
       "      <td>1</td>\n",
       "      <td>2.650</td>\n",
       "      <td>11</td>\n",
       "      <td>18.6</td>\n",
       "      <td>1</td>\n",
       "      <td>False</td>\n",
       "      <td>False</td>\n",
       "      <td>False</td>\n",
       "      <td>11.0</td>\n",
       "      <td>2</td>\n",
       "      <td>посёлок Шушары</td>\n",
       "      <td>12817.0</td>\n",
       "      <td>18603.0</td>\n",
       "      <td>0.0</td>\n",
       "      <td>NaN</td>\n",
       "      <td>0.0</td>\n",
       "      <td>NaN</td>\n",
       "      <td>81.0</td>\n",
       "      <td>82920.79</td>\n",
       "    </tr>\n",
       "    <tr>\n",
       "      <th>2</th>\n",
       "      <td>10</td>\n",
       "      <td>5196000.0</td>\n",
       "      <td>56.0</td>\n",
       "      <td>2015-08-20</td>\n",
       "      <td>2</td>\n",
       "      <td>2.600</td>\n",
       "      <td>5</td>\n",
       "      <td>34.3</td>\n",
       "      <td>4</td>\n",
       "      <td>False</td>\n",
       "      <td>False</td>\n",
       "      <td>False</td>\n",
       "      <td>8.3</td>\n",
       "      <td>0</td>\n",
       "      <td>Санкт-Петербург</td>\n",
       "      <td>21741.0</td>\n",
       "      <td>13933.0</td>\n",
       "      <td>1.0</td>\n",
       "      <td>90.0</td>\n",
       "      <td>2.0</td>\n",
       "      <td>574.0</td>\n",
       "      <td>558.0</td>\n",
       "      <td>92785.71</td>\n",
       "    </tr>\n",
       "    <tr>\n",
       "      <th>3</th>\n",
       "      <td>0</td>\n",
       "      <td>64900000.0</td>\n",
       "      <td>159.0</td>\n",
       "      <td>2015-07-24</td>\n",
       "      <td>3</td>\n",
       "      <td>2.600</td>\n",
       "      <td>14</td>\n",
       "      <td>83.6</td>\n",
       "      <td>9</td>\n",
       "      <td>False</td>\n",
       "      <td>False</td>\n",
       "      <td>False</td>\n",
       "      <td>25.2</td>\n",
       "      <td>0</td>\n",
       "      <td>Санкт-Петербург</td>\n",
       "      <td>28098.0</td>\n",
       "      <td>6800.0</td>\n",
       "      <td>2.0</td>\n",
       "      <td>84.0</td>\n",
       "      <td>3.0</td>\n",
       "      <td>234.0</td>\n",
       "      <td>424.0</td>\n",
       "      <td>408176.10</td>\n",
       "    </tr>\n",
       "    <tr>\n",
       "      <th>4</th>\n",
       "      <td>2</td>\n",
       "      <td>10000000.0</td>\n",
       "      <td>100.0</td>\n",
       "      <td>2018-06-19</td>\n",
       "      <td>2</td>\n",
       "      <td>3.030</td>\n",
       "      <td>14</td>\n",
       "      <td>32.0</td>\n",
       "      <td>13</td>\n",
       "      <td>False</td>\n",
       "      <td>False</td>\n",
       "      <td>False</td>\n",
       "      <td>41.0</td>\n",
       "      <td>0</td>\n",
       "      <td>Санкт-Петербург</td>\n",
       "      <td>31856.0</td>\n",
       "      <td>8098.0</td>\n",
       "      <td>2.0</td>\n",
       "      <td>112.0</td>\n",
       "      <td>1.0</td>\n",
       "      <td>48.0</td>\n",
       "      <td>121.0</td>\n",
       "      <td>100000.00</td>\n",
       "    </tr>\n",
       "    <tr>\n",
       "      <th>5</th>\n",
       "      <td>10</td>\n",
       "      <td>2890000.0</td>\n",
       "      <td>30.4</td>\n",
       "      <td>2018-09-10</td>\n",
       "      <td>1</td>\n",
       "      <td>2.625</td>\n",
       "      <td>12</td>\n",
       "      <td>14.4</td>\n",
       "      <td>5</td>\n",
       "      <td>False</td>\n",
       "      <td>False</td>\n",
       "      <td>False</td>\n",
       "      <td>9.1</td>\n",
       "      <td>0</td>\n",
       "      <td>посёлок городского типа Янино-1</td>\n",
       "      <td>NaN</td>\n",
       "      <td>NaN</td>\n",
       "      <td>NaN</td>\n",
       "      <td>NaN</td>\n",
       "      <td>NaN</td>\n",
       "      <td>NaN</td>\n",
       "      <td>55.0</td>\n",
       "      <td>95065.79</td>\n",
       "    </tr>\n",
       "    <tr>\n",
       "      <th>6</th>\n",
       "      <td>6</td>\n",
       "      <td>3700000.0</td>\n",
       "      <td>37.3</td>\n",
       "      <td>2017-11-02</td>\n",
       "      <td>1</td>\n",
       "      <td>2.600</td>\n",
       "      <td>26</td>\n",
       "      <td>10.6</td>\n",
       "      <td>6</td>\n",
       "      <td>False</td>\n",
       "      <td>False</td>\n",
       "      <td>False</td>\n",
       "      <td>14.4</td>\n",
       "      <td>1</td>\n",
       "      <td>посёлок Парголово</td>\n",
       "      <td>52996.0</td>\n",
       "      <td>19143.0</td>\n",
       "      <td>0.0</td>\n",
       "      <td>NaN</td>\n",
       "      <td>0.0</td>\n",
       "      <td>NaN</td>\n",
       "      <td>155.0</td>\n",
       "      <td>99195.71</td>\n",
       "    </tr>\n",
       "    <tr>\n",
       "      <th>7</th>\n",
       "      <td>5</td>\n",
       "      <td>7915000.0</td>\n",
       "      <td>71.6</td>\n",
       "      <td>2019-04-18</td>\n",
       "      <td>2</td>\n",
       "      <td>2.750</td>\n",
       "      <td>24</td>\n",
       "      <td>37.7</td>\n",
       "      <td>22</td>\n",
       "      <td>False</td>\n",
       "      <td>False</td>\n",
       "      <td>False</td>\n",
       "      <td>18.9</td>\n",
       "      <td>2</td>\n",
       "      <td>Санкт-Петербург</td>\n",
       "      <td>23982.0</td>\n",
       "      <td>11634.0</td>\n",
       "      <td>0.0</td>\n",
       "      <td>NaN</td>\n",
       "      <td>0.0</td>\n",
       "      <td>NaN</td>\n",
       "      <td>NaN</td>\n",
       "      <td>110544.69</td>\n",
       "    </tr>\n",
       "  </tbody>\n",
       "</table>\n",
       "</div>"
      ],
      "text/plain": [
       "   total_images  last_price  total_area first_day_exposition  rooms  \\\n",
       "0            20  13000000.0       108.0           2019-03-07      3   \n",
       "1             7   3350000.0        40.4           2018-12-04      1   \n",
       "2            10   5196000.0        56.0           2015-08-20      2   \n",
       "3             0  64900000.0       159.0           2015-07-24      3   \n",
       "4             2  10000000.0       100.0           2018-06-19      2   \n",
       "5            10   2890000.0        30.4           2018-09-10      1   \n",
       "6             6   3700000.0        37.3           2017-11-02      1   \n",
       "7             5   7915000.0        71.6           2019-04-18      2   \n",
       "\n",
       "   ceiling_height  floors_total  living_area  floor  is_apartment  studio  \\\n",
       "0           2.700            16         51.0      8         False   False   \n",
       "1           2.650            11         18.6      1         False   False   \n",
       "2           2.600             5         34.3      4         False   False   \n",
       "3           2.600            14         83.6      9         False   False   \n",
       "4           3.030            14         32.0     13         False   False   \n",
       "5           2.625            12         14.4      5         False   False   \n",
       "6           2.600            26         10.6      6         False   False   \n",
       "7           2.750            24         37.7     22         False   False   \n",
       "\n",
       "   open_plan  kitchen_area  balcony                    locality_name  \\\n",
       "0      False          25.0        0                  Санкт-Петербург   \n",
       "1      False          11.0        2                   посёлок Шушары   \n",
       "2      False           8.3        0                  Санкт-Петербург   \n",
       "3      False          25.2        0                  Санкт-Петербург   \n",
       "4      False          41.0        0                  Санкт-Петербург   \n",
       "5      False           9.1        0  посёлок городского типа Янино-1   \n",
       "6      False          14.4        1                посёлок Парголово   \n",
       "7      False          18.9        2                  Санкт-Петербург   \n",
       "\n",
       "   airports_nearest  city_centers_nearest  parks_around3000  parks_nearest  \\\n",
       "0           18863.0               16028.0               1.0          482.0   \n",
       "1           12817.0               18603.0               0.0            NaN   \n",
       "2           21741.0               13933.0               1.0           90.0   \n",
       "3           28098.0                6800.0               2.0           84.0   \n",
       "4           31856.0                8098.0               2.0          112.0   \n",
       "5               NaN                   NaN               NaN            NaN   \n",
       "6           52996.0               19143.0               0.0            NaN   \n",
       "7           23982.0               11634.0               0.0            NaN   \n",
       "\n",
       "   ponds_around3000  ponds_nearest  days_exposition  price_square_meter  \n",
       "0               2.0          755.0              NaN           120370.37  \n",
       "1               0.0            NaN             81.0            82920.79  \n",
       "2               2.0          574.0            558.0            92785.71  \n",
       "3               3.0          234.0            424.0           408176.10  \n",
       "4               1.0           48.0            121.0           100000.00  \n",
       "5               NaN            NaN             55.0            95065.79  \n",
       "6               0.0            NaN            155.0            99195.71  \n",
       "7               0.0            NaN              NaN           110544.69  "
      ]
     },
     "execution_count": 57,
     "metadata": {},
     "output_type": "execute_result"
    }
   ],
   "source": [
    "data.head(8)"
   ]
  },
  {
   "cell_type": "markdown",
   "metadata": {},
   "source": [
    "Добавим столбцы `exposition_weekday`, `exposition_month`, `exposition_year`\n"
   ]
  },
  {
   "cell_type": "code",
   "execution_count": 58,
   "metadata": {},
   "outputs": [],
   "source": [
    "# Добавляем столбец с днем недели публикации объявления\n",
    "data['exposition_weekday'] = data['first_day_exposition'].dt.weekday\n",
    "\n",
    "# Добавляем столбец с месяццем публикации объявления\n",
    "data['exposition_month'] = data['first_day_exposition'].dt.month\n",
    "\n",
    "# Добавляем столбец с месяццем публикации объявления\n",
    "data['exposition_year'] = data['first_day_exposition'].dt.year"
   ]
  },
  {
   "cell_type": "code",
   "execution_count": 59,
   "metadata": {},
   "outputs": [
    {
     "data": {
      "text/html": [
       "<div>\n",
       "<style scoped>\n",
       "    .dataframe tbody tr th:only-of-type {\n",
       "        vertical-align: middle;\n",
       "    }\n",
       "\n",
       "    .dataframe tbody tr th {\n",
       "        vertical-align: top;\n",
       "    }\n",
       "\n",
       "    .dataframe thead th {\n",
       "        text-align: right;\n",
       "    }\n",
       "</style>\n",
       "<table border=\"1\" class=\"dataframe\">\n",
       "  <thead>\n",
       "    <tr style=\"text-align: right;\">\n",
       "      <th></th>\n",
       "      <th>total_images</th>\n",
       "      <th>last_price</th>\n",
       "      <th>total_area</th>\n",
       "      <th>first_day_exposition</th>\n",
       "      <th>rooms</th>\n",
       "      <th>ceiling_height</th>\n",
       "      <th>floors_total</th>\n",
       "      <th>living_area</th>\n",
       "      <th>floor</th>\n",
       "      <th>is_apartment</th>\n",
       "      <th>studio</th>\n",
       "      <th>open_plan</th>\n",
       "      <th>kitchen_area</th>\n",
       "      <th>balcony</th>\n",
       "      <th>locality_name</th>\n",
       "      <th>airports_nearest</th>\n",
       "      <th>city_centers_nearest</th>\n",
       "      <th>parks_around3000</th>\n",
       "      <th>parks_nearest</th>\n",
       "      <th>ponds_around3000</th>\n",
       "      <th>ponds_nearest</th>\n",
       "      <th>days_exposition</th>\n",
       "      <th>price_square_meter</th>\n",
       "      <th>exposition_weekday</th>\n",
       "      <th>exposition_month</th>\n",
       "      <th>exposition_year</th>\n",
       "    </tr>\n",
       "  </thead>\n",
       "  <tbody>\n",
       "    <tr>\n",
       "      <th>2228</th>\n",
       "      <td>15</td>\n",
       "      <td>4850000.0</td>\n",
       "      <td>39.0</td>\n",
       "      <td>2019-02-06</td>\n",
       "      <td>1</td>\n",
       "      <td>2.67</td>\n",
       "      <td>12</td>\n",
       "      <td>20.0</td>\n",
       "      <td>3</td>\n",
       "      <td>False</td>\n",
       "      <td>False</td>\n",
       "      <td>False</td>\n",
       "      <td>7.8</td>\n",
       "      <td>0</td>\n",
       "      <td>Санкт-Петербург</td>\n",
       "      <td>36774.0</td>\n",
       "      <td>12407.0</td>\n",
       "      <td>0.0</td>\n",
       "      <td>NaN</td>\n",
       "      <td>0.0</td>\n",
       "      <td>NaN</td>\n",
       "      <td>NaN</td>\n",
       "      <td>124358.97</td>\n",
       "      <td>2</td>\n",
       "      <td>2</td>\n",
       "      <td>2019</td>\n",
       "    </tr>\n",
       "    <tr>\n",
       "      <th>22589</th>\n",
       "      <td>8</td>\n",
       "      <td>5600000.0</td>\n",
       "      <td>67.0</td>\n",
       "      <td>2019-01-05</td>\n",
       "      <td>2</td>\n",
       "      <td>2.60</td>\n",
       "      <td>7</td>\n",
       "      <td>39.0</td>\n",
       "      <td>5</td>\n",
       "      <td>False</td>\n",
       "      <td>False</td>\n",
       "      <td>False</td>\n",
       "      <td>10.0</td>\n",
       "      <td>2</td>\n",
       "      <td>Гатчина</td>\n",
       "      <td>NaN</td>\n",
       "      <td>NaN</td>\n",
       "      <td>NaN</td>\n",
       "      <td>NaN</td>\n",
       "      <td>NaN</td>\n",
       "      <td>NaN</td>\n",
       "      <td>68.0</td>\n",
       "      <td>83582.09</td>\n",
       "      <td>5</td>\n",
       "      <td>1</td>\n",
       "      <td>2019</td>\n",
       "    </tr>\n",
       "    <tr>\n",
       "      <th>2285</th>\n",
       "      <td>14</td>\n",
       "      <td>1350000.0</td>\n",
       "      <td>30.0</td>\n",
       "      <td>2018-07-18</td>\n",
       "      <td>1</td>\n",
       "      <td>2.50</td>\n",
       "      <td>5</td>\n",
       "      <td>15.0</td>\n",
       "      <td>2</td>\n",
       "      <td>False</td>\n",
       "      <td>False</td>\n",
       "      <td>False</td>\n",
       "      <td>7.0</td>\n",
       "      <td>0</td>\n",
       "      <td>Кириши</td>\n",
       "      <td>NaN</td>\n",
       "      <td>NaN</td>\n",
       "      <td>NaN</td>\n",
       "      <td>NaN</td>\n",
       "      <td>NaN</td>\n",
       "      <td>NaN</td>\n",
       "      <td>163.0</td>\n",
       "      <td>45000.00</td>\n",
       "      <td>2</td>\n",
       "      <td>7</td>\n",
       "      <td>2018</td>\n",
       "    </tr>\n",
       "    <tr>\n",
       "      <th>9636</th>\n",
       "      <td>9</td>\n",
       "      <td>3950000.0</td>\n",
       "      <td>48.0</td>\n",
       "      <td>2017-12-04</td>\n",
       "      <td>2</td>\n",
       "      <td>2.55</td>\n",
       "      <td>12</td>\n",
       "      <td>26.8</td>\n",
       "      <td>1</td>\n",
       "      <td>False</td>\n",
       "      <td>False</td>\n",
       "      <td>False</td>\n",
       "      <td>10.0</td>\n",
       "      <td>0</td>\n",
       "      <td>Санкт-Петербург</td>\n",
       "      <td>15390.0</td>\n",
       "      <td>14186.0</td>\n",
       "      <td>1.0</td>\n",
       "      <td>1501.0</td>\n",
       "      <td>2.0</td>\n",
       "      <td>191.0</td>\n",
       "      <td>329.0</td>\n",
       "      <td>82291.67</td>\n",
       "      <td>0</td>\n",
       "      <td>12</td>\n",
       "      <td>2017</td>\n",
       "    </tr>\n",
       "    <tr>\n",
       "      <th>8420</th>\n",
       "      <td>1</td>\n",
       "      <td>2099000.0</td>\n",
       "      <td>42.0</td>\n",
       "      <td>2018-01-13</td>\n",
       "      <td>3</td>\n",
       "      <td>2.55</td>\n",
       "      <td>5</td>\n",
       "      <td>29.0</td>\n",
       "      <td>3</td>\n",
       "      <td>False</td>\n",
       "      <td>False</td>\n",
       "      <td>False</td>\n",
       "      <td>5.0</td>\n",
       "      <td>0</td>\n",
       "      <td>село Никольское</td>\n",
       "      <td>NaN</td>\n",
       "      <td>NaN</td>\n",
       "      <td>NaN</td>\n",
       "      <td>NaN</td>\n",
       "      <td>NaN</td>\n",
       "      <td>NaN</td>\n",
       "      <td>338.0</td>\n",
       "      <td>49976.19</td>\n",
       "      <td>5</td>\n",
       "      <td>1</td>\n",
       "      <td>2018</td>\n",
       "    </tr>\n",
       "  </tbody>\n",
       "</table>\n",
       "</div>"
      ],
      "text/plain": [
       "       total_images  last_price  total_area first_day_exposition  rooms  \\\n",
       "2228             15   4850000.0        39.0           2019-02-06      1   \n",
       "22589             8   5600000.0        67.0           2019-01-05      2   \n",
       "2285             14   1350000.0        30.0           2018-07-18      1   \n",
       "9636              9   3950000.0        48.0           2017-12-04      2   \n",
       "8420              1   2099000.0        42.0           2018-01-13      3   \n",
       "\n",
       "       ceiling_height  floors_total  living_area  floor  is_apartment  studio  \\\n",
       "2228             2.67            12         20.0      3         False   False   \n",
       "22589            2.60             7         39.0      5         False   False   \n",
       "2285             2.50             5         15.0      2         False   False   \n",
       "9636             2.55            12         26.8      1         False   False   \n",
       "8420             2.55             5         29.0      3         False   False   \n",
       "\n",
       "       open_plan  kitchen_area  balcony    locality_name  airports_nearest  \\\n",
       "2228       False           7.8        0  Санкт-Петербург           36774.0   \n",
       "22589      False          10.0        2          Гатчина               NaN   \n",
       "2285       False           7.0        0           Кириши               NaN   \n",
       "9636       False          10.0        0  Санкт-Петербург           15390.0   \n",
       "8420       False           5.0        0  село Никольское               NaN   \n",
       "\n",
       "       city_centers_nearest  parks_around3000  parks_nearest  \\\n",
       "2228                12407.0               0.0            NaN   \n",
       "22589                   NaN               NaN            NaN   \n",
       "2285                    NaN               NaN            NaN   \n",
       "9636                14186.0               1.0         1501.0   \n",
       "8420                    NaN               NaN            NaN   \n",
       "\n",
       "       ponds_around3000  ponds_nearest  days_exposition  price_square_meter  \\\n",
       "2228                0.0            NaN              NaN           124358.97   \n",
       "22589               NaN            NaN             68.0            83582.09   \n",
       "2285                NaN            NaN            163.0            45000.00   \n",
       "9636                2.0          191.0            329.0            82291.67   \n",
       "8420                NaN            NaN            338.0            49976.19   \n",
       "\n",
       "       exposition_weekday  exposition_month  exposition_year  \n",
       "2228                    2                 2             2019  \n",
       "22589                   5                 1             2019  \n",
       "2285                    2                 7             2018  \n",
       "9636                    0                12             2017  \n",
       "8420                    5                 1             2018  "
      ]
     },
     "execution_count": 59,
     "metadata": {},
     "output_type": "execute_result"
    }
   ],
   "source": [
    "# Проверяем\n",
    "data.sample(5)"
   ]
  },
  {
   "cell_type": "markdown",
   "metadata": {},
   "source": [
    "Добавим столбец `floor_category`"
   ]
  },
  {
   "cell_type": "code",
   "execution_count": 60,
   "metadata": {},
   "outputs": [],
   "source": [
    "# Функция для определения типа этажа\n",
    "def categorize_floor(row):\n",
    "    try:\n",
    "        if row['floor'] == 1:\n",
    "            return 'первый'\n",
    "        elif row['floor'] == row['floors_total']:\n",
    "            return 'последний'\n",
    "        else:\n",
    "            return 'другой'\n",
    "    except:\n",
    "        return 'нет категории'"
   ]
  },
  {
   "cell_type": "code",
   "execution_count": 61,
   "metadata": {},
   "outputs": [],
   "source": [
    "# Добавляем столбец с категорией этажа квартиры\n",
    "data['floor_category'] = data.apply(categorize_floor, axis=1)"
   ]
  },
  {
   "cell_type": "code",
   "execution_count": 62,
   "metadata": {
    "scrolled": true
   },
   "outputs": [
    {
     "data": {
      "text/html": [
       "<div>\n",
       "<style scoped>\n",
       "    .dataframe tbody tr th:only-of-type {\n",
       "        vertical-align: middle;\n",
       "    }\n",
       "\n",
       "    .dataframe tbody tr th {\n",
       "        vertical-align: top;\n",
       "    }\n",
       "\n",
       "    .dataframe thead th {\n",
       "        text-align: right;\n",
       "    }\n",
       "</style>\n",
       "<table border=\"1\" class=\"dataframe\">\n",
       "  <thead>\n",
       "    <tr style=\"text-align: right;\">\n",
       "      <th></th>\n",
       "      <th>total_images</th>\n",
       "      <th>last_price</th>\n",
       "      <th>total_area</th>\n",
       "      <th>first_day_exposition</th>\n",
       "      <th>rooms</th>\n",
       "      <th>ceiling_height</th>\n",
       "      <th>floors_total</th>\n",
       "      <th>living_area</th>\n",
       "      <th>floor</th>\n",
       "      <th>is_apartment</th>\n",
       "      <th>studio</th>\n",
       "      <th>open_plan</th>\n",
       "      <th>kitchen_area</th>\n",
       "      <th>balcony</th>\n",
       "      <th>locality_name</th>\n",
       "      <th>airports_nearest</th>\n",
       "      <th>city_centers_nearest</th>\n",
       "      <th>parks_around3000</th>\n",
       "      <th>parks_nearest</th>\n",
       "      <th>ponds_around3000</th>\n",
       "      <th>ponds_nearest</th>\n",
       "      <th>days_exposition</th>\n",
       "      <th>price_square_meter</th>\n",
       "      <th>exposition_weekday</th>\n",
       "      <th>exposition_month</th>\n",
       "      <th>exposition_year</th>\n",
       "      <th>floor_category</th>\n",
       "    </tr>\n",
       "  </thead>\n",
       "  <tbody>\n",
       "    <tr>\n",
       "      <th>23694</th>\n",
       "      <td>9</td>\n",
       "      <td>9700000.0</td>\n",
       "      <td>133.81</td>\n",
       "      <td>2017-03-21</td>\n",
       "      <td>3</td>\n",
       "      <td>3.70</td>\n",
       "      <td>5</td>\n",
       "      <td>73.3</td>\n",
       "      <td>3</td>\n",
       "      <td>False</td>\n",
       "      <td>False</td>\n",
       "      <td>False</td>\n",
       "      <td>13.8</td>\n",
       "      <td>0</td>\n",
       "      <td>Санкт-Петербург</td>\n",
       "      <td>24665.0</td>\n",
       "      <td>4232.0</td>\n",
       "      <td>1.0</td>\n",
       "      <td>796.0</td>\n",
       "      <td>3.0</td>\n",
       "      <td>381.0</td>\n",
       "      <td>NaN</td>\n",
       "      <td>72490.85</td>\n",
       "      <td>1</td>\n",
       "      <td>3</td>\n",
       "      <td>2017</td>\n",
       "      <td>другой</td>\n",
       "    </tr>\n",
       "    <tr>\n",
       "      <th>23695</th>\n",
       "      <td>14</td>\n",
       "      <td>3100000.0</td>\n",
       "      <td>59.00</td>\n",
       "      <td>2018-01-15</td>\n",
       "      <td>3</td>\n",
       "      <td>2.50</td>\n",
       "      <td>5</td>\n",
       "      <td>38.0</td>\n",
       "      <td>4</td>\n",
       "      <td>False</td>\n",
       "      <td>False</td>\n",
       "      <td>False</td>\n",
       "      <td>8.5</td>\n",
       "      <td>0</td>\n",
       "      <td>Тосно</td>\n",
       "      <td>NaN</td>\n",
       "      <td>NaN</td>\n",
       "      <td>NaN</td>\n",
       "      <td>NaN</td>\n",
       "      <td>NaN</td>\n",
       "      <td>NaN</td>\n",
       "      <td>45.0</td>\n",
       "      <td>52542.37</td>\n",
       "      <td>0</td>\n",
       "      <td>1</td>\n",
       "      <td>2018</td>\n",
       "      <td>другой</td>\n",
       "    </tr>\n",
       "    <tr>\n",
       "      <th>23696</th>\n",
       "      <td>18</td>\n",
       "      <td>2500000.0</td>\n",
       "      <td>56.70</td>\n",
       "      <td>2018-02-11</td>\n",
       "      <td>2</td>\n",
       "      <td>2.65</td>\n",
       "      <td>3</td>\n",
       "      <td>29.7</td>\n",
       "      <td>1</td>\n",
       "      <td>False</td>\n",
       "      <td>False</td>\n",
       "      <td>False</td>\n",
       "      <td>9.0</td>\n",
       "      <td>0</td>\n",
       "      <td>село Рождествено</td>\n",
       "      <td>NaN</td>\n",
       "      <td>NaN</td>\n",
       "      <td>NaN</td>\n",
       "      <td>NaN</td>\n",
       "      <td>NaN</td>\n",
       "      <td>NaN</td>\n",
       "      <td>NaN</td>\n",
       "      <td>44091.71</td>\n",
       "      <td>6</td>\n",
       "      <td>2</td>\n",
       "      <td>2018</td>\n",
       "      <td>первый</td>\n",
       "    </tr>\n",
       "    <tr>\n",
       "      <th>23697</th>\n",
       "      <td>13</td>\n",
       "      <td>11475000.0</td>\n",
       "      <td>76.75</td>\n",
       "      <td>2017-03-28</td>\n",
       "      <td>2</td>\n",
       "      <td>3.00</td>\n",
       "      <td>17</td>\n",
       "      <td>40.4</td>\n",
       "      <td>12</td>\n",
       "      <td>False</td>\n",
       "      <td>False</td>\n",
       "      <td>False</td>\n",
       "      <td>23.3</td>\n",
       "      <td>2</td>\n",
       "      <td>Санкт-Петербург</td>\n",
       "      <td>39140.0</td>\n",
       "      <td>10364.0</td>\n",
       "      <td>2.0</td>\n",
       "      <td>173.0</td>\n",
       "      <td>3.0</td>\n",
       "      <td>196.0</td>\n",
       "      <td>602.0</td>\n",
       "      <td>149511.40</td>\n",
       "      <td>1</td>\n",
       "      <td>3</td>\n",
       "      <td>2017</td>\n",
       "      <td>другой</td>\n",
       "    </tr>\n",
       "    <tr>\n",
       "      <th>23698</th>\n",
       "      <td>4</td>\n",
       "      <td>1350000.0</td>\n",
       "      <td>32.30</td>\n",
       "      <td>2017-07-21</td>\n",
       "      <td>1</td>\n",
       "      <td>2.50</td>\n",
       "      <td>5</td>\n",
       "      <td>12.3</td>\n",
       "      <td>1</td>\n",
       "      <td>False</td>\n",
       "      <td>False</td>\n",
       "      <td>False</td>\n",
       "      <td>9.0</td>\n",
       "      <td>0</td>\n",
       "      <td>посёлок Новый Учхоз</td>\n",
       "      <td>NaN</td>\n",
       "      <td>NaN</td>\n",
       "      <td>NaN</td>\n",
       "      <td>NaN</td>\n",
       "      <td>NaN</td>\n",
       "      <td>NaN</td>\n",
       "      <td>NaN</td>\n",
       "      <td>41795.67</td>\n",
       "      <td>4</td>\n",
       "      <td>7</td>\n",
       "      <td>2017</td>\n",
       "      <td>первый</td>\n",
       "    </tr>\n",
       "  </tbody>\n",
       "</table>\n",
       "</div>"
      ],
      "text/plain": [
       "       total_images  last_price  total_area first_day_exposition  rooms  \\\n",
       "23694             9   9700000.0      133.81           2017-03-21      3   \n",
       "23695            14   3100000.0       59.00           2018-01-15      3   \n",
       "23696            18   2500000.0       56.70           2018-02-11      2   \n",
       "23697            13  11475000.0       76.75           2017-03-28      2   \n",
       "23698             4   1350000.0       32.30           2017-07-21      1   \n",
       "\n",
       "       ceiling_height  floors_total  living_area  floor  is_apartment  studio  \\\n",
       "23694            3.70             5         73.3      3         False   False   \n",
       "23695            2.50             5         38.0      4         False   False   \n",
       "23696            2.65             3         29.7      1         False   False   \n",
       "23697            3.00            17         40.4     12         False   False   \n",
       "23698            2.50             5         12.3      1         False   False   \n",
       "\n",
       "       open_plan  kitchen_area  balcony        locality_name  \\\n",
       "23694      False          13.8        0      Санкт-Петербург   \n",
       "23695      False           8.5        0                Тосно   \n",
       "23696      False           9.0        0     село Рождествено   \n",
       "23697      False          23.3        2      Санкт-Петербург   \n",
       "23698      False           9.0        0  посёлок Новый Учхоз   \n",
       "\n",
       "       airports_nearest  city_centers_nearest  parks_around3000  \\\n",
       "23694           24665.0                4232.0               1.0   \n",
       "23695               NaN                   NaN               NaN   \n",
       "23696               NaN                   NaN               NaN   \n",
       "23697           39140.0               10364.0               2.0   \n",
       "23698               NaN                   NaN               NaN   \n",
       "\n",
       "       parks_nearest  ponds_around3000  ponds_nearest  days_exposition  \\\n",
       "23694          796.0               3.0          381.0              NaN   \n",
       "23695            NaN               NaN            NaN             45.0   \n",
       "23696            NaN               NaN            NaN              NaN   \n",
       "23697          173.0               3.0          196.0            602.0   \n",
       "23698            NaN               NaN            NaN              NaN   \n",
       "\n",
       "       price_square_meter  exposition_weekday  exposition_month  \\\n",
       "23694            72490.85                   1                 3   \n",
       "23695            52542.37                   0                 1   \n",
       "23696            44091.71                   6                 2   \n",
       "23697           149511.40                   1                 3   \n",
       "23698            41795.67                   4                 7   \n",
       "\n",
       "       exposition_year floor_category  \n",
       "23694             2017         другой  \n",
       "23695             2018         другой  \n",
       "23696             2018         первый  \n",
       "23697             2017         другой  \n",
       "23698             2017         первый  "
      ]
     },
     "execution_count": 62,
     "metadata": {},
     "output_type": "execute_result"
    }
   ],
   "source": [
    "# Проверим\n",
    "data.tail()"
   ]
  },
  {
   "cell_type": "markdown",
   "metadata": {},
   "source": [
    "Добавим столбец`city_centers_nearest_km`"
   ]
  },
  {
   "cell_type": "code",
   "execution_count": 63,
   "metadata": {},
   "outputs": [],
   "source": [
    "data['city_centers_nearest_km'] = round(data['city_centers_nearest'] / 1000)\n"
   ]
  },
  {
   "cell_type": "code",
   "execution_count": 64,
   "metadata": {},
   "outputs": [
    {
     "data": {
      "text/html": [
       "<div>\n",
       "<style scoped>\n",
       "    .dataframe tbody tr th:only-of-type {\n",
       "        vertical-align: middle;\n",
       "    }\n",
       "\n",
       "    .dataframe tbody tr th {\n",
       "        vertical-align: top;\n",
       "    }\n",
       "\n",
       "    .dataframe thead th {\n",
       "        text-align: right;\n",
       "    }\n",
       "</style>\n",
       "<table border=\"1\" class=\"dataframe\">\n",
       "  <thead>\n",
       "    <tr style=\"text-align: right;\">\n",
       "      <th></th>\n",
       "      <th>total_images</th>\n",
       "      <th>last_price</th>\n",
       "      <th>total_area</th>\n",
       "      <th>first_day_exposition</th>\n",
       "      <th>rooms</th>\n",
       "      <th>ceiling_height</th>\n",
       "      <th>floors_total</th>\n",
       "      <th>living_area</th>\n",
       "      <th>floor</th>\n",
       "      <th>is_apartment</th>\n",
       "      <th>studio</th>\n",
       "      <th>open_plan</th>\n",
       "      <th>kitchen_area</th>\n",
       "      <th>balcony</th>\n",
       "      <th>locality_name</th>\n",
       "      <th>airports_nearest</th>\n",
       "      <th>city_centers_nearest</th>\n",
       "      <th>parks_around3000</th>\n",
       "      <th>parks_nearest</th>\n",
       "      <th>ponds_around3000</th>\n",
       "      <th>ponds_nearest</th>\n",
       "      <th>days_exposition</th>\n",
       "      <th>price_square_meter</th>\n",
       "      <th>exposition_weekday</th>\n",
       "      <th>exposition_month</th>\n",
       "      <th>exposition_year</th>\n",
       "      <th>floor_category</th>\n",
       "      <th>city_centers_nearest_km</th>\n",
       "    </tr>\n",
       "  </thead>\n",
       "  <tbody>\n",
       "    <tr>\n",
       "      <th>0</th>\n",
       "      <td>20</td>\n",
       "      <td>13000000.0</td>\n",
       "      <td>108.0</td>\n",
       "      <td>2019-03-07</td>\n",
       "      <td>3</td>\n",
       "      <td>2.70</td>\n",
       "      <td>16</td>\n",
       "      <td>51.0</td>\n",
       "      <td>8</td>\n",
       "      <td>False</td>\n",
       "      <td>False</td>\n",
       "      <td>False</td>\n",
       "      <td>25.0</td>\n",
       "      <td>0</td>\n",
       "      <td>Санкт-Петербург</td>\n",
       "      <td>18863.0</td>\n",
       "      <td>16028.0</td>\n",
       "      <td>1.0</td>\n",
       "      <td>482.0</td>\n",
       "      <td>2.0</td>\n",
       "      <td>755.0</td>\n",
       "      <td>NaN</td>\n",
       "      <td>120370.37</td>\n",
       "      <td>3</td>\n",
       "      <td>3</td>\n",
       "      <td>2019</td>\n",
       "      <td>другой</td>\n",
       "      <td>16.0</td>\n",
       "    </tr>\n",
       "    <tr>\n",
       "      <th>1</th>\n",
       "      <td>7</td>\n",
       "      <td>3350000.0</td>\n",
       "      <td>40.4</td>\n",
       "      <td>2018-12-04</td>\n",
       "      <td>1</td>\n",
       "      <td>2.65</td>\n",
       "      <td>11</td>\n",
       "      <td>18.6</td>\n",
       "      <td>1</td>\n",
       "      <td>False</td>\n",
       "      <td>False</td>\n",
       "      <td>False</td>\n",
       "      <td>11.0</td>\n",
       "      <td>2</td>\n",
       "      <td>посёлок Шушары</td>\n",
       "      <td>12817.0</td>\n",
       "      <td>18603.0</td>\n",
       "      <td>0.0</td>\n",
       "      <td>NaN</td>\n",
       "      <td>0.0</td>\n",
       "      <td>NaN</td>\n",
       "      <td>81.0</td>\n",
       "      <td>82920.79</td>\n",
       "      <td>1</td>\n",
       "      <td>12</td>\n",
       "      <td>2018</td>\n",
       "      <td>первый</td>\n",
       "      <td>19.0</td>\n",
       "    </tr>\n",
       "    <tr>\n",
       "      <th>2</th>\n",
       "      <td>10</td>\n",
       "      <td>5196000.0</td>\n",
       "      <td>56.0</td>\n",
       "      <td>2015-08-20</td>\n",
       "      <td>2</td>\n",
       "      <td>2.60</td>\n",
       "      <td>5</td>\n",
       "      <td>34.3</td>\n",
       "      <td>4</td>\n",
       "      <td>False</td>\n",
       "      <td>False</td>\n",
       "      <td>False</td>\n",
       "      <td>8.3</td>\n",
       "      <td>0</td>\n",
       "      <td>Санкт-Петербург</td>\n",
       "      <td>21741.0</td>\n",
       "      <td>13933.0</td>\n",
       "      <td>1.0</td>\n",
       "      <td>90.0</td>\n",
       "      <td>2.0</td>\n",
       "      <td>574.0</td>\n",
       "      <td>558.0</td>\n",
       "      <td>92785.71</td>\n",
       "      <td>3</td>\n",
       "      <td>8</td>\n",
       "      <td>2015</td>\n",
       "      <td>другой</td>\n",
       "      <td>14.0</td>\n",
       "    </tr>\n",
       "    <tr>\n",
       "      <th>3</th>\n",
       "      <td>0</td>\n",
       "      <td>64900000.0</td>\n",
       "      <td>159.0</td>\n",
       "      <td>2015-07-24</td>\n",
       "      <td>3</td>\n",
       "      <td>2.60</td>\n",
       "      <td>14</td>\n",
       "      <td>83.6</td>\n",
       "      <td>9</td>\n",
       "      <td>False</td>\n",
       "      <td>False</td>\n",
       "      <td>False</td>\n",
       "      <td>25.2</td>\n",
       "      <td>0</td>\n",
       "      <td>Санкт-Петербург</td>\n",
       "      <td>28098.0</td>\n",
       "      <td>6800.0</td>\n",
       "      <td>2.0</td>\n",
       "      <td>84.0</td>\n",
       "      <td>3.0</td>\n",
       "      <td>234.0</td>\n",
       "      <td>424.0</td>\n",
       "      <td>408176.10</td>\n",
       "      <td>4</td>\n",
       "      <td>7</td>\n",
       "      <td>2015</td>\n",
       "      <td>другой</td>\n",
       "      <td>7.0</td>\n",
       "    </tr>\n",
       "    <tr>\n",
       "      <th>4</th>\n",
       "      <td>2</td>\n",
       "      <td>10000000.0</td>\n",
       "      <td>100.0</td>\n",
       "      <td>2018-06-19</td>\n",
       "      <td>2</td>\n",
       "      <td>3.03</td>\n",
       "      <td>14</td>\n",
       "      <td>32.0</td>\n",
       "      <td>13</td>\n",
       "      <td>False</td>\n",
       "      <td>False</td>\n",
       "      <td>False</td>\n",
       "      <td>41.0</td>\n",
       "      <td>0</td>\n",
       "      <td>Санкт-Петербург</td>\n",
       "      <td>31856.0</td>\n",
       "      <td>8098.0</td>\n",
       "      <td>2.0</td>\n",
       "      <td>112.0</td>\n",
       "      <td>1.0</td>\n",
       "      <td>48.0</td>\n",
       "      <td>121.0</td>\n",
       "      <td>100000.00</td>\n",
       "      <td>1</td>\n",
       "      <td>6</td>\n",
       "      <td>2018</td>\n",
       "      <td>другой</td>\n",
       "      <td>8.0</td>\n",
       "    </tr>\n",
       "  </tbody>\n",
       "</table>\n",
       "</div>"
      ],
      "text/plain": [
       "   total_images  last_price  total_area first_day_exposition  rooms  \\\n",
       "0            20  13000000.0       108.0           2019-03-07      3   \n",
       "1             7   3350000.0        40.4           2018-12-04      1   \n",
       "2            10   5196000.0        56.0           2015-08-20      2   \n",
       "3             0  64900000.0       159.0           2015-07-24      3   \n",
       "4             2  10000000.0       100.0           2018-06-19      2   \n",
       "\n",
       "   ceiling_height  floors_total  living_area  floor  is_apartment  studio  \\\n",
       "0            2.70            16         51.0      8         False   False   \n",
       "1            2.65            11         18.6      1         False   False   \n",
       "2            2.60             5         34.3      4         False   False   \n",
       "3            2.60            14         83.6      9         False   False   \n",
       "4            3.03            14         32.0     13         False   False   \n",
       "\n",
       "   open_plan  kitchen_area  balcony    locality_name  airports_nearest  \\\n",
       "0      False          25.0        0  Санкт-Петербург           18863.0   \n",
       "1      False          11.0        2   посёлок Шушары           12817.0   \n",
       "2      False           8.3        0  Санкт-Петербург           21741.0   \n",
       "3      False          25.2        0  Санкт-Петербург           28098.0   \n",
       "4      False          41.0        0  Санкт-Петербург           31856.0   \n",
       "\n",
       "   city_centers_nearest  parks_around3000  parks_nearest  ponds_around3000  \\\n",
       "0               16028.0               1.0          482.0               2.0   \n",
       "1               18603.0               0.0            NaN               0.0   \n",
       "2               13933.0               1.0           90.0               2.0   \n",
       "3                6800.0               2.0           84.0               3.0   \n",
       "4                8098.0               2.0          112.0               1.0   \n",
       "\n",
       "   ponds_nearest  days_exposition  price_square_meter  exposition_weekday  \\\n",
       "0          755.0              NaN           120370.37                   3   \n",
       "1            NaN             81.0            82920.79                   1   \n",
       "2          574.0            558.0            92785.71                   3   \n",
       "3          234.0            424.0           408176.10                   4   \n",
       "4           48.0            121.0           100000.00                   1   \n",
       "\n",
       "   exposition_month  exposition_year floor_category  city_centers_nearest_km  \n",
       "0                 3             2019         другой                     16.0  \n",
       "1                12             2018         первый                     19.0  \n",
       "2                 8             2015         другой                     14.0  \n",
       "3                 7             2015         другой                      7.0  \n",
       "4                 6             2018         другой                      8.0  "
      ]
     },
     "execution_count": 64,
     "metadata": {},
     "output_type": "execute_result"
    }
   ],
   "source": [
    "data.head()"
   ]
  },
  {
   "cell_type": "markdown",
   "metadata": {},
   "source": [
    "Новые столбцы добавлены.\n"
   ]
  },
  {
   "cell_type": "markdown",
   "metadata": {},
   "source": [
    "<div class=\"alert alert-block alert-success\">\n",
    "\n",
    "**Комментарий ревьювера (все отлично)**\n",
    "    \n",
    "Новые данные успешно добавлены в таблицу👍\n",
    "    \n",
    "</div>"
   ]
  },
  {
   "cell_type": "markdown",
   "metadata": {
    "id": "pPyxrKWTAwb-"
   },
   "source": [
    "## 4. Исследовательский анализ данных"
   ]
  },
  {
   "cell_type": "markdown",
   "metadata": {
    "id": "V2f0D3kLAwb-"
   },
   "source": [
    "### Часть 1. Изучение и описание параметров"
   ]
  },
  {
   "cell_type": "markdown",
   "metadata": {},
   "source": [
    "#### Общая площадь"
   ]
  },
  {
   "cell_type": "code",
   "execution_count": 65,
   "metadata": {},
   "outputs": [
    {
     "data": {
      "text/plain": [
       "<AxesSubplot:>"
      ]
     },
     "execution_count": 65,
     "metadata": {},
     "output_type": "execute_result"
    },
    {
     "data": {
      "image/png": "[encoded data removed]",
      "text/plain": [
       "<Figure size 720x576 with 1 Axes>"
      ]
     },
     "metadata": {
      "needs_background": "light"
     },
     "output_type": "display_data"
    }
   ],
   "source": [
    "# Построим гистограмму\n",
    "data['total_area'].hist(bins=30, grid=True, figsize=(10, 8),range=(0,150))"
   ]
  },
  {
   "cell_type": "markdown",
   "metadata": {},
   "source": [
    "<div class=\"alert alert-block alert-warning\">\n",
    "\n",
    "**Комментарий ревьювера (что можно улучшить)**\n",
    "\n",
    "    \n",
    "Когда строишь визуализации, ставь себя на место человека, полностью не имеющего отношение к математике и аналитике, и пробуй проанализировать, как этот график будет воспринимать обычный обыватель. Главное, чтобы было:\n",
    "\n",
    "* все верно в расчетах, график показывал верные, не ошибочные данные.\n",
    "\n",
    "* все было понятно, по возможности просто и график отображал суть изучаемого вопроса. Используй подписи осей и названия (желательно на языке заказчика).\n",
    "    \n",
    "* график имел хотя бы краткий комментарий под собой о том, что он демонстрирует.\n",
    "\n",
    "* красиво. Мое мнение, даже от математических графиков нужно получать удовольствие)\n",
    "   \n",
    "\n",
    "\n",
    "Прикрепляю несколько интересных ссылок по визуализации:\n",
    "\n",
    "\n",
    "https://coderlessons.com/tutorials/python-technologies/izuchai-siborna/siborn-kratkoe-rukovodstvo\n",
    "\n",
    "https://tproger.ru/translations/python-data-vizualization/\n",
    "    \n",
    "</div>"
   ]
  },
  {
   "cell_type": "code",
   "execution_count": 66,
   "metadata": {},
   "outputs": [
    {
     "data": {
      "text/plain": [
       "count    23565.000000\n",
       "mean        60.322824\n",
       "std         35.657060\n",
       "min         12.000000\n",
       "25%         40.000000\n",
       "50%         52.000000\n",
       "75%         69.700000\n",
       "max        900.000000\n",
       "Name: total_area, dtype: float64"
      ]
     },
     "execution_count": 66,
     "metadata": {},
     "output_type": "execute_result"
    }
   ],
   "source": [
    "# Опять посмотрим сводную статистику по стобцу `total_area`\n",
    "data['total_area'].describe()"
   ]
  },
  {
   "cell_type": "markdown",
   "metadata": {},
   "source": [
    "<div class=\"alert alert-block alert-success\">\n",
    "\n",
    "**Комментарий ревьювера (все отлично)**\n",
    "    \n",
    "Здорово, что используешь описательную статистику для исследовательского анализа данных👍\n",
    "</div>"
   ]
  },
  {
   "cell_type": "markdown",
   "metadata": {},
   "source": [
    "Из гистограммы видно, что большая часть объектов недвижимости имеют площадь от 30 до 65 м². Самый распространенный вариант - около 45 м². Площадь объектов более 100 м² встречается редко. Площадь меньше 30 м² также встречается редко. Среднее значение - 60,3 м² и медиана 52 м² сдвинуты в сторону больших значений. \n",
    "\n",
    "Ранее мы уже начинали рассматривать вопрос об аномальных значениях общей площади и цены. Считаю, если понадобится более подробный анализ, будет иметь смысл рассмотреть возможность разделения данных на группы, например, \"стандартная\" недвижимость и \"элитная\" недвижимость - для всестороннего иучения объектов недвижимости на рынке. Эти аномалии, как мы уже смотрели выше, являются реальными данными, и просто удалить их будет очень некорректным, в то же время они будут сильно влиять на результаты анализа.\n",
    "Изучим остальные столбцы."
   ]
  },
  {
   "cell_type": "markdown",
   "metadata": {},
   "source": [
    "#### Жилая площадь"
   ]
  },
  {
   "cell_type": "code",
   "execution_count": 67,
   "metadata": {},
   "outputs": [
    {
     "data": {
      "text/plain": [
       "<AxesSubplot:>"
      ]
     },
     "execution_count": 67,
     "metadata": {},
     "output_type": "execute_result"
    },
    {
     "data": {
      "image/png": "[encoded data removed]",
      "text/plain": [
       "<Figure size 720x576 with 1 Axes>"
      ]
     },
     "metadata": {
      "needs_background": "light"
     },
     "output_type": "display_data"
    }
   ],
   "source": [
    "# Построим гистограмму\n",
    "data['living_area'].hist(bins=30, grid=True, figsize=(10, 8),range=(0,100))"
   ]
  },
  {
   "cell_type": "code",
   "execution_count": 68,
   "metadata": {},
   "outputs": [
    {
     "data": {
      "text/plain": [
       "count    23565.000000\n",
       "mean        34.238530\n",
       "std         22.111481\n",
       "min          2.000000\n",
       "25%         18.900000\n",
       "50%         30.000000\n",
       "75%         42.000000\n",
       "max        409.700000\n",
       "Name: living_area, dtype: float64"
      ]
     },
     "execution_count": 68,
     "metadata": {},
     "output_type": "execute_result"
    }
   ],
   "source": [
    "# Посмотрим сводную статистику по столбцу `living_area`\n",
    "data['living_area'].describe()"
   ]
  },
  {
   "cell_type": "markdown",
   "metadata": {},
   "source": [
    "На гистограмме видно, что большая часть объектов недвижимости имеют жилую площадь от 15 до 35 м². Можно сказать, что наблюдаются три пика: вероятно, это одно-, двух- и трехкомнатные квартиры. Среднее значение составляет 34,2 м², медиана - 30 м².\n",
    "Все, что упоминалось выше об аномальных значениях, относится также и к этим данным."
   ]
  },
  {
   "cell_type": "markdown",
   "metadata": {},
   "source": [
    "<div class=\"alert alert-block alert-success\">\n",
    "\n",
    "**Комментарий ревьювера (все отлично)**\n",
    "    \n",
    "Согласен👍\n",
    "</div>"
   ]
  },
  {
   "cell_type": "markdown",
   "metadata": {},
   "source": [
    "#### Площадь кухни"
   ]
  },
  {
   "cell_type": "code",
   "execution_count": 69,
   "metadata": {},
   "outputs": [
    {
     "data": {
      "text/plain": [
       "<AxesSubplot:>"
      ]
     },
     "execution_count": 69,
     "metadata": {},
     "output_type": "execute_result"
    },
    {
     "data": {
      "image/png": "[encoded data removed]",
      "text/plain": [
       "<Figure size 720x576 with 1 Axes>"
      ]
     },
     "metadata": {
      "needs_background": "light"
     },
     "output_type": "display_data"
    }
   ],
   "source": [
    "# Построим гистограмму\n",
    "data['kitchen_area'].hist(bins=30, grid=True, figsize=(10, 8),range=(0,30))"
   ]
  },
  {
   "cell_type": "code",
   "execution_count": 70,
   "metadata": {},
   "outputs": [
    {
     "data": {
      "text/plain": [
       "count    23565.000000\n",
       "mean        10.371978\n",
       "std          5.943147\n",
       "min          1.300000\n",
       "25%          7.000000\n",
       "50%          9.000000\n",
       "75%         11.800000\n",
       "max        112.000000\n",
       "Name: kitchen_area, dtype: float64"
      ]
     },
     "execution_count": 70,
     "metadata": {},
     "output_type": "execute_result"
    }
   ],
   "source": [
    "# Посмотрим сводную статистику по столбцу `kitchen_area`\n",
    "data['kitchen_area'].describe()"
   ]
  },
  {
   "cell_type": "markdown",
   "metadata": {},
   "source": [
    "На гистограмме видно несколько групп: с площадью кухни около 6-7 м², с площадью 8-9 м² и с площадью кухни 10 м²  более - вероятно, в зависимости от периода постройки и действовавших на тот момент стандартов и нормативов. В целом такая картина отражает реальную ситуацию. Совсем малые значения площадей кухни, возможно, относятся к студиям. Большая часть объектов недвижимости имеют площадь кухни от 5 до 12 м². При этом среднее значение - 10,5 м², медиана 9,1 м²."
   ]
  },
  {
   "cell_type": "markdown",
   "metadata": {},
   "source": [
    "#### Цена объекта"
   ]
  },
  {
   "cell_type": "code",
   "execution_count": 71,
   "metadata": {},
   "outputs": [
    {
     "data": {
      "text/plain": [
       "<AxesSubplot:>"
      ]
     },
     "execution_count": 71,
     "metadata": {},
     "output_type": "execute_result"
    },
    {
     "data": {
      "image/png": "[encoded data removed]",
      "text/plain": [
       "<Figure size 720x576 with 1 Axes>"
      ]
     },
     "metadata": {
      "needs_background": "light"
     },
     "output_type": "display_data"
    }
   ],
   "source": [
    "# Построим гистограмму\n",
    "data['last_price'].hist(bins=30, grid=True, figsize=(10, 8),range=(0,15000000))"
   ]
  },
  {
   "cell_type": "code",
   "execution_count": 72,
   "metadata": {},
   "outputs": [
    {
     "data": {
      "text/plain": [
       "count        23565.0\n",
       "mean       6511434.0\n",
       "std        9745235.0\n",
       "min         430000.0\n",
       "25%        3400000.0\n",
       "50%        4647000.0\n",
       "75%        6790000.0\n",
       "max      420000000.0\n",
       "Name: last_price, dtype: float64"
      ]
     },
     "execution_count": 72,
     "metadata": {},
     "output_type": "execute_result"
    }
   ],
   "source": [
    "# Посмотрим сводную статистику по столбцу `last_price`\n",
    "data['last_price'].describe().round()"
   ]
  },
  {
   "cell_type": "markdown",
   "metadata": {},
   "source": [
    "Большинство объектов недвижимости имеют цену в диапазоне от 3 до 6 млн. рублей, средняя цена - 6.5 млн.руб., медианное значение цены - 4.6 млн.руб. Самый распространенный вариант - около 3.5 млн.руб.Вариантов с ценой более 10 млн немного. Среднее значение - 6,5 млн, медиана 4,6 млн. "
   ]
  },
  {
   "cell_type": "markdown",
   "metadata": {},
   "source": [
    "#### Количество комнат"
   ]
  },
  {
   "cell_type": "code",
   "execution_count": 73,
   "metadata": {},
   "outputs": [
    {
     "data": {
      "text/plain": [
       "<AxesSubplot:>"
      ]
     },
     "execution_count": 73,
     "metadata": {},
     "output_type": "execute_result"
    },
    {
     "data": {
      "image/png": "[encoded data removed]",
      "text/plain": [
       "<Figure size 720x576 with 1 Axes>"
      ]
     },
     "metadata": {
      "needs_background": "light"
     },
     "output_type": "display_data"
    }
   ],
   "source": [
    "# Построим гистограмму\n",
    "data['rooms'].hist(bins=20, grid=True, figsize=(10, 8),range=(0, 5))"
   ]
  },
  {
   "cell_type": "code",
   "execution_count": 74,
   "metadata": {},
   "outputs": [
    {
     "data": {
      "text/plain": [
       "count    23565.000000\n",
       "mean         2.070656\n",
       "std          1.078591\n",
       "min          0.000000\n",
       "25%          1.000000\n",
       "50%          2.000000\n",
       "75%          3.000000\n",
       "max         19.000000\n",
       "Name: rooms, dtype: float64"
      ]
     },
     "execution_count": 74,
     "metadata": {},
     "output_type": "execute_result"
    }
   ],
   "source": [
    "# Посмотрим сводную статистику по столбцу `rooms`\n",
    "data['rooms'].describe()"
   ]
  },
  {
   "cell_type": "markdown",
   "metadata": {},
   "source": [
    "Чаще всего фигурируют объекты недвижимости с 1 или 2 комнатами, немного реже - с 3 комнатами. Объектов с количеством комнат 4-5  немного. Среднее значение и медиана 2 комнаты точны. Очень редкие значения (от 6 до 19 комнат) не оказывают существенного влияния на среднее значение."
   ]
  },
  {
   "cell_type": "markdown",
   "metadata": {},
   "source": [
    "#### Высота потолков"
   ]
  },
  {
   "cell_type": "code",
   "execution_count": 75,
   "metadata": {},
   "outputs": [
    {
     "data": {
      "text/plain": [
       "<AxesSubplot:>"
      ]
     },
     "execution_count": 75,
     "metadata": {},
     "output_type": "execute_result"
    },
    {
     "data": {
      "image/png": "[encoded data removed]",
      "text/plain": [
       "<Figure size 720x576 with 1 Axes>"
      ]
     },
     "metadata": {
      "needs_background": "light"
     },
     "output_type": "display_data"
    }
   ],
   "source": [
    "# Построим гистограмму\n",
    "data['ceiling_height'].hist(bins=10, grid=True, figsize=(10, 8),range=(2.2, 4))"
   ]
  },
  {
   "cell_type": "code",
   "execution_count": 76,
   "metadata": {},
   "outputs": [
    {
     "data": {
      "text/plain": [
       "count    23565.000000\n",
       "mean         2.707228\n",
       "std          0.234422\n",
       "min          2.200000\n",
       "25%          2.550000\n",
       "50%          2.650000\n",
       "75%          2.750000\n",
       "max          5.000000\n",
       "Name: ceiling_height, dtype: float64"
      ]
     },
     "execution_count": 76,
     "metadata": {},
     "output_type": "execute_result"
    }
   ],
   "source": [
    "# Посмотрим сводную статистику по столбцу `ceiling_height`\n",
    "data['ceiling_height'].describe()"
   ]
  },
  {
   "cell_type": "markdown",
   "metadata": {},
   "source": [
    "Большинство объектов недвижимости имеют высоту потолков 2,6 м - 2,7 м. Среднее значение составляет 2,7 м, а медиана 2,65 м, что соответсвует информации по гистограмме."
   ]
  },
  {
   "cell_type": "markdown",
   "metadata": {},
   "source": [
    "#### Тип этажа квартиры"
   ]
  },
  {
   "cell_type": "code",
   "execution_count": 77,
   "metadata": {},
   "outputs": [
    {
     "data": {
      "text/plain": [
       "count      23565\n",
       "unique         3\n",
       "top       другой\n",
       "freq       17326\n",
       "Name: floor_category, dtype: object"
      ]
     },
     "execution_count": 77,
     "metadata": {},
     "output_type": "execute_result"
    }
   ],
   "source": [
    "# Применим describe()\n",
    "data['floor_category'].describe()"
   ]
  },
  {
   "cell_type": "code",
   "execution_count": 78,
   "metadata": {},
   "outputs": [
    {
     "data": {
      "text/plain": [
       "другой       17326\n",
       "последний     3330\n",
       "первый        2909\n",
       "Name: floor_category, dtype: int64"
      ]
     },
     "execution_count": 78,
     "metadata": {},
     "output_type": "execute_result"
    }
   ],
   "source": [
    "# Выясним количество значений в каждой категории\n",
    "data['floor_category'].value_counts()"
   ]
  },
  {
   "cell_type": "code",
   "execution_count": 79,
   "metadata": {},
   "outputs": [
    {
     "data": {
      "text/plain": [
       "<AxesSubplot:>"
      ]
     },
     "execution_count": 79,
     "metadata": {},
     "output_type": "execute_result"
    },
    {
     "data": {
      "image/png": "[encoded data removed]",
      "text/plain": [
       "<Figure size 360x216 with 1 Axes>"
      ]
     },
     "metadata": {
      "needs_background": "light"
     },
     "output_type": "display_data"
    }
   ],
   "source": [
    "# Покажем на графике\n",
    "data['floor_category'].hist(grid=True, figsize=(5, 3))"
   ]
  },
  {
   "cell_type": "markdown",
   "metadata": {},
   "source": [
    "Количество объектов недвижимости, расположенных на первом и последнем этажах близко друг к другу, и их доля в общем количестве невелика. Большинство квартирах находятся на других этажах, кроме первого и последнего."
   ]
  },
  {
   "cell_type": "markdown",
   "metadata": {},
   "source": [
    "<div class=\"alert alert-block alert-success\">\n",
    "\n",
    "**Комментарий ревьювера (все отлично)**\n",
    "    \n",
    "В целом результат ожидаемый, в домах может быть всего один первый и последний этаж😊\n",
    "</div>"
   ]
  },
  {
   "cell_type": "markdown",
   "metadata": {},
   "source": [
    "#### Общее количество этажей в доме"
   ]
  },
  {
   "cell_type": "code",
   "execution_count": 80,
   "metadata": {},
   "outputs": [
    {
     "data": {
      "text/plain": [
       "<AxesSubplot:>"
      ]
     },
     "execution_count": 80,
     "metadata": {},
     "output_type": "execute_result"
    },
    {
     "data": {
      "image/png": "[encoded data removed]",
      "text/plain": [
       "<Figure size 720x576 with 1 Axes>"
      ]
     },
     "metadata": {
      "needs_background": "light"
     },
     "output_type": "display_data"
    }
   ],
   "source": [
    "# Построим гистограмму\n",
    "data['floors_total'].hist(bins=10, grid=True, figsize=(10, 8),range=(1, 25))"
   ]
  },
  {
   "cell_type": "code",
   "execution_count": 81,
   "metadata": {},
   "outputs": [
    {
     "data": {
      "text/plain": [
       "count    23565.000000\n",
       "mean        10.672311\n",
       "std          6.581971\n",
       "min          1.000000\n",
       "25%          5.000000\n",
       "50%          9.000000\n",
       "75%         16.000000\n",
       "max         37.000000\n",
       "Name: floors_total, dtype: float64"
      ]
     },
     "execution_count": 81,
     "metadata": {},
     "output_type": "execute_result"
    }
   ],
   "source": [
    "# Посмотрим сводную статистику по столбцу `floors_total`\n",
    "data['floors_total'].describe()"
   ]
  },
  {
   "cell_type": "markdown",
   "metadata": {},
   "source": [
    "Большинство предлагаемых объектов недвижимости - это 5-ти этажные дома, далее следуют 9-ти этажные. Остальные варианты встречаются реже. Среднее значение - 10 этаж и медиана - 9 этаж."
   ]
  },
  {
   "cell_type": "markdown",
   "metadata": {},
   "source": [
    "<div class=\"alert alert-block alert-success\">\n",
    "\n",
    "**Комментарий ревьювера (все отлично)**\n",
    "    \n",
    "5 и 9 этажные дома чаще всего являются типовыми👍\n",
    "</div>"
   ]
  },
  {
   "cell_type": "markdown",
   "metadata": {},
   "source": [
    "#### Расстояние до центра города в метрах"
   ]
  },
  {
   "cell_type": "code",
   "execution_count": 82,
   "metadata": {},
   "outputs": [
    {
     "data": {
      "text/plain": [
       "<AxesSubplot:>"
      ]
     },
     "execution_count": 82,
     "metadata": {},
     "output_type": "execute_result"
    },
    {
     "data": {
      "image/png": "[encoded data removed]",
      "text/plain": [
       "<Figure size 720x576 with 1 Axes>"
      ]
     },
     "metadata": {
      "needs_background": "light"
     },
     "output_type": "display_data"
    }
   ],
   "source": [
    "# Построим гистограмму\n",
    "data['city_centers_nearest'].hist(bins=10, grid=True, figsize=(10, 8),range=(0, 30000))"
   ]
  },
  {
   "cell_type": "code",
   "execution_count": 83,
   "metadata": {},
   "outputs": [
    {
     "data": {
      "text/plain": [
       "count    18124.000000\n",
       "mean     14186.198356\n",
       "std       8599.808215\n",
       "min        181.000000\n",
       "25%       9256.250000\n",
       "50%      13073.000000\n",
       "75%      16275.000000\n",
       "max      65968.000000\n",
       "Name: city_centers_nearest, dtype: float64"
      ]
     },
     "execution_count": 83,
     "metadata": {},
     "output_type": "execute_result"
    }
   ],
   "source": [
    "# Посмотрим сводную статистику по столбцу `city_centers_nearest`\n",
    "data['city_centers_nearest'].describe()"
   ]
  },
  {
   "cell_type": "markdown",
   "metadata": {},
   "source": [
    "Большая часть объектов расположены  в пределах 17 километров от центра города. Из них большая часть находится на расстоянии 13-15 км от центра. Среднее расстояние составляет 14.2 км, медианное значение - 13.1 км."
   ]
  },
  {
   "cell_type": "markdown",
   "metadata": {},
   "source": [
    "#### Расстояние до ближайшего парка"
   ]
  },
  {
   "cell_type": "code",
   "execution_count": 84,
   "metadata": {},
   "outputs": [
    {
     "data": {
      "text/plain": [
       "<AxesSubplot:>"
      ]
     },
     "execution_count": 84,
     "metadata": {},
     "output_type": "execute_result"
    },
    {
     "data": {
      "image/png": "[encoded data removed]",
      "text/plain": [
       "<Figure size 720x576 with 1 Axes>"
      ]
     },
     "metadata": {
      "needs_background": "light"
     },
     "output_type": "display_data"
    }
   ],
   "source": [
    "# Построим гистограмму\n",
    "data['parks_nearest'].hist(bins=10, grid=True, figsize=(10, 8),range=(0, 2000))"
   ]
  },
  {
   "cell_type": "code",
   "execution_count": 85,
   "metadata": {},
   "outputs": [
    {
     "data": {
      "text/plain": [
       "count    8030.000000\n",
       "mean      490.580448\n",
       "std       341.572956\n",
       "min         1.000000\n",
       "25%       288.000000\n",
       "50%       455.000000\n",
       "75%       612.000000\n",
       "max      3190.000000\n",
       "Name: parks_nearest, dtype: float64"
      ]
     },
     "execution_count": 85,
     "metadata": {},
     "output_type": "execute_result"
    }
   ],
   "source": [
    "# Посмотрим сводную статистику по столбцу `parks_nearest`\n",
    "data['parks_nearest'].describe()"
   ]
  },
  {
   "cell_type": "markdown",
   "metadata": {},
   "source": [
    "Большинство квартир расположено на расстоянии не более одного километра от ближайшего парка. Среднее значение составляет 490 м, медиана - 455 м."
   ]
  },
  {
   "cell_type": "markdown",
   "metadata": {},
   "source": [
    "Подведем ИТОГИ: После изучения параметров можно отметить, что самый распространенный из продаваемых в Санкт-Петербурге и Ленобласти объект недвижимости представляет из себя квартиру с 1 или 2 комнатами, в 5-ти или 9-ти этажном доме, находящуюся на этаже со 2-го до предпоследнего, общей площадью около 45 м², стоимостью около 3.5 млн.руб, расположенную в 13 - 15 км от центра."
   ]
  },
  {
   "cell_type": "markdown",
   "metadata": {},
   "source": [
    "### Часть 2. Изучить, как быстро продавались квартиры"
   ]
  },
  {
   "cell_type": "markdown",
   "metadata": {},
   "source": [
    "#### Столбец `days_exposition`"
   ]
  },
  {
   "cell_type": "code",
   "execution_count": 86,
   "metadata": {},
   "outputs": [
    {
     "data": {
      "text/plain": [
       "count    20394.000000\n",
       "mean       180.741395\n",
       "std        219.732782\n",
       "min          1.000000\n",
       "25%         45.000000\n",
       "50%         95.000000\n",
       "75%        231.000000\n",
       "max       1580.000000\n",
       "Name: days_exposition, dtype: float64"
      ]
     },
     "execution_count": 86,
     "metadata": {},
     "output_type": "execute_result"
    }
   ],
   "source": [
    "# Посмотрим статистику по столбцу `days_exposition`\n",
    "data['days_exposition'].describe()"
   ]
  },
  {
   "cell_type": "code",
   "execution_count": 87,
   "metadata": {},
   "outputs": [
    {
     "data": {
      "text/plain": [
       "<AxesSubplot:>"
      ]
     },
     "execution_count": 87,
     "metadata": {},
     "output_type": "execute_result"
    },
    {
     "data": {
      "image/png": "[encoded data removed]",
      "text/plain": [
       "<Figure size 720x576 with 1 Axes>"
      ]
     },
     "metadata": {
      "needs_background": "light"
     },
     "output_type": "display_data"
    }
   ],
   "source": [
    "# Построим гистограмму\n",
    "data['days_exposition'].hist(bins=10, grid=True, figsize=(10, 8),range=(0, 1000))"
   ]
  },
  {
   "cell_type": "markdown",
   "metadata": {},
   "source": [
    "Среднее значение по столбцу 181 день, а медиана при этом 95 дней,т.е., половина всех квартир продаются в течение 95 дней. Среднее значение практически в 2 раза больше медианного. Стандартное отклонение превышает среднее значение, что говорит о большом разбросе значений. Посмотрим более подробно диапазон до 100 дней."
   ]
  },
  {
   "cell_type": "code",
   "execution_count": 88,
   "metadata": {},
   "outputs": [
    {
     "data": {
      "text/plain": [
       "<AxesSubplot:>"
      ]
     },
     "execution_count": 88,
     "metadata": {},
     "output_type": "execute_result"
    },
    {
     "data": {
      "image/png": "[encoded data removed]",
      "text/plain": [
       "<Figure size 720x576 with 1 Axes>"
      ]
     },
     "metadata": {
      "needs_background": "light"
     },
     "output_type": "display_data"
    }
   ],
   "source": [
    "data['days_exposition'].hist(bins=100, grid=True, figsize=(10, 8),range=(0, 100))"
   ]
  },
  {
   "cell_type": "markdown",
   "metadata": {},
   "source": [
    "<div class=\"alert alert-block alert-warning\">\n",
    "\n",
    "**Комментарий ревьювера что можно улучшить)**\n",
    "\n",
    "Чем можно объяснить пики на графике?\n",
    "    \n",
    "</div>"
   ]
  },
  {
   "cell_type": "markdown",
   "metadata": {},
   "source": [
    "Из графика видно, что чаще всего в этом диапазоне квартиры продаются за 45 и 60 дней.\n",
    "Исходя из полученного, быстрыми можно считать продажи, произведенные менее, чем за 45 дней. Продажи за 45 - 231 дней будем считать обычными, а свыше 231 - долгими. "
   ]
  },
  {
   "cell_type": "markdown",
   "metadata": {},
   "source": [
    "<div class=\"alert alert-block alert-success\">\n",
    "\n",
    "**Комментарий ревьювера (все отлично)**\n",
    "    \n",
    "Согласен👍\n",
    "</div>"
   ]
  },
  {
   "cell_type": "markdown",
   "metadata": {},
   "source": [
    "### Часть 3. Определение факторов, больше всего влияющих на общую (полную) стоимость объекта"
   ]
  },
  {
   "cell_type": "markdown",
   "metadata": {},
   "source": [
    "Проанализируем, какие факторы больше всего влияют на общую (полную) стоимость объекта. Изучим, зависит ли цена от:\n",
    "\n",
    "- общей площади;\n",
    "- жилой площади;\n",
    "- площади кухни;\n",
    "- количества комнат;\n",
    "- этажа, на котором расположена квартира (первый, последний, другой);\n",
    "- даты размещения (день недели, месяц, год).\n",
    "\n",
    "Построим графики, которые покажут зависимость цены от указанных выше параметров."
   ]
  },
  {
   "cell_type": "markdown",
   "metadata": {},
   "source": [
    "#### Проверяем, зависит ли цена от общей площади"
   ]
  },
  {
   "cell_type": "code",
   "execution_count": 89,
   "metadata": {},
   "outputs": [
    {
     "data": {
      "image/png": "[encoded data removed]",
      "text/plain": [
       "<Figure size 576x360 with 1 Axes>"
      ]
     },
     "metadata": {
      "needs_background": "light"
     },
     "output_type": "display_data"
    }
   ],
   "source": [
    "# Построим диаграмму рассеяния\n",
    "\n",
    "data.plot(x='total_area', y='last_price', kind ='scatter', grid = 'True', figsize = (8, 5), alpha=0.3)\n",
    "plt.title(\"Зависимость цены от общей площади\")\n",
    "plt.xlabel(\"Площадь, кв.м.\")\n",
    "plt.ylabel(\"Цена, 100 млн.руб.\")\n",
    "plt.show()"
   ]
  },
  {
   "cell_type": "code",
   "execution_count": 90,
   "metadata": {},
   "outputs": [
    {
     "data": {
      "text/plain": [
       "0.7033913253575901"
      ]
     },
     "execution_count": 90,
     "metadata": {},
     "output_type": "execute_result"
    }
   ],
   "source": [
    "# Посмотрим коэффициент корреляии Пирсона\n",
    "data['last_price'].corr(data['total_area'])"
   ]
  },
  {
   "cell_type": "markdown",
   "metadata": {},
   "source": [
    "Коэффициент составляет 0.7, что в целом близко к единице и говорит о наличии достаточно сильной линейной зависимости между ценой и общей площадью: чем больше площадь квартиры, тем выше цена. Данная корреляция прослеживается и по графику."
   ]
  },
  {
   "cell_type": "markdown",
   "metadata": {},
   "source": [
    "<div class=\"alert alert-block alert-success\">\n",
    "\n",
    "**Комментарий ревьювера (все отлично)**\n",
    "    \n",
    "Здорово, что используешь диаграмму рассеивания и коэф. корреляции для определения зависимости между показателями👍\n",
    "</div>"
   ]
  },
  {
   "cell_type": "markdown",
   "metadata": {},
   "source": [
    "#### Проверяем, зависит ли цена от жилой площади"
   ]
  },
  {
   "cell_type": "code",
   "execution_count": 91,
   "metadata": {},
   "outputs": [
    {
     "data": {
      "image/png": "[encoded data removed]",
      "text/plain": [
       "<Figure size 576x360 with 1 Axes>"
      ]
     },
     "metadata": {
      "needs_background": "light"
     },
     "output_type": "display_data"
    }
   ],
   "source": [
    "# Построим диаграмму рассеяния\n",
    "\n",
    "data.plot(x='living_area', y='last_price', kind ='scatter', grid = 'True', figsize = (8, 5), alpha=0.3)\n",
    "plt.title(\"Зависимость цены от жилой площади\")\n",
    "plt.xlabel(\"Жилая площадь, кв.м.\")\n",
    "plt.ylabel(\"Цена, 100 млн.руб.\")\n",
    "plt.show()"
   ]
  },
  {
   "cell_type": "code",
   "execution_count": 92,
   "metadata": {},
   "outputs": [
    {
     "data": {
      "text/plain": [
       "0.6235133926261135"
      ]
     },
     "execution_count": 92,
     "metadata": {},
     "output_type": "execute_result"
    }
   ],
   "source": [
    "# Посмотрим коэффициент корреляии Пирсона\n",
    "data['last_price'].corr(data['living_area'])"
   ]
  },
  {
   "cell_type": "markdown",
   "metadata": {},
   "source": [
    "По графику прослеживается корреляция между жилой площадью и ценой квартиры. Коэффициент корреляции составляет 0.62, что хоть и ниже, чем для общей площади, но также достаточно близко к единице, и это также свидетельствует о наличии прямой зависимости  между ценой и жилой площадью: чем больше жилая площадь квартиры, тем выше ее цена. Хотя эта взаимосвязь и слабее, чем между общей площадью и ценой."
   ]
  },
  {
   "cell_type": "markdown",
   "metadata": {},
   "source": [
    "#### Проверяем, зависит ли цена от площади кухни"
   ]
  },
  {
   "cell_type": "code",
   "execution_count": 93,
   "metadata": {},
   "outputs": [
    {
     "data": {
      "image/png": "[encoded data removed]",
      "text/plain": [
       "<Figure size 576x360 with 1 Axes>"
      ]
     },
     "metadata": {
      "needs_background": "light"
     },
     "output_type": "display_data"
    }
   ],
   "source": [
    "# Построим диаграмму рассеяния\n",
    "\n",
    "data.plot(x='kitchen_area', y='last_price', kind ='scatter', grid = 'True', figsize = (8, 5), alpha=0.3)\n",
    "plt.title(\"Зависимость цены от площади кухни\")\n",
    "plt.xlabel(\"Площадь кухни, кв.м.\")\n",
    "plt.ylabel(\"Цена, 100 млн.руб.\")\n",
    "plt.show()"
   ]
  },
  {
   "cell_type": "code",
   "execution_count": 94,
   "metadata": {},
   "outputs": [
    {
     "data": {
      "text/plain": [
       "0.5450399423782814"
      ]
     },
     "execution_count": 94,
     "metadata": {},
     "output_type": "execute_result"
    }
   ],
   "source": [
    "# Посмотрим коэффициент корреляии Пирсона\n",
    "data['last_price'].corr(data['kitchen_area'])"
   ]
  },
  {
   "cell_type": "markdown",
   "metadata": {},
   "source": [
    "В данном случае взаимосвязь также прослеживается, но она еще слабее - коэффициент корреляции составляет уже 0.55. Это также прямая зависимость: чем больше площадь кухни, тем выше цена квартиры."
   ]
  },
  {
   "cell_type": "markdown",
   "metadata": {},
   "source": [
    "#### Проверяем, зависит ли цена от количества комнат"
   ]
  },
  {
   "cell_type": "code",
   "execution_count": 95,
   "metadata": {},
   "outputs": [
    {
     "data": {
      "image/png": "[encoded data removed]",
      "text/plain": [
       "<Figure size 576x360 with 1 Axes>"
      ]
     },
     "metadata": {
      "needs_background": "light"
     },
     "output_type": "display_data"
    }
   ],
   "source": [
    "# Построим диаграмму рассеяния\n",
    "\n",
    "data.plot(x='rooms', y='last_price', kind ='scatter', grid = 'True', figsize = (8, 5), alpha=0.3)\n",
    "plt.title(\"Зависимость цены от количества комнат\")\n",
    "plt.xlabel(\"Количество комнат\")\n",
    "plt.ylabel(\"Цена, 100 млн.руб.\")\n",
    "plt.xticks([0, 2, 4, 6, 8, 10, 12, 14, 16, 18, 20])\n",
    "plt.show()"
   ]
  },
  {
   "cell_type": "code",
   "execution_count": 96,
   "metadata": {},
   "outputs": [
    {
     "data": {
      "text/plain": [
       "0.3929644728511378"
      ]
     },
     "execution_count": 96,
     "metadata": {},
     "output_type": "execute_result"
    }
   ],
   "source": [
    "# Посмотрим коэффициент корреляции Пирсона\n",
    "data['last_price'].corr(data['rooms'])"
   ]
  },
  {
   "cell_type": "markdown",
   "metadata": {},
   "source": [
    "Из графика видно, что с увеличением числа комнат до 4-x цена квартир растет, от 4-х комнат до 5-ти - цена примерно одинаковая, далее, с 6-ти комнат, цена снижается. Это может объясняться тем, что в старых домах в Санкт_Петербурге много больших бывших коммунальных квартир с большим количеством комнат небольшой площади, цена которых уже не так высока.\n",
    "Коэффициент корреляции 0.39 указывает на положительную линейную зависимость, однако для данного параметра (в отличие от предыдущих) ее можно оценить как умеренную, и даже ближе к слабой. "
   ]
  },
  {
   "cell_type": "markdown",
   "metadata": {},
   "source": [
    "#### Проверяем, зависит ли цена от этажа, на котором расположена квартира (первый, последний, другой)"
   ]
  },
  {
   "cell_type": "code",
   "execution_count": 97,
   "metadata": {},
   "outputs": [
    {
     "data": {
      "text/html": [
       "<div>\n",
       "<style scoped>\n",
       "    .dataframe tbody tr th:only-of-type {\n",
       "        vertical-align: middle;\n",
       "    }\n",
       "\n",
       "    .dataframe tbody tr th {\n",
       "        vertical-align: top;\n",
       "    }\n",
       "\n",
       "    .dataframe thead th {\n",
       "        text-align: right;\n",
       "    }\n",
       "</style>\n",
       "<table border=\"1\" class=\"dataframe\">\n",
       "  <thead>\n",
       "    <tr style=\"text-align: right;\">\n",
       "      <th></th>\n",
       "      <th>count</th>\n",
       "      <th>mean</th>\n",
       "      <th>median</th>\n",
       "    </tr>\n",
       "    <tr>\n",
       "      <th>floor_category</th>\n",
       "      <th></th>\n",
       "      <th></th>\n",
       "      <th></th>\n",
       "    </tr>\n",
       "  </thead>\n",
       "  <tbody>\n",
       "    <tr>\n",
       "      <th>другой</th>\n",
       "      <td>17326</td>\n",
       "      <td>6674348.90</td>\n",
       "      <td>4848500.0</td>\n",
       "    </tr>\n",
       "    <tr>\n",
       "      <th>первый</th>\n",
       "      <td>2909</td>\n",
       "      <td>4802603.99</td>\n",
       "      <td>3900000.0</td>\n",
       "    </tr>\n",
       "    <tr>\n",
       "      <th>последний</th>\n",
       "      <td>3330</td>\n",
       "      <td>7156578.59</td>\n",
       "      <td>4300000.0</td>\n",
       "    </tr>\n",
       "  </tbody>\n",
       "</table>\n",
       "</div>"
      ],
      "text/plain": [
       "                count        mean     median\n",
       "floor_category                              \n",
       "другой          17326  6674348.90  4848500.0\n",
       "первый           2909  4802603.99  3900000.0\n",
       "последний        3330  7156578.59  4300000.0"
      ]
     },
     "execution_count": 97,
     "metadata": {},
     "output_type": "execute_result"
    }
   ],
   "source": [
    "# Сначала построим сводную таблицу\n",
    "floor_category_pivot = data.pivot_table(index = 'floor_category', values = 'last_price', aggfunc = ['count', 'mean', 'median']).round(2)\n",
    "\n",
    "# Дадим следующие названия столбцам:\n",
    "floor_category_pivot.columns = ['count', 'mean', 'median']\n",
    "\n",
    "# Выведем таблицу\n",
    "floor_category_pivot\n"
   ]
  },
  {
   "cell_type": "markdown",
   "metadata": {},
   "source": [
    "Средние значения выше медианных: у нас есть объекты недвижимости с очень высокой ценой. В связи с этим для анализа будем использовать медиану как метод более устойчивый к выбросам. "
   ]
  },
  {
   "cell_type": "code",
   "execution_count": 98,
   "metadata": {},
   "outputs": [
    {
     "data": {
      "image/png": "[encoded data removed]",
      "text/plain": [
       "<Figure size 432x288 with 1 Axes>"
      ]
     },
     "metadata": {
      "needs_background": "light"
     },
     "output_type": "display_data"
    }
   ],
   "source": [
    "# Построим график для типов этажей и медианного значения цены по каждой категории\n",
    "floor_category_pivot.plot(kind='bar', y='median')\n",
    "plt.title(\"Зависимость цены от типа этажа\")\n",
    "plt.show()"
   ]
  },
  {
   "cell_type": "markdown",
   "metadata": {},
   "source": [
    "<div class=\"alert alert-block alert-success\">\n",
    "\n",
    "**Комментарий ревьювера (все отлично)**\n",
    "    \n",
    "Верное решение изучить влияние категориальных данных на цену с помощью усредненных значений.👍\n",
    "</div>"
   ]
  },
  {
   "cell_type": "markdown",
   "metadata": {},
   "source": [
    "Из диаграммы видно, что квартиры, расположенные на первом этаже, оцениваются дешевле, затем располагаются квартиры на последних этажах, и самые высокие цены - на квартиры, расположенные на других этажах (отличных от первого и последнего)."
   ]
  },
  {
   "cell_type": "markdown",
   "metadata": {},
   "source": [
    "#### Проверяем, зависит ли цена от даты размещения объявления (день недели, месяц, год)"
   ]
  },
  {
   "cell_type": "markdown",
   "metadata": {},
   "source": [
    "##### День размещения объявления"
   ]
  },
  {
   "cell_type": "code",
   "execution_count": 99,
   "metadata": {},
   "outputs": [
    {
     "data": {
      "text/html": [
       "<div>\n",
       "<style scoped>\n",
       "    .dataframe tbody tr th:only-of-type {\n",
       "        vertical-align: middle;\n",
       "    }\n",
       "\n",
       "    .dataframe tbody tr th {\n",
       "        vertical-align: top;\n",
       "    }\n",
       "\n",
       "    .dataframe thead th {\n",
       "        text-align: right;\n",
       "    }\n",
       "</style>\n",
       "<table border=\"1\" class=\"dataframe\">\n",
       "  <thead>\n",
       "    <tr style=\"text-align: right;\">\n",
       "      <th></th>\n",
       "      <th>count</th>\n",
       "      <th>mean</th>\n",
       "      <th>median</th>\n",
       "    </tr>\n",
       "    <tr>\n",
       "      <th>exposition_weekday</th>\n",
       "      <th></th>\n",
       "      <th></th>\n",
       "      <th></th>\n",
       "    </tr>\n",
       "  </thead>\n",
       "  <tbody>\n",
       "    <tr>\n",
       "      <th>0</th>\n",
       "      <td>3596</td>\n",
       "      <td>6518331.94</td>\n",
       "      <td>4650000.0</td>\n",
       "    </tr>\n",
       "    <tr>\n",
       "      <th>1</th>\n",
       "      <td>4163</td>\n",
       "      <td>6389281.18</td>\n",
       "      <td>4720000.0</td>\n",
       "    </tr>\n",
       "    <tr>\n",
       "      <th>2</th>\n",
       "      <td>3948</td>\n",
       "      <td>6633330.48</td>\n",
       "      <td>4700000.0</td>\n",
       "    </tr>\n",
       "    <tr>\n",
       "      <th>3</th>\n",
       "      <td>4276</td>\n",
       "      <td>6706766.02</td>\n",
       "      <td>4650000.0</td>\n",
       "    </tr>\n",
       "    <tr>\n",
       "      <th>4</th>\n",
       "      <td>3980</td>\n",
       "      <td>6359714.36</td>\n",
       "      <td>4550000.0</td>\n",
       "    </tr>\n",
       "    <tr>\n",
       "      <th>5</th>\n",
       "      <td>1919</td>\n",
       "      <td>6628322.47</td>\n",
       "      <td>4550000.0</td>\n",
       "    </tr>\n",
       "    <tr>\n",
       "      <th>6</th>\n",
       "      <td>1683</td>\n",
       "      <td>6242137.43</td>\n",
       "      <td>4530000.0</td>\n",
       "    </tr>\n",
       "  </tbody>\n",
       "</table>\n",
       "</div>"
      ],
      "text/plain": [
       "                    count        mean     median\n",
       "exposition_weekday                              \n",
       "0                    3596  6518331.94  4650000.0\n",
       "1                    4163  6389281.18  4720000.0\n",
       "2                    3948  6633330.48  4700000.0\n",
       "3                    4276  6706766.02  4650000.0\n",
       "4                    3980  6359714.36  4550000.0\n",
       "5                    1919  6628322.47  4550000.0\n",
       "6                    1683  6242137.43  4530000.0"
      ]
     },
     "execution_count": 99,
     "metadata": {},
     "output_type": "execute_result"
    }
   ],
   "source": [
    "# Сначала построим сводную таблицу\n",
    "exposition_weekday_pivot = data.pivot_table(index = 'exposition_weekday', values = 'last_price', aggfunc = ['count', 'mean', 'median']).round(2)\n",
    "\n",
    "# Дадим следующие названия столбцам:\n",
    "exposition_weekday_pivot.columns = ['count', 'mean', 'median']\n",
    "\n",
    "# Выведем таблицу\n",
    "exposition_weekday_pivot"
   ]
  },
  {
   "cell_type": "markdown",
   "metadata": {},
   "source": [
    "Как и выше, средние значения выше медианных. По-прежнему для анализа будем использовать медиану."
   ]
  },
  {
   "cell_type": "code",
   "execution_count": 100,
   "metadata": {},
   "outputs": [
    {
     "data": {
      "image/png": "[encoded data removed]",
      "text/plain": [
       "<Figure size 648x432 with 1 Axes>"
      ]
     },
     "metadata": {
      "needs_background": "light"
     },
     "output_type": "display_data"
    }
   ],
   "source": [
    "# Построим график для дня размещения объявления и медианного значения цены по каждому дню\n",
    "exposition_weekday_pivot.plot(kind='bar', y='median', figsize=(9, 6))\n",
    "plt.title(\"Зависимость цены от дня размещения объявления, 0 - понедельник\")\n",
    "plt.show()"
   ]
  },
  {
   "cell_type": "markdown",
   "metadata": {},
   "source": [
    "На графике можно видеть, что медианное значение цены совсем немного выше во вторник - четверг, но это незначительное изменение, поэтому говорить о существовании зависимости цены от дня публикации объявление не будет корректным."
   ]
  },
  {
   "cell_type": "markdown",
   "metadata": {},
   "source": [
    "Средняя цена незначительно колеблется в разные дни недели. Зависимости между днем публикации объявления и средней ценой не наблюдается (как и для медианного значения).\n",
    "Таким образом, день публикации объявления на цену не влияет."
   ]
  },
  {
   "cell_type": "markdown",
   "metadata": {},
   "source": [
    "\n"
   ]
  },
  {
   "cell_type": "markdown",
   "metadata": {},
   "source": [
    "##### Месяц размещения объявления"
   ]
  },
  {
   "cell_type": "code",
   "execution_count": 101,
   "metadata": {},
   "outputs": [
    {
     "data": {
      "text/html": [
       "<div>\n",
       "<style scoped>\n",
       "    .dataframe tbody tr th:only-of-type {\n",
       "        vertical-align: middle;\n",
       "    }\n",
       "\n",
       "    .dataframe tbody tr th {\n",
       "        vertical-align: top;\n",
       "    }\n",
       "\n",
       "    .dataframe thead th {\n",
       "        text-align: right;\n",
       "    }\n",
       "</style>\n",
       "<table border=\"1\" class=\"dataframe\">\n",
       "  <thead>\n",
       "    <tr style=\"text-align: right;\">\n",
       "      <th></th>\n",
       "      <th>count</th>\n",
       "      <th>mean</th>\n",
       "      <th>median</th>\n",
       "    </tr>\n",
       "    <tr>\n",
       "      <th>exposition_month</th>\n",
       "      <th></th>\n",
       "      <th></th>\n",
       "      <th></th>\n",
       "    </tr>\n",
       "  </thead>\n",
       "  <tbody>\n",
       "    <tr>\n",
       "      <th>1</th>\n",
       "      <td>1487</td>\n",
       "      <td>6664170.56</td>\n",
       "      <td>4600000.0</td>\n",
       "    </tr>\n",
       "    <tr>\n",
       "      <th>2</th>\n",
       "      <td>2636</td>\n",
       "      <td>6463940.87</td>\n",
       "      <td>4650000.0</td>\n",
       "    </tr>\n",
       "    <tr>\n",
       "      <th>3</th>\n",
       "      <td>2575</td>\n",
       "      <td>6364651.71</td>\n",
       "      <td>4650000.0</td>\n",
       "    </tr>\n",
       "    <tr>\n",
       "      <th>4</th>\n",
       "      <td>2356</td>\n",
       "      <td>6743395.47</td>\n",
       "      <td>4800000.0</td>\n",
       "    </tr>\n",
       "    <tr>\n",
       "      <th>5</th>\n",
       "      <td>1261</td>\n",
       "      <td>6591126.70</td>\n",
       "      <td>4500000.0</td>\n",
       "    </tr>\n",
       "    <tr>\n",
       "      <th>6</th>\n",
       "      <td>1747</td>\n",
       "      <td>6316912.64</td>\n",
       "      <td>4400000.0</td>\n",
       "    </tr>\n",
       "    <tr>\n",
       "      <th>7</th>\n",
       "      <td>1686</td>\n",
       "      <td>6639478.83</td>\n",
       "      <td>4650000.0</td>\n",
       "    </tr>\n",
       "    <tr>\n",
       "      <th>8</th>\n",
       "      <td>1739</td>\n",
       "      <td>6345783.76</td>\n",
       "      <td>4570000.0</td>\n",
       "    </tr>\n",
       "    <tr>\n",
       "      <th>9</th>\n",
       "      <td>1972</td>\n",
       "      <td>6490221.87</td>\n",
       "      <td>4700000.0</td>\n",
       "    </tr>\n",
       "    <tr>\n",
       "      <th>10</th>\n",
       "      <td>2108</td>\n",
       "      <td>6236775.68</td>\n",
       "      <td>4570000.0</td>\n",
       "    </tr>\n",
       "    <tr>\n",
       "      <th>11</th>\n",
       "      <td>2360</td>\n",
       "      <td>6449082.50</td>\n",
       "      <td>4700000.0</td>\n",
       "    </tr>\n",
       "    <tr>\n",
       "      <th>12</th>\n",
       "      <td>1638</td>\n",
       "      <td>7005342.66</td>\n",
       "      <td>4695000.0</td>\n",
       "    </tr>\n",
       "  </tbody>\n",
       "</table>\n",
       "</div>"
      ],
      "text/plain": [
       "                  count        mean     median\n",
       "exposition_month                              \n",
       "1                  1487  6664170.56  4600000.0\n",
       "2                  2636  6463940.87  4650000.0\n",
       "3                  2575  6364651.71  4650000.0\n",
       "4                  2356  6743395.47  4800000.0\n",
       "5                  1261  6591126.70  4500000.0\n",
       "6                  1747  6316912.64  4400000.0\n",
       "7                  1686  6639478.83  4650000.0\n",
       "8                  1739  6345783.76  4570000.0\n",
       "9                  1972  6490221.87  4700000.0\n",
       "10                 2108  6236775.68  4570000.0\n",
       "11                 2360  6449082.50  4700000.0\n",
       "12                 1638  7005342.66  4695000.0"
      ]
     },
     "execution_count": 101,
     "metadata": {},
     "output_type": "execute_result"
    }
   ],
   "source": [
    "# Опять сначала построим сводную таблицу\n",
    "exposition_month_pivot = data.pivot_table(index = 'exposition_month', values = 'last_price', aggfunc = ['count', 'mean', 'median']).round(2)\n",
    "\n",
    "# Дадим следующие названия столбцам:\n",
    "exposition_month_pivot.columns = ['count', 'mean', 'median']\n",
    "\n",
    "# Выведем таблицу\n",
    "exposition_month_pivot"
   ]
  },
  {
   "cell_type": "markdown",
   "metadata": {},
   "source": [
    "Вновь видим, что средние значения выше медианных (как и ожидалось). Для дальнейших действий используем медиану."
   ]
  },
  {
   "cell_type": "code",
   "execution_count": 102,
   "metadata": {},
   "outputs": [
    {
     "data": {
      "image/png": "[encoded data removed]",
      "text/plain": [
       "<Figure size 792x432 with 1 Axes>"
      ]
     },
     "metadata": {
      "needs_background": "light"
     },
     "output_type": "display_data"
    }
   ],
   "source": [
    "# Построим график для месяца размещения объявления и медианного значения цены по каждому месяцу\n",
    "exposition_month_pivot.plot(kind='bar', y='median',figsize=(11, 6))\n",
    "plt.title(\"Зависимость цены от месяца размещения объявления\")\n",
    "plt.show()"
   ]
  },
  {
   "cell_type": "markdown",
   "metadata": {},
   "source": [
    "Самое высокое медианное значения цены в апреле, самое низкое в июне, но однозначно говорить о существовании зависимости между этими параметрами оснований нет."
   ]
  },
  {
   "cell_type": "markdown",
   "metadata": {},
   "source": [
    "##### Год размещения объявления"
   ]
  },
  {
   "cell_type": "code",
   "execution_count": 103,
   "metadata": {},
   "outputs": [
    {
     "data": {
      "text/html": [
       "<div>\n",
       "<style scoped>\n",
       "    .dataframe tbody tr th:only-of-type {\n",
       "        vertical-align: middle;\n",
       "    }\n",
       "\n",
       "    .dataframe tbody tr th {\n",
       "        vertical-align: top;\n",
       "    }\n",
       "\n",
       "    .dataframe thead th {\n",
       "        text-align: right;\n",
       "    }\n",
       "</style>\n",
       "<table border=\"1\" class=\"dataframe\">\n",
       "  <thead>\n",
       "    <tr style=\"text-align: right;\">\n",
       "      <th></th>\n",
       "      <th>count</th>\n",
       "      <th>mean</th>\n",
       "      <th>median</th>\n",
       "    </tr>\n",
       "    <tr>\n",
       "      <th>exposition_year</th>\n",
       "      <th></th>\n",
       "      <th></th>\n",
       "      <th></th>\n",
       "    </tr>\n",
       "  </thead>\n",
       "  <tbody>\n",
       "    <tr>\n",
       "      <th>2014</th>\n",
       "      <td>136</td>\n",
       "      <td>12046600.18</td>\n",
       "      <td>7640000.0</td>\n",
       "    </tr>\n",
       "    <tr>\n",
       "      <th>2015</th>\n",
       "      <td>1166</td>\n",
       "      <td>8595668.90</td>\n",
       "      <td>5300500.0</td>\n",
       "    </tr>\n",
       "    <tr>\n",
       "      <th>2016</th>\n",
       "      <td>2745</td>\n",
       "      <td>6829116.56</td>\n",
       "      <td>4530000.0</td>\n",
       "    </tr>\n",
       "    <tr>\n",
       "      <th>2017</th>\n",
       "      <td>8161</td>\n",
       "      <td>6498385.47</td>\n",
       "      <td>4500000.0</td>\n",
       "    </tr>\n",
       "    <tr>\n",
       "      <th>2018</th>\n",
       "      <td>8486</td>\n",
       "      <td>5954065.34</td>\n",
       "      <td>4550000.0</td>\n",
       "    </tr>\n",
       "    <tr>\n",
       "      <th>2019</th>\n",
       "      <td>2871</td>\n",
       "      <td>6783565.29</td>\n",
       "      <td>5050000.0</td>\n",
       "    </tr>\n",
       "  </tbody>\n",
       "</table>\n",
       "</div>"
      ],
      "text/plain": [
       "                 count         mean     median\n",
       "exposition_year                               \n",
       "2014               136  12046600.18  7640000.0\n",
       "2015              1166   8595668.90  5300500.0\n",
       "2016              2745   6829116.56  4530000.0\n",
       "2017              8161   6498385.47  4500000.0\n",
       "2018              8486   5954065.34  4550000.0\n",
       "2019              2871   6783565.29  5050000.0"
      ]
     },
     "execution_count": 103,
     "metadata": {},
     "output_type": "execute_result"
    }
   ],
   "source": [
    "# Строим сводную таблицу\n",
    "exposition_year_pivot = data.pivot_table(index = 'exposition_year', values = 'last_price', aggfunc = ['count', 'mean', 'median']).round(2)\n",
    "\n",
    "# Дадим следующие названия столбцам:\n",
    "exposition_year_pivot.columns = ['count', 'mean', 'median']\n",
    "\n",
    "# Выведем таблицу\n",
    "exposition_year_pivot"
   ]
  },
  {
   "cell_type": "code",
   "execution_count": 104,
   "metadata": {},
   "outputs": [
    {
     "data": {
      "image/png": "[encoded data removed]",
      "text/plain": [
       "<Figure size 648x432 with 1 Axes>"
      ]
     },
     "metadata": {
      "needs_background": "light"
     },
     "output_type": "display_data"
    }
   ],
   "source": [
    "# Строим график для года размещения объявления и медианного значения цены по каждому года\n",
    "exposition_year_pivot.plot(kind='bar', y='median',figsize=(9, 6))\n",
    "plt.title(\"Зависимость цены от года размещения объявления\")\n",
    "plt.show()"
   ]
  },
  {
   "cell_type": "markdown",
   "metadata": {},
   "source": [
    "<div class=\"alert alert-block alert-warning\">\n",
    "\n",
    "**Комментарий ревьювера (что можно улучшить)**\n",
    "    \n",
    "Насчет 2014 года не следует делать однозначные выводы – для этого года всего 136 наблюдений.\n",
    "</div>"
   ]
  },
  {
   "cell_type": "markdown",
   "metadata": {},
   "source": [
    "Наблюдаем интересный момент: после 2014 г. произошло резкое снижение цены, которое продолжалось до 2017 г. Затем начался довольно плавный рост. Падение цен связано с тем, что в конце 2014 г. начался финансовый кризис, сопровождавшийся резким ослаблением рубля и ухудшением экономической обстановки, что отразилось и на ценах на недвижимость.\n",
    "Прямой зависимости между годом размещения объявления и ценой не наблюдается, но необходимо учитывать различные факторы, влиявшие или до сих пор влияющие на цену объектов недвижимости в определенные годы: экономическая и политическая ситуация, сложившаяся конъюнктура рынка и т.д.\n",
    "\n"
   ]
  },
  {
   "cell_type": "markdown",
   "metadata": {},
   "source": [
    "**Итак**, самое значительное влияние на цену квартир оказывают параметры площади: общей, жилой, кухни; из которых общая площадь является наиболее существенно влияющим параметром. Помимо этого прослеживается некоторая взаимосвязь цены квартиры и типа этажа: квартиры, раположенные на первом этаже, оцениваются дешевле. Также следует учитывать год публикации объявления как один из объективных факторов, влияющих на стоимость объекта недвижимости, поскольку ситуация на рынке недвижимости  меняется от года к году и зависит от множества взаимосвязанных факторов, что в конечном итоге отражается и на ценах квартир."
   ]
  },
  {
   "cell_type": "markdown",
   "metadata": {},
   "source": [
    "<div class=\"alert alert-block alert-success\">\n",
    "\n",
    "**Комментарий ревьювера (все отлично)**\n",
    "    \n",
    "Факторы, влиящие на стоимость квартиры определены👍\n",
    "</div>"
   ]
  },
  {
   "cell_type": "markdown",
   "metadata": {},
   "source": [
    "### Часть 4. Рачет средней цены одного квадратного метра в 10 населённых пунктах с наибольшим числом объявлений"
   ]
  },
  {
   "cell_type": "code",
   "execution_count": 105,
   "metadata": {},
   "outputs": [
    {
     "data": {
      "text/html": [
       "<div>\n",
       "<style scoped>\n",
       "    .dataframe tbody tr th:only-of-type {\n",
       "        vertical-align: middle;\n",
       "    }\n",
       "\n",
       "    .dataframe tbody tr th {\n",
       "        vertical-align: top;\n",
       "    }\n",
       "\n",
       "    .dataframe thead th {\n",
       "        text-align: right;\n",
       "    }\n",
       "</style>\n",
       "<table border=\"1\" class=\"dataframe\">\n",
       "  <thead>\n",
       "    <tr style=\"text-align: right;\">\n",
       "      <th></th>\n",
       "      <th>count</th>\n",
       "      <th>price_sqm_average</th>\n",
       "    </tr>\n",
       "    <tr>\n",
       "      <th>locality_name</th>\n",
       "      <th></th>\n",
       "      <th></th>\n",
       "    </tr>\n",
       "  </thead>\n",
       "  <tbody>\n",
       "    <tr>\n",
       "      <th>Санкт-Петербург</th>\n",
       "      <td>15651</td>\n",
       "      <td>114766.0</td>\n",
       "    </tr>\n",
       "    <tr>\n",
       "      <th>посёлок Мурино</th>\n",
       "      <td>586</td>\n",
       "      <td>86041.0</td>\n",
       "    </tr>\n",
       "    <tr>\n",
       "      <th>деревня Кудрово</th>\n",
       "      <td>470</td>\n",
       "      <td>95261.0</td>\n",
       "    </tr>\n",
       "    <tr>\n",
       "      <th>посёлок Шушары</th>\n",
       "      <td>439</td>\n",
       "      <td>78551.0</td>\n",
       "    </tr>\n",
       "    <tr>\n",
       "      <th>Всеволожск</th>\n",
       "      <td>398</td>\n",
       "      <td>68654.0</td>\n",
       "    </tr>\n",
       "    <tr>\n",
       "      <th>Пушкин</th>\n",
       "      <td>369</td>\n",
       "      <td>103126.0</td>\n",
       "    </tr>\n",
       "    <tr>\n",
       "      <th>Колпино</th>\n",
       "      <td>338</td>\n",
       "      <td>75425.0</td>\n",
       "    </tr>\n",
       "    <tr>\n",
       "      <th>посёлок Парголово</th>\n",
       "      <td>327</td>\n",
       "      <td>90176.0</td>\n",
       "    </tr>\n",
       "    <tr>\n",
       "      <th>Гатчина</th>\n",
       "      <td>307</td>\n",
       "      <td>68746.0</td>\n",
       "    </tr>\n",
       "    <tr>\n",
       "      <th>Выборг</th>\n",
       "      <td>237</td>\n",
       "      <td>58142.0</td>\n",
       "    </tr>\n",
       "  </tbody>\n",
       "</table>\n",
       "</div>"
      ],
      "text/plain": [
       "                   count  price_sqm_average\n",
       "locality_name                              \n",
       "Санкт-Петербург    15651           114766.0\n",
       "посёлок Мурино       586            86041.0\n",
       "деревня Кудрово      470            95261.0\n",
       "посёлок Шушары       439            78551.0\n",
       "Всеволожск           398            68654.0\n",
       "Пушкин               369           103126.0\n",
       "Колпино              338            75425.0\n",
       "посёлок Парголово    327            90176.0\n",
       "Гатчина              307            68746.0\n",
       "Выборг               237            58142.0"
      ]
     },
     "execution_count": 105,
     "metadata": {},
     "output_type": "execute_result"
    }
   ],
   "source": [
    "# 10 населённых пунктов с наибольшим числом объявлений и средней ценой за квадратный метр\n",
    "\n",
    "average_price_sqm = data.pivot_table(index=['locality_name'], values ='price_square_meter', aggfunc = ['count', 'mean']) \\\n",
    ".sort_values(('count', 'price_square_meter'), ascending=False).round(0).head(10)\n",
    "average_price_sqm.columns = ['count', 'price_sqm_average']\n",
    "average_price_sqm"
   ]
  },
  {
   "cell_type": "code",
   "execution_count": 106,
   "metadata": {},
   "outputs": [
    {
     "data": {
      "image/png": "[encoded data removed]",
      "text/plain": [
       "<Figure size 648x432 with 1 Axes>"
      ]
     },
     "metadata": {
      "needs_background": "light"
     },
     "output_type": "display_data"
    }
   ],
   "source": [
    "# Построим график\n",
    "average_price_sqm['price_sqm_average'].sort_values().plot(\n",
    "    xlabel='Населенный пункт',  ylabel='Средняя цена 1 кв.м, руб.', kind='bar', rot=45, figsize=(9, 6))\n",
    "plt.title('Средняя цена 1 кв.м в ТОП-10 населенных пунктах по количеству объявлений')\n",
    "plt.show()"
   ]
  },
  {
   "cell_type": "markdown",
   "metadata": {},
   "source": []
  },
  {
   "cell_type": "markdown",
   "metadata": {},
   "source": [
    "В ТОП-10 населённых пунктов с наибольшим числом объявлений самая высокая средняя цена за 1 кв.м была в Санкт-Петербурге - 114766 руб., что было ожидаемо и естественно. Самая низкая - в Выборге, где она составила 58142 руб., что практически в 2 раза ниже, чем в Санкт-Петербурге. "
   ]
  },
  {
   "cell_type": "markdown",
   "metadata": {},
   "source": [
    "<div class=\"alert alert-block alert-warning\">\n",
    "\n",
    "**Комментарий ревьювера (что можно улучшить)**\n",
    "\n",
    "Чем можно объяснить низкие значения Выборга?\n",
    "    \n",
    "*Важно не просто пересказать расчёты, а объяснить наблюдения*\n",
    "    \n",
    "</div>"
   ]
  },
  {
   "cell_type": "markdown",
   "metadata": {},
   "source": [
    "Выделим населённые пункты с самой высокой и низкой стоимостью квадратного метра."
   ]
  },
  {
   "cell_type": "code",
   "execution_count": 107,
   "metadata": {},
   "outputs": [
    {
     "data": {
      "text/html": [
       "<div>\n",
       "<style scoped>\n",
       "    .dataframe tbody tr th:only-of-type {\n",
       "        vertical-align: middle;\n",
       "    }\n",
       "\n",
       "    .dataframe tbody tr th {\n",
       "        vertical-align: top;\n",
       "    }\n",
       "\n",
       "    .dataframe thead th {\n",
       "        text-align: right;\n",
       "    }\n",
       "</style>\n",
       "<table border=\"1\" class=\"dataframe\">\n",
       "  <thead>\n",
       "    <tr style=\"text-align: right;\">\n",
       "      <th></th>\n",
       "      <th>count</th>\n",
       "      <th>max_price_sqm</th>\n",
       "      <th>min_price_sqm</th>\n",
       "    </tr>\n",
       "    <tr>\n",
       "      <th>locality_name</th>\n",
       "      <th></th>\n",
       "      <th></th>\n",
       "      <th></th>\n",
       "    </tr>\n",
       "  </thead>\n",
       "  <tbody>\n",
       "    <tr>\n",
       "      <th>Санкт-Петербург</th>\n",
       "      <td>15651</td>\n",
       "      <td>1736842.0</td>\n",
       "      <td>15345.0</td>\n",
       "    </tr>\n",
       "    <tr>\n",
       "      <th>посёлок Мурино</th>\n",
       "      <td>586</td>\n",
       "      <td>138580.0</td>\n",
       "      <td>50000.0</td>\n",
       "    </tr>\n",
       "    <tr>\n",
       "      <th>деревня Кудрово</th>\n",
       "      <td>470</td>\n",
       "      <td>160401.0</td>\n",
       "      <td>54160.0</td>\n",
       "    </tr>\n",
       "    <tr>\n",
       "      <th>посёлок Шушары</th>\n",
       "      <td>439</td>\n",
       "      <td>147826.0</td>\n",
       "      <td>47700.0</td>\n",
       "    </tr>\n",
       "    <tr>\n",
       "      <th>Всеволожск</th>\n",
       "      <td>398</td>\n",
       "      <td>640422.0</td>\n",
       "      <td>31400.0</td>\n",
       "    </tr>\n",
       "    <tr>\n",
       "      <th>Пушкин</th>\n",
       "      <td>369</td>\n",
       "      <td>256522.0</td>\n",
       "      <td>59836.0</td>\n",
       "    </tr>\n",
       "    <tr>\n",
       "      <th>Колпино</th>\n",
       "      <td>338</td>\n",
       "      <td>125000.0</td>\n",
       "      <td>47957.0</td>\n",
       "    </tr>\n",
       "    <tr>\n",
       "      <th>посёлок Парголово</th>\n",
       "      <td>327</td>\n",
       "      <td>138522.0</td>\n",
       "      <td>39206.0</td>\n",
       "    </tr>\n",
       "    <tr>\n",
       "      <th>Гатчина</th>\n",
       "      <td>307</td>\n",
       "      <td>146316.0</td>\n",
       "      <td>10507.0</td>\n",
       "    </tr>\n",
       "    <tr>\n",
       "      <th>Выборг</th>\n",
       "      <td>237</td>\n",
       "      <td>107473.0</td>\n",
       "      <td>18750.0</td>\n",
       "    </tr>\n",
       "  </tbody>\n",
       "</table>\n",
       "</div>"
      ],
      "text/plain": [
       "                   count  max_price_sqm  min_price_sqm\n",
       "locality_name                                         \n",
       "Санкт-Петербург    15651      1736842.0        15345.0\n",
       "посёлок Мурино       586       138580.0        50000.0\n",
       "деревня Кудрово      470       160401.0        54160.0\n",
       "посёлок Шушары       439       147826.0        47700.0\n",
       "Всеволожск           398       640422.0        31400.0\n",
       "Пушкин               369       256522.0        59836.0\n",
       "Колпино              338       125000.0        47957.0\n",
       "посёлок Парголово    327       138522.0        39206.0\n",
       "Гатчина              307       146316.0        10507.0\n",
       "Выборг               237       107473.0        18750.0"
      ]
     },
     "execution_count": 107,
     "metadata": {},
     "output_type": "execute_result"
    }
   ],
   "source": [
    "# Выделим в ТОП-10 населенных пунктов с наибольшим числом объявлений населенные пункты с самой высокой и самой низкой \n",
    "# стоимостью кв. м\n",
    "max_min_price_sqm = data.pivot_table(index=['locality_name'], values ='price_square_meter', aggfunc = ['count', 'max', 'min']) \\\n",
    ".sort_values(('count', 'price_square_meter'), ascending=False).round(0).head(10)\n",
    "max_min_price_sqm.columns = ['count', 'max_price_sqm', 'min_price_sqm']\n",
    "max_min_price_sqm"
   ]
  },
  {
   "cell_type": "code",
   "execution_count": 108,
   "metadata": {},
   "outputs": [
    {
     "data": {
      "image/png": "[encoded data removed]",
      "text/plain": [
       "<Figure size 648x432 with 1 Axes>"
      ]
     },
     "metadata": {
      "needs_background": "light"
     },
     "output_type": "display_data"
    }
   ],
   "source": [
    "# Построим график для определения места с самой высокой ценой за 1 кв.м из ТОП-10\n",
    "max_min_price_sqm['max_price_sqm'].sort_values().plot(\n",
    "    xlabel='Населенный пункт',  ylabel='Max цены 1 кв.м,  млн. руб.', kind='bar', rot=45, figsize=(9, 6))\n",
    "plt.title('Самая высокая цена 1 кв.м в ТОП-10 населенных пунктах по количеству объявлений')\n",
    "plt.show()"
   ]
  },
  {
   "cell_type": "markdown",
   "metadata": {},
   "source": [
    "Мы видим, что в ТОП-10 по числу объявлений самая высокая стоимость квадратного метра - в Санкт-Петербурге, и она составляет более 1,7 млн. руб. за 1 кв.м."
   ]
  },
  {
   "cell_type": "code",
   "execution_count": 109,
   "metadata": {},
   "outputs": [
    {
     "data": {
      "image/png": "[encoded data removed]",
      "text/plain": [
       "<Figure size 648x432 with 1 Axes>"
      ]
     },
     "metadata": {
      "needs_background": "light"
     },
     "output_type": "display_data"
    }
   ],
   "source": [
    "# Построим график для определения места с самой низкой ценой за 1 кв.м из ТОП-10\n",
    "max_min_price_sqm['min_price_sqm'].sort_values().plot(\n",
    "    xlabel='Населенный пункт',  ylabel='Min цены 1 кв.м, руб.', kind='bar', rot=45, figsize=(9, 6))\n",
    "plt.title('Самая низкая цена 1 кв.м в ТОП-10 населенных пунктах по количеству объявлений')\n",
    "plt.show()"
   ]
  },
  {
   "cell_type": "markdown",
   "metadata": {},
   "source": [
    "Что касается населенного пункта с самой низкой ценой одного квадратного метра среди ТОП-10 населенных пунктов по числу объявлений, то это Гатчина. И такая цена составляет 10507 руб. за кв. м."
   ]
  },
  {
   "cell_type": "markdown",
   "metadata": {},
   "source": [
    "А теперь посмотрим по всему набору данных, каковы и где самая высокая и самая низкая стоимости 1 квадратного метра."
   ]
  },
  {
   "cell_type": "code",
   "execution_count": 110,
   "metadata": {},
   "outputs": [
    {
     "data": {
      "text/html": [
       "<div>\n",
       "<style scoped>\n",
       "    .dataframe tbody tr th:only-of-type {\n",
       "        vertical-align: middle;\n",
       "    }\n",
       "\n",
       "    .dataframe tbody tr th {\n",
       "        vertical-align: top;\n",
       "    }\n",
       "\n",
       "    .dataframe thead th {\n",
       "        text-align: right;\n",
       "    }\n",
       "</style>\n",
       "<table border=\"1\" class=\"dataframe\">\n",
       "  <thead>\n",
       "    <tr style=\"text-align: right;\">\n",
       "      <th></th>\n",
       "      <th>total_images</th>\n",
       "      <th>last_price</th>\n",
       "      <th>total_area</th>\n",
       "      <th>first_day_exposition</th>\n",
       "      <th>rooms</th>\n",
       "      <th>ceiling_height</th>\n",
       "      <th>floors_total</th>\n",
       "      <th>living_area</th>\n",
       "      <th>floor</th>\n",
       "      <th>is_apartment</th>\n",
       "      <th>studio</th>\n",
       "      <th>open_plan</th>\n",
       "      <th>kitchen_area</th>\n",
       "      <th>balcony</th>\n",
       "      <th>locality_name</th>\n",
       "      <th>airports_nearest</th>\n",
       "      <th>city_centers_nearest</th>\n",
       "      <th>parks_around3000</th>\n",
       "      <th>parks_nearest</th>\n",
       "      <th>ponds_around3000</th>\n",
       "      <th>ponds_nearest</th>\n",
       "      <th>days_exposition</th>\n",
       "      <th>price_square_meter</th>\n",
       "      <th>exposition_weekday</th>\n",
       "      <th>exposition_month</th>\n",
       "      <th>exposition_year</th>\n",
       "      <th>floor_category</th>\n",
       "      <th>city_centers_nearest_km</th>\n",
       "    </tr>\n",
       "  </thead>\n",
       "  <tbody>\n",
       "    <tr>\n",
       "      <th>1436</th>\n",
       "      <td>19</td>\n",
       "      <td>330000000.0</td>\n",
       "      <td>190.0</td>\n",
       "      <td>2018-04-04</td>\n",
       "      <td>3</td>\n",
       "      <td>3.5</td>\n",
       "      <td>7</td>\n",
       "      <td>95.0</td>\n",
       "      <td>5</td>\n",
       "      <td>False</td>\n",
       "      <td>False</td>\n",
       "      <td>False</td>\n",
       "      <td>40.0</td>\n",
       "      <td>0</td>\n",
       "      <td>Санкт-Петербург</td>\n",
       "      <td>23011.0</td>\n",
       "      <td>1197.0</td>\n",
       "      <td>3.0</td>\n",
       "      <td>519.0</td>\n",
       "      <td>3.0</td>\n",
       "      <td>285.0</td>\n",
       "      <td>233.0</td>\n",
       "      <td>1736842.11</td>\n",
       "      <td>2</td>\n",
       "      <td>4</td>\n",
       "      <td>2018</td>\n",
       "      <td>другой</td>\n",
       "      <td>1.0</td>\n",
       "    </tr>\n",
       "  </tbody>\n",
       "</table>\n",
       "</div>"
      ],
      "text/plain": [
       "      total_images   last_price  total_area first_day_exposition  rooms  \\\n",
       "1436            19  330000000.0       190.0           2018-04-04      3   \n",
       "\n",
       "      ceiling_height  floors_total  living_area  floor  is_apartment  studio  \\\n",
       "1436             3.5             7         95.0      5         False   False   \n",
       "\n",
       "      open_plan  kitchen_area  balcony    locality_name  airports_nearest  \\\n",
       "1436      False          40.0        0  Санкт-Петербург           23011.0   \n",
       "\n",
       "      city_centers_nearest  parks_around3000  parks_nearest  ponds_around3000  \\\n",
       "1436                1197.0               3.0          519.0               3.0   \n",
       "\n",
       "      ponds_nearest  days_exposition  price_square_meter  exposition_weekday  \\\n",
       "1436          285.0            233.0          1736842.11                   2   \n",
       "\n",
       "      exposition_month  exposition_year floor_category  \\\n",
       "1436                 4             2018         другой   \n",
       "\n",
       "      city_centers_nearest_km  \n",
       "1436                      1.0  "
      ]
     },
     "execution_count": 110,
     "metadata": {},
     "output_type": "execute_result"
    }
   ],
   "source": [
    "# Самая высокая стоимость одного квадратного мера по всем данным\n",
    "data.loc[data['price_square_meter'] == data['price_square_meter'].max()]"
   ]
  },
  {
   "cell_type": "markdown",
   "metadata": {},
   "source": [
    "Мы видим, что и в целом по всем данным самая высокая стоимость квадратного метра составляет более 1,7 млн. руб. - для трехкомнатной квартиры в Санкт-Петербурге общей площадью 190 кв.м, расположенной в самом центре, судя по всему, в историческом семиэтажном здании на 5 этаже. Очевидно, эта квартира относится к категории эксклюзивной недвижимости и не является типичным продаваемым объектом недвижимости. "
   ]
  },
  {
   "cell_type": "code",
   "execution_count": 111,
   "metadata": {},
   "outputs": [
    {
     "data": {
      "text/html": [
       "<div>\n",
       "<style scoped>\n",
       "    .dataframe tbody tr th:only-of-type {\n",
       "        vertical-align: middle;\n",
       "    }\n",
       "\n",
       "    .dataframe tbody tr th {\n",
       "        vertical-align: top;\n",
       "    }\n",
       "\n",
       "    .dataframe thead th {\n",
       "        text-align: right;\n",
       "    }\n",
       "</style>\n",
       "<table border=\"1\" class=\"dataframe\">\n",
       "  <thead>\n",
       "    <tr style=\"text-align: right;\">\n",
       "      <th></th>\n",
       "      <th>total_images</th>\n",
       "      <th>last_price</th>\n",
       "      <th>total_area</th>\n",
       "      <th>first_day_exposition</th>\n",
       "      <th>rooms</th>\n",
       "      <th>ceiling_height</th>\n",
       "      <th>floors_total</th>\n",
       "      <th>living_area</th>\n",
       "      <th>floor</th>\n",
       "      <th>is_apartment</th>\n",
       "      <th>studio</th>\n",
       "      <th>open_plan</th>\n",
       "      <th>kitchen_area</th>\n",
       "      <th>balcony</th>\n",
       "      <th>locality_name</th>\n",
       "      <th>airports_nearest</th>\n",
       "      <th>city_centers_nearest</th>\n",
       "      <th>parks_around3000</th>\n",
       "      <th>parks_nearest</th>\n",
       "      <th>ponds_around3000</th>\n",
       "      <th>ponds_nearest</th>\n",
       "      <th>days_exposition</th>\n",
       "      <th>price_square_meter</th>\n",
       "      <th>exposition_weekday</th>\n",
       "      <th>exposition_month</th>\n",
       "      <th>exposition_year</th>\n",
       "      <th>floor_category</th>\n",
       "      <th>city_centers_nearest_km</th>\n",
       "    </tr>\n",
       "  </thead>\n",
       "  <tbody>\n",
       "    <tr>\n",
       "      <th>14911</th>\n",
       "      <td>5</td>\n",
       "      <td>430000.0</td>\n",
       "      <td>54.0</td>\n",
       "      <td>2018-06-26</td>\n",
       "      <td>2</td>\n",
       "      <td>2.65</td>\n",
       "      <td>3</td>\n",
       "      <td>28.4</td>\n",
       "      <td>3</td>\n",
       "      <td>False</td>\n",
       "      <td>False</td>\n",
       "      <td>False</td>\n",
       "      <td>8.6</td>\n",
       "      <td>0</td>\n",
       "      <td>посёлок станции Свирь</td>\n",
       "      <td>NaN</td>\n",
       "      <td>NaN</td>\n",
       "      <td>NaN</td>\n",
       "      <td>NaN</td>\n",
       "      <td>NaN</td>\n",
       "      <td>NaN</td>\n",
       "      <td>44.0</td>\n",
       "      <td>7962.96</td>\n",
       "      <td>1</td>\n",
       "      <td>6</td>\n",
       "      <td>2018</td>\n",
       "      <td>последний</td>\n",
       "      <td>NaN</td>\n",
       "    </tr>\n",
       "  </tbody>\n",
       "</table>\n",
       "</div>"
      ],
      "text/plain": [
       "       total_images  last_price  total_area first_day_exposition  rooms  \\\n",
       "14911             5    430000.0        54.0           2018-06-26      2   \n",
       "\n",
       "       ceiling_height  floors_total  living_area  floor  is_apartment  studio  \\\n",
       "14911            2.65             3         28.4      3         False   False   \n",
       "\n",
       "       open_plan  kitchen_area  balcony          locality_name  \\\n",
       "14911      False           8.6        0  посёлок станции Свирь   \n",
       "\n",
       "       airports_nearest  city_centers_nearest  parks_around3000  \\\n",
       "14911               NaN                   NaN               NaN   \n",
       "\n",
       "       parks_nearest  ponds_around3000  ponds_nearest  days_exposition  \\\n",
       "14911            NaN               NaN            NaN             44.0   \n",
       "\n",
       "       price_square_meter  exposition_weekday  exposition_month  \\\n",
       "14911             7962.96                   1                 6   \n",
       "\n",
       "       exposition_year floor_category  city_centers_nearest_km  \n",
       "14911             2018      последний                      NaN  "
      ]
     },
     "execution_count": 111,
     "metadata": {},
     "output_type": "execute_result"
    }
   ],
   "source": [
    "# Самая низкая стоимость одного квадратного мера по всем данным\n",
    "data.loc[data['price_square_meter'] == data['price_square_meter'].min()]"
   ]
  },
  {
   "cell_type": "markdown",
   "metadata": {},
   "source": [
    "Cамая же низкая стоимость квадратного метра составляет всего лишь около 8 тыс.руб. - это двухкомнатная квартира в поселке станции Свирь общей площадью 54 кв.м, находящаяся на 3 этаже трехэтажного дома. Поселок станции Свирь находится в 283 км от Санкт-Петербурга. После 2014 г. в нем проживали не более 50 человек. На станции Свирь находится одно жилое здание — 27-квартирный трёхэтажный кирпичный дом, построенный в 1989 году. Видимо, продаваемая квартира и расположена в этом здании. Данная информация полностью объясняет низкую стоимость одного квдратного метра этого объекта недвижимости."
   ]
  },
  {
   "cell_type": "markdown",
   "metadata": {},
   "source": [
    "### Часть 5. Выделить квартиры в Санкт-Петербурге и вычислить их среднюю стоимость для разного расстояния от центра, учитывая каждый километр расстояния. Описать, как стоимость объектов зависит от расстояния до центра города"
   ]
  },
  {
   "cell_type": "code",
   "execution_count": 112,
   "metadata": {},
   "outputs": [
    {
     "data": {
      "text/html": [
       "<div>\n",
       "<style scoped>\n",
       "    .dataframe tbody tr th:only-of-type {\n",
       "        vertical-align: middle;\n",
       "    }\n",
       "\n",
       "    .dataframe tbody tr th {\n",
       "        vertical-align: top;\n",
       "    }\n",
       "\n",
       "    .dataframe thead tr th {\n",
       "        text-align: left;\n",
       "    }\n",
       "\n",
       "    .dataframe thead tr:last-of-type th {\n",
       "        text-align: right;\n",
       "    }\n",
       "</style>\n",
       "<table border=\"1\" class=\"dataframe\">\n",
       "  <thead>\n",
       "    <tr>\n",
       "      <th></th>\n",
       "      <th>mean</th>\n",
       "    </tr>\n",
       "    <tr>\n",
       "      <th></th>\n",
       "      <th>last_price</th>\n",
       "    </tr>\n",
       "    <tr>\n",
       "      <th>city_centers_nearest_km</th>\n",
       "      <th></th>\n",
       "    </tr>\n",
       "  </thead>\n",
       "  <tbody>\n",
       "    <tr>\n",
       "      <th>0.0</th>\n",
       "      <td>31449115.85</td>\n",
       "    </tr>\n",
       "    <tr>\n",
       "      <th>1.0</th>\n",
       "      <td>21206720.83</td>\n",
       "    </tr>\n",
       "    <tr>\n",
       "      <th>2.0</th>\n",
       "      <td>17788319.61</td>\n",
       "    </tr>\n",
       "    <tr>\n",
       "      <th>3.0</th>\n",
       "      <td>11137394.69</td>\n",
       "    </tr>\n",
       "    <tr>\n",
       "      <th>4.0</th>\n",
       "      <td>12306169.06</td>\n",
       "    </tr>\n",
       "    <tr>\n",
       "      <th>5.0</th>\n",
       "      <td>14455995.62</td>\n",
       "    </tr>\n",
       "    <tr>\n",
       "      <th>6.0</th>\n",
       "      <td>15338418.39</td>\n",
       "    </tr>\n",
       "    <tr>\n",
       "      <th>7.0</th>\n",
       "      <td>14775152.59</td>\n",
       "    </tr>\n",
       "    <tr>\n",
       "      <th>8.0</th>\n",
       "      <td>9949111.38</td>\n",
       "    </tr>\n",
       "    <tr>\n",
       "      <th>9.0</th>\n",
       "      <td>6977188.40</td>\n",
       "    </tr>\n",
       "    <tr>\n",
       "      <th>10.0</th>\n",
       "      <td>6500434.16</td>\n",
       "    </tr>\n",
       "    <tr>\n",
       "      <th>11.0</th>\n",
       "      <td>6228107.86</td>\n",
       "    </tr>\n",
       "    <tr>\n",
       "      <th>12.0</th>\n",
       "      <td>6197925.96</td>\n",
       "    </tr>\n",
       "    <tr>\n",
       "      <th>13.0</th>\n",
       "      <td>6077642.60</td>\n",
       "    </tr>\n",
       "    <tr>\n",
       "      <th>14.0</th>\n",
       "      <td>5625172.80</td>\n",
       "    </tr>\n",
       "    <tr>\n",
       "      <th>15.0</th>\n",
       "      <td>5876322.99</td>\n",
       "    </tr>\n",
       "    <tr>\n",
       "      <th>16.0</th>\n",
       "      <td>5373130.56</td>\n",
       "    </tr>\n",
       "    <tr>\n",
       "      <th>17.0</th>\n",
       "      <td>5299495.92</td>\n",
       "    </tr>\n",
       "    <tr>\n",
       "      <th>18.0</th>\n",
       "      <td>5091331.32</td>\n",
       "    </tr>\n",
       "    <tr>\n",
       "      <th>19.0</th>\n",
       "      <td>5051410.03</td>\n",
       "    </tr>\n",
       "    <tr>\n",
       "      <th>20.0</th>\n",
       "      <td>5951464.84</td>\n",
       "    </tr>\n",
       "    <tr>\n",
       "      <th>21.0</th>\n",
       "      <td>5493469.37</td>\n",
       "    </tr>\n",
       "    <tr>\n",
       "      <th>22.0</th>\n",
       "      <td>5415524.28</td>\n",
       "    </tr>\n",
       "    <tr>\n",
       "      <th>23.0</th>\n",
       "      <td>4985376.47</td>\n",
       "    </tr>\n",
       "    <tr>\n",
       "      <th>24.0</th>\n",
       "      <td>3854429.62</td>\n",
       "    </tr>\n",
       "    <tr>\n",
       "      <th>25.0</th>\n",
       "      <td>4052839.92</td>\n",
       "    </tr>\n",
       "    <tr>\n",
       "      <th>26.0</th>\n",
       "      <td>4014287.05</td>\n",
       "    </tr>\n",
       "    <tr>\n",
       "      <th>27.0</th>\n",
       "      <td>8300000.00</td>\n",
       "    </tr>\n",
       "    <tr>\n",
       "      <th>28.0</th>\n",
       "      <td>5026428.57</td>\n",
       "    </tr>\n",
       "    <tr>\n",
       "      <th>29.0</th>\n",
       "      <td>4236666.67</td>\n",
       "    </tr>\n",
       "  </tbody>\n",
       "</table>\n",
       "</div>"
      ],
      "text/plain": [
       "                                mean\n",
       "                          last_price\n",
       "city_centers_nearest_km             \n",
       "0.0                      31449115.85\n",
       "1.0                      21206720.83\n",
       "2.0                      17788319.61\n",
       "3.0                      11137394.69\n",
       "4.0                      12306169.06\n",
       "5.0                      14455995.62\n",
       "6.0                      15338418.39\n",
       "7.0                      14775152.59\n",
       "8.0                       9949111.38\n",
       "9.0                       6977188.40\n",
       "10.0                      6500434.16\n",
       "11.0                      6228107.86\n",
       "12.0                      6197925.96\n",
       "13.0                      6077642.60\n",
       "14.0                      5625172.80\n",
       "15.0                      5876322.99\n",
       "16.0                      5373130.56\n",
       "17.0                      5299495.92\n",
       "18.0                      5091331.32\n",
       "19.0                      5051410.03\n",
       "20.0                      5951464.84\n",
       "21.0                      5493469.37\n",
       "22.0                      5415524.28\n",
       "23.0                      4985376.47\n",
       "24.0                      3854429.62\n",
       "25.0                      4052839.92\n",
       "26.0                      4014287.05\n",
       "27.0                      8300000.00\n",
       "28.0                      5026428.57\n",
       "29.0                      4236666.67"
      ]
     },
     "execution_count": 112,
     "metadata": {},
     "output_type": "execute_result"
    }
   ],
   "source": [
    "data.loc[data['locality_name']=='Санкт-Петербург'] \\\n",
    ".pivot_table(index='city_centers_nearest_km', values='last_price', aggfunc=['mean']).round(2)\n"
   ]
  },
  {
   "cell_type": "code",
   "execution_count": 113,
   "metadata": {},
   "outputs": [
    {
     "data": {
      "image/png": "[encoded data removed]",
      "text/plain": [
       "<Figure size 648x504 with 1 Axes>"
      ]
     },
     "metadata": {
      "needs_background": "light"
     },
     "output_type": "display_data"
    }
   ],
   "source": [
    "data.loc[data['locality_name']=='Санкт-Петербург'] \\\n",
    ".pivot_table(index='city_centers_nearest_km', values='last_price', aggfunc=['mean']).round(0) \\\n",
    ".plot(marker='o', grid=True, figsize=(9, 7), legend=False )\n",
    "\n",
    "plt.title('Средняя стоимость квартир в Санкт-Петербурге на разном удалении от центра')\n",
    "plt.xlabel('Расстояние до центра, км')\n",
    "plt.ylabel('Средняя цена, 10 млн.руб.')\n",
    "plt.show()"
   ]
  },
  {
   "cell_type": "markdown",
   "metadata": {},
   "source": [
    "Основываясь на графике можно сказать, что в целом наблюдается отрицательная корелляция между расстоянием до центра Санкт-Петербурга и ценой квартиры, то есть чем больше расстояние до центра города, тем ниже цена. В районе значения около 27 км от центра вознникает своего рода пик. Посмотрим, какие там объекты."
   ]
  },
  {
   "cell_type": "code",
   "execution_count": 114,
   "metadata": {},
   "outputs": [
    {
     "data": {
      "text/html": [
       "<div>\n",
       "<style scoped>\n",
       "    .dataframe tbody tr th:only-of-type {\n",
       "        vertical-align: middle;\n",
       "    }\n",
       "\n",
       "    .dataframe tbody tr th {\n",
       "        vertical-align: top;\n",
       "    }\n",
       "\n",
       "    .dataframe thead th {\n",
       "        text-align: right;\n",
       "    }\n",
       "</style>\n",
       "<table border=\"1\" class=\"dataframe\">\n",
       "  <thead>\n",
       "    <tr style=\"text-align: right;\">\n",
       "      <th></th>\n",
       "      <th>total_images</th>\n",
       "      <th>last_price</th>\n",
       "      <th>total_area</th>\n",
       "      <th>first_day_exposition</th>\n",
       "      <th>rooms</th>\n",
       "      <th>ceiling_height</th>\n",
       "      <th>floors_total</th>\n",
       "      <th>living_area</th>\n",
       "      <th>floor</th>\n",
       "      <th>is_apartment</th>\n",
       "      <th>studio</th>\n",
       "      <th>open_plan</th>\n",
       "      <th>kitchen_area</th>\n",
       "      <th>balcony</th>\n",
       "      <th>locality_name</th>\n",
       "      <th>airports_nearest</th>\n",
       "      <th>city_centers_nearest</th>\n",
       "      <th>parks_around3000</th>\n",
       "      <th>parks_nearest</th>\n",
       "      <th>ponds_around3000</th>\n",
       "      <th>ponds_nearest</th>\n",
       "      <th>days_exposition</th>\n",
       "      <th>price_square_meter</th>\n",
       "      <th>exposition_weekday</th>\n",
       "      <th>exposition_month</th>\n",
       "      <th>exposition_year</th>\n",
       "      <th>floor_category</th>\n",
       "      <th>city_centers_nearest_km</th>\n",
       "    </tr>\n",
       "  </thead>\n",
       "  <tbody>\n",
       "    <tr>\n",
       "      <th>748</th>\n",
       "      <td>13</td>\n",
       "      <td>14350000.0</td>\n",
       "      <td>74.0</td>\n",
       "      <td>2017-11-28</td>\n",
       "      <td>2</td>\n",
       "      <td>3.13</td>\n",
       "      <td>5</td>\n",
       "      <td>30.0</td>\n",
       "      <td>3</td>\n",
       "      <td>False</td>\n",
       "      <td>False</td>\n",
       "      <td>False</td>\n",
       "      <td>25.0</td>\n",
       "      <td>0</td>\n",
       "      <td>Санкт-Петербург</td>\n",
       "      <td>23888.0</td>\n",
       "      <td>27313.0</td>\n",
       "      <td>1.0</td>\n",
       "      <td>1496.0</td>\n",
       "      <td>0.0</td>\n",
       "      <td>NaN</td>\n",
       "      <td>128.0</td>\n",
       "      <td>193918.92</td>\n",
       "      <td>1</td>\n",
       "      <td>11</td>\n",
       "      <td>2017</td>\n",
       "      <td>другой</td>\n",
       "      <td>27.0</td>\n",
       "    </tr>\n",
       "    <tr>\n",
       "      <th>5961</th>\n",
       "      <td>6</td>\n",
       "      <td>2250000.0</td>\n",
       "      <td>32.0</td>\n",
       "      <td>2018-02-27</td>\n",
       "      <td>1</td>\n",
       "      <td>3.00</td>\n",
       "      <td>2</td>\n",
       "      <td>16.5</td>\n",
       "      <td>2</td>\n",
       "      <td>False</td>\n",
       "      <td>False</td>\n",
       "      <td>False</td>\n",
       "      <td>7.0</td>\n",
       "      <td>0</td>\n",
       "      <td>Санкт-Петербург</td>\n",
       "      <td>24006.0</td>\n",
       "      <td>27431.0</td>\n",
       "      <td>0.0</td>\n",
       "      <td>NaN</td>\n",
       "      <td>0.0</td>\n",
       "      <td>NaN</td>\n",
       "      <td>178.0</td>\n",
       "      <td>70312.50</td>\n",
       "      <td>1</td>\n",
       "      <td>2</td>\n",
       "      <td>2018</td>\n",
       "      <td>последний</td>\n",
       "      <td>27.0</td>\n",
       "    </tr>\n",
       "  </tbody>\n",
       "</table>\n",
       "</div>"
      ],
      "text/plain": [
       "      total_images  last_price  total_area first_day_exposition  rooms  \\\n",
       "748             13  14350000.0        74.0           2017-11-28      2   \n",
       "5961             6   2250000.0        32.0           2018-02-27      1   \n",
       "\n",
       "      ceiling_height  floors_total  living_area  floor  is_apartment  studio  \\\n",
       "748             3.13             5         30.0      3         False   False   \n",
       "5961            3.00             2         16.5      2         False   False   \n",
       "\n",
       "      open_plan  kitchen_area  balcony    locality_name  airports_nearest  \\\n",
       "748       False          25.0        0  Санкт-Петербург           23888.0   \n",
       "5961      False           7.0        0  Санкт-Петербург           24006.0   \n",
       "\n",
       "      city_centers_nearest  parks_around3000  parks_nearest  ponds_around3000  \\\n",
       "748                27313.0               1.0         1496.0               0.0   \n",
       "5961               27431.0               0.0            NaN               0.0   \n",
       "\n",
       "      ponds_nearest  days_exposition  price_square_meter  exposition_weekday  \\\n",
       "748             NaN            128.0           193918.92                   1   \n",
       "5961            NaN            178.0            70312.50                   1   \n",
       "\n",
       "      exposition_month  exposition_year floor_category  \\\n",
       "748                 11             2017         другой   \n",
       "5961                 2             2018      последний   \n",
       "\n",
       "      city_centers_nearest_km  \n",
       "748                      27.0  \n",
       "5961                     27.0  "
      ]
     },
     "execution_count": 114,
     "metadata": {},
     "output_type": "execute_result"
    }
   ],
   "source": [
    "data.query('locality_name == \"Санкт-Петербург\" and city_centers_nearest_km == 27')"
   ]
  },
  {
   "cell_type": "markdown",
   "metadata": {},
   "source": [
    "Видим, что одна из квартир имеет стоимость более 14 млн руб. Квартира с высокими потолками. Возможно, это квартира повышенного качества, бизнес класса. Данный всплеск не оказывает существенного влияния на общую тенденцию, заключающуюся, как уже говорилось, в том, что чем дальше от центр, тем ниже средняя цена квартир."
   ]
  },
  {
   "cell_type": "markdown",
   "metadata": {},
   "source": [
    "<div class=\"alert alert-block alert-success\">\n",
    "\n",
    "**Комментарий ревьювера (все отлично)**\n",
    "    \n",
    "Молодец, что объяснила пик на 27 км – согласен с комментарием👍\n",
    "</div>"
   ]
  },
  {
   "cell_type": "markdown",
   "metadata": {
    "id": "h7VpzkIDAwb-"
   },
   "source": [
    "## 5. Общий вывод"
   ]
  },
  {
   "cell_type": "markdown",
   "metadata": {},
   "source": [
    "Целью исследования было определить факторы, которые влияют на формирование рыночной цены квартир.\n",
    "\n",
    "В процессе исследования были рассмотрены и изучены представленные данные:\n",
    "изучены и изменены, где было необходимо, типы данных;\n",
    "выявлены и обработаны пропуски данных;\n",
    "выявлены и обработаны дубликаты;\n",
    "проверены и обработаны аномальные значения.\n",
    "\n",
    "Затем в таблицу были добавлены дополнительные столбцы со следующими параметрами:\n",
    "цена одного квадратного метра;\n",
    "день недели публикации объявления (0 — понедельник, 1 — вторник и так далее);\n",
    "месяц публикации объявления;\n",
    "год публикации объявления;\n",
    "тип этажа квартиры (значения — «первый», «последний», «другой»);\n",
    "расстояние до центра города в километрах (перевести из м в км и округлить до целых значений).\n",
    "\n",
    "\n",
    "Далее был проведен непосредственно исследовательский анализ данных.\n",
    "\n",
    "По итогам проведенного исследования можно сделать следуюшие выводы: \n",
    "\n",
    "- Анализ имеющихся параметров объектов  показал, что большую часть представленных на рынке в Санкт-Петербурге и Ленобласти в исследуемый период (2014 - 2019 гг.) объектов недвижимости составляли одно- и двухкомнатные квартиры, расположенные в 5-ти или 9-ти этажных домах, находящиеся на этаже со 2-го до предпоследнего, общей площадью от 30 до 65 м², при этом самый распространенный вариант - общая площадь около 45 м², имеющих цену в диапазоне от 3 до 6 млн. рублей, расположенные в 13 - 15 км от центра.\n",
    "\n",
    "- Среднее количество времени, котоое занимает продажа квартиры, составляет 181 день, при этом медианное значение составляет 95 дней, т.е., половина всех квартир продаются в течение 95 дней. Среднее значение практически в 2 раза больше медианного. Стандартное отклонение превышает среднее значение, что говорит о большом разбросе значений. В связи с этим был более подробно изучен диапазон до 100 дней и сделан вывод, что чаще всего в этом диапазоне квартиры продаются за 45 и 60 дней. Исходя из полученного, быстрыми можно считать продажи, произведенные менее, чем за 45 дней. Продажи, состоявшиеся за 45 - 231 дней будем считать обычными, а свыше 231 - долгими.\n",
    "\n",
    "- Определены факторы, которые больше всего влияют на общую (полную) стоимость объекта:\n",
    "\n",
    "  - самое значительное влияние на цену квартир оказывают параметры площади: общей, жилой, кухни; из которых общая площадь является наиболее существенно влияющим параметром - чем больше общая площадь, тем выше стоимость. Корреляция этих параметров  высокая.\n",
    "  - количество комнат также влияет на цену. Коэффициент корреляции 0.39 указывает на положительную линейную зависимость (больше комнат - больше жилая площадь - выше цена), однако для данного параметра (в отличие от предыдущих) ее можно оценить как умеренную, и даже ближе к слабой. \n",
    "  - помимо этого прослеживается некоторая взаимосвязь цены квартиры и типа этажа: квартиры, раположенные на первом этаже, оцениваются дешевле. Затем располагаются квартиры на последних этажах, и самые высокие цены - на квартиры, расположенные на других этажах (отличных от первого и последнего).\n",
    "  - также следует учитывать год публикации объявления как один из объективных факторов, влияющих на стоимость объекта недвижимости, поскольку ситуация на рынке недвижимости  меняется от года к году и зависит от множества взаимосвязанных факторов, что в конечном итоге отражается и на ценах квартир.\n",
    "\n",
    "- Посчитана средняя цена одного квадратного метра в 10 населённых пунктах с наибольшим числом объявлений\n",
    "  - Наибольшая средняя стоимость квадратного метра, как и предполагалось, в Санкт-Петербурге. Самая низкая средняя стоимость квадратного метра была в изучаемый период в Выборге. \n",
    "   В ТОП-10 по числу объявлений самая высокая фактическая стоимость квадратного метра - в Санкт-Петербурге, и она составляет более 1,7 млн. руб. за 1 кв.м.  Что касается населенного пункта с самой низкой ценой одного квадратного метра среди ТОП-10 населенных пунктов по числу объявлений, то это Гатчина - 10507 руб. за кв. м.\n",
    "   В целом же по всем данным самая высокая стоимость квадратного метра, как и в ТОП-10, составляет более 1,7 млн. руб. - для трехкомнатной квартиры в Санкт-Петербурге общей площадью 190 кв.м, расположенной в самом центре, судя по всему, в историческом семиэтажном здании на 5 этаже. Очевидно, эта квартира относится к категории эксклюзивной недвижимости и не является типичным продаваемым объектом недвижимости. \n",
    "   Cамая низкая стоимость квадратного метра составляет всего лишь около 8 тыс.руб. - это двухкомнатная квартира в поселке станции Свирь общей площадью 54 кв.м, находящаяся на 3 этаже трехэтажного дома. Поселок станции Свирь находится в 283 км от Санкт-Петербурга. После 2014 г. в нем проживали не более 50 человек. На станции Свирь находится одно жилое здание — 27-квартирный трёхэтажный кирпичный дом, построенный в 1989 году. Видимо, продаваемая квартира и расположена в этом здании. Данная информация полностью объясняет низкую стоимость одного квдратного метра этого объекта недвижимости.\n",
    "\n",
    "- Была выявлена отрицательная зависимость цены квартиры от расстояния до центра Санкт-Петербурга: исследование показало, что в целом чем больше расстояние от центра города, тем меньше цена. \n",
    "\n",
    "Для получения еще более полной картины о факторах, влияющих на формирование рыночных цен на квартиры, можно порекомендовать исследовать также влияние таких параметров, как: наличие и доступность объектов инфраструктуры (медицинские учреждения, школы, детские сады, учебные заведения, магазины), транспортная доступность."
   ]
  },
  {
   "cell_type": "markdown",
   "metadata": {},
   "source": [
    "<div class=\"alert alert-block alert-success\">\n",
    "\n",
    "**Комментарий ревьювера (все отлично)**\n",
    "    \n",
    "Все основные результаты исследования отражены👍\n",
    "\n",
    "</div>"
   ]
  },
  {
   "cell_type": "markdown",
   "metadata": {},
   "source": [
    "<div class=\"alert alert-block alert-success\">\n",
    "\n",
    "**Общий комментарий ревьювера**\n",
    "    \n",
    "Ирина, мне понравилась твоя работа! Выводы по задачам хорошо структурированы и достаточно содержательны. Спасибо за четкие комментарии по результатам исследования и аккуратный код, это упростило проверку. Очень грамотная работа в исследовательском блоке👍\n",
    "    \n",
    "    \n",
    "Критических недочётов нет! Проект принят, поздравляю! \n",
    "    \n",
    "В работе есть несколько рекомендаций, которые помогут тебе с будущими проектами.\n",
    "\n",
    "\n",
    "</div>\n"
   ]
  },
  {
   "cell_type": "markdown",
   "metadata": {
    "id": "3H4lnp_KAwb-"
   },
   "source": []
  },
  {
   "cell_type": "markdown",
   "metadata": {
    "id": "A90mc0BgAwb-"
   },
   "source": [
    "**Чек-лист готовности проекта**\n",
    "\n",
    "Поставьте 'x' в выполненных пунктах. Далее нажмите Shift+Enter."
   ]
  },
  {
   "cell_type": "markdown",
   "metadata": {
    "id": "ME3sTWm6Awb-"
   },
   "source": [
    "- [x]  Файл с данными открыт.\n",
    "- [x]  Файл с данными изучен: выведены первые строки, использован метод `info()`, построены гистограммы.\n",
    "- [x]  Найдены пропущенные значения.\n",
    "- [x]  Пропущенные значения заполнены там, где это возможно.\n",
    "- [x]  Объяснено, какие пропущенные значения обнаружены.\n",
    "- [x]  В каждом столбце установлен корректный тип данных.\n",
    "- [x]  Объяснено, в каких столбцах изменён тип данных и почему.\n",
    "- [x]  Устранены неявные дубликаты в названиях населённых пунктов.\n",
    "- [x]  Обработаны редкие и выбивающиеся значения (аномалии).\n",
    "- [x]  В таблицу добавлены новые параметры:\n",
    "       – цена одного квадратного метра;\n",
    "       – день публикации объявления (0 - понедельник, 1 - вторник и т. д.);\n",
    "       – месяц публикации объявления;\n",
    "       – год публикации объявления;\n",
    "       – тип этажа квартиры (значения — «первый», «последний», «другой»);\n",
    "       – расстояние до центра города в километрах.\n",
    "- [x]  Изучены и описаны параметры:\n",
    "        - общая площадь;\n",
    "        - жилая площадь;\n",
    "        - площадь кухни;\n",
    "        - цена объекта;\n",
    "        - количество комнат;\n",
    "        - высота потолков;\n",
    "        - тип этажа квартиры («первый», «последний», «другой»);\n",
    "        - общее количество этажей в доме;\n",
    "        - расстояние до центра города в метрах;\n",
    "        - расстояние до ближайшего парка.\n",
    "- [x]  Выполнено задание «Изучите, как быстро продавались квартиры (столбец `days_exposition`)»:\n",
    "    - построена гистограмма;\n",
    "    - рассчитаны среднее и медиана;\n",
    "    - описано, сколько обычно занимает продажа и указано, какие продажи можно считать быстрыми, а какие — необычно долгими.\n",
    "- [x]  Выполнено задание «Определите факторы, которые больше всего влияют на общую (полную) стоимость объекта». Построены графики, которые показывают зависимость цены от параметров:\n",
    "        - общая площадь;\n",
    "        - жилая площадь;\n",
    "        - площадь кухни;\n",
    "        - количество комнат;\n",
    "        - тип этажа, на котором расположена квартира (первый, последний, другой);\n",
    "        - дата размещения (день недели, месяц, год).\n",
    "- [x]  Выполнено задание «Посчитайте среднюю цену одного квадратного метра в 10 населённых пунктах с наибольшим числом объявлений»:\n",
    "    - выделены населённые пункты с самой высокой и низкой стоимостью квадратного метра.\n",
    "- [x]  Выполнено задание «Выделите квартиры в Санкт-Петербурге с помощью столбца `locality_name` и вычислите их среднюю стоимость на разном удалении от центра»:\n",
    "    -  учтён каждый километр расстояния, известны средние цены квартир в одном километре от центра, в двух и так далее;\n",
    "    -  описано, как стоимость объекта зависит от расстояния до центра города;\n",
    "    -  построен график изменения средней цены для каждого километра от центра Петербурга.\n",
    "- [x]  На каждом этапе сделаны промежуточные выводы.\n",
    "- [x]  В конце проекта сделан общий вывод."
   ]
  },
  {
   "cell_type": "code",
   "execution_count": null,
   "metadata": {},
   "outputs": [],
   "source": []
  }
 ],
 "metadata": {
  "ExecuteTimeLog": [
   {
    "duration": 483,
    "start_time": "2025-03-06T09:17:34.961Z"
   },
   {
    "duration": 137,
    "start_time": "2025-03-06T09:22:27.002Z"
   },
   {
    "duration": 80,
    "start_time": "2025-03-06T09:22:36.385Z"
   },
   {
    "duration": 84,
    "start_time": "2025-03-06T09:24:32.943Z"
   },
   {
    "duration": 79,
    "start_time": "2025-03-06T09:24:43.530Z"
   },
   {
    "duration": 118,
    "start_time": "2025-03-06T09:25:04.413Z"
   },
   {
    "duration": 490,
    "start_time": "2025-03-06T09:27:42.957Z"
   },
   {
    "duration": 103,
    "start_time": "2025-03-06T09:28:00.758Z"
   },
   {
    "duration": 124,
    "start_time": "2025-03-06T09:36:09.629Z"
   },
   {
    "duration": 3,
    "start_time": "2025-03-06T09:50:24.523Z"
   },
   {
    "duration": 83,
    "start_time": "2025-03-06T09:50:34.605Z"
   },
   {
    "duration": 89,
    "start_time": "2025-03-06T09:50:55.797Z"
   },
   {
    "duration": 81,
    "start_time": "2025-03-06T09:51:06.299Z"
   },
   {
    "duration": 101,
    "start_time": "2025-03-06T09:52:21.996Z"
   },
   {
    "duration": 88,
    "start_time": "2025-03-06T09:52:31.090Z"
   },
   {
    "duration": 98,
    "start_time": "2025-03-06T09:53:51.235Z"
   },
   {
    "duration": 4,
    "start_time": "2025-03-06T09:54:13.989Z"
   },
   {
    "duration": 119,
    "start_time": "2025-03-06T09:54:18.586Z"
   },
   {
    "duration": 108,
    "start_time": "2025-03-06T09:54:54.704Z"
   },
   {
    "duration": 100,
    "start_time": "2025-03-06T09:55:25.920Z"
   },
   {
    "duration": 2,
    "start_time": "2025-03-06T09:58:05.866Z"
   },
   {
    "duration": 99,
    "start_time": "2025-03-06T09:58:09.278Z"
   },
   {
    "duration": 15,
    "start_time": "2025-03-06T10:06:02.076Z"
   },
   {
    "duration": 7,
    "start_time": "2025-03-06T10:45:35.345Z"
   },
   {
    "duration": 1887,
    "start_time": "2025-03-06T10:45:50.133Z"
   },
   {
    "duration": 1793,
    "start_time": "2025-03-06T18:10:49.439Z"
   },
   {
    "duration": 5,
    "start_time": "2025-03-07T11:08:08.399Z"
   },
   {
    "duration": 2,
    "start_time": "2025-03-07T11:09:20.015Z"
   },
   {
    "duration": 104,
    "start_time": "2025-03-07T11:09:30.481Z"
   },
   {
    "duration": 14,
    "start_time": "2025-03-07T11:09:39.100Z"
   },
   {
    "duration": 1954,
    "start_time": "2025-03-07T11:09:43.715Z"
   },
   {
    "duration": 5,
    "start_time": "2025-03-07T11:09:47.421Z"
   },
   {
    "duration": 5,
    "start_time": "2025-03-07T11:10:02.425Z"
   },
   {
    "duration": 6,
    "start_time": "2025-03-07T11:10:58.286Z"
   },
   {
    "duration": 10,
    "start_time": "2025-03-07T11:17:12.994Z"
   },
   {
    "duration": 9,
    "start_time": "2025-03-07T18:11:28.433Z"
   },
   {
    "duration": 12,
    "start_time": "2025-03-07T21:28:11.628Z"
   },
   {
    "duration": 9,
    "start_time": "2025-03-07T21:28:25.682Z"
   },
   {
    "duration": 11,
    "start_time": "2025-03-07T21:28:56.939Z"
   },
   {
    "duration": 10,
    "start_time": "2025-03-07T21:31:28.126Z"
   },
   {
    "duration": 46,
    "start_time": "2025-03-07T21:33:14.757Z"
   },
   {
    "duration": 56,
    "start_time": "2025-03-07T21:38:03.416Z"
   },
   {
    "duration": 10,
    "start_time": "2025-03-07T21:41:42.337Z"
   },
   {
    "duration": 13,
    "start_time": "2025-03-07T21:43:36.135Z"
   },
   {
    "duration": 17,
    "start_time": "2025-03-07T21:44:52.943Z"
   },
   {
    "duration": 21,
    "start_time": "2025-03-07T22:06:54.540Z"
   },
   {
    "duration": 12,
    "start_time": "2025-03-07T22:26:46.792Z"
   },
   {
    "duration": 33,
    "start_time": "2025-03-07T22:39:47.423Z"
   },
   {
    "duration": 10,
    "start_time": "2025-03-07T22:40:05.141Z"
   },
   {
    "duration": 34,
    "start_time": "2025-03-07T22:40:49.140Z"
   },
   {
    "duration": 1170,
    "start_time": "2025-03-07T22:59:37.940Z"
   },
   {
    "duration": 11,
    "start_time": "2025-03-07T23:00:02.416Z"
   },
   {
    "duration": 36,
    "start_time": "2025-03-07T23:00:50.971Z"
   },
   {
    "duration": 14,
    "start_time": "2025-03-07T23:02:29.262Z"
   },
   {
    "duration": 17,
    "start_time": "2025-03-07T23:03:12.916Z"
   },
   {
    "duration": 42,
    "start_time": "2025-03-07T23:03:36.099Z"
   },
   {
    "duration": 10,
    "start_time": "2025-03-07T23:15:19.713Z"
   },
   {
    "duration": 11,
    "start_time": "2025-03-07T23:16:45.413Z"
   },
   {
    "duration": 12,
    "start_time": "2025-03-07T23:19:40.213Z"
   },
   {
    "duration": 14,
    "start_time": "2025-03-07T23:20:10.482Z"
   },
   {
    "duration": 9,
    "start_time": "2025-03-07T23:20:33.231Z"
   },
   {
    "duration": 7,
    "start_time": "2025-03-07T23:29:17.316Z"
   },
   {
    "duration": 9,
    "start_time": "2025-03-10T09:48:12.897Z"
   },
   {
    "duration": 87,
    "start_time": "2025-03-10T09:53:29.802Z"
   },
   {
    "duration": 80,
    "start_time": "2025-03-10T09:53:58.372Z"
   },
   {
    "duration": 7,
    "start_time": "2025-03-10T09:54:23.326Z"
   },
   {
    "duration": 84,
    "start_time": "2025-03-10T09:55:05.928Z"
   },
   {
    "duration": 83,
    "start_time": "2025-03-10T09:56:14.391Z"
   },
   {
    "duration": 106,
    "start_time": "2025-03-10T09:56:27.337Z"
   },
   {
    "duration": 157,
    "start_time": "2025-03-10T09:57:22.921Z"
   },
   {
    "duration": 104,
    "start_time": "2025-03-10T09:58:03.506Z"
   },
   {
    "duration": 4,
    "start_time": "2025-03-10T09:58:30.374Z"
   },
   {
    "duration": 5,
    "start_time": "2025-03-10T09:58:39.529Z"
   },
   {
    "duration": 8,
    "start_time": "2025-03-10T09:59:03.651Z"
   },
   {
    "duration": 7,
    "start_time": "2025-03-10T10:04:43.949Z"
   },
   {
    "duration": 4,
    "start_time": "2025-03-10T10:08:53.479Z"
   },
   {
    "duration": 4,
    "start_time": "2025-03-10T10:09:08.963Z"
   },
   {
    "duration": 76,
    "start_time": "2025-03-10T10:09:47.513Z"
   },
   {
    "duration": 83,
    "start_time": "2025-03-10T10:10:04.863Z"
   },
   {
    "duration": 87,
    "start_time": "2025-03-10T10:10:25.282Z"
   },
   {
    "duration": 11,
    "start_time": "2025-03-10T10:10:50.687Z"
   },
   {
    "duration": 14,
    "start_time": "2025-03-10T10:12:56.892Z"
   },
   {
    "duration": 12,
    "start_time": "2025-03-10T10:13:58.345Z"
   },
   {
    "duration": 19,
    "start_time": "2025-03-10T10:16:55.106Z"
   },
   {
    "duration": 10,
    "start_time": "2025-03-10T10:18:03.807Z"
   },
   {
    "duration": 10,
    "start_time": "2025-03-10T10:19:13.223Z"
   },
   {
    "duration": 10,
    "start_time": "2025-03-10T10:21:48.533Z"
   },
   {
    "duration": 8,
    "start_time": "2025-03-10T10:21:58.262Z"
   },
   {
    "duration": 8,
    "start_time": "2025-03-10T10:24:58.013Z"
   },
   {
    "duration": 10,
    "start_time": "2025-03-10T10:25:08.112Z"
   },
   {
    "duration": 4,
    "start_time": "2025-03-10T10:30:57.731Z"
   },
   {
    "duration": 104,
    "start_time": "2025-03-10T10:31:58.144Z"
   },
   {
    "duration": 7,
    "start_time": "2025-03-10T10:32:11.409Z"
   },
   {
    "duration": 6,
    "start_time": "2025-03-10T10:32:30.980Z"
   },
   {
    "duration": 7,
    "start_time": "2025-03-10T10:33:53.338Z"
   },
   {
    "duration": 6,
    "start_time": "2025-03-10T10:37:31.840Z"
   },
   {
    "duration": 10,
    "start_time": "2025-03-10T10:37:54.890Z"
   },
   {
    "duration": 12,
    "start_time": "2025-03-10T10:43:17.076Z"
   },
   {
    "duration": 10,
    "start_time": "2025-03-10T10:43:33.786Z"
   },
   {
    "duration": 16,
    "start_time": "2025-03-10T10:59:12.846Z"
   },
   {
    "duration": 9,
    "start_time": "2025-03-10T10:59:22.223Z"
   },
   {
    "duration": 7,
    "start_time": "2025-03-10T11:00:59.955Z"
   },
   {
    "duration": 16,
    "start_time": "2025-03-10T11:06:06.831Z"
   },
   {
    "duration": 13,
    "start_time": "2025-03-10T11:06:36.347Z"
   },
   {
    "duration": 81,
    "start_time": "2025-03-10T11:07:00.944Z"
   },
   {
    "duration": 6,
    "start_time": "2025-03-10T11:07:07.343Z"
   },
   {
    "duration": 10,
    "start_time": "2025-03-10T11:07:25.296Z"
   },
   {
    "duration": 2,
    "start_time": "2025-03-10T11:08:07.741Z"
   },
   {
    "duration": 9,
    "start_time": "2025-03-10T11:08:22.332Z"
   },
   {
    "duration": 9,
    "start_time": "2025-03-10T11:08:48.571Z"
   },
   {
    "duration": 3,
    "start_time": "2025-03-10T11:09:05.973Z"
   },
   {
    "duration": 111,
    "start_time": "2025-03-10T11:09:09.124Z"
   },
   {
    "duration": 14,
    "start_time": "2025-03-10T11:09:22.712Z"
   },
   {
    "duration": 1745,
    "start_time": "2025-03-10T11:09:31.498Z"
   },
   {
    "duration": 5,
    "start_time": "2025-03-10T11:09:45.103Z"
   },
   {
    "duration": 10,
    "start_time": "2025-03-10T11:09:50.459Z"
   },
   {
    "duration": 11,
    "start_time": "2025-03-10T11:09:59.909Z"
   },
   {
    "duration": 8,
    "start_time": "2025-03-10T11:10:04.471Z"
   },
   {
    "duration": 13,
    "start_time": "2025-03-10T11:10:11.802Z"
   },
   {
    "duration": 9,
    "start_time": "2025-03-10T11:10:20.815Z"
   },
   {
    "duration": 10,
    "start_time": "2025-03-10T11:11:18.020Z"
   },
   {
    "duration": 7,
    "start_time": "2025-03-10T11:11:54.449Z"
   },
   {
    "duration": 8,
    "start_time": "2025-03-10T11:13:06.498Z"
   },
   {
    "duration": 7,
    "start_time": "2025-03-10T11:17:14.185Z"
   },
   {
    "duration": 6,
    "start_time": "2025-03-10T11:19:06.304Z"
   },
   {
    "duration": 7,
    "start_time": "2025-03-10T11:19:25.372Z"
   },
   {
    "duration": 15,
    "start_time": "2025-03-10T11:26:04.852Z"
   },
   {
    "duration": 314,
    "start_time": "2025-03-10T11:27:39.108Z"
   },
   {
    "duration": 15503,
    "start_time": "2025-03-10T11:29:05.367Z"
   },
   {
    "duration": 0,
    "start_time": "2025-03-10T11:29:46.450Z"
   },
   {
    "duration": 0,
    "start_time": "2025-03-10T11:30:24.788Z"
   },
   {
    "duration": 8,
    "start_time": "2025-03-10T11:30:38.412Z"
   },
   {
    "duration": 0,
    "start_time": "2025-03-10T11:30:58.814Z"
   },
   {
    "duration": 7,
    "start_time": "2025-03-10T11:31:10.897Z"
   },
   {
    "duration": 0,
    "start_time": "2025-03-10T11:31:40.382Z"
   },
   {
    "duration": 7,
    "start_time": "2025-03-10T11:31:42.258Z"
   },
   {
    "duration": 15392,
    "start_time": "2025-03-10T11:33:08.879Z"
   },
   {
    "duration": 15131,
    "start_time": "2025-03-10T11:33:43.444Z"
   },
   {
    "duration": 20,
    "start_time": "2025-03-10T12:03:09.044Z"
   },
   {
    "duration": 12,
    "start_time": "2025-03-10T12:03:22.565Z"
   },
   {
    "duration": 11,
    "start_time": "2025-03-10T12:03:42.316Z"
   },
   {
    "duration": 19,
    "start_time": "2025-03-10T12:07:22.400Z"
   },
   {
    "duration": 107,
    "start_time": "2025-03-10T12:07:38.686Z"
   },
   {
    "duration": 10,
    "start_time": "2025-03-10T12:08:15.454Z"
   },
   {
    "duration": 434,
    "start_time": "2025-03-10T12:10:10.865Z"
   },
   {
    "duration": 12,
    "start_time": "2025-03-10T12:18:04.493Z"
   },
   {
    "duration": 20,
    "start_time": "2025-03-10T12:18:15.795Z"
   },
   {
    "duration": 6,
    "start_time": "2025-03-10T12:20:40.628Z"
   },
   {
    "duration": 13,
    "start_time": "2025-03-10T12:20:54.704Z"
   },
   {
    "duration": 6,
    "start_time": "2025-03-10T12:23:11.228Z"
   },
   {
    "duration": 5,
    "start_time": "2025-03-10T12:23:31.133Z"
   },
   {
    "duration": 5,
    "start_time": "2025-03-10T12:23:40.937Z"
   },
   {
    "duration": 7,
    "start_time": "2025-03-10T12:25:02.593Z"
   },
   {
    "duration": 8,
    "start_time": "2025-03-10T12:28:23.744Z"
   },
   {
    "duration": 6,
    "start_time": "2025-03-10T12:28:36.777Z"
   },
   {
    "duration": 22,
    "start_time": "2025-03-10T12:37:01.808Z"
   },
   {
    "duration": 6,
    "start_time": "2025-03-10T12:38:39.918Z"
   },
   {
    "duration": 6,
    "start_time": "2025-03-10T12:38:54.740Z"
   },
   {
    "duration": 5,
    "start_time": "2025-03-10T12:39:31.851Z"
   },
   {
    "duration": 7,
    "start_time": "2025-03-10T12:40:42.122Z"
   },
   {
    "duration": 6,
    "start_time": "2025-03-10T12:40:49.904Z"
   },
   {
    "duration": 115,
    "start_time": "2025-03-10T12:41:16.381Z"
   },
   {
    "duration": 8,
    "start_time": "2025-03-10T12:41:36.242Z"
   },
   {
    "duration": 5,
    "start_time": "2025-03-10T12:41:47.329Z"
   },
   {
    "duration": 8,
    "start_time": "2025-03-10T12:42:21.800Z"
   },
   {
    "duration": 9,
    "start_time": "2025-03-10T12:42:26.113Z"
   },
   {
    "duration": 14,
    "start_time": "2025-03-10T12:42:34.096Z"
   },
   {
    "duration": 17,
    "start_time": "2025-03-10T12:42:37.760Z"
   },
   {
    "duration": 9,
    "start_time": "2025-03-10T12:42:43.274Z"
   },
   {
    "duration": 16,
    "start_time": "2025-03-10T12:42:48.224Z"
   },
   {
    "duration": 6,
    "start_time": "2025-03-10T12:42:52.039Z"
   },
   {
    "duration": 5,
    "start_time": "2025-03-10T12:42:56.971Z"
   },
   {
    "duration": 8,
    "start_time": "2025-03-10T12:43:33.860Z"
   },
   {
    "duration": 15,
    "start_time": "2025-03-10T12:43:39.312Z"
   },
   {
    "duration": 5,
    "start_time": "2025-03-10T12:43:57.162Z"
   },
   {
    "duration": 5,
    "start_time": "2025-03-10T12:44:34.134Z"
   },
   {
    "duration": 10,
    "start_time": "2025-03-10T12:44:42.436Z"
   },
   {
    "duration": 9,
    "start_time": "2025-03-10T12:44:46.305Z"
   },
   {
    "duration": 15,
    "start_time": "2025-03-10T12:44:52.425Z"
   },
   {
    "duration": 9,
    "start_time": "2025-03-10T12:44:56.630Z"
   },
   {
    "duration": 2,
    "start_time": "2025-03-10T12:45:46.518Z"
   },
   {
    "duration": 103,
    "start_time": "2025-03-10T12:45:49.213Z"
   },
   {
    "duration": 22,
    "start_time": "2025-03-10T12:45:55.137Z"
   },
   {
    "duration": 1894,
    "start_time": "2025-03-10T12:46:00.637Z"
   },
   {
    "duration": 6,
    "start_time": "2025-03-10T12:46:08.762Z"
   },
   {
    "duration": 9,
    "start_time": "2025-03-10T12:46:12.898Z"
   },
   {
    "duration": 10,
    "start_time": "2025-03-10T12:46:28.533Z"
   },
   {
    "duration": 9,
    "start_time": "2025-03-10T12:46:32.715Z"
   },
   {
    "duration": 14,
    "start_time": "2025-03-10T12:46:39.409Z"
   },
   {
    "duration": 9,
    "start_time": "2025-03-10T12:46:46.230Z"
   },
   {
    "duration": 10,
    "start_time": "2025-03-10T12:47:17.380Z"
   },
   {
    "duration": 6,
    "start_time": "2025-03-10T12:47:21.143Z"
   },
   {
    "duration": 25,
    "start_time": "2025-03-10T13:09:34.960Z"
   },
   {
    "duration": 5,
    "start_time": "2025-03-10T13:11:08.319Z"
   },
   {
    "duration": 11,
    "start_time": "2025-03-10T13:11:19.621Z"
   },
   {
    "duration": 17,
    "start_time": "2025-03-10T13:11:28.231Z"
   },
   {
    "duration": 8,
    "start_time": "2025-03-10T13:13:24.721Z"
   },
   {
    "duration": 8,
    "start_time": "2025-03-10T13:13:36.531Z"
   },
   {
    "duration": 18,
    "start_time": "2025-03-10T13:22:35.356Z"
   },
   {
    "duration": 11,
    "start_time": "2025-03-10T13:23:05.540Z"
   },
   {
    "duration": 18,
    "start_time": "2025-03-10T13:23:16.839Z"
   },
   {
    "duration": 12,
    "start_time": "2025-03-10T13:25:14.982Z"
   },
   {
    "duration": 7,
    "start_time": "2025-03-10T13:26:10.066Z"
   },
   {
    "duration": 128,
    "start_time": "2025-03-10T13:26:32.637Z"
   },
   {
    "duration": 18,
    "start_time": "2025-03-10T13:26:36.402Z"
   },
   {
    "duration": 1898,
    "start_time": "2025-03-10T13:26:41.290Z"
   },
   {
    "duration": 10,
    "start_time": "2025-03-10T13:26:48.029Z"
   },
   {
    "duration": 11,
    "start_time": "2025-03-10T13:26:55.663Z"
   },
   {
    "duration": 11,
    "start_time": "2025-03-10T13:27:00.764Z"
   },
   {
    "duration": 9,
    "start_time": "2025-03-10T13:27:05.172Z"
   },
   {
    "duration": 14,
    "start_time": "2025-03-10T13:27:08.832Z"
   },
   {
    "duration": 12,
    "start_time": "2025-03-10T13:27:13.285Z"
   },
   {
    "duration": 11,
    "start_time": "2025-03-10T13:27:21.595Z"
   },
   {
    "duration": 6,
    "start_time": "2025-03-10T13:27:29.225Z"
   },
   {
    "duration": 90,
    "start_time": "2025-03-10T13:28:33.534Z"
   },
   {
    "duration": 9,
    "start_time": "2025-03-10T13:29:13.068Z"
   },
   {
    "duration": 120,
    "start_time": "2025-03-10T13:30:57.995Z"
   },
   {
    "duration": 86,
    "start_time": "2025-03-10T13:31:07.557Z"
   },
   {
    "duration": 81,
    "start_time": "2025-03-10T13:31:52.345Z"
   },
   {
    "duration": 87,
    "start_time": "2025-03-10T13:32:03.288Z"
   },
   {
    "duration": 10,
    "start_time": "2025-03-10T13:32:21.460Z"
   },
   {
    "duration": 16,
    "start_time": "2025-03-10T13:33:14.666Z"
   },
   {
    "duration": 10,
    "start_time": "2025-03-10T13:33:23.003Z"
   },
   {
    "duration": 15,
    "start_time": "2025-03-10T13:38:31.369Z"
   },
   {
    "duration": 9,
    "start_time": "2025-03-10T13:38:36.570Z"
   },
   {
    "duration": 8,
    "start_time": "2025-03-10T13:39:07.449Z"
   },
   {
    "duration": 126,
    "start_time": "2025-03-10T13:39:31.009Z"
   },
   {
    "duration": 16,
    "start_time": "2025-03-10T13:39:33.937Z"
   },
   {
    "duration": 1924,
    "start_time": "2025-03-10T13:39:37.548Z"
   },
   {
    "duration": 6,
    "start_time": "2025-03-10T13:39:44.374Z"
   },
   {
    "duration": 10,
    "start_time": "2025-03-10T13:39:47.737Z"
   },
   {
    "duration": 12,
    "start_time": "2025-03-10T13:39:51.304Z"
   },
   {
    "duration": 9,
    "start_time": "2025-03-10T13:39:54.515Z"
   },
   {
    "duration": 16,
    "start_time": "2025-03-10T13:39:57.436Z"
   },
   {
    "duration": 9,
    "start_time": "2025-03-10T13:40:02.757Z"
   },
   {
    "duration": 11,
    "start_time": "2025-03-10T13:40:10.052Z"
   },
   {
    "duration": 7,
    "start_time": "2025-03-10T13:40:16.326Z"
   },
   {
    "duration": 7,
    "start_time": "2025-03-10T13:40:22.680Z"
   },
   {
    "duration": 8,
    "start_time": "2025-03-10T13:41:58.894Z"
   },
   {
    "duration": 4,
    "start_time": "2025-03-10T13:42:08.609Z"
   },
   {
    "duration": 107,
    "start_time": "2025-03-10T13:42:26.847Z"
   },
   {
    "duration": 13,
    "start_time": "2025-03-10T13:42:32.642Z"
   },
   {
    "duration": 1925,
    "start_time": "2025-03-10T13:42:37.144Z"
   },
   {
    "duration": 5,
    "start_time": "2025-03-10T13:42:43.273Z"
   },
   {
    "duration": 9,
    "start_time": "2025-03-10T13:42:47.991Z"
   },
   {
    "duration": 11,
    "start_time": "2025-03-10T13:42:52.377Z"
   },
   {
    "duration": 8,
    "start_time": "2025-03-10T13:42:56.509Z"
   },
   {
    "duration": 13,
    "start_time": "2025-03-10T13:43:00.218Z"
   },
   {
    "duration": 9,
    "start_time": "2025-03-10T13:43:06.372Z"
   },
   {
    "duration": 16,
    "start_time": "2025-03-10T13:43:12.245Z"
   },
   {
    "duration": 6,
    "start_time": "2025-03-10T13:43:14.946Z"
   },
   {
    "duration": 6,
    "start_time": "2025-03-10T13:43:26.489Z"
   },
   {
    "duration": 8,
    "start_time": "2025-03-10T13:43:57.040Z"
   },
   {
    "duration": 11,
    "start_time": "2025-03-10T13:46:28.665Z"
   },
   {
    "duration": 7,
    "start_time": "2025-03-10T13:47:15.191Z"
   },
   {
    "duration": 7,
    "start_time": "2025-03-10T13:51:24.850Z"
   },
   {
    "duration": 10,
    "start_time": "2025-03-10T13:55:27.678Z"
   },
   {
    "duration": 32,
    "start_time": "2025-03-10T13:56:56.521Z"
   },
   {
    "duration": 30,
    "start_time": "2025-03-10T14:01:02.095Z"
   },
   {
    "duration": 9,
    "start_time": "2025-03-10T14:01:19.205Z"
   },
   {
    "duration": 9,
    "start_time": "2025-03-10T14:02:37.752Z"
   },
   {
    "duration": 8,
    "start_time": "2025-03-10T14:03:18.152Z"
   },
   {
    "duration": 23,
    "start_time": "2025-03-10T14:04:46.709Z"
   },
   {
    "duration": 28,
    "start_time": "2025-03-10T14:12:11.550Z"
   },
   {
    "duration": 20,
    "start_time": "2025-03-10T14:12:53.497Z"
   },
   {
    "duration": 9,
    "start_time": "2025-03-10T14:24:30.273Z"
   },
   {
    "duration": 9,
    "start_time": "2025-03-10T14:27:23.026Z"
   },
   {
    "duration": 9,
    "start_time": "2025-03-10T14:27:48.612Z"
   },
   {
    "duration": 8,
    "start_time": "2025-03-10T14:28:14.029Z"
   },
   {
    "duration": 17,
    "start_time": "2025-03-10T17:17:01.918Z"
   },
   {
    "duration": 7,
    "start_time": "2025-03-10T17:18:32.561Z"
   },
   {
    "duration": 9,
    "start_time": "2025-03-10T17:18:42.505Z"
   },
   {
    "duration": 9,
    "start_time": "2025-03-10T17:21:23.683Z"
   },
   {
    "duration": 10,
    "start_time": "2025-03-10T17:52:22.125Z"
   },
   {
    "duration": 8,
    "start_time": "2025-03-10T18:04:02.575Z"
   },
   {
    "duration": 17,
    "start_time": "2025-03-10T18:23:21.441Z"
   },
   {
    "duration": 16,
    "start_time": "2025-03-10T18:23:35.255Z"
   },
   {
    "duration": 9,
    "start_time": "2025-03-10T18:49:45.963Z"
   },
   {
    "duration": 10,
    "start_time": "2025-03-10T18:53:40.238Z"
   },
   {
    "duration": 13,
    "start_time": "2025-03-10T18:54:59.241Z"
   },
   {
    "duration": 8,
    "start_time": "2025-03-10T18:55:21.898Z"
   },
   {
    "duration": 8,
    "start_time": "2025-03-10T18:55:26.716Z"
   },
   {
    "duration": 11,
    "start_time": "2025-03-10T18:56:14.247Z"
   },
   {
    "duration": 10,
    "start_time": "2025-03-10T18:56:18.775Z"
   },
   {
    "duration": 11,
    "start_time": "2025-03-10T18:56:23.731Z"
   },
   {
    "duration": 11,
    "start_time": "2025-03-10T18:59:51.640Z"
   },
   {
    "duration": 10,
    "start_time": "2025-03-10T19:00:39.143Z"
   },
   {
    "duration": 107,
    "start_time": "2025-03-10T19:01:00.583Z"
   },
   {
    "duration": 1728,
    "start_time": "2025-03-10T19:01:07.874Z"
   },
   {
    "duration": 5,
    "start_time": "2025-03-10T19:01:19.041Z"
   },
   {
    "duration": 9,
    "start_time": "2025-03-10T19:01:22.673Z"
   },
   {
    "duration": 11,
    "start_time": "2025-03-10T19:01:30.607Z"
   },
   {
    "duration": 9,
    "start_time": "2025-03-10T19:01:34.684Z"
   },
   {
    "duration": 13,
    "start_time": "2025-03-10T19:01:39.321Z"
   },
   {
    "duration": 9,
    "start_time": "2025-03-10T19:01:43.893Z"
   },
   {
    "duration": 10,
    "start_time": "2025-03-10T19:01:54.803Z"
   },
   {
    "duration": 7,
    "start_time": "2025-03-10T19:01:58.205Z"
   },
   {
    "duration": 8,
    "start_time": "2025-03-10T19:02:12.110Z"
   },
   {
    "duration": 8,
    "start_time": "2025-03-10T19:02:23.091Z"
   },
   {
    "duration": 9,
    "start_time": "2025-03-10T19:02:28.157Z"
   },
   {
    "duration": 7,
    "start_time": "2025-03-10T19:02:33.690Z"
   },
   {
    "duration": 13,
    "start_time": "2025-03-10T19:02:54.053Z"
   },
   {
    "duration": 10,
    "start_time": "2025-03-10T19:05:12.443Z"
   },
   {
    "duration": 8,
    "start_time": "2025-03-10T19:05:56.623Z"
   },
   {
    "duration": 9,
    "start_time": "2025-03-10T19:06:15.580Z"
   },
   {
    "duration": 7,
    "start_time": "2025-03-10T19:07:18.941Z"
   },
   {
    "duration": 8,
    "start_time": "2025-03-10T19:07:58.488Z"
   },
   {
    "duration": 4,
    "start_time": "2025-03-10T19:08:19.093Z"
   },
   {
    "duration": 7,
    "start_time": "2025-03-10T19:13:23.893Z"
   },
   {
    "duration": 7,
    "start_time": "2025-03-10T19:15:48.696Z"
   },
   {
    "duration": 7,
    "start_time": "2025-03-10T19:16:28.569Z"
   },
   {
    "duration": 6,
    "start_time": "2025-03-10T19:17:17.447Z"
   },
   {
    "duration": 5,
    "start_time": "2025-03-10T19:30:04.010Z"
   },
   {
    "duration": 22,
    "start_time": "2025-03-10T19:30:13.832Z"
   },
   {
    "duration": 9,
    "start_time": "2025-03-10T19:31:25.966Z"
   },
   {
    "duration": 7,
    "start_time": "2025-03-10T19:31:40.450Z"
   },
   {
    "duration": 207,
    "start_time": "2025-03-10T19:32:10.260Z"
   },
   {
    "duration": 9,
    "start_time": "2025-03-10T19:32:34.501Z"
   },
   {
    "duration": 9,
    "start_time": "2025-03-10T19:34:03.275Z"
   },
   {
    "duration": 21,
    "start_time": "2025-03-10T19:44:59.621Z"
   },
   {
    "duration": 8,
    "start_time": "2025-03-11T07:42:12.853Z"
   },
   {
    "duration": 28,
    "start_time": "2025-03-11T09:55:58.005Z"
   },
   {
    "duration": 8,
    "start_time": "2025-03-11T14:14:21.572Z"
   },
   {
    "duration": 8,
    "start_time": "2025-03-11T14:29:18.733Z"
   },
   {
    "duration": 16,
    "start_time": "2025-03-11T14:43:06.713Z"
   },
   {
    "duration": 37,
    "start_time": "2025-03-11T14:44:06.141Z"
   },
   {
    "duration": 7,
    "start_time": "2025-03-11T14:44:59.318Z"
   },
   {
    "duration": 29,
    "start_time": "2025-03-11T14:45:02.736Z"
   },
   {
    "duration": 5,
    "start_time": "2025-03-11T14:45:25.981Z"
   },
   {
    "duration": 28,
    "start_time": "2025-03-11T14:45:31.583Z"
   },
   {
    "duration": 23,
    "start_time": "2025-03-11T14:46:05.058Z"
   },
   {
    "duration": 21,
    "start_time": "2025-03-11T14:47:49.734Z"
   },
   {
    "duration": 37,
    "start_time": "2025-03-11T14:51:52.538Z"
   },
   {
    "duration": 94,
    "start_time": "2025-03-11T14:58:12.161Z"
   },
   {
    "duration": 78,
    "start_time": "2025-03-11T14:58:26.943Z"
   },
   {
    "duration": 33,
    "start_time": "2025-03-11T14:58:37.504Z"
   },
   {
    "duration": 24,
    "start_time": "2025-03-11T14:59:45.409Z"
   },
   {
    "duration": 33,
    "start_time": "2025-03-11T15:00:49.633Z"
   },
   {
    "duration": 4,
    "start_time": "2025-03-11T15:02:53.298Z"
   },
   {
    "duration": 44,
    "start_time": "2025-03-11T15:03:07.332Z"
   },
   {
    "duration": 58,
    "start_time": "2025-03-11T15:11:57.810Z"
   },
   {
    "duration": 3,
    "start_time": "2025-03-11T15:14:19.636Z"
   },
   {
    "duration": 53,
    "start_time": "2025-03-11T15:14:25.219Z"
   },
   {
    "duration": 18,
    "start_time": "2025-03-11T15:14:39.928Z"
   },
   {
    "duration": 29,
    "start_time": "2025-03-11T15:15:16.266Z"
   },
   {
    "duration": 19,
    "start_time": "2025-03-11T15:15:20.971Z"
   },
   {
    "duration": 108,
    "start_time": "2025-03-11T15:16:20.827Z"
   },
   {
    "duration": 1722,
    "start_time": "2025-03-11T15:16:26.998Z"
   },
   {
    "duration": 6,
    "start_time": "2025-03-11T15:16:37.810Z"
   },
   {
    "duration": 10,
    "start_time": "2025-03-11T15:16:42.624Z"
   },
   {
    "duration": 11,
    "start_time": "2025-03-11T15:16:58.183Z"
   },
   {
    "duration": 10,
    "start_time": "2025-03-11T15:17:02.223Z"
   },
   {
    "duration": 14,
    "start_time": "2025-03-11T15:17:06.191Z"
   },
   {
    "duration": 10,
    "start_time": "2025-03-11T15:17:12.400Z"
   },
   {
    "duration": 11,
    "start_time": "2025-03-11T15:17:19.864Z"
   },
   {
    "duration": 6,
    "start_time": "2025-03-11T15:17:40.816Z"
   },
   {
    "duration": 10,
    "start_time": "2025-03-11T15:17:51.711Z"
   },
   {
    "duration": 8,
    "start_time": "2025-03-11T15:17:58.445Z"
   },
   {
    "duration": 10,
    "start_time": "2025-03-11T15:18:05.494Z"
   },
   {
    "duration": 8,
    "start_time": "2025-03-11T15:18:18.005Z"
   },
   {
    "duration": 15,
    "start_time": "2025-03-11T15:18:29.381Z"
   },
   {
    "duration": 22,
    "start_time": "2025-03-11T15:18:36.222Z"
   },
   {
    "duration": 18,
    "start_time": "2025-03-11T15:18:40.258Z"
   },
   {
    "duration": 58,
    "start_time": "2025-03-11T15:19:10.199Z"
   },
   {
    "duration": 24,
    "start_time": "2025-03-11T15:23:56.879Z"
   },
   {
    "duration": 24,
    "start_time": "2025-03-11T15:26:58.631Z"
   },
   {
    "duration": 70,
    "start_time": "2025-03-11T16:51:50.973Z"
   },
   {
    "duration": 12,
    "start_time": "2025-03-11T17:32:53.322Z"
   },
   {
    "duration": 32,
    "start_time": "2025-03-11T17:33:28.279Z"
   },
   {
    "duration": 10,
    "start_time": "2025-03-11T17:55:07.457Z"
   },
   {
    "duration": 9,
    "start_time": "2025-03-11T17:55:32.897Z"
   },
   {
    "duration": 72,
    "start_time": "2025-03-11T17:56:38.583Z"
   },
   {
    "duration": 75,
    "start_time": "2025-03-11T17:57:53.947Z"
   },
   {
    "duration": 8,
    "start_time": "2025-03-11T18:06:50.979Z"
   },
   {
    "duration": 11,
    "start_time": "2025-03-11T19:30:57.569Z"
   },
   {
    "duration": 9,
    "start_time": "2025-03-11T19:32:57.334Z"
   },
   {
    "duration": 38,
    "start_time": "2025-03-11T19:46:16.145Z"
   },
   {
    "duration": 352,
    "start_time": "2025-03-11T19:46:36.321Z"
   },
   {
    "duration": 6,
    "start_time": "2025-03-11T19:47:06.338Z"
   },
   {
    "duration": 2,
    "start_time": "2025-03-11T19:47:53.702Z"
   },
   {
    "duration": 6,
    "start_time": "2025-03-11T19:47:57.190Z"
   },
   {
    "duration": 5,
    "start_time": "2025-03-11T19:48:00.279Z"
   },
   {
    "duration": 97,
    "start_time": "2025-03-11T19:48:35.842Z"
   },
   {
    "duration": 16,
    "start_time": "2025-03-11T19:48:41.114Z"
   },
   {
    "duration": 1799,
    "start_time": "2025-03-11T19:48:45.410Z"
   },
   {
    "duration": 5,
    "start_time": "2025-03-11T19:48:54.033Z"
   },
   {
    "duration": 9,
    "start_time": "2025-03-11T19:48:57.534Z"
   },
   {
    "duration": 11,
    "start_time": "2025-03-11T19:49:02.633Z"
   },
   {
    "duration": 9,
    "start_time": "2025-03-11T19:49:06.420Z"
   },
   {
    "duration": 14,
    "start_time": "2025-03-11T19:49:09.995Z"
   },
   {
    "duration": 10,
    "start_time": "2025-03-11T19:49:14.897Z"
   },
   {
    "duration": 10,
    "start_time": "2025-03-11T19:49:19.508Z"
   },
   {
    "duration": 6,
    "start_time": "2025-03-11T19:49:25.508Z"
   },
   {
    "duration": 10,
    "start_time": "2025-03-11T19:49:29.484Z"
   },
   {
    "duration": 9,
    "start_time": "2025-03-11T19:49:34.234Z"
   },
   {
    "duration": 10,
    "start_time": "2025-03-11T19:49:40.517Z"
   },
   {
    "duration": 8,
    "start_time": "2025-03-11T19:49:44.880Z"
   },
   {
    "duration": 14,
    "start_time": "2025-03-11T19:49:49.430Z"
   },
   {
    "duration": 21,
    "start_time": "2025-03-11T19:49:56.216Z"
   },
   {
    "duration": 18,
    "start_time": "2025-03-11T19:49:59.630Z"
   },
   {
    "duration": 52,
    "start_time": "2025-03-11T19:50:03.424Z"
   },
   {
    "duration": 24,
    "start_time": "2025-03-11T19:50:13.924Z"
   },
   {
    "duration": 73,
    "start_time": "2025-03-11T19:50:31.363Z"
   },
   {
    "duration": 8,
    "start_time": "2025-03-11T19:50:49.452Z"
   },
   {
    "duration": 5,
    "start_time": "2025-03-11T19:50:59.182Z"
   },
   {
    "duration": 8,
    "start_time": "2025-03-11T19:51:11.958Z"
   },
   {
    "duration": 2,
    "start_time": "2025-03-11T19:51:26.015Z"
   },
   {
    "duration": 8,
    "start_time": "2025-03-11T19:55:33.169Z"
   },
   {
    "duration": 17,
    "start_time": "2025-03-11T19:56:19.912Z"
   },
   {
    "duration": 317,
    "start_time": "2025-03-11T19:57:28.770Z"
   },
   {
    "duration": 254,
    "start_time": "2025-03-11T19:58:40.565Z"
   },
   {
    "duration": 3,
    "start_time": "2025-03-11T20:20:51.941Z"
   },
   {
    "duration": 10,
    "start_time": "2025-03-11T20:21:24.160Z"
   },
   {
    "duration": 8,
    "start_time": "2025-03-11T20:22:19.517Z"
   },
   {
    "duration": 9,
    "start_time": "2025-03-11T20:23:44.586Z"
   },
   {
    "duration": 7,
    "start_time": "2025-03-11T20:24:27.299Z"
   },
   {
    "duration": 8,
    "start_time": "2025-03-11T20:25:07.173Z"
   },
   {
    "duration": 7,
    "start_time": "2025-03-11T20:25:27.428Z"
   },
   {
    "duration": 3,
    "start_time": "2025-03-11T20:25:50.215Z"
   },
   {
    "duration": 9,
    "start_time": "2025-03-11T20:26:34.856Z"
   },
   {
    "duration": 12,
    "start_time": "2025-03-11T20:27:38.213Z"
   },
   {
    "duration": 12,
    "start_time": "2025-03-11T20:28:37.704Z"
   },
   {
    "duration": 12,
    "start_time": "2025-03-11T20:31:33.323Z"
   },
   {
    "duration": 11,
    "start_time": "2025-03-11T20:32:10.092Z"
   },
   {
    "duration": 8,
    "start_time": "2025-03-11T21:23:43.672Z"
   },
   {
    "duration": 89,
    "start_time": "2025-03-11T21:24:57.953Z"
   },
   {
    "duration": 109,
    "start_time": "2025-03-11T21:25:09.419Z"
   },
   {
    "duration": 6,
    "start_time": "2025-03-11T21:32:39.034Z"
   },
   {
    "duration": 26,
    "start_time": "2025-03-11T21:43:32.683Z"
   },
   {
    "duration": 22,
    "start_time": "2025-03-11T21:44:02.068Z"
   },
   {
    "duration": 12,
    "start_time": "2025-03-11T21:47:27.306Z"
   },
   {
    "duration": 92,
    "start_time": "2025-03-11T21:48:08.527Z"
   },
   {
    "duration": 1760,
    "start_time": "2025-03-11T21:48:18.790Z"
   },
   {
    "duration": 6,
    "start_time": "2025-03-11T21:48:25.894Z"
   },
   {
    "duration": 10,
    "start_time": "2025-03-11T21:48:29.471Z"
   },
   {
    "duration": 10,
    "start_time": "2025-03-11T21:48:34.906Z"
   },
   {
    "duration": 8,
    "start_time": "2025-03-11T21:48:39.480Z"
   },
   {
    "duration": 15,
    "start_time": "2025-03-11T21:48:44.955Z"
   },
   {
    "duration": 10,
    "start_time": "2025-03-11T21:48:48.437Z"
   },
   {
    "duration": 11,
    "start_time": "2025-03-11T21:48:52.430Z"
   },
   {
    "duration": 6,
    "start_time": "2025-03-11T21:48:56.661Z"
   },
   {
    "duration": 10,
    "start_time": "2025-03-11T21:49:00.354Z"
   },
   {
    "duration": 9,
    "start_time": "2025-03-11T21:49:11.081Z"
   },
   {
    "duration": 8,
    "start_time": "2025-03-11T21:49:15.134Z"
   },
   {
    "duration": 15,
    "start_time": "2025-03-11T21:49:19.009Z"
   },
   {
    "duration": 22,
    "start_time": "2025-03-11T21:49:23.688Z"
   },
   {
    "duration": 19,
    "start_time": "2025-03-11T21:49:28.550Z"
   },
   {
    "duration": 55,
    "start_time": "2025-03-11T21:49:33.820Z"
   },
   {
    "duration": 25,
    "start_time": "2025-03-11T21:49:50.321Z"
   },
   {
    "duration": 95,
    "start_time": "2025-03-11T21:50:05.753Z"
   },
   {
    "duration": 9,
    "start_time": "2025-03-11T21:50:14.187Z"
   },
   {
    "duration": 5,
    "start_time": "2025-03-11T21:50:19.843Z"
   },
   {
    "duration": 12,
    "start_time": "2025-03-11T21:50:32.909Z"
   },
   {
    "duration": 105,
    "start_time": "2025-03-11T21:50:37.854Z"
   },
   {
    "duration": 6,
    "start_time": "2025-03-11T21:50:42.891Z"
   },
   {
    "duration": 22,
    "start_time": "2025-03-11T21:50:48.263Z"
   },
   {
    "duration": 4,
    "start_time": "2025-03-11T22:05:33.920Z"
   },
   {
    "duration": 3,
    "start_time": "2025-03-11T22:07:19.600Z"
   },
   {
    "duration": 6,
    "start_time": "2025-03-11T22:07:43.306Z"
   },
   {
    "duration": 4,
    "start_time": "2025-03-11T22:08:27.490Z"
   },
   {
    "duration": 6,
    "start_time": "2025-03-11T22:08:28.864Z"
   },
   {
    "duration": 8,
    "start_time": "2025-03-11T22:14:33.586Z"
   },
   {
    "duration": 7,
    "start_time": "2025-03-11T22:15:32.878Z"
   },
   {
    "duration": 8,
    "start_time": "2025-03-11T22:15:46.822Z"
   },
   {
    "duration": 8,
    "start_time": "2025-03-11T22:16:29.178Z"
   },
   {
    "duration": 8,
    "start_time": "2025-03-11T22:16:55.577Z"
   },
   {
    "duration": 24,
    "start_time": "2025-03-12T10:21:35.052Z"
   },
   {
    "duration": 8,
    "start_time": "2025-03-12T10:28:14.860Z"
   },
   {
    "duration": 116,
    "start_time": "2025-03-12T10:28:48.090Z"
   },
   {
    "duration": 15,
    "start_time": "2025-03-12T10:28:54.540Z"
   },
   {
    "duration": 1952,
    "start_time": "2025-03-12T10:28:58.243Z"
   },
   {
    "duration": 9,
    "start_time": "2025-03-12T10:29:01.981Z"
   },
   {
    "duration": 10,
    "start_time": "2025-03-12T10:29:07.935Z"
   },
   {
    "duration": 14,
    "start_time": "2025-03-12T10:29:13.028Z"
   },
   {
    "duration": 10,
    "start_time": "2025-03-12T10:29:19.859Z"
   },
   {
    "duration": 15,
    "start_time": "2025-03-12T10:29:24.124Z"
   },
   {
    "duration": 10,
    "start_time": "2025-03-12T10:29:28.702Z"
   },
   {
    "duration": 11,
    "start_time": "2025-03-12T10:29:33.229Z"
   },
   {
    "duration": 6,
    "start_time": "2025-03-12T10:29:38.629Z"
   },
   {
    "duration": 8,
    "start_time": "2025-03-12T10:29:43.156Z"
   },
   {
    "duration": 9,
    "start_time": "2025-03-12T10:29:47.507Z"
   },
   {
    "duration": 6,
    "start_time": "2025-03-12T10:29:54.264Z"
   },
   {
    "duration": 7,
    "start_time": "2025-03-12T10:31:09.750Z"
   },
   {
    "duration": 9,
    "start_time": "2025-03-12T10:33:30.120Z"
   },
   {
    "duration": 110,
    "start_time": "2025-03-12T10:34:09.850Z"
   },
   {
    "duration": 13,
    "start_time": "2025-03-12T10:34:37.396Z"
   },
   {
    "duration": 75,
    "start_time": "2025-03-12T10:34:53.223Z"
   },
   {
    "duration": 6,
    "start_time": "2025-03-12T10:35:00.524Z"
   },
   {
    "duration": 5,
    "start_time": "2025-03-12T10:35:56.669Z"
   },
   {
    "duration": 11,
    "start_time": "2025-03-12T10:38:32.640Z"
   },
   {
    "duration": 131,
    "start_time": "2025-03-12T10:41:21.264Z"
   },
   {
    "duration": 11,
    "start_time": "2025-03-12T10:41:40.231Z"
   },
   {
    "duration": 10,
    "start_time": "2025-03-12T10:46:37.651Z"
   },
   {
    "duration": 83,
    "start_time": "2025-03-12T10:50:27.492Z"
   },
   {
    "duration": 89,
    "start_time": "2025-03-12T10:50:51.989Z"
   },
   {
    "duration": 78,
    "start_time": "2025-03-12T10:51:01.258Z"
   },
   {
    "duration": 10,
    "start_time": "2025-03-12T10:51:12.047Z"
   },
   {
    "duration": 3,
    "start_time": "2025-03-12T10:53:30.642Z"
   },
   {
    "duration": 6,
    "start_time": "2025-03-12T10:53:46.842Z"
   },
   {
    "duration": 9,
    "start_time": "2025-03-12T11:06:49.370Z"
   },
   {
    "duration": 4,
    "start_time": "2025-03-12T11:07:21.003Z"
   },
   {
    "duration": 9,
    "start_time": "2025-03-12T11:07:38.902Z"
   },
   {
    "duration": 6,
    "start_time": "2025-03-12T11:09:54.318Z"
   },
   {
    "duration": 8,
    "start_time": "2025-03-12T11:12:04.045Z"
   },
   {
    "duration": 32,
    "start_time": "2025-03-12T11:12:18.174Z"
   },
   {
    "duration": 6,
    "start_time": "2025-03-12T11:15:54.879Z"
   },
   {
    "duration": 7,
    "start_time": "2025-03-12T11:16:46.574Z"
   },
   {
    "duration": 12,
    "start_time": "2025-03-12T11:18:31.781Z"
   },
   {
    "duration": 6,
    "start_time": "2025-03-12T11:18:54.858Z"
   },
   {
    "duration": 5,
    "start_time": "2025-03-12T11:31:31.464Z"
   },
   {
    "duration": 7,
    "start_time": "2025-03-12T11:31:48.588Z"
   },
   {
    "duration": 5,
    "start_time": "2025-03-12T11:32:20.130Z"
   },
   {
    "duration": 9,
    "start_time": "2025-03-12T11:32:50.531Z"
   },
   {
    "duration": 88,
    "start_time": "2025-03-12T11:33:37.295Z"
   },
   {
    "duration": 6,
    "start_time": "2025-03-12T11:33:46.589Z"
   },
   {
    "duration": 6,
    "start_time": "2025-03-12T11:37:45.633Z"
   },
   {
    "duration": 3,
    "start_time": "2025-03-12T11:41:19.882Z"
   },
   {
    "duration": 53,
    "start_time": "2025-03-12T11:43:01.232Z"
   },
   {
    "duration": 14,
    "start_time": "2025-03-12T11:50:00.279Z"
   },
   {
    "duration": 26,
    "start_time": "2025-03-12T11:53:14.875Z"
   },
   {
    "duration": 17,
    "start_time": "2025-03-12T11:53:31.466Z"
   },
   {
    "duration": 14,
    "start_time": "2025-03-12T11:55:14.275Z"
   },
   {
    "duration": 14,
    "start_time": "2025-03-12T11:57:01.428Z"
   },
   {
    "duration": 163,
    "start_time": "2025-03-12T11:59:24.869Z"
   },
   {
    "duration": 21,
    "start_time": "2025-03-12T11:59:29.413Z"
   },
   {
    "duration": 2018,
    "start_time": "2025-03-12T11:59:32.897Z"
   },
   {
    "duration": 7,
    "start_time": "2025-03-12T11:59:41.211Z"
   },
   {
    "duration": 9,
    "start_time": "2025-03-12T11:59:46.245Z"
   },
   {
    "duration": 12,
    "start_time": "2025-03-12T11:59:51.725Z"
   },
   {
    "duration": 12,
    "start_time": "2025-03-12T11:59:55.153Z"
   },
   {
    "duration": 21,
    "start_time": "2025-03-12T11:59:59.107Z"
   },
   {
    "duration": 15,
    "start_time": "2025-03-12T12:00:02.946Z"
   },
   {
    "duration": 12,
    "start_time": "2025-03-12T12:00:16.063Z"
   },
   {
    "duration": 7,
    "start_time": "2025-03-12T12:00:20.715Z"
   },
   {
    "duration": 11,
    "start_time": "2025-03-12T12:00:26.582Z"
   },
   {
    "duration": 12,
    "start_time": "2025-03-12T12:00:53.403Z"
   },
   {
    "duration": 32,
    "start_time": "2025-03-12T12:01:09.712Z"
   },
   {
    "duration": 14,
    "start_time": "2025-03-12T12:06:45.532Z"
   },
   {
    "duration": 121,
    "start_time": "2025-03-12T12:08:10.773Z"
   },
   {
    "duration": 22,
    "start_time": "2025-03-12T12:08:13.174Z"
   },
   {
    "duration": 2373,
    "start_time": "2025-03-12T12:08:17.778Z"
   },
   {
    "duration": 7,
    "start_time": "2025-03-12T12:08:24.599Z"
   },
   {
    "duration": 11,
    "start_time": "2025-03-12T12:08:28.014Z"
   },
   {
    "duration": 20,
    "start_time": "2025-03-12T12:08:32.862Z"
   },
   {
    "duration": 19,
    "start_time": "2025-03-12T12:08:36.748Z"
   },
   {
    "duration": 18,
    "start_time": "2025-03-12T12:08:41.162Z"
   },
   {
    "duration": 15,
    "start_time": "2025-03-12T12:08:44.773Z"
   },
   {
    "duration": 10,
    "start_time": "2025-03-12T12:08:48.341Z"
   },
   {
    "duration": 12,
    "start_time": "2025-03-12T12:08:53.613Z"
   },
   {
    "duration": 131,
    "start_time": "2025-03-12T12:09:32.941Z"
   },
   {
    "duration": 99,
    "start_time": "2025-03-12T12:09:50.411Z"
   },
   {
    "duration": 111,
    "start_time": "2025-03-12T12:10:06.402Z"
   },
   {
    "duration": 23,
    "start_time": "2025-03-12T12:10:12.150Z"
   },
   {
    "duration": 11,
    "start_time": "2025-03-12T12:10:26.206Z"
   },
   {
    "duration": 11,
    "start_time": "2025-03-12T12:10:45.432Z"
   },
   {
    "duration": 124,
    "start_time": "2025-03-12T12:11:27.878Z"
   },
   {
    "duration": 16,
    "start_time": "2025-03-12T12:11:31.696Z"
   },
   {
    "duration": 15,
    "start_time": "2025-03-12T12:11:36.492Z"
   },
   {
    "duration": 2056,
    "start_time": "2025-03-12T12:11:39.926Z"
   },
   {
    "duration": 5,
    "start_time": "2025-03-12T12:11:48.126Z"
   },
   {
    "duration": 11,
    "start_time": "2025-03-12T12:11:52.790Z"
   },
   {
    "duration": 12,
    "start_time": "2025-03-12T12:11:59.469Z"
   },
   {
    "duration": 9,
    "start_time": "2025-03-12T12:12:02.920Z"
   },
   {
    "duration": 25,
    "start_time": "2025-03-12T12:12:07.254Z"
   },
   {
    "duration": 9,
    "start_time": "2025-03-12T12:12:11.028Z"
   },
   {
    "duration": 12,
    "start_time": "2025-03-12T12:12:17.940Z"
   },
   {
    "duration": 7,
    "start_time": "2025-03-12T12:12:22.908Z"
   },
   {
    "duration": 5,
    "start_time": "2025-03-12T12:13:28.847Z"
   },
   {
    "duration": 4,
    "start_time": "2025-03-12T12:14:06.151Z"
   },
   {
    "duration": 20,
    "start_time": "2025-03-12T12:14:39.317Z"
   },
   {
    "duration": 11,
    "start_time": "2025-03-12T12:15:00.737Z"
   },
   {
    "duration": 5,
    "start_time": "2025-03-12T12:17:09.869Z"
   },
   {
    "duration": 12,
    "start_time": "2025-03-12T12:17:38.183Z"
   },
   {
    "duration": 12,
    "start_time": "2025-03-12T12:19:38.769Z"
   },
   {
    "duration": 11,
    "start_time": "2025-03-12T12:20:18.821Z"
   },
   {
    "duration": 19,
    "start_time": "2025-03-12T12:20:30.240Z"
   },
   {
    "duration": 6,
    "start_time": "2025-03-12T12:28:43.128Z"
   },
   {
    "duration": 99,
    "start_time": "2025-03-12T12:29:00.481Z"
   },
   {
    "duration": 14,
    "start_time": "2025-03-12T12:29:02.809Z"
   },
   {
    "duration": 2038,
    "start_time": "2025-03-12T12:29:07.365Z"
   },
   {
    "duration": 6,
    "start_time": "2025-03-12T12:29:15.307Z"
   },
   {
    "duration": 14,
    "start_time": "2025-03-12T12:29:18.796Z"
   },
   {
    "duration": 15,
    "start_time": "2025-03-12T12:29:23.342Z"
   },
   {
    "duration": 13,
    "start_time": "2025-03-12T12:29:26.781Z"
   },
   {
    "duration": 20,
    "start_time": "2025-03-12T12:29:30.113Z"
   },
   {
    "duration": 13,
    "start_time": "2025-03-12T12:29:34.336Z"
   },
   {
    "duration": 15,
    "start_time": "2025-03-12T12:29:37.738Z"
   },
   {
    "duration": 8,
    "start_time": "2025-03-12T12:29:40.932Z"
   },
   {
    "duration": 5,
    "start_time": "2025-03-12T12:29:44.787Z"
   },
   {
    "duration": 4,
    "start_time": "2025-03-12T12:46:27.711Z"
   },
   {
    "duration": 96,
    "start_time": "2025-03-12T12:47:32.462Z"
   },
   {
    "duration": 28,
    "start_time": "2025-03-12T12:48:13.339Z"
   },
   {
    "duration": 7,
    "start_time": "2025-03-12T12:49:38.527Z"
   },
   {
    "duration": 10,
    "start_time": "2025-03-12T12:51:01.189Z"
   },
   {
    "duration": 17,
    "start_time": "2025-03-12T12:51:16.546Z"
   },
   {
    "duration": 110,
    "start_time": "2025-03-12T12:51:45.203Z"
   },
   {
    "duration": 15,
    "start_time": "2025-03-12T12:51:49.102Z"
   },
   {
    "duration": 2103,
    "start_time": "2025-03-12T12:51:52.569Z"
   },
   {
    "duration": 5,
    "start_time": "2025-03-12T12:51:59.334Z"
   },
   {
    "duration": 10,
    "start_time": "2025-03-12T12:52:03.118Z"
   },
   {
    "duration": 12,
    "start_time": "2025-03-12T12:52:06.615Z"
   },
   {
    "duration": 13,
    "start_time": "2025-03-12T12:52:09.853Z"
   },
   {
    "duration": 23,
    "start_time": "2025-03-12T12:52:12.753Z"
   },
   {
    "duration": 9,
    "start_time": "2025-03-12T12:52:16.299Z"
   },
   {
    "duration": 11,
    "start_time": "2025-03-12T12:52:20.531Z"
   },
   {
    "duration": 7,
    "start_time": "2025-03-12T12:52:23.718Z"
   },
   {
    "duration": 13,
    "start_time": "2025-03-12T12:52:28.344Z"
   },
   {
    "duration": 10,
    "start_time": "2025-03-12T12:53:15.797Z"
   },
   {
    "duration": 16,
    "start_time": "2025-03-12T12:53:20.029Z"
   },
   {
    "duration": 9,
    "start_time": "2025-03-12T12:54:33.435Z"
   },
   {
    "duration": 16,
    "start_time": "2025-03-12T12:54:38.279Z"
   },
   {
    "duration": 103,
    "start_time": "2025-03-12T12:59:09.450Z"
   },
   {
    "duration": 16,
    "start_time": "2025-03-12T12:59:12.100Z"
   },
   {
    "duration": 2044,
    "start_time": "2025-03-12T12:59:15.687Z"
   },
   {
    "duration": 5,
    "start_time": "2025-03-12T12:59:19.502Z"
   },
   {
    "duration": 10,
    "start_time": "2025-03-12T12:59:23.136Z"
   },
   {
    "duration": 12,
    "start_time": "2025-03-12T12:59:27.558Z"
   },
   {
    "duration": 10,
    "start_time": "2025-03-12T12:59:31.766Z"
   },
   {
    "duration": 23,
    "start_time": "2025-03-12T12:59:35.344Z"
   },
   {
    "duration": 15,
    "start_time": "2025-03-12T12:59:38.825Z"
   },
   {
    "duration": 20,
    "start_time": "2025-03-12T12:59:43.524Z"
   },
   {
    "duration": 7,
    "start_time": "2025-03-12T12:59:46.748Z"
   },
   {
    "duration": 15,
    "start_time": "2025-03-12T13:00:00.213Z"
   },
   {
    "duration": 27,
    "start_time": "2025-03-12T13:00:10.555Z"
   },
   {
    "duration": 5,
    "start_time": "2025-03-12T13:00:37.053Z"
   },
   {
    "duration": 18,
    "start_time": "2025-03-12T13:00:45.858Z"
   },
   {
    "duration": 16,
    "start_time": "2025-03-12T13:00:51.392Z"
   },
   {
    "duration": 108,
    "start_time": "2025-03-12T13:01:47.451Z"
   },
   {
    "duration": 14,
    "start_time": "2025-03-12T13:01:50.112Z"
   },
   {
    "duration": 2091,
    "start_time": "2025-03-12T13:01:55.623Z"
   },
   {
    "duration": 10,
    "start_time": "2025-03-12T13:02:02.159Z"
   },
   {
    "duration": 10,
    "start_time": "2025-03-12T13:02:05.683Z"
   },
   {
    "duration": 11,
    "start_time": "2025-03-12T13:02:09.476Z"
   },
   {
    "duration": 11,
    "start_time": "2025-03-12T13:02:12.771Z"
   },
   {
    "duration": 15,
    "start_time": "2025-03-12T13:02:17.446Z"
   },
   {
    "duration": 13,
    "start_time": "2025-03-12T13:02:21.872Z"
   },
   {
    "duration": 14,
    "start_time": "2025-03-12T13:02:26.675Z"
   },
   {
    "duration": 7,
    "start_time": "2025-03-12T13:02:29.743Z"
   },
   {
    "duration": 17,
    "start_time": "2025-03-12T13:02:34.819Z"
   },
   {
    "duration": 13,
    "start_time": "2025-03-12T13:03:02.587Z"
   },
   {
    "duration": 5,
    "start_time": "2025-03-12T13:05:01.596Z"
   },
   {
    "duration": 10,
    "start_time": "2025-03-12T13:05:22.582Z"
   },
   {
    "duration": 18,
    "start_time": "2025-03-12T13:05:42.322Z"
   },
   {
    "duration": 1360,
    "start_time": "2025-03-12T13:09:32.178Z"
   },
   {
    "duration": 620,
    "start_time": "2025-03-12T13:11:15.601Z"
   },
   {
    "duration": 911,
    "start_time": "2025-03-12T13:11:25.498Z"
   },
   {
    "duration": 6,
    "start_time": "2025-03-12T13:13:14.374Z"
   },
   {
    "duration": 116,
    "start_time": "2025-03-12T13:18:07.760Z"
   },
   {
    "duration": 4,
    "start_time": "2025-03-12T13:18:25.527Z"
   },
   {
    "duration": 94,
    "start_time": "2025-03-12T13:18:47.470Z"
   },
   {
    "duration": 5,
    "start_time": "2025-03-12T13:18:51.900Z"
   },
   {
    "duration": 20,
    "start_time": "2025-03-12T13:20:57.647Z"
   },
   {
    "duration": 11,
    "start_time": "2025-03-12T13:24:22.343Z"
   },
   {
    "duration": 12,
    "start_time": "2025-03-12T13:25:21.593Z"
   },
   {
    "duration": 105,
    "start_time": "2025-03-12T13:25:42.195Z"
   },
   {
    "duration": 103,
    "start_time": "2025-03-12T13:26:07.058Z"
   },
   {
    "duration": 22,
    "start_time": "2025-03-12T13:26:09.554Z"
   },
   {
    "duration": 2074,
    "start_time": "2025-03-12T13:26:14.869Z"
   },
   {
    "duration": 5,
    "start_time": "2025-03-12T13:26:19.909Z"
   },
   {
    "duration": 9,
    "start_time": "2025-03-12T13:26:23.114Z"
   },
   {
    "duration": 13,
    "start_time": "2025-03-12T13:26:26.492Z"
   },
   {
    "duration": 9,
    "start_time": "2025-03-12T13:26:29.574Z"
   },
   {
    "duration": 22,
    "start_time": "2025-03-12T13:26:34.653Z"
   },
   {
    "duration": 10,
    "start_time": "2025-03-12T13:26:38.343Z"
   },
   {
    "duration": 11,
    "start_time": "2025-03-12T13:26:41.593Z"
   },
   {
    "duration": 8,
    "start_time": "2025-03-12T13:26:43.917Z"
   },
   {
    "duration": 22,
    "start_time": "2025-03-12T13:26:50.553Z"
   },
   {
    "duration": 5,
    "start_time": "2025-03-12T13:27:06.853Z"
   },
   {
    "duration": 10,
    "start_time": "2025-03-12T13:28:28.117Z"
   },
   {
    "duration": 12,
    "start_time": "2025-03-12T13:28:38.889Z"
   },
   {
    "duration": 11,
    "start_time": "2025-03-12T13:33:46.776Z"
   },
   {
    "duration": 23,
    "start_time": "2025-03-12T13:34:21.841Z"
   },
   {
    "duration": 15,
    "start_time": "2025-03-12T13:34:39.567Z"
   },
   {
    "duration": 17,
    "start_time": "2025-03-12T13:35:05.098Z"
   },
   {
    "duration": 10,
    "start_time": "2025-03-12T13:38:20.169Z"
   },
   {
    "duration": 4,
    "start_time": "2025-03-12T13:38:23.811Z"
   },
   {
    "duration": 102,
    "start_time": "2025-03-12T13:38:41.469Z"
   },
   {
    "duration": 101,
    "start_time": "2025-03-12T13:38:47.494Z"
   },
   {
    "duration": 14,
    "start_time": "2025-03-12T13:38:53.610Z"
   },
   {
    "duration": 2009,
    "start_time": "2025-03-12T13:38:57.074Z"
   },
   {
    "duration": 6,
    "start_time": "2025-03-12T13:39:03.490Z"
   },
   {
    "duration": 11,
    "start_time": "2025-03-12T13:39:06.529Z"
   },
   {
    "duration": 10,
    "start_time": "2025-03-12T13:39:10.087Z"
   },
   {
    "duration": 18,
    "start_time": "2025-03-12T13:39:13.353Z"
   },
   {
    "duration": 14,
    "start_time": "2025-03-12T13:39:16.879Z"
   },
   {
    "duration": 12,
    "start_time": "2025-03-12T13:39:20.972Z"
   },
   {
    "duration": 11,
    "start_time": "2025-03-12T13:39:27.210Z"
   },
   {
    "duration": 6,
    "start_time": "2025-03-12T13:39:32.078Z"
   },
   {
    "duration": 5,
    "start_time": "2025-03-12T13:39:43.330Z"
   },
   {
    "duration": 5,
    "start_time": "2025-03-12T13:40:04.427Z"
   },
   {
    "duration": 12,
    "start_time": "2025-03-12T13:40:17.557Z"
   },
   {
    "duration": 18,
    "start_time": "2025-03-12T13:40:48.417Z"
   },
   {
    "duration": 104,
    "start_time": "2025-03-12T13:47:55.417Z"
   },
   {
    "duration": 18,
    "start_time": "2025-03-12T13:47:58.284Z"
   },
   {
    "duration": 1911,
    "start_time": "2025-03-12T13:48:01.727Z"
   },
   {
    "duration": 5,
    "start_time": "2025-03-12T13:48:08.751Z"
   },
   {
    "duration": 10,
    "start_time": "2025-03-12T13:48:12.771Z"
   },
   {
    "duration": 10,
    "start_time": "2025-03-12T13:48:16.733Z"
   },
   {
    "duration": 9,
    "start_time": "2025-03-12T13:48:19.771Z"
   },
   {
    "duration": 13,
    "start_time": "2025-03-12T13:48:23.210Z"
   },
   {
    "duration": 11,
    "start_time": "2025-03-12T13:48:31.579Z"
   },
   {
    "duration": 6,
    "start_time": "2025-03-12T13:48:38.744Z"
   },
   {
    "duration": 5,
    "start_time": "2025-03-12T13:48:55.235Z"
   },
   {
    "duration": 5,
    "start_time": "2025-03-12T13:49:27.906Z"
   },
   {
    "duration": 9,
    "start_time": "2025-03-12T13:49:33.846Z"
   },
   {
    "duration": 10,
    "start_time": "2025-03-12T13:49:43.659Z"
   },
   {
    "duration": 8,
    "start_time": "2025-03-12T13:50:22.087Z"
   },
   {
    "duration": 8,
    "start_time": "2025-03-12T13:50:50.609Z"
   },
   {
    "duration": 9,
    "start_time": "2025-03-12T13:51:16.806Z"
   },
   {
    "duration": 9,
    "start_time": "2025-03-12T13:51:29.107Z"
   },
   {
    "duration": 12,
    "start_time": "2025-03-12T13:51:46.930Z"
   },
   {
    "duration": 4,
    "start_time": "2025-03-12T13:53:44.533Z"
   },
   {
    "duration": 8,
    "start_time": "2025-03-12T13:53:53.637Z"
   },
   {
    "duration": 101,
    "start_time": "2025-03-12T13:54:32.060Z"
   },
   {
    "duration": 14,
    "start_time": "2025-03-12T13:54:44.534Z"
   },
   {
    "duration": 1949,
    "start_time": "2025-03-12T13:54:48.282Z"
   },
   {
    "duration": 5,
    "start_time": "2025-03-12T13:54:52.369Z"
   },
   {
    "duration": 11,
    "start_time": "2025-03-12T13:54:57.015Z"
   },
   {
    "duration": 11,
    "start_time": "2025-03-12T13:55:01.208Z"
   },
   {
    "duration": 14,
    "start_time": "2025-03-12T13:55:04.626Z"
   },
   {
    "duration": 10,
    "start_time": "2025-03-12T13:55:08.620Z"
   },
   {
    "duration": 11,
    "start_time": "2025-03-12T13:55:12.617Z"
   },
   {
    "duration": 7,
    "start_time": "2025-03-12T13:55:17.197Z"
   },
   {
    "duration": 6,
    "start_time": "2025-03-12T13:55:28.864Z"
   },
   {
    "duration": 5,
    "start_time": "2025-03-12T13:55:33.976Z"
   },
   {
    "duration": 9,
    "start_time": "2025-03-12T13:55:53.274Z"
   },
   {
    "duration": 9,
    "start_time": "2025-03-12T13:56:15.283Z"
   },
   {
    "duration": 12,
    "start_time": "2025-03-12T13:56:26.694Z"
   },
   {
    "duration": 5,
    "start_time": "2025-03-12T13:56:53.576Z"
   },
   {
    "duration": 9,
    "start_time": "2025-03-12T13:56:57.819Z"
   },
   {
    "duration": 9,
    "start_time": "2025-03-12T13:57:40.737Z"
   },
   {
    "duration": 12,
    "start_time": "2025-03-12T13:57:47.545Z"
   },
   {
    "duration": 5,
    "start_time": "2025-03-12T13:57:53.929Z"
   },
   {
    "duration": 4,
    "start_time": "2025-03-12T13:58:14.432Z"
   },
   {
    "duration": 5,
    "start_time": "2025-03-12T13:58:32.471Z"
   },
   {
    "duration": 4,
    "start_time": "2025-03-12T13:58:45.804Z"
   },
   {
    "duration": 97,
    "start_time": "2025-03-12T13:59:00.106Z"
   },
   {
    "duration": 15,
    "start_time": "2025-03-12T13:59:02.281Z"
   },
   {
    "duration": 14,
    "start_time": "2025-03-12T13:59:06.119Z"
   },
   {
    "duration": 1823,
    "start_time": "2025-03-12T13:59:09.076Z"
   },
   {
    "duration": 5,
    "start_time": "2025-03-12T13:59:15.950Z"
   },
   {
    "duration": 9,
    "start_time": "2025-03-12T13:59:19.970Z"
   },
   {
    "duration": 11,
    "start_time": "2025-03-12T13:59:34.617Z"
   },
   {
    "duration": 8,
    "start_time": "2025-03-12T13:59:40.264Z"
   },
   {
    "duration": 15,
    "start_time": "2025-03-12T13:59:49.132Z"
   },
   {
    "duration": 10,
    "start_time": "2025-03-12T13:59:52.886Z"
   },
   {
    "duration": 10,
    "start_time": "2025-03-12T13:59:56.546Z"
   },
   {
    "duration": 5,
    "start_time": "2025-03-12T13:59:59.523Z"
   },
   {
    "duration": 5,
    "start_time": "2025-03-12T14:00:24.936Z"
   },
   {
    "duration": 9,
    "start_time": "2025-03-12T14:00:33.112Z"
   },
   {
    "duration": 4,
    "start_time": "2025-03-12T14:00:45.733Z"
   },
   {
    "duration": 10,
    "start_time": "2025-03-12T14:00:58.748Z"
   },
   {
    "duration": 19,
    "start_time": "2025-03-12T14:01:58.378Z"
   },
   {
    "duration": 14,
    "start_time": "2025-03-12T16:36:33.881Z"
   },
   {
    "duration": 78,
    "start_time": "2025-03-12T16:40:08.090Z"
   },
   {
    "duration": 86,
    "start_time": "2025-03-12T16:40:18.923Z"
   },
   {
    "duration": 8,
    "start_time": "2025-03-12T16:40:29.123Z"
   },
   {
    "duration": 682,
    "start_time": "2025-03-12T16:44:49.359Z"
   },
   {
    "duration": 16,
    "start_time": "2025-03-12T16:45:49.958Z"
   },
   {
    "duration": 635,
    "start_time": "2025-03-12T16:47:04.210Z"
   },
   {
    "duration": 18,
    "start_time": "2025-03-12T16:47:26.450Z"
   },
   {
    "duration": 1260,
    "start_time": "2025-03-12T17:05:53.626Z"
   },
   {
    "duration": 818,
    "start_time": "2025-03-12T17:06:23.667Z"
   },
   {
    "duration": 16,
    "start_time": "2025-03-12T17:06:58.929Z"
   },
   {
    "duration": 1180,
    "start_time": "2025-03-12T17:07:35.003Z"
   },
   {
    "duration": 976,
    "start_time": "2025-03-12T17:09:28.524Z"
   },
   {
    "duration": 976,
    "start_time": "2025-03-12T17:09:49.775Z"
   },
   {
    "duration": 12,
    "start_time": "2025-03-12T17:10:32.633Z"
   },
   {
    "duration": 14,
    "start_time": "2025-03-12T17:11:06.264Z"
   },
   {
    "duration": 931,
    "start_time": "2025-03-12T17:11:18.395Z"
   },
   {
    "duration": 1171,
    "start_time": "2025-03-12T17:12:24.350Z"
   },
   {
    "duration": 11,
    "start_time": "2025-03-12T17:14:21.308Z"
   },
   {
    "duration": 16,
    "start_time": "2025-03-12T17:15:07.002Z"
   },
   {
    "duration": 4,
    "start_time": "2025-03-12T17:19:04.495Z"
   },
   {
    "duration": 4,
    "start_time": "2025-03-12T17:19:12.474Z"
   },
   {
    "duration": 6,
    "start_time": "2025-03-12T17:19:42.246Z"
   },
   {
    "duration": 7,
    "start_time": "2025-03-12T17:20:29.607Z"
   },
   {
    "duration": 5,
    "start_time": "2025-03-12T17:20:47.845Z"
   },
   {
    "duration": 2072,
    "start_time": "2025-03-12T17:20:53.441Z"
   },
   {
    "duration": 25,
    "start_time": "2025-03-12T17:21:31.192Z"
   },
   {
    "duration": 13,
    "start_time": "2025-03-12T17:22:39.930Z"
   },
   {
    "duration": 16,
    "start_time": "2025-03-12T17:23:14.454Z"
   },
   {
    "duration": 3,
    "start_time": "2025-03-12T17:23:42.218Z"
   },
   {
    "duration": 2051,
    "start_time": "2025-03-12T17:23:46.597Z"
   },
   {
    "duration": 24,
    "start_time": "2025-03-12T17:23:53.823Z"
   },
   {
    "duration": 13,
    "start_time": "2025-03-12T17:24:18.313Z"
   },
   {
    "duration": 4,
    "start_time": "2025-03-12T17:26:20.165Z"
   },
   {
    "duration": 1836,
    "start_time": "2025-03-12T17:26:22.773Z"
   },
   {
    "duration": 20,
    "start_time": "2025-03-12T17:26:27.021Z"
   },
   {
    "duration": 106,
    "start_time": "2025-03-12T17:26:57.405Z"
   },
   {
    "duration": 15,
    "start_time": "2025-03-12T17:26:59.761Z"
   },
   {
    "duration": 1858,
    "start_time": "2025-03-12T17:27:03.795Z"
   },
   {
    "duration": 5,
    "start_time": "2025-03-12T17:27:11.166Z"
   },
   {
    "duration": 10,
    "start_time": "2025-03-12T17:27:16.789Z"
   },
   {
    "duration": 12,
    "start_time": "2025-03-12T17:27:21.973Z"
   },
   {
    "duration": 10,
    "start_time": "2025-03-12T17:27:25.575Z"
   },
   {
    "duration": 14,
    "start_time": "2025-03-12T17:27:28.833Z"
   },
   {
    "duration": 12,
    "start_time": "2025-03-12T17:27:32.403Z"
   },
   {
    "duration": 12,
    "start_time": "2025-03-12T17:27:36.349Z"
   },
   {
    "duration": 7,
    "start_time": "2025-03-12T17:27:39.713Z"
   },
   {
    "duration": 5,
    "start_time": "2025-03-12T17:28:42.188Z"
   },
   {
    "duration": 9,
    "start_time": "2025-03-12T17:28:48.379Z"
   },
   {
    "duration": 4,
    "start_time": "2025-03-12T17:29:12.693Z"
   },
   {
    "duration": 12,
    "start_time": "2025-03-12T17:29:31.944Z"
   },
   {
    "duration": 19,
    "start_time": "2025-03-12T17:30:31.529Z"
   },
   {
    "duration": 4,
    "start_time": "2025-03-12T17:33:55.875Z"
   },
   {
    "duration": 2144,
    "start_time": "2025-03-12T17:33:59.186Z"
   },
   {
    "duration": 22,
    "start_time": "2025-03-12T17:34:05.316Z"
   },
   {
    "duration": 3,
    "start_time": "2025-03-12T17:34:51.665Z"
   },
   {
    "duration": 1982,
    "start_time": "2025-03-12T17:34:54.499Z"
   },
   {
    "duration": 22,
    "start_time": "2025-03-12T17:35:03.134Z"
   },
   {
    "duration": 97,
    "start_time": "2025-03-12T17:35:42.718Z"
   },
   {
    "duration": 15,
    "start_time": "2025-03-12T17:35:45.215Z"
   },
   {
    "duration": 1727,
    "start_time": "2025-03-12T17:35:49.817Z"
   },
   {
    "duration": 4,
    "start_time": "2025-03-12T17:35:53.447Z"
   },
   {
    "duration": 9,
    "start_time": "2025-03-12T17:35:56.917Z"
   },
   {
    "duration": 12,
    "start_time": "2025-03-12T17:36:00.993Z"
   },
   {
    "duration": 9,
    "start_time": "2025-03-12T17:36:04.490Z"
   },
   {
    "duration": 15,
    "start_time": "2025-03-12T17:36:09.890Z"
   },
   {
    "duration": 10,
    "start_time": "2025-03-12T17:36:13.455Z"
   },
   {
    "duration": 11,
    "start_time": "2025-03-12T17:36:17.368Z"
   },
   {
    "duration": 7,
    "start_time": "2025-03-12T17:36:20.572Z"
   },
   {
    "duration": 5,
    "start_time": "2025-03-12T17:36:24.265Z"
   },
   {
    "duration": 4,
    "start_time": "2025-03-12T17:36:30.572Z"
   },
   {
    "duration": 18,
    "start_time": "2025-03-12T17:36:38.287Z"
   },
   {
    "duration": 4,
    "start_time": "2025-03-12T17:37:23.475Z"
   },
   {
    "duration": 2047,
    "start_time": "2025-03-12T17:37:25.990Z"
   },
   {
    "duration": 22,
    "start_time": "2025-03-12T17:37:29.528Z"
   },
   {
    "duration": 14,
    "start_time": "2025-03-12T17:37:38.753Z"
   },
   {
    "duration": 3,
    "start_time": "2025-03-12T17:37:43.973Z"
   },
   {
    "duration": 1841,
    "start_time": "2025-03-12T17:37:47.840Z"
   },
   {
    "duration": 19,
    "start_time": "2025-03-12T17:37:59.233Z"
   },
   {
    "duration": 99,
    "start_time": "2025-03-12T17:38:17.279Z"
   },
   {
    "duration": 13,
    "start_time": "2025-03-12T17:38:21.002Z"
   },
   {
    "duration": 1804,
    "start_time": "2025-03-12T17:38:25.795Z"
   },
   {
    "duration": 6,
    "start_time": "2025-03-12T17:38:33.756Z"
   },
   {
    "duration": 9,
    "start_time": "2025-03-12T17:38:39.019Z"
   },
   {
    "duration": 10,
    "start_time": "2025-03-12T17:38:46.402Z"
   },
   {
    "duration": 10,
    "start_time": "2025-03-12T17:38:50.143Z"
   },
   {
    "duration": 15,
    "start_time": "2025-03-12T17:38:54.253Z"
   },
   {
    "duration": 11,
    "start_time": "2025-03-12T17:38:58.357Z"
   },
   {
    "duration": 12,
    "start_time": "2025-03-12T17:39:02.855Z"
   },
   {
    "duration": 6,
    "start_time": "2025-03-12T17:39:06.826Z"
   },
   {
    "duration": 6,
    "start_time": "2025-03-12T17:39:14.506Z"
   },
   {
    "duration": 10,
    "start_time": "2025-03-12T17:39:28.455Z"
   },
   {
    "duration": 6,
    "start_time": "2025-03-12T17:39:34.596Z"
   },
   {
    "duration": 19,
    "start_time": "2025-03-12T17:40:03.771Z"
   },
   {
    "duration": 16,
    "start_time": "2025-03-12T17:40:40.937Z"
   },
   {
    "duration": 4,
    "start_time": "2025-03-12T17:40:50.107Z"
   },
   {
    "duration": 2150,
    "start_time": "2025-03-12T17:40:54.482Z"
   },
   {
    "duration": 23,
    "start_time": "2025-03-12T17:41:00.096Z"
   },
   {
    "duration": 4,
    "start_time": "2025-03-12T17:41:08.524Z"
   },
   {
    "duration": 1906,
    "start_time": "2025-03-12T17:41:12.030Z"
   },
   {
    "duration": 19,
    "start_time": "2025-03-12T17:41:15.522Z"
   },
   {
    "duration": 11,
    "start_time": "2025-03-12T17:42:30.082Z"
   },
   {
    "duration": 3,
    "start_time": "2025-03-12T17:42:37.810Z"
   },
   {
    "duration": 1905,
    "start_time": "2025-03-12T17:42:41.823Z"
   },
   {
    "duration": 18,
    "start_time": "2025-03-12T17:42:44.576Z"
   },
   {
    "duration": 10,
    "start_time": "2025-03-12T17:42:55.858Z"
   },
   {
    "duration": 107,
    "start_time": "2025-03-12T17:43:13.954Z"
   },
   {
    "duration": 14,
    "start_time": "2025-03-12T17:43:17.483Z"
   },
   {
    "duration": 1752,
    "start_time": "2025-03-12T17:43:23.647Z"
   },
   {
    "duration": 5,
    "start_time": "2025-03-12T17:43:31.738Z"
   },
   {
    "duration": 10,
    "start_time": "2025-03-12T17:43:36.579Z"
   },
   {
    "duration": 13,
    "start_time": "2025-03-12T17:43:46.614Z"
   },
   {
    "duration": 9,
    "start_time": "2025-03-12T17:43:50.790Z"
   },
   {
    "duration": 15,
    "start_time": "2025-03-12T17:43:53.416Z"
   },
   {
    "duration": 9,
    "start_time": "2025-03-12T17:43:59.085Z"
   },
   {
    "duration": 10,
    "start_time": "2025-03-12T17:44:03.417Z"
   },
   {
    "duration": 6,
    "start_time": "2025-03-12T17:44:06.877Z"
   },
   {
    "duration": 5,
    "start_time": "2025-03-12T17:44:14.020Z"
   },
   {
    "duration": 8,
    "start_time": "2025-03-12T17:44:30.243Z"
   },
   {
    "duration": 5,
    "start_time": "2025-03-12T17:44:41.322Z"
   },
   {
    "duration": 8,
    "start_time": "2025-03-12T17:44:47.703Z"
   },
   {
    "duration": 19,
    "start_time": "2025-03-12T17:45:09.822Z"
   },
   {
    "duration": 4,
    "start_time": "2025-03-12T17:46:52.367Z"
   },
   {
    "duration": 2107,
    "start_time": "2025-03-12T17:46:56.286Z"
   },
   {
    "duration": 22,
    "start_time": "2025-03-12T17:47:00.159Z"
   },
   {
    "duration": 16,
    "start_time": "2025-03-12T17:47:22.083Z"
   },
   {
    "duration": 3,
    "start_time": "2025-03-12T17:47:28.769Z"
   },
   {
    "duration": 1965,
    "start_time": "2025-03-12T17:47:32.120Z"
   },
   {
    "duration": 23,
    "start_time": "2025-03-12T17:47:34.658Z"
   },
   {
    "duration": 114,
    "start_time": "2025-03-12T17:48:37.839Z"
   },
   {
    "duration": 10,
    "start_time": "2025-03-12T17:48:52.318Z"
   },
   {
    "duration": 10,
    "start_time": "2025-03-12T17:48:56.870Z"
   },
   {
    "duration": 8,
    "start_time": "2025-03-12T17:49:00.589Z"
   },
   {
    "duration": 16,
    "start_time": "2025-03-12T17:49:04.171Z"
   },
   {
    "duration": 10,
    "start_time": "2025-03-12T17:49:07.358Z"
   },
   {
    "duration": 11,
    "start_time": "2025-03-12T17:49:12.358Z"
   },
   {
    "duration": 6,
    "start_time": "2025-03-12T17:49:15.691Z"
   },
   {
    "duration": 5,
    "start_time": "2025-03-12T17:49:22.280Z"
   },
   {
    "duration": 8,
    "start_time": "2025-03-12T17:49:27.138Z"
   },
   {
    "duration": 5,
    "start_time": "2025-03-12T17:49:32.755Z"
   },
   {
    "duration": 17,
    "start_time": "2025-03-12T17:49:50.777Z"
   },
   {
    "duration": 5,
    "start_time": "2025-03-12T17:50:11.933Z"
   },
   {
    "duration": 17,
    "start_time": "2025-03-12T17:50:22.555Z"
   },
   {
    "duration": 3,
    "start_time": "2025-03-12T17:50:30.735Z"
   },
   {
    "duration": 2094,
    "start_time": "2025-03-12T17:50:33.827Z"
   },
   {
    "duration": 23,
    "start_time": "2025-03-12T17:50:38.924Z"
   },
   {
    "duration": 4,
    "start_time": "2025-03-12T17:50:44.534Z"
   },
   {
    "duration": 1948,
    "start_time": "2025-03-12T17:50:49.609Z"
   },
   {
    "duration": 20,
    "start_time": "2025-03-12T17:50:52.413Z"
   },
   {
    "duration": 11,
    "start_time": "2025-03-12T17:51:14.361Z"
   },
   {
    "duration": 12,
    "start_time": "2025-03-12T17:53:26.859Z"
   },
   {
    "duration": 4,
    "start_time": "2025-03-12T17:53:30.394Z"
   },
   {
    "duration": 2067,
    "start_time": "2025-03-12T17:53:33.826Z"
   },
   {
    "duration": 21,
    "start_time": "2025-03-12T17:54:07.156Z"
   },
   {
    "duration": 118,
    "start_time": "2025-03-12T17:55:15.941Z"
   },
   {
    "duration": 95,
    "start_time": "2025-03-12T17:55:24.609Z"
   },
   {
    "duration": 15,
    "start_time": "2025-03-12T17:55:27.979Z"
   },
   {
    "duration": 1823,
    "start_time": "2025-03-12T17:55:31.695Z"
   },
   {
    "duration": 5,
    "start_time": "2025-03-12T17:55:40.794Z"
   },
   {
    "duration": 9,
    "start_time": "2025-03-12T17:55:44.673Z"
   },
   {
    "duration": 11,
    "start_time": "2025-03-12T17:55:49.321Z"
   },
   {
    "duration": 9,
    "start_time": "2025-03-12T17:55:52.849Z"
   },
   {
    "duration": 14,
    "start_time": "2025-03-12T17:55:57.045Z"
   },
   {
    "duration": 9,
    "start_time": "2025-03-12T17:56:01.901Z"
   },
   {
    "duration": 11,
    "start_time": "2025-03-12T17:56:07.058Z"
   },
   {
    "duration": 6,
    "start_time": "2025-03-12T17:56:10.095Z"
   },
   {
    "duration": 4,
    "start_time": "2025-03-12T17:56:21.520Z"
   },
   {
    "duration": 9,
    "start_time": "2025-03-12T17:56:32.767Z"
   },
   {
    "duration": 5,
    "start_time": "2025-03-12T17:56:48.428Z"
   },
   {
    "duration": 9,
    "start_time": "2025-03-12T17:56:53.842Z"
   },
   {
    "duration": 18,
    "start_time": "2025-03-12T17:57:12.293Z"
   },
   {
    "duration": 4,
    "start_time": "2025-03-12T17:58:26.411Z"
   },
   {
    "duration": 2066,
    "start_time": "2025-03-12T17:58:31.070Z"
   },
   {
    "duration": 23,
    "start_time": "2025-03-12T17:58:34.971Z"
   },
   {
    "duration": 4,
    "start_time": "2025-03-12T17:58:55.473Z"
   },
   {
    "duration": 1874,
    "start_time": "2025-03-12T17:58:58.706Z"
   },
   {
    "duration": 19,
    "start_time": "2025-03-12T17:59:01.468Z"
   },
   {
    "duration": 11,
    "start_time": "2025-03-12T18:00:14.928Z"
   },
   {
    "duration": 106,
    "start_time": "2025-03-12T18:00:24.344Z"
   },
   {
    "duration": 15,
    "start_time": "2025-03-12T18:00:28.278Z"
   },
   {
    "duration": 1682,
    "start_time": "2025-03-12T18:00:31.837Z"
   },
   {
    "duration": 5,
    "start_time": "2025-03-12T18:00:35.733Z"
   },
   {
    "duration": 10,
    "start_time": "2025-03-12T18:00:39.552Z"
   },
   {
    "duration": 12,
    "start_time": "2025-03-12T18:00:43.816Z"
   },
   {
    "duration": 8,
    "start_time": "2025-03-12T18:00:47.741Z"
   },
   {
    "duration": 13,
    "start_time": "2025-03-12T18:00:50.883Z"
   },
   {
    "duration": 9,
    "start_time": "2025-03-12T18:00:54.140Z"
   },
   {
    "duration": 11,
    "start_time": "2025-03-12T18:00:57.847Z"
   },
   {
    "duration": 5,
    "start_time": "2025-03-12T18:01:05.100Z"
   },
   {
    "duration": 8,
    "start_time": "2025-03-12T18:01:11.793Z"
   },
   {
    "duration": 5,
    "start_time": "2025-03-12T18:01:22.854Z"
   },
   {
    "duration": 9,
    "start_time": "2025-03-12T18:01:28.813Z"
   },
   {
    "duration": 21,
    "start_time": "2025-03-12T18:02:37.759Z"
   },
   {
    "duration": 3,
    "start_time": "2025-03-12T18:03:48.776Z"
   },
   {
    "duration": 16,
    "start_time": "2025-03-12T18:20:36.273Z"
   },
   {
    "duration": 122,
    "start_time": "2025-03-12T18:20:51.804Z"
   },
   {
    "duration": 3,
    "start_time": "2025-03-12T18:21:00.211Z"
   },
   {
    "duration": 1942,
    "start_time": "2025-03-12T18:21:03.610Z"
   },
   {
    "duration": 22,
    "start_time": "2025-03-12T18:21:06.796Z"
   },
   {
    "duration": 3,
    "start_time": "2025-03-12T18:21:22.304Z"
   },
   {
    "duration": 1911,
    "start_time": "2025-03-12T18:21:24.662Z"
   },
   {
    "duration": 20,
    "start_time": "2025-03-12T18:21:27.086Z"
   },
   {
    "duration": 12,
    "start_time": "2025-03-12T19:53:11.857Z"
   },
   {
    "duration": 110,
    "start_time": "2025-03-12T19:53:27.714Z"
   },
   {
    "duration": 14,
    "start_time": "2025-03-12T19:53:30.574Z"
   },
   {
    "duration": 1870,
    "start_time": "2025-03-12T19:53:34.440Z"
   },
   {
    "duration": 6,
    "start_time": "2025-03-12T19:53:39.368Z"
   },
   {
    "duration": 11,
    "start_time": "2025-03-12T19:53:42.890Z"
   },
   {
    "duration": 10,
    "start_time": "2025-03-12T19:53:48.294Z"
   },
   {
    "duration": 9,
    "start_time": "2025-03-12T19:53:51.423Z"
   },
   {
    "duration": 14,
    "start_time": "2025-03-12T19:53:57.379Z"
   },
   {
    "duration": 9,
    "start_time": "2025-03-12T19:54:01.067Z"
   },
   {
    "duration": 10,
    "start_time": "2025-03-12T19:54:04.557Z"
   },
   {
    "duration": 6,
    "start_time": "2025-03-12T19:54:09.471Z"
   },
   {
    "duration": 5,
    "start_time": "2025-03-12T19:54:17.320Z"
   },
   {
    "duration": 6,
    "start_time": "2025-03-12T19:54:28.440Z"
   },
   {
    "duration": 9,
    "start_time": "2025-03-12T19:54:43.208Z"
   },
   {
    "duration": 18,
    "start_time": "2025-03-12T19:55:00.516Z"
   },
   {
    "duration": 22,
    "start_time": "2025-03-12T19:55:36.604Z"
   },
   {
    "duration": 107,
    "start_time": "2025-03-12T19:56:06.715Z"
   },
   {
    "duration": 15,
    "start_time": "2025-03-12T19:56:09.354Z"
   },
   {
    "duration": 1754,
    "start_time": "2025-03-12T19:56:12.907Z"
   },
   {
    "duration": 5,
    "start_time": "2025-03-12T19:56:16.509Z"
   },
   {
    "duration": 10,
    "start_time": "2025-03-12T19:56:20.237Z"
   },
   {
    "duration": 11,
    "start_time": "2025-03-12T19:56:24.418Z"
   },
   {
    "duration": 9,
    "start_time": "2025-03-12T19:56:28.479Z"
   },
   {
    "duration": 13,
    "start_time": "2025-03-12T19:56:32.382Z"
   },
   {
    "duration": 9,
    "start_time": "2025-03-12T19:56:36.652Z"
   },
   {
    "duration": 10,
    "start_time": "2025-03-12T19:56:41.853Z"
   },
   {
    "duration": 6,
    "start_time": "2025-03-12T19:56:48.151Z"
   },
   {
    "duration": 6,
    "start_time": "2025-03-12T19:56:55.335Z"
   },
   {
    "duration": 8,
    "start_time": "2025-03-12T19:57:03.082Z"
   },
   {
    "duration": 5,
    "start_time": "2025-03-12T19:57:09.151Z"
   },
   {
    "duration": 10,
    "start_time": "2025-03-12T19:57:23.789Z"
   },
   {
    "duration": 18,
    "start_time": "2025-03-12T19:57:33.069Z"
   },
   {
    "duration": 8,
    "start_time": "2025-03-12T20:01:50.546Z"
   },
   {
    "duration": 187,
    "start_time": "2025-03-12T20:01:59.641Z"
   },
   {
    "duration": 16,
    "start_time": "2025-03-12T20:03:34.988Z"
   },
   {
    "duration": 8,
    "start_time": "2025-03-12T20:03:41.214Z"
   },
   {
    "duration": 17,
    "start_time": "2025-03-12T20:03:44.076Z"
   },
   {
    "duration": 9,
    "start_time": "2025-03-12T20:07:36.391Z"
   },
   {
    "duration": 17,
    "start_time": "2025-03-12T20:07:39.372Z"
   },
   {
    "duration": 107,
    "start_time": "2025-03-12T20:07:54.498Z"
   },
   {
    "duration": 15,
    "start_time": "2025-03-12T20:07:56.868Z"
   },
   {
    "duration": 1719,
    "start_time": "2025-03-12T20:08:00.843Z"
   },
   {
    "duration": 5,
    "start_time": "2025-03-12T20:08:03.898Z"
   },
   {
    "duration": 10,
    "start_time": "2025-03-12T20:08:08.397Z"
   },
   {
    "duration": 12,
    "start_time": "2025-03-12T20:08:12.906Z"
   },
   {
    "duration": 10,
    "start_time": "2025-03-12T20:08:16.520Z"
   },
   {
    "duration": 14,
    "start_time": "2025-03-12T20:08:19.434Z"
   },
   {
    "duration": 9,
    "start_time": "2025-03-12T20:08:22.494Z"
   },
   {
    "duration": 14,
    "start_time": "2025-03-12T20:08:25.852Z"
   },
   {
    "duration": 7,
    "start_time": "2025-03-12T20:08:29.004Z"
   },
   {
    "duration": 5,
    "start_time": "2025-03-12T20:08:32.720Z"
   },
   {
    "duration": 8,
    "start_time": "2025-03-12T20:08:37.586Z"
   },
   {
    "duration": 5,
    "start_time": "2025-03-12T20:08:45.188Z"
   },
   {
    "duration": 9,
    "start_time": "2025-03-12T20:08:48.687Z"
   },
   {
    "duration": 17,
    "start_time": "2025-03-12T20:08:58.044Z"
   },
   {
    "duration": 8,
    "start_time": "2025-03-12T20:09:06.924Z"
   },
   {
    "duration": 13,
    "start_time": "2025-03-12T20:09:10.957Z"
   },
   {
    "duration": 28,
    "start_time": "2025-03-12T20:10:12.777Z"
   },
   {
    "duration": 79,
    "start_time": "2025-03-12T20:13:08.520Z"
   },
   {
    "duration": 136,
    "start_time": "2025-03-12T20:13:42.985Z"
   },
   {
    "duration": 24,
    "start_time": "2025-03-12T20:14:31.971Z"
   },
   {
    "duration": 95,
    "start_time": "2025-03-12T20:16:13.575Z"
   },
   {
    "duration": 14,
    "start_time": "2025-03-12T20:16:16.489Z"
   },
   {
    "duration": 1897,
    "start_time": "2025-03-12T20:16:21.041Z"
   },
   {
    "duration": 5,
    "start_time": "2025-03-12T20:16:25.090Z"
   },
   {
    "duration": 10,
    "start_time": "2025-03-12T20:16:28.451Z"
   },
   {
    "duration": 14,
    "start_time": "2025-03-12T20:16:32.493Z"
   },
   {
    "duration": 10,
    "start_time": "2025-03-12T20:16:35.899Z"
   },
   {
    "duration": 22,
    "start_time": "2025-03-12T20:16:39.626Z"
   },
   {
    "duration": 14,
    "start_time": "2025-03-12T20:16:44.044Z"
   },
   {
    "duration": 14,
    "start_time": "2025-03-12T20:16:47.652Z"
   },
   {
    "duration": 7,
    "start_time": "2025-03-12T20:16:50.699Z"
   },
   {
    "duration": 5,
    "start_time": "2025-03-12T20:16:55.320Z"
   },
   {
    "duration": 11,
    "start_time": "2025-03-12T20:17:01.513Z"
   },
   {
    "duration": 5,
    "start_time": "2025-03-12T20:17:35.204Z"
   },
   {
    "duration": 11,
    "start_time": "2025-03-12T20:20:16.296Z"
   },
   {
    "duration": 40,
    "start_time": "2025-03-12T20:20:30.351Z"
   },
   {
    "duration": 17,
    "start_time": "2025-03-12T20:22:07.466Z"
   },
   {
    "duration": 23,
    "start_time": "2025-03-12T20:22:14.783Z"
   },
   {
    "duration": 23,
    "start_time": "2025-03-12T20:23:10.930Z"
   },
   {
    "duration": 23,
    "start_time": "2025-03-12T20:23:17.587Z"
   },
   {
    "duration": 124,
    "start_time": "2025-03-12T20:23:48.204Z"
   },
   {
    "duration": 14,
    "start_time": "2025-03-12T20:23:55.290Z"
   },
   {
    "duration": 2076,
    "start_time": "2025-03-12T20:23:58.811Z"
   },
   {
    "duration": 6,
    "start_time": "2025-03-12T20:24:02.483Z"
   },
   {
    "duration": 9,
    "start_time": "2025-03-12T20:24:06.583Z"
   },
   {
    "duration": 12,
    "start_time": "2025-03-12T20:24:11.163Z"
   },
   {
    "duration": 10,
    "start_time": "2025-03-12T20:24:14.365Z"
   },
   {
    "duration": 22,
    "start_time": "2025-03-12T20:24:18.257Z"
   },
   {
    "duration": 10,
    "start_time": "2025-03-12T20:24:26.211Z"
   },
   {
    "duration": 12,
    "start_time": "2025-03-12T20:24:29.710Z"
   },
   {
    "duration": 7,
    "start_time": "2025-03-12T20:24:33.034Z"
   },
   {
    "duration": 7,
    "start_time": "2025-03-12T20:24:38.240Z"
   },
   {
    "duration": 9,
    "start_time": "2025-03-12T20:24:44.645Z"
   },
   {
    "duration": 5,
    "start_time": "2025-03-12T20:24:48.571Z"
   },
   {
    "duration": 19,
    "start_time": "2025-03-12T20:24:55.568Z"
   },
   {
    "duration": 25,
    "start_time": "2025-03-12T20:25:12.298Z"
   },
   {
    "duration": 15,
    "start_time": "2025-03-12T20:25:19.587Z"
   },
   {
    "duration": 97,
    "start_time": "2025-03-12T21:26:26.175Z"
   },
   {
    "duration": 13,
    "start_time": "2025-03-12T21:26:29.118Z"
   },
   {
    "duration": 1861,
    "start_time": "2025-03-12T21:26:34.648Z"
   },
   {
    "duration": 5,
    "start_time": "2025-03-12T21:26:37.940Z"
   },
   {
    "duration": 8,
    "start_time": "2025-03-12T21:26:41.254Z"
   },
   {
    "duration": 11,
    "start_time": "2025-03-12T21:26:44.416Z"
   },
   {
    "duration": 8,
    "start_time": "2025-03-12T21:26:47.549Z"
   },
   {
    "duration": 13,
    "start_time": "2025-03-12T21:26:51.435Z"
   },
   {
    "duration": 9,
    "start_time": "2025-03-12T21:26:58.010Z"
   },
   {
    "duration": 11,
    "start_time": "2025-03-12T21:27:06.551Z"
   },
   {
    "duration": 6,
    "start_time": "2025-03-12T21:27:09.576Z"
   },
   {
    "duration": 6,
    "start_time": "2025-03-12T21:27:15.154Z"
   },
   {
    "duration": 5,
    "start_time": "2025-03-12T21:29:38.436Z"
   },
   {
    "duration": 5,
    "start_time": "2025-03-12T21:30:09.127Z"
   },
   {
    "duration": 8,
    "start_time": "2025-03-12T21:31:48.759Z"
   },
   {
    "duration": 6,
    "start_time": "2025-03-12T21:31:58.951Z"
   },
   {
    "duration": 19,
    "start_time": "2025-03-12T21:33:04.972Z"
   },
   {
    "duration": 18,
    "start_time": "2025-03-12T21:33:48.074Z"
   },
   {
    "duration": 24,
    "start_time": "2025-03-12T21:33:55.656Z"
   },
   {
    "duration": 13,
    "start_time": "2025-03-12T21:34:09.796Z"
   },
   {
    "duration": 24,
    "start_time": "2025-03-12T21:35:18.578Z"
   },
   {
    "duration": 101,
    "start_time": "2025-03-12T21:35:36.446Z"
   },
   {
    "duration": 15,
    "start_time": "2025-03-12T21:35:41.348Z"
   },
   {
    "duration": 1958,
    "start_time": "2025-03-12T21:35:45.577Z"
   },
   {
    "duration": 6,
    "start_time": "2025-03-12T21:35:49.758Z"
   },
   {
    "duration": 11,
    "start_time": "2025-03-12T21:35:54.224Z"
   },
   {
    "duration": 12,
    "start_time": "2025-03-12T21:35:58.605Z"
   },
   {
    "duration": 10,
    "start_time": "2025-03-12T21:36:08.313Z"
   },
   {
    "duration": 14,
    "start_time": "2025-03-12T21:36:11.978Z"
   },
   {
    "duration": 10,
    "start_time": "2025-03-12T21:36:16.646Z"
   },
   {
    "duration": 10,
    "start_time": "2025-03-12T21:36:22.243Z"
   },
   {
    "duration": 8,
    "start_time": "2025-03-12T21:36:27.365Z"
   },
   {
    "duration": 5,
    "start_time": "2025-03-12T21:36:33.087Z"
   },
   {
    "duration": 9,
    "start_time": "2025-03-12T21:36:38.155Z"
   },
   {
    "duration": 7,
    "start_time": "2025-03-12T21:36:43.815Z"
   },
   {
    "duration": 8,
    "start_time": "2025-03-12T21:36:58.436Z"
   },
   {
    "duration": 18,
    "start_time": "2025-03-12T21:37:03.898Z"
   },
   {
    "duration": 23,
    "start_time": "2025-03-12T21:37:16.998Z"
   },
   {
    "duration": 15,
    "start_time": "2025-03-12T21:37:31.187Z"
   },
   {
    "duration": 22,
    "start_time": "2025-03-12T21:38:37.233Z"
   },
   {
    "duration": 10,
    "start_time": "2025-03-12T21:38:54.553Z"
   },
   {
    "duration": 7,
    "start_time": "2025-03-12T21:48:01.302Z"
   },
   {
    "duration": 11,
    "start_time": "2025-03-12T21:48:24.047Z"
   },
   {
    "duration": 92,
    "start_time": "2025-03-12T21:48:47.112Z"
   },
   {
    "duration": 14,
    "start_time": "2025-03-12T21:48:49.446Z"
   },
   {
    "duration": 1677,
    "start_time": "2025-03-12T21:48:53.388Z"
   },
   {
    "duration": 5,
    "start_time": "2025-03-12T21:49:01.794Z"
   },
   {
    "duration": 10,
    "start_time": "2025-03-12T21:49:05.943Z"
   },
   {
    "duration": 11,
    "start_time": "2025-03-12T21:49:10.181Z"
   },
   {
    "duration": 9,
    "start_time": "2025-03-12T21:49:16.084Z"
   },
   {
    "duration": 14,
    "start_time": "2025-03-12T21:49:19.631Z"
   },
   {
    "duration": 9,
    "start_time": "2025-03-12T21:49:22.831Z"
   },
   {
    "duration": 11,
    "start_time": "2025-03-12T21:49:26.766Z"
   },
   {
    "duration": 6,
    "start_time": "2025-03-12T21:49:32.197Z"
   },
   {
    "duration": 4,
    "start_time": "2025-03-12T21:49:38.984Z"
   },
   {
    "duration": 10,
    "start_time": "2025-03-12T21:49:42.917Z"
   },
   {
    "duration": 4,
    "start_time": "2025-03-12T21:49:47.063Z"
   },
   {
    "duration": 9,
    "start_time": "2025-03-12T21:49:52.222Z"
   },
   {
    "duration": 8,
    "start_time": "2025-03-12T21:50:01.313Z"
   },
   {
    "duration": 16,
    "start_time": "2025-03-12T21:50:04.445Z"
   },
   {
    "duration": 7,
    "start_time": "2025-03-12T21:50:27.902Z"
   },
   {
    "duration": 11,
    "start_time": "2025-03-12T21:50:31.374Z"
   },
   {
    "duration": 4,
    "start_time": "2025-03-12T21:58:36.280Z"
   },
   {
    "duration": 8,
    "start_time": "2025-03-12T21:59:54.569Z"
   },
   {
    "duration": 8,
    "start_time": "2025-03-12T22:00:21.053Z"
   },
   {
    "duration": 93,
    "start_time": "2025-03-12T22:01:09.268Z"
   },
   {
    "duration": 14,
    "start_time": "2025-03-12T22:01:11.820Z"
   },
   {
    "duration": 1925,
    "start_time": "2025-03-12T22:01:15.296Z"
   },
   {
    "duration": 5,
    "start_time": "2025-03-12T22:01:18.592Z"
   },
   {
    "duration": 10,
    "start_time": "2025-03-12T22:01:22.740Z"
   },
   {
    "duration": 11,
    "start_time": "2025-03-12T22:01:26.491Z"
   },
   {
    "duration": 9,
    "start_time": "2025-03-12T22:01:29.987Z"
   },
   {
    "duration": 13,
    "start_time": "2025-03-12T22:01:33.169Z"
   },
   {
    "duration": 9,
    "start_time": "2025-03-12T22:01:37.806Z"
   },
   {
    "duration": 10,
    "start_time": "2025-03-12T22:01:41.775Z"
   },
   {
    "duration": 6,
    "start_time": "2025-03-12T22:01:45.133Z"
   },
   {
    "duration": 4,
    "start_time": "2025-03-12T22:01:49.532Z"
   },
   {
    "duration": 1273,
    "start_time": "2025-03-12T22:02:08.289Z"
   },
   {
    "duration": 5,
    "start_time": "2025-03-12T22:02:40.395Z"
   },
   {
    "duration": 8,
    "start_time": "2025-03-12T22:03:14.727Z"
   },
   {
    "duration": 16,
    "start_time": "2025-03-12T22:03:26.573Z"
   },
   {
    "duration": 3,
    "start_time": "2025-03-12T22:04:14.338Z"
   },
   {
    "duration": 8,
    "start_time": "2025-03-12T22:04:32.678Z"
   },
   {
    "duration": 12,
    "start_time": "2025-03-12T22:04:35.421Z"
   },
   {
    "duration": 4,
    "start_time": "2025-03-12T22:04:38.218Z"
   },
   {
    "duration": 8,
    "start_time": "2025-03-12T22:04:51.700Z"
   },
   {
    "duration": 13,
    "start_time": "2025-03-12T22:04:55.973Z"
   },
   {
    "duration": 3,
    "start_time": "2025-03-12T22:04:58.854Z"
   },
   {
    "duration": 4,
    "start_time": "2025-03-12T22:07:47.353Z"
   },
   {
    "duration": 7,
    "start_time": "2025-03-12T22:08:24.954Z"
   },
   {
    "duration": 4,
    "start_time": "2025-03-12T22:08:33.054Z"
   },
   {
    "duration": 4,
    "start_time": "2025-03-12T22:08:39.414Z"
   },
   {
    "duration": 8,
    "start_time": "2025-03-12T22:08:53.370Z"
   },
   {
    "duration": 7,
    "start_time": "2025-03-12T22:08:58.669Z"
   },
   {
    "duration": 106,
    "start_time": "2025-03-12T22:19:28.963Z"
   },
   {
    "duration": 84,
    "start_time": "2025-03-12T22:20:25.076Z"
   },
   {
    "duration": 9,
    "start_time": "2025-03-12T22:20:41.671Z"
   },
   {
    "duration": 7,
    "start_time": "2025-03-12T22:21:29.402Z"
   },
   {
    "duration": 11,
    "start_time": "2025-03-12T22:21:31.845Z"
   },
   {
    "duration": 97,
    "start_time": "2025-03-12T22:21:44.649Z"
   },
   {
    "duration": 13,
    "start_time": "2025-03-12T22:21:47.224Z"
   },
   {
    "duration": 1840,
    "start_time": "2025-03-12T22:21:51.053Z"
   },
   {
    "duration": 5,
    "start_time": "2025-03-12T22:21:58.993Z"
   },
   {
    "duration": 8,
    "start_time": "2025-03-12T22:22:02.509Z"
   },
   {
    "duration": 11,
    "start_time": "2025-03-12T22:22:06.581Z"
   },
   {
    "duration": 10,
    "start_time": "2025-03-12T22:22:09.817Z"
   },
   {
    "duration": 15,
    "start_time": "2025-03-12T22:22:12.875Z"
   },
   {
    "duration": 9,
    "start_time": "2025-03-12T22:22:16.139Z"
   },
   {
    "duration": 11,
    "start_time": "2025-03-12T22:22:19.715Z"
   },
   {
    "duration": 6,
    "start_time": "2025-03-12T22:22:22.897Z"
   },
   {
    "duration": 5,
    "start_time": "2025-03-12T22:22:26.679Z"
   },
   {
    "duration": 7,
    "start_time": "2025-03-12T22:22:34.507Z"
   },
   {
    "duration": 4,
    "start_time": "2025-03-12T22:22:38.673Z"
   },
   {
    "duration": 5,
    "start_time": "2025-03-12T22:22:41.558Z"
   },
   {
    "duration": 9,
    "start_time": "2025-03-12T22:22:45.271Z"
   },
   {
    "duration": 8,
    "start_time": "2025-03-12T22:22:50.448Z"
   },
   {
    "duration": 14,
    "start_time": "2025-03-12T22:22:53.885Z"
   },
   {
    "duration": 7,
    "start_time": "2025-03-12T22:23:28.314Z"
   },
   {
    "duration": 11,
    "start_time": "2025-03-12T22:23:31.161Z"
   },
   {
    "duration": 102,
    "start_time": "2025-03-12T22:24:30.531Z"
   },
   {
    "duration": 15,
    "start_time": "2025-03-12T22:24:34.707Z"
   },
   {
    "duration": 1821,
    "start_time": "2025-03-12T22:24:38.755Z"
   },
   {
    "duration": 5,
    "start_time": "2025-03-12T22:24:54.839Z"
   },
   {
    "duration": 9,
    "start_time": "2025-03-12T22:24:58.049Z"
   },
   {
    "duration": 11,
    "start_time": "2025-03-12T22:25:02.661Z"
   },
   {
    "duration": 9,
    "start_time": "2025-03-12T22:25:06.300Z"
   },
   {
    "duration": 13,
    "start_time": "2025-03-12T22:25:10.313Z"
   },
   {
    "duration": 9,
    "start_time": "2025-03-12T22:25:14.561Z"
   },
   {
    "duration": 10,
    "start_time": "2025-03-12T22:25:17.846Z"
   },
   {
    "duration": 6,
    "start_time": "2025-03-12T22:25:22.411Z"
   },
   {
    "duration": 4,
    "start_time": "2025-03-12T22:25:27.468Z"
   },
   {
    "duration": 4,
    "start_time": "2025-03-12T22:25:31.601Z"
   },
   {
    "duration": 6,
    "start_time": "2025-03-12T22:25:47.744Z"
   },
   {
    "duration": 4,
    "start_time": "2025-03-12T22:25:52.598Z"
   },
   {
    "duration": 6,
    "start_time": "2025-03-12T22:25:57.459Z"
   },
   {
    "duration": 9,
    "start_time": "2025-03-12T22:26:01.390Z"
   },
   {
    "duration": 8,
    "start_time": "2025-03-12T22:26:05.577Z"
   },
   {
    "duration": 12,
    "start_time": "2025-03-12T22:26:08.371Z"
   },
   {
    "duration": 93,
    "start_time": "2025-03-12T22:28:03.517Z"
   },
   {
    "duration": 14,
    "start_time": "2025-03-12T22:28:06.123Z"
   },
   {
    "duration": 14,
    "start_time": "2025-03-12T22:28:10.567Z"
   },
   {
    "duration": 1934,
    "start_time": "2025-03-12T22:28:14.685Z"
   },
   {
    "duration": 5,
    "start_time": "2025-03-12T22:28:20.362Z"
   },
   {
    "duration": 9,
    "start_time": "2025-03-12T22:28:23.633Z"
   },
   {
    "duration": 11,
    "start_time": "2025-03-12T22:28:27.145Z"
   },
   {
    "duration": 9,
    "start_time": "2025-03-12T22:28:30.361Z"
   },
   {
    "duration": 14,
    "start_time": "2025-03-12T22:28:32.735Z"
   },
   {
    "duration": 9,
    "start_time": "2025-03-12T22:28:36.153Z"
   },
   {
    "duration": 11,
    "start_time": "2025-03-12T22:28:47.043Z"
   },
   {
    "duration": 6,
    "start_time": "2025-03-12T22:28:49.249Z"
   },
   {
    "duration": 5,
    "start_time": "2025-03-12T22:28:54.614Z"
   },
   {
    "duration": 6,
    "start_time": "2025-03-12T22:28:59.100Z"
   },
   {
    "duration": 4,
    "start_time": "2025-03-12T22:29:02.497Z"
   },
   {
    "duration": 6,
    "start_time": "2025-03-12T22:29:05.997Z"
   },
   {
    "duration": 10,
    "start_time": "2025-03-12T22:29:09.935Z"
   },
   {
    "duration": 9,
    "start_time": "2025-03-12T22:29:14.601Z"
   },
   {
    "duration": 13,
    "start_time": "2025-03-12T22:29:17.585Z"
   },
   {
    "duration": 12,
    "start_time": "2025-03-12T22:32:16.606Z"
   },
   {
    "duration": 7,
    "start_time": "2025-03-12T22:32:42.655Z"
   },
   {
    "duration": 11,
    "start_time": "2025-03-12T22:32:48.894Z"
   },
   {
    "duration": 94,
    "start_time": "2025-03-12T22:34:27.188Z"
   },
   {
    "duration": 1680,
    "start_time": "2025-03-12T22:34:31.135Z"
   },
   {
    "duration": 5,
    "start_time": "2025-03-12T22:34:35.599Z"
   },
   {
    "duration": 10,
    "start_time": "2025-03-12T22:34:41.179Z"
   },
   {
    "duration": 11,
    "start_time": "2025-03-12T22:34:45.909Z"
   },
   {
    "duration": 9,
    "start_time": "2025-03-12T22:34:49.166Z"
   },
   {
    "duration": 14,
    "start_time": "2025-03-12T22:34:52.282Z"
   },
   {
    "duration": 9,
    "start_time": "2025-03-12T22:34:55.602Z"
   },
   {
    "duration": 11,
    "start_time": "2025-03-12T22:35:01.089Z"
   },
   {
    "duration": 6,
    "start_time": "2025-03-12T22:35:05.852Z"
   },
   {
    "duration": 4,
    "start_time": "2025-03-12T22:35:13.009Z"
   },
   {
    "duration": 11,
    "start_time": "2025-03-12T22:35:36.866Z"
   },
   {
    "duration": 9,
    "start_time": "2025-03-12T22:35:39.891Z"
   },
   {
    "duration": 14,
    "start_time": "2025-03-12T22:35:48.850Z"
   },
   {
    "duration": 9,
    "start_time": "2025-03-12T22:35:53.908Z"
   },
   {
    "duration": 10,
    "start_time": "2025-03-12T22:35:57.900Z"
   },
   {
    "duration": 7,
    "start_time": "2025-03-12T22:36:01.293Z"
   },
   {
    "duration": 4,
    "start_time": "2025-03-12T22:36:04.627Z"
   },
   {
    "duration": 8,
    "start_time": "2025-03-12T22:36:07.584Z"
   },
   {
    "duration": 4,
    "start_time": "2025-03-12T22:36:11.544Z"
   },
   {
    "duration": 6,
    "start_time": "2025-03-12T22:36:14.132Z"
   },
   {
    "duration": 11,
    "start_time": "2025-03-12T22:36:17.347Z"
   },
   {
    "duration": 7,
    "start_time": "2025-03-12T22:36:22.018Z"
   },
   {
    "duration": 12,
    "start_time": "2025-03-12T22:36:29.969Z"
   },
   {
    "duration": 7,
    "start_time": "2025-03-12T22:37:09.425Z"
   },
   {
    "duration": 179,
    "start_time": "2025-03-12T22:37:13.193Z"
   },
   {
    "duration": 95,
    "start_time": "2025-03-12T22:37:36.793Z"
   },
   {
    "duration": 16,
    "start_time": "2025-03-12T22:37:39.902Z"
   },
   {
    "duration": 1648,
    "start_time": "2025-03-12T22:37:44.324Z"
   },
   {
    "duration": 5,
    "start_time": "2025-03-12T22:37:52.114Z"
   },
   {
    "duration": 9,
    "start_time": "2025-03-12T22:37:55.220Z"
   },
   {
    "duration": 10,
    "start_time": "2025-03-12T22:37:59.490Z"
   },
   {
    "duration": 8,
    "start_time": "2025-03-12T22:38:03.184Z"
   },
   {
    "duration": 14,
    "start_time": "2025-03-12T22:38:06.594Z"
   },
   {
    "duration": 9,
    "start_time": "2025-03-12T22:38:09.766Z"
   },
   {
    "duration": 10,
    "start_time": "2025-03-12T22:38:13.231Z"
   },
   {
    "duration": 7,
    "start_time": "2025-03-12T22:38:17.325Z"
   },
   {
    "duration": 4,
    "start_time": "2025-03-12T22:38:20.717Z"
   },
   {
    "duration": 4,
    "start_time": "2025-03-12T22:38:25.727Z"
   },
   {
    "duration": 4,
    "start_time": "2025-03-12T22:38:50.004Z"
   },
   {
    "duration": 7,
    "start_time": "2025-03-12T22:38:56.698Z"
   },
   {
    "duration": 4,
    "start_time": "2025-03-12T22:39:01.042Z"
   },
   {
    "duration": 5,
    "start_time": "2025-03-12T22:39:18.653Z"
   },
   {
    "duration": 8,
    "start_time": "2025-03-12T22:39:25.625Z"
   },
   {
    "duration": 8,
    "start_time": "2025-03-12T22:39:31.387Z"
   },
   {
    "duration": 10,
    "start_time": "2025-03-12T22:39:33.958Z"
   },
   {
    "duration": 92,
    "start_time": "2025-03-12T22:40:02.326Z"
   },
   {
    "duration": 14,
    "start_time": "2025-03-12T22:40:05.086Z"
   },
   {
    "duration": 1805,
    "start_time": "2025-03-12T22:40:08.411Z"
   },
   {
    "duration": 5,
    "start_time": "2025-03-12T22:40:15.657Z"
   },
   {
    "duration": 9,
    "start_time": "2025-03-12T22:40:19.123Z"
   },
   {
    "duration": 11,
    "start_time": "2025-03-12T22:40:23.399Z"
   },
   {
    "duration": 9,
    "start_time": "2025-03-12T22:40:26.927Z"
   },
   {
    "duration": 12,
    "start_time": "2025-03-12T22:40:30.339Z"
   },
   {
    "duration": 9,
    "start_time": "2025-03-12T22:40:37.118Z"
   },
   {
    "duration": 11,
    "start_time": "2025-03-12T22:40:41.272Z"
   },
   {
    "duration": 7,
    "start_time": "2025-03-12T22:40:46.317Z"
   },
   {
    "duration": 5,
    "start_time": "2025-03-12T22:40:51.640Z"
   },
   {
    "duration": 6,
    "start_time": "2025-03-12T22:40:58.666Z"
   },
   {
    "duration": 4,
    "start_time": "2025-03-12T22:41:04.509Z"
   },
   {
    "duration": 4,
    "start_time": "2025-03-12T22:41:11.198Z"
   },
   {
    "duration": 9,
    "start_time": "2025-03-12T22:41:14.407Z"
   },
   {
    "duration": 8,
    "start_time": "2025-03-12T22:41:22.913Z"
   },
   {
    "duration": 10,
    "start_time": "2025-03-12T22:41:25.658Z"
   },
   {
    "duration": 128,
    "start_time": "2025-03-13T10:45:49.501Z"
   },
   {
    "duration": 51,
    "start_time": "2025-03-13T14:47:35.425Z"
   },
   {
    "duration": 886,
    "start_time": "2025-03-13T14:48:00.845Z"
   },
   {
    "duration": 130,
    "start_time": "2025-03-13T14:48:02.928Z"
   },
   {
    "duration": 18,
    "start_time": "2025-03-13T14:48:06.455Z"
   },
   {
    "duration": 2050,
    "start_time": "2025-03-13T14:48:10.580Z"
   },
   {
    "duration": 7,
    "start_time": "2025-03-13T14:48:18.491Z"
   },
   {
    "duration": 11,
    "start_time": "2025-03-13T14:48:24.743Z"
   },
   {
    "duration": 16,
    "start_time": "2025-03-13T14:48:29.638Z"
   },
   {
    "duration": 9,
    "start_time": "2025-03-13T14:48:35.069Z"
   },
   {
    "duration": 15,
    "start_time": "2025-03-13T14:48:38.486Z"
   },
   {
    "duration": 11,
    "start_time": "2025-03-13T14:48:43.563Z"
   },
   {
    "duration": 11,
    "start_time": "2025-03-13T14:48:55.619Z"
   },
   {
    "duration": 7,
    "start_time": "2025-03-13T14:48:58.379Z"
   },
   {
    "duration": 6,
    "start_time": "2025-03-13T14:49:02.752Z"
   },
   {
    "duration": 5,
    "start_time": "2025-03-13T14:49:07.413Z"
   },
   {
    "duration": 6,
    "start_time": "2025-03-13T14:49:16.962Z"
   },
   {
    "duration": 5,
    "start_time": "2025-03-13T14:49:21.255Z"
   },
   {
    "duration": 5,
    "start_time": "2025-03-13T14:49:27.449Z"
   },
   {
    "duration": 10,
    "start_time": "2025-03-13T14:49:34.444Z"
   },
   {
    "duration": 8,
    "start_time": "2025-03-13T14:49:39.535Z"
   },
   {
    "duration": 11,
    "start_time": "2025-03-13T14:49:42.318Z"
   },
   {
    "duration": 9,
    "start_time": "2025-03-13T14:49:51.902Z"
   },
   {
    "duration": 8,
    "start_time": "2025-03-13T14:49:58.772Z"
   },
   {
    "duration": 16,
    "start_time": "2025-03-13T14:50:04.725Z"
   },
   {
    "duration": 25,
    "start_time": "2025-03-13T14:50:10.834Z"
   },
   {
    "duration": 20,
    "start_time": "2025-03-13T14:50:15.974Z"
   },
   {
    "duration": 64,
    "start_time": "2025-03-13T14:50:24.434Z"
   },
   {
    "duration": 26,
    "start_time": "2025-03-13T14:50:41.269Z"
   },
   {
    "duration": 84,
    "start_time": "2025-03-13T14:50:48.410Z"
   },
   {
    "duration": 8,
    "start_time": "2025-03-13T14:50:58.794Z"
   },
   {
    "duration": 6,
    "start_time": "2025-03-13T14:51:04.511Z"
   },
   {
    "duration": 10,
    "start_time": "2025-03-13T14:51:19.759Z"
   },
   {
    "duration": 14,
    "start_time": "2025-03-13T14:51:45.614Z"
   },
   {
    "duration": 118,
    "start_time": "2025-03-13T14:52:18.295Z"
   },
   {
    "duration": 8,
    "start_time": "2025-03-13T14:52:25.027Z"
   },
   {
    "duration": 24,
    "start_time": "2025-03-13T14:52:30.825Z"
   },
   {
    "duration": 4,
    "start_time": "2025-03-13T14:52:39.452Z"
   },
   {
    "duration": 7,
    "start_time": "2025-03-13T14:52:48.387Z"
   },
   {
    "duration": 8,
    "start_time": "2025-03-13T14:53:18.979Z"
   },
   {
    "duration": 132,
    "start_time": "2025-03-13T14:53:33.978Z"
   },
   {
    "duration": 10,
    "start_time": "2025-03-13T14:53:40.183Z"
   },
   {
    "duration": 10,
    "start_time": "2025-03-13T14:53:57.410Z"
   },
   {
    "duration": 10,
    "start_time": "2025-03-13T15:01:43.634Z"
   },
   {
    "duration": 11,
    "start_time": "2025-03-13T15:01:51.284Z"
   },
   {
    "duration": 11,
    "start_time": "2025-03-13T15:02:21.189Z"
   },
   {
    "duration": 11,
    "start_time": "2025-03-13T15:02:24.946Z"
   },
   {
    "duration": 63,
    "start_time": "2025-03-13T15:11:43.707Z"
   },
   {
    "duration": 15,
    "start_time": "2025-03-13T15:13:46.252Z"
   },
   {
    "duration": 25,
    "start_time": "2025-03-13T15:14:00.041Z"
   },
   {
    "duration": 2,
    "start_time": "2025-03-13T15:36:47.852Z"
   },
   {
    "duration": 4,
    "start_time": "2025-03-13T16:27:11.771Z"
   },
   {
    "duration": 7,
    "start_time": "2025-03-13T16:28:20.918Z"
   },
   {
    "duration": 8,
    "start_time": "2025-03-13T16:29:36.459Z"
   },
   {
    "duration": 8,
    "start_time": "2025-03-13T16:30:41.484Z"
   },
   {
    "duration": 119,
    "start_time": "2025-03-13T16:32:48.485Z"
   },
   {
    "duration": 32,
    "start_time": "2025-03-13T16:40:09.663Z"
   },
   {
    "duration": 110,
    "start_time": "2025-03-13T16:47:20.545Z"
   },
   {
    "duration": 9,
    "start_time": "2025-03-13T16:49:27.925Z"
   },
   {
    "duration": 9,
    "start_time": "2025-03-13T16:51:43.332Z"
   },
   {
    "duration": 8,
    "start_time": "2025-03-13T17:14:57.335Z"
   },
   {
    "duration": 89,
    "start_time": "2025-03-13T17:17:14.899Z"
   },
   {
    "duration": 43,
    "start_time": "2025-03-13T17:17:22.282Z"
   },
   {
    "duration": 46,
    "start_time": "2025-03-13T17:17:45.058Z"
   },
   {
    "duration": 33,
    "start_time": "2025-03-13T17:21:22.453Z"
   },
   {
    "duration": 75,
    "start_time": "2025-03-13T17:45:57.340Z"
   },
   {
    "duration": 5,
    "start_time": "2025-03-13T17:46:08.412Z"
   },
   {
    "duration": 4,
    "start_time": "2025-03-13T17:46:43.378Z"
   },
   {
    "duration": 15,
    "start_time": "2025-03-13T17:49:08.503Z"
   },
   {
    "duration": 8,
    "start_time": "2025-03-13T17:52:07.269Z"
   },
   {
    "duration": 4,
    "start_time": "2025-03-13T17:52:30.405Z"
   },
   {
    "duration": 8,
    "start_time": "2025-03-13T17:54:27.777Z"
   },
   {
    "duration": 9,
    "start_time": "2025-03-13T17:54:37.593Z"
   },
   {
    "duration": 5,
    "start_time": "2025-03-13T17:55:04.413Z"
   },
   {
    "duration": 5,
    "start_time": "2025-03-13T17:55:43.294Z"
   },
   {
    "duration": 5,
    "start_time": "2025-03-13T17:56:36.302Z"
   },
   {
    "duration": 6,
    "start_time": "2025-03-13T17:57:19.091Z"
   },
   {
    "duration": 5,
    "start_time": "2025-03-13T17:59:29.627Z"
   },
   {
    "duration": 6,
    "start_time": "2025-03-13T17:59:55.616Z"
   },
   {
    "duration": 6,
    "start_time": "2025-03-13T18:02:58.575Z"
   },
   {
    "duration": 6,
    "start_time": "2025-03-13T18:03:09.103Z"
   },
   {
    "duration": 84,
    "start_time": "2025-03-13T18:05:12.107Z"
   },
   {
    "duration": 21,
    "start_time": "2025-03-13T18:32:18.914Z"
   },
   {
    "duration": 27,
    "start_time": "2025-03-13T18:32:33.550Z"
   },
   {
    "duration": 7,
    "start_time": "2025-03-13T18:33:28.345Z"
   },
   {
    "duration": 28,
    "start_time": "2025-03-13T18:33:30.914Z"
   },
   {
    "duration": 5,
    "start_time": "2025-03-13T18:35:07.235Z"
   },
   {
    "duration": 27,
    "start_time": "2025-03-13T18:35:11.023Z"
   },
   {
    "duration": 27,
    "start_time": "2025-03-13T18:36:22.500Z"
   },
   {
    "duration": 5,
    "start_time": "2025-03-13T18:37:12.408Z"
   },
   {
    "duration": 27,
    "start_time": "2025-03-13T18:37:14.896Z"
   },
   {
    "duration": 4,
    "start_time": "2025-03-13T18:37:49.851Z"
   },
   {
    "duration": 25,
    "start_time": "2025-03-13T18:37:52.687Z"
   },
   {
    "duration": 12,
    "start_time": "2025-03-14T09:27:16.974Z"
   },
   {
    "duration": 25,
    "start_time": "2025-03-14T09:54:00.403Z"
   },
   {
    "duration": 26,
    "start_time": "2025-03-14T09:57:14.831Z"
   },
   {
    "duration": 3,
    "start_time": "2025-03-14T09:57:52.025Z"
   },
   {
    "duration": 8,
    "start_time": "2025-03-14T09:57:56.508Z"
   },
   {
    "duration": 25,
    "start_time": "2025-03-14T09:58:38.960Z"
   },
   {
    "duration": 410,
    "start_time": "2025-03-14T10:02:10.394Z"
   },
   {
    "duration": 25,
    "start_time": "2025-03-14T10:02:14.866Z"
   },
   {
    "duration": 5,
    "start_time": "2025-03-14T10:07:32.799Z"
   },
   {
    "duration": 26,
    "start_time": "2025-03-14T10:07:55.530Z"
   },
   {
    "duration": 4,
    "start_time": "2025-03-14T10:08:57.955Z"
   },
   {
    "duration": 27,
    "start_time": "2025-03-14T10:09:00.249Z"
   },
   {
    "duration": 8,
    "start_time": "2025-03-14T10:22:16.626Z"
   },
   {
    "duration": 8,
    "start_time": "2025-03-14T10:22:27.638Z"
   },
   {
    "duration": 32,
    "start_time": "2025-03-14T10:23:00.318Z"
   },
   {
    "duration": 84,
    "start_time": "2025-03-14T10:23:18.870Z"
   },
   {
    "duration": 39,
    "start_time": "2025-03-14T10:26:19.815Z"
   },
   {
    "duration": 9,
    "start_time": "2025-03-14T11:14:21.420Z"
   },
   {
    "duration": 82,
    "start_time": "2025-03-14T11:14:36.158Z"
   },
   {
    "duration": 6,
    "start_time": "2025-03-14T11:15:34.918Z"
   },
   {
    "duration": 1660,
    "start_time": "2025-03-14T11:17:12.803Z"
   },
   {
    "duration": 6,
    "start_time": "2025-03-14T11:17:36.180Z"
   },
   {
    "duration": 4,
    "start_time": "2025-03-14T11:18:07.902Z"
   },
   {
    "duration": 5,
    "start_time": "2025-03-14T11:18:30.685Z"
   },
   {
    "duration": 9,
    "start_time": "2025-03-14T11:19:59.397Z"
   },
   {
    "duration": 11,
    "start_time": "2025-03-14T11:20:09.546Z"
   },
   {
    "duration": 5,
    "start_time": "2025-03-14T11:22:53.796Z"
   },
   {
    "duration": 39,
    "start_time": "2025-03-14T11:23:26.989Z"
   },
   {
    "duration": 114,
    "start_time": "2025-03-14T11:32:59.802Z"
   },
   {
    "duration": 17,
    "start_time": "2025-03-14T11:33:04.601Z"
   },
   {
    "duration": 2075,
    "start_time": "2025-03-14T11:33:10.627Z"
   },
   {
    "duration": 7,
    "start_time": "2025-03-14T11:33:16.468Z"
   },
   {
    "duration": 15,
    "start_time": "2025-03-14T11:33:20.363Z"
   },
   {
    "duration": 11,
    "start_time": "2025-03-14T11:33:25.335Z"
   },
   {
    "duration": 9,
    "start_time": "2025-03-14T11:33:29.188Z"
   },
   {
    "duration": 16,
    "start_time": "2025-03-14T11:33:32.723Z"
   },
   {
    "duration": 12,
    "start_time": "2025-03-14T11:33:36.004Z"
   },
   {
    "duration": 12,
    "start_time": "2025-03-14T11:33:43.750Z"
   },
   {
    "duration": 7,
    "start_time": "2025-03-14T11:33:47.630Z"
   },
   {
    "duration": 5,
    "start_time": "2025-03-14T11:33:53.398Z"
   },
   {
    "duration": 7,
    "start_time": "2025-03-14T11:33:59.211Z"
   },
   {
    "duration": 5,
    "start_time": "2025-03-14T11:34:03.071Z"
   },
   {
    "duration": 5,
    "start_time": "2025-03-14T11:34:05.874Z"
   },
   {
    "duration": 10,
    "start_time": "2025-03-14T11:34:08.970Z"
   },
   {
    "duration": 8,
    "start_time": "2025-03-14T11:34:17.670Z"
   },
   {
    "duration": 11,
    "start_time": "2025-03-14T11:34:20.950Z"
   },
   {
    "duration": 10,
    "start_time": "2025-03-14T11:34:28.540Z"
   },
   {
    "duration": 8,
    "start_time": "2025-03-14T11:34:33.770Z"
   },
   {
    "duration": 16,
    "start_time": "2025-03-14T11:34:41.710Z"
   },
   {
    "duration": 35,
    "start_time": "2025-03-14T11:34:57.329Z"
   },
   {
    "duration": 7,
    "start_time": "2025-03-14T11:51:49.551Z"
   },
   {
    "duration": 13,
    "start_time": "2025-03-14T11:56:42.062Z"
   },
   {
    "duration": 9,
    "start_time": "2025-03-14T11:56:53.815Z"
   },
   {
    "duration": 5,
    "start_time": "2025-03-14T11:57:06.168Z"
   },
   {
    "duration": 133,
    "start_time": "2025-03-14T11:58:15.710Z"
   },
   {
    "duration": 82,
    "start_time": "2025-03-14T11:59:09.015Z"
   },
   {
    "duration": 3,
    "start_time": "2025-03-14T12:00:26.967Z"
   },
   {
    "duration": 81,
    "start_time": "2025-03-14T12:02:39.406Z"
   },
   {
    "duration": 4,
    "start_time": "2025-03-14T12:02:51.408Z"
   },
   {
    "duration": 32,
    "start_time": "2025-03-14T12:02:56.911Z"
   },
   {
    "duration": 32,
    "start_time": "2025-03-14T12:04:40.826Z"
   },
   {
    "duration": 130,
    "start_time": "2025-03-14T12:04:51.479Z"
   },
   {
    "duration": 86,
    "start_time": "2025-03-14T12:05:01.373Z"
   },
   {
    "duration": 29,
    "start_time": "2025-03-14T12:05:22.446Z"
   },
   {
    "duration": 34,
    "start_time": "2025-03-14T12:05:54.105Z"
   },
   {
    "duration": 86,
    "start_time": "2025-03-14T12:07:53.330Z"
   },
   {
    "duration": 85,
    "start_time": "2025-03-14T12:08:02.922Z"
   },
   {
    "duration": 13,
    "start_time": "2025-03-14T12:08:27.570Z"
   },
   {
    "duration": 11,
    "start_time": "2025-03-14T12:08:47.424Z"
   },
   {
    "duration": 5,
    "start_time": "2025-03-14T12:11:49.124Z"
   },
   {
    "duration": 10,
    "start_time": "2025-03-14T12:12:00.487Z"
   },
   {
    "duration": 9,
    "start_time": "2025-03-14T12:12:03.617Z"
   },
   {
    "duration": 4,
    "start_time": "2025-03-14T12:12:07.240Z"
   },
   {
    "duration": 9,
    "start_time": "2025-03-14T12:15:50.626Z"
   },
   {
    "duration": 4,
    "start_time": "2025-03-14T12:15:55.122Z"
   },
   {
    "duration": 8,
    "start_time": "2025-03-14T12:17:32.177Z"
   },
   {
    "duration": 8,
    "start_time": "2025-03-14T12:18:43.642Z"
   },
   {
    "duration": 123,
    "start_time": "2025-03-14T12:19:38.656Z"
   },
   {
    "duration": 15,
    "start_time": "2025-03-14T12:19:40.973Z"
   },
   {
    "duration": 2110,
    "start_time": "2025-03-14T12:19:46.702Z"
   },
   {
    "duration": 6,
    "start_time": "2025-03-14T12:19:53.614Z"
   },
   {
    "duration": 11,
    "start_time": "2025-03-14T12:19:56.970Z"
   },
   {
    "duration": 12,
    "start_time": "2025-03-14T12:20:00.555Z"
   },
   {
    "duration": 11,
    "start_time": "2025-03-14T12:20:03.929Z"
   },
   {
    "duration": 16,
    "start_time": "2025-03-14T12:20:07.506Z"
   },
   {
    "duration": 11,
    "start_time": "2025-03-14T12:20:11.072Z"
   },
   {
    "duration": 13,
    "start_time": "2025-03-14T12:20:15.549Z"
   },
   {
    "duration": 8,
    "start_time": "2025-03-14T12:20:19.382Z"
   },
   {
    "duration": 6,
    "start_time": "2025-03-14T12:20:24.168Z"
   },
   {
    "duration": 7,
    "start_time": "2025-03-14T12:20:26.807Z"
   },
   {
    "duration": 5,
    "start_time": "2025-03-14T12:20:30.213Z"
   },
   {
    "duration": 5,
    "start_time": "2025-03-14T12:20:33.230Z"
   },
   {
    "duration": 10,
    "start_time": "2025-03-14T12:20:35.645Z"
   },
   {
    "duration": 8,
    "start_time": "2025-03-14T12:20:42.790Z"
   },
   {
    "duration": 15,
    "start_time": "2025-03-14T12:20:46.202Z"
   },
   {
    "duration": 13,
    "start_time": "2025-03-14T12:20:51.454Z"
   },
   {
    "duration": 10,
    "start_time": "2025-03-14T12:20:55.559Z"
   },
   {
    "duration": 16,
    "start_time": "2025-03-14T12:21:01.665Z"
   },
   {
    "duration": 7,
    "start_time": "2025-03-14T12:21:27.720Z"
   },
   {
    "duration": 10,
    "start_time": "2025-03-14T12:21:38.573Z"
   },
   {
    "duration": 7,
    "start_time": "2025-03-14T12:21:49.880Z"
   },
   {
    "duration": 6,
    "start_time": "2025-03-14T12:22:12.149Z"
   },
   {
    "duration": 22,
    "start_time": "2025-03-14T12:25:54.424Z"
   },
   {
    "duration": 21,
    "start_time": "2025-03-14T12:25:59.329Z"
   },
   {
    "duration": 61,
    "start_time": "2025-03-14T12:26:08.572Z"
   },
   {
    "duration": 27,
    "start_time": "2025-03-14T12:26:18.113Z"
   },
   {
    "duration": 83,
    "start_time": "2025-03-14T12:26:38.080Z"
   },
   {
    "duration": 8,
    "start_time": "2025-03-14T12:26:47.747Z"
   },
   {
    "duration": 5,
    "start_time": "2025-03-14T12:26:55.272Z"
   },
   {
    "duration": 12,
    "start_time": "2025-03-14T12:27:00.708Z"
   },
   {
    "duration": 118,
    "start_time": "2025-03-14T12:27:06.630Z"
   },
   {
    "duration": 6,
    "start_time": "2025-03-14T12:27:11.826Z"
   },
   {
    "duration": 23,
    "start_time": "2025-03-14T12:27:18.149Z"
   },
   {
    "duration": 4,
    "start_time": "2025-03-14T12:27:26.433Z"
   },
   {
    "duration": 7,
    "start_time": "2025-03-14T12:27:29.621Z"
   },
   {
    "duration": 163,
    "start_time": "2025-03-14T12:27:35.136Z"
   },
   {
    "duration": 9,
    "start_time": "2025-03-14T12:27:43.317Z"
   },
   {
    "duration": 24,
    "start_time": "2025-03-14T12:27:48.787Z"
   },
   {
    "duration": 5,
    "start_time": "2025-03-14T12:28:09.426Z"
   },
   {
    "duration": 115,
    "start_time": "2025-03-14T12:28:13.331Z"
   },
   {
    "duration": 119,
    "start_time": "2025-03-14T12:28:29.353Z"
   },
   {
    "duration": 36,
    "start_time": "2025-03-14T12:28:36.849Z"
   },
   {
    "duration": 191,
    "start_time": "2025-03-14T12:28:47.649Z"
   },
   {
    "duration": 11,
    "start_time": "2025-03-14T12:28:53.003Z"
   },
   {
    "duration": 5,
    "start_time": "2025-03-14T12:29:07.128Z"
   },
   {
    "duration": 4,
    "start_time": "2025-03-14T12:29:10.297Z"
   },
   {
    "duration": 5,
    "start_time": "2025-03-14T12:29:16.505Z"
   },
   {
    "duration": 4,
    "start_time": "2025-03-14T12:29:22.370Z"
   },
   {
    "duration": 9,
    "start_time": "2025-03-14T12:29:26.106Z"
   },
   {
    "duration": 5,
    "start_time": "2025-03-14T12:29:32.104Z"
   },
   {
    "duration": 5,
    "start_time": "2025-03-14T12:29:37.170Z"
   },
   {
    "duration": 4,
    "start_time": "2025-03-14T12:29:44.616Z"
   },
   {
    "duration": 13,
    "start_time": "2025-03-14T12:29:56.488Z"
   },
   {
    "duration": 4,
    "start_time": "2025-03-14T12:30:07.988Z"
   },
   {
    "duration": 316,
    "start_time": "2025-03-14T12:30:10.799Z"
   },
   {
    "duration": 25,
    "start_time": "2025-03-14T12:30:14.063Z"
   },
   {
    "duration": 5,
    "start_time": "2025-03-14T12:30:25.614Z"
   },
   {
    "duration": 25,
    "start_time": "2025-03-14T12:30:29.671Z"
   },
   {
    "duration": 119,
    "start_time": "2025-03-14T15:34:59.716Z"
   },
   {
    "duration": 128,
    "start_time": "2025-03-14T15:37:14.051Z"
   },
   {
    "duration": 154,
    "start_time": "2025-03-14T15:39:48.270Z"
   },
   {
    "duration": 166,
    "start_time": "2025-03-14T15:40:10.615Z"
   },
   {
    "duration": 148,
    "start_time": "2025-03-14T15:40:17.312Z"
   },
   {
    "duration": 130,
    "start_time": "2025-03-14T15:40:35.808Z"
   },
   {
    "duration": 398,
    "start_time": "2025-03-14T15:42:17.828Z"
   },
   {
    "duration": 320,
    "start_time": "2025-03-14T15:43:44.662Z"
   },
   {
    "duration": 354,
    "start_time": "2025-03-14T15:45:12.094Z"
   },
   {
    "duration": 339,
    "start_time": "2025-03-14T15:45:39.762Z"
   },
   {
    "duration": 432,
    "start_time": "2025-03-14T15:45:50.001Z"
   },
   {
    "duration": 371,
    "start_time": "2025-03-14T15:46:58.357Z"
   },
   {
    "duration": 386,
    "start_time": "2025-03-14T15:48:33.915Z"
   },
   {
    "duration": 207,
    "start_time": "2025-03-14T15:50:29.860Z"
   },
   {
    "duration": 217,
    "start_time": "2025-03-14T15:50:47.035Z"
   },
   {
    "duration": 315,
    "start_time": "2025-03-14T15:52:53.468Z"
   },
   {
    "duration": 10,
    "start_time": "2025-03-14T16:17:48.385Z"
   },
   {
    "duration": 183,
    "start_time": "2025-03-14T16:30:55.936Z"
   },
   {
    "duration": 185,
    "start_time": "2025-03-14T16:32:07.224Z"
   },
   {
    "duration": 195,
    "start_time": "2025-03-14T16:32:20.593Z"
   },
   {
    "duration": 191,
    "start_time": "2025-03-14T16:32:29.545Z"
   },
   {
    "duration": 186,
    "start_time": "2025-03-14T16:32:37.706Z"
   },
   {
    "duration": 9,
    "start_time": "2025-03-14T16:35:31.627Z"
   },
   {
    "duration": 10,
    "start_time": "2025-03-14T16:36:29.463Z"
   },
   {
    "duration": 177,
    "start_time": "2025-03-14T16:37:37.234Z"
   },
   {
    "duration": 187,
    "start_time": "2025-03-14T16:45:48.362Z"
   },
   {
    "duration": 9,
    "start_time": "2025-03-14T16:47:14.859Z"
   },
   {
    "duration": 163,
    "start_time": "2025-03-14T16:47:30.786Z"
   },
   {
    "duration": 181,
    "start_time": "2025-03-14T16:47:57.024Z"
   },
   {
    "duration": 181,
    "start_time": "2025-03-14T17:32:26.113Z"
   },
   {
    "duration": 182,
    "start_time": "2025-03-14T17:47:34.694Z"
   },
   {
    "duration": 185,
    "start_time": "2025-03-14T17:48:09.109Z"
   },
   {
    "duration": 188,
    "start_time": "2025-03-14T17:48:53.057Z"
   },
   {
    "duration": 9,
    "start_time": "2025-03-14T18:04:42.526Z"
   },
   {
    "duration": 10,
    "start_time": "2025-03-14T18:05:13.101Z"
   },
   {
    "duration": 364,
    "start_time": "2025-03-14T18:07:15.123Z"
   },
   {
    "duration": 179,
    "start_time": "2025-03-14T18:09:18.698Z"
   },
   {
    "duration": 206,
    "start_time": "2025-03-14T18:09:51.532Z"
   },
   {
    "duration": 163,
    "start_time": "2025-03-14T18:10:01.318Z"
   },
   {
    "duration": 191,
    "start_time": "2025-03-14T18:11:04.880Z"
   },
   {
    "duration": 178,
    "start_time": "2025-03-14T18:11:59.197Z"
   },
   {
    "duration": 9,
    "start_time": "2025-03-14T18:27:33.450Z"
   },
   {
    "duration": 181,
    "start_time": "2025-03-14T18:28:26.938Z"
   },
   {
    "duration": 175,
    "start_time": "2025-03-14T18:29:29.947Z"
   },
   {
    "duration": 191,
    "start_time": "2025-03-14T18:29:43.735Z"
   },
   {
    "duration": 199,
    "start_time": "2025-03-14T18:29:51.785Z"
   },
   {
    "duration": 174,
    "start_time": "2025-03-14T18:29:57.697Z"
   },
   {
    "duration": 10,
    "start_time": "2025-03-14T18:41:43.143Z"
   },
   {
    "duration": 176,
    "start_time": "2025-03-14T18:41:58.431Z"
   },
   {
    "duration": 162,
    "start_time": "2025-03-14T18:43:08.932Z"
   },
   {
    "duration": 162,
    "start_time": "2025-03-14T18:43:57.732Z"
   },
   {
    "duration": 159,
    "start_time": "2025-03-14T18:44:13.386Z"
   },
   {
    "duration": 160,
    "start_time": "2025-03-14T18:45:14.637Z"
   },
   {
    "duration": 150,
    "start_time": "2025-03-14T18:46:04.565Z"
   },
   {
    "duration": 146,
    "start_time": "2025-03-14T18:53:33.969Z"
   },
   {
    "duration": 153,
    "start_time": "2025-03-14T18:53:51.805Z"
   },
   {
    "duration": 175,
    "start_time": "2025-03-14T18:54:26.824Z"
   },
   {
    "duration": 340,
    "start_time": "2025-03-14T18:54:37.459Z"
   },
   {
    "duration": 163,
    "start_time": "2025-03-14T18:54:57.386Z"
   },
   {
    "duration": 153,
    "start_time": "2025-03-14T18:55:08.523Z"
   },
   {
    "duration": 10,
    "start_time": "2025-03-14T19:09:29.181Z"
   },
   {
    "duration": 8,
    "start_time": "2025-03-14T19:10:56.308Z"
   },
   {
    "duration": 100,
    "start_time": "2025-03-14T19:13:27.151Z"
   },
   {
    "duration": 123,
    "start_time": "2025-03-14T19:13:40.044Z"
   },
   {
    "duration": 128,
    "start_time": "2025-03-14T19:15:29.385Z"
   },
   {
    "duration": 120,
    "start_time": "2025-03-14T19:15:54.951Z"
   },
   {
    "duration": 8,
    "start_time": "2025-03-14T19:24:32.866Z"
   },
   {
    "duration": 86,
    "start_time": "2025-03-14T19:25:04.774Z"
   },
   {
    "duration": 155,
    "start_time": "2025-03-14T19:25:28.482Z"
   },
   {
    "duration": 10,
    "start_time": "2025-03-14T19:37:05.431Z"
   },
   {
    "duration": 142,
    "start_time": "2025-03-14T19:39:02.481Z"
   },
   {
    "duration": 157,
    "start_time": "2025-03-14T19:39:46.109Z"
   },
   {
    "duration": 164,
    "start_time": "2025-03-14T19:40:38.057Z"
   },
   {
    "duration": 10,
    "start_time": "2025-03-14T21:18:54.656Z"
   },
   {
    "duration": 155,
    "start_time": "2025-03-14T21:22:59.092Z"
   },
   {
    "duration": 155,
    "start_time": "2025-03-14T21:23:55.635Z"
   },
   {
    "duration": 2,
    "start_time": "2025-03-14T21:32:08.303Z"
   },
   {
    "duration": 10,
    "start_time": "2025-03-14T21:58:47.156Z"
   },
   {
    "duration": 144,
    "start_time": "2025-03-14T22:02:08.386Z"
   },
   {
    "duration": 156,
    "start_time": "2025-03-14T22:20:48.065Z"
   },
   {
    "duration": 198,
    "start_time": "2025-03-14T22:23:08.715Z"
   },
   {
    "duration": 164,
    "start_time": "2025-03-14T22:23:25.882Z"
   },
   {
    "duration": 190,
    "start_time": "2025-03-14T22:23:38.757Z"
   },
   {
    "duration": 162,
    "start_time": "2025-03-14T22:23:47.609Z"
   },
   {
    "duration": 194,
    "start_time": "2025-03-14T22:24:06.641Z"
   },
   {
    "duration": 247,
    "start_time": "2025-03-14T22:27:31.793Z"
   },
   {
    "duration": 5,
    "start_time": "2025-03-15T10:12:34.628Z"
   },
   {
    "duration": 161,
    "start_time": "2025-03-15T10:32:39.496Z"
   },
   {
    "duration": 327,
    "start_time": "2025-03-15T10:40:44.962Z"
   },
   {
    "duration": 172,
    "start_time": "2025-03-15T10:41:40.429Z"
   },
   {
    "duration": 177,
    "start_time": "2025-03-15T10:52:58.969Z"
   },
   {
    "duration": 201,
    "start_time": "2025-03-15T10:54:26.829Z"
   },
   {
    "duration": 187,
    "start_time": "2025-03-15T10:54:54.220Z"
   },
   {
    "duration": 199,
    "start_time": "2025-03-15T10:57:22.351Z"
   },
   {
    "duration": 426,
    "start_time": "2025-03-15T11:00:25.488Z"
   },
   {
    "duration": 183,
    "start_time": "2025-03-15T11:03:24.295Z"
   },
   {
    "duration": 184,
    "start_time": "2025-03-15T11:04:59.298Z"
   },
   {
    "duration": 192,
    "start_time": "2025-03-15T11:05:17.140Z"
   },
   {
    "duration": 210,
    "start_time": "2025-03-15T11:05:47.726Z"
   },
   {
    "duration": 181,
    "start_time": "2025-03-15T11:06:37.093Z"
   },
   {
    "duration": 180,
    "start_time": "2025-03-15T11:06:56.780Z"
   },
   {
    "duration": 237,
    "start_time": "2025-03-15T11:09:17.951Z"
   },
   {
    "duration": 5,
    "start_time": "2025-03-15T11:12:53.002Z"
   },
   {
    "duration": 200,
    "start_time": "2025-03-15T11:12:58.851Z"
   },
   {
    "duration": 81,
    "start_time": "2025-03-15T11:14:16.410Z"
   },
   {
    "duration": 73,
    "start_time": "2025-03-15T11:14:27.431Z"
   },
   {
    "duration": 89,
    "start_time": "2025-03-15T11:15:08.558Z"
   },
   {
    "duration": 198,
    "start_time": "2025-03-15T11:16:21.619Z"
   },
   {
    "duration": 180,
    "start_time": "2025-03-15T11:16:56.503Z"
   },
   {
    "duration": 202,
    "start_time": "2025-03-15T11:17:48.518Z"
   },
   {
    "duration": 270,
    "start_time": "2025-03-15T11:18:31.875Z"
   },
   {
    "duration": 195,
    "start_time": "2025-03-15T11:19:04.472Z"
   },
   {
    "duration": 226,
    "start_time": "2025-03-15T11:30:59.973Z"
   },
   {
    "duration": 200,
    "start_time": "2025-03-15T11:31:18.895Z"
   },
   {
    "duration": 190,
    "start_time": "2025-03-15T11:31:44.520Z"
   },
   {
    "duration": 223,
    "start_time": "2025-03-15T11:33:27.437Z"
   },
   {
    "duration": 194,
    "start_time": "2025-03-15T11:34:20.100Z"
   },
   {
    "duration": 6,
    "start_time": "2025-03-15T11:34:57.980Z"
   },
   {
    "duration": 259,
    "start_time": "2025-03-15T11:44:43.909Z"
   },
   {
    "duration": 6,
    "start_time": "2025-03-15T11:45:58.774Z"
   },
   {
    "duration": 231,
    "start_time": "2025-03-15T11:48:21.804Z"
   },
   {
    "duration": 1341,
    "start_time": "2025-03-15T11:54:54.048Z"
   },
   {
    "duration": 1391,
    "start_time": "2025-03-15T11:54:58.072Z"
   },
   {
    "duration": 238,
    "start_time": "2025-03-15T11:55:17.775Z"
   },
   {
    "duration": 5,
    "start_time": "2025-03-15T11:55:53.586Z"
   },
   {
    "duration": 218,
    "start_time": "2025-03-15T12:05:18.989Z"
   },
   {
    "duration": 197,
    "start_time": "2025-03-15T12:16:34.445Z"
   },
   {
    "duration": 18,
    "start_time": "2025-03-15T12:16:34.661Z"
   },
   {
    "duration": 201,
    "start_time": "2025-03-15T12:17:33.903Z"
   },
   {
    "duration": 210,
    "start_time": "2025-03-15T12:24:55.981Z"
   },
   {
    "duration": 218,
    "start_time": "2025-03-15T12:25:32.140Z"
   },
   {
    "duration": 6,
    "start_time": "2025-03-15T12:25:55.520Z"
   },
   {
    "duration": 1176,
    "start_time": "2025-03-15T13:16:19.662Z"
   },
   {
    "duration": 41599,
    "start_time": "2025-03-15T13:16:40.327Z"
   },
   {
    "duration": 39826,
    "start_time": "2025-03-15T13:19:56.187Z"
   },
   {
    "duration": 4,
    "start_time": "2025-03-15T13:20:59.318Z"
   },
   {
    "duration": 39664,
    "start_time": "2025-03-15T13:21:06.947Z"
   },
   {
    "duration": 0,
    "start_time": "2025-03-15T13:36:40.202Z"
   },
   {
    "duration": 0,
    "start_time": "2025-03-15T13:36:40.206Z"
   },
   {
    "duration": 11,
    "start_time": "2025-03-15T13:40:25.743Z"
   },
   {
    "duration": 6,
    "start_time": "2025-03-15T13:40:51.970Z"
   },
   {
    "duration": 9,
    "start_time": "2025-03-15T13:41:12.740Z"
   },
   {
    "duration": 9,
    "start_time": "2025-03-15T13:42:24.157Z"
   },
   {
    "duration": 5,
    "start_time": "2025-03-15T13:50:44.118Z"
   },
   {
    "duration": 6,
    "start_time": "2025-03-15T14:09:23.617Z"
   },
   {
    "duration": 3,
    "start_time": "2025-03-15T14:16:47.007Z"
   },
   {
    "duration": 9,
    "start_time": "2025-03-15T14:17:28.210Z"
   },
   {
    "duration": 6,
    "start_time": "2025-03-15T14:17:44.650Z"
   },
   {
    "duration": 23487,
    "start_time": "2025-03-15T14:19:06.572Z"
   },
   {
    "duration": 27700,
    "start_time": "2025-03-15T14:21:42.505Z"
   },
   {
    "duration": 6,
    "start_time": "2025-03-15T14:22:32.661Z"
   },
   {
    "duration": 3,
    "start_time": "2025-03-15T14:22:57.273Z"
   },
   {
    "duration": 37411,
    "start_time": "2025-03-15T14:23:50.593Z"
   },
   {
    "duration": 66847,
    "start_time": "2025-03-15T14:26:44.359Z"
   },
   {
    "duration": 216,
    "start_time": "2025-03-15T14:29:26.049Z"
   },
   {
    "duration": 7,
    "start_time": "2025-03-15T14:29:33.634Z"
   },
   {
    "duration": 43,
    "start_time": "2025-03-15T16:25:56.392Z"
   },
   {
    "duration": 1176,
    "start_time": "2025-03-15T16:34:29.768Z"
   },
   {
    "duration": 131,
    "start_time": "2025-03-15T16:35:37.456Z"
   },
   {
    "duration": 1264,
    "start_time": "2025-03-15T16:40:06.590Z"
   },
   {
    "duration": 9,
    "start_time": "2025-03-15T16:40:41.163Z"
   },
   {
    "duration": 32,
    "start_time": "2025-03-15T16:41:57.913Z"
   },
   {
    "duration": 37,
    "start_time": "2025-03-15T16:42:34.095Z"
   },
   {
    "duration": 178,
    "start_time": "2025-03-15T16:43:10.928Z"
   },
   {
    "duration": 124,
    "start_time": "2025-03-15T16:47:26.787Z"
   },
   {
    "duration": 25704,
    "start_time": "2025-03-15T17:01:07.110Z"
   },
   {
    "duration": 2035,
    "start_time": "2025-03-15T17:03:03.611Z"
   },
   {
    "duration": 27,
    "start_time": "2025-03-15T17:04:55.362Z"
   },
   {
    "duration": 85,
    "start_time": "2025-03-15T17:08:53.954Z"
   },
   {
    "duration": 9,
    "start_time": "2025-03-15T17:10:03.259Z"
   },
   {
    "duration": 30,
    "start_time": "2025-03-15T17:10:18.823Z"
   },
   {
    "duration": 35,
    "start_time": "2025-03-15T17:11:14.413Z"
   },
   {
    "duration": 41,
    "start_time": "2025-03-15T17:11:41.544Z"
   },
   {
    "duration": 34,
    "start_time": "2025-03-15T17:11:49.505Z"
   },
   {
    "duration": 34,
    "start_time": "2025-03-15T17:11:59.178Z"
   },
   {
    "duration": 33,
    "start_time": "2025-03-15T17:12:11.339Z"
   },
   {
    "duration": 346,
    "start_time": "2025-03-15T17:12:38.590Z"
   },
   {
    "duration": 31,
    "start_time": "2025-03-15T17:12:58.167Z"
   },
   {
    "duration": 32,
    "start_time": "2025-03-15T17:13:18.755Z"
   },
   {
    "duration": 27,
    "start_time": "2025-03-15T17:13:40.231Z"
   },
   {
    "duration": 146,
    "start_time": "2025-03-15T17:18:04.427Z"
   },
   {
    "duration": 43,
    "start_time": "2025-03-15T17:30:35.160Z"
   },
   {
    "duration": 163,
    "start_time": "2025-03-15T17:32:35.464Z"
   },
   {
    "duration": 185,
    "start_time": "2025-03-15T17:40:25.362Z"
   },
   {
    "duration": 156,
    "start_time": "2025-03-15T17:41:10.062Z"
   },
   {
    "duration": 153,
    "start_time": "2025-03-15T17:41:22.671Z"
   },
   {
    "duration": 169,
    "start_time": "2025-03-15T17:41:49.383Z"
   },
   {
    "duration": 191,
    "start_time": "2025-03-15T17:42:22.714Z"
   },
   {
    "duration": 186,
    "start_time": "2025-03-15T17:42:40.374Z"
   },
   {
    "duration": 188,
    "start_time": "2025-03-15T17:42:52.294Z"
   },
   {
    "duration": 71,
    "start_time": "2025-03-15T17:43:39.448Z"
   },
   {
    "duration": 185,
    "start_time": "2025-03-15T17:43:46.475Z"
   },
   {
    "duration": 193,
    "start_time": "2025-03-15T17:51:57.708Z"
   },
   {
    "duration": 102,
    "start_time": "2025-03-15T17:54:11.964Z"
   },
   {
    "duration": 197,
    "start_time": "2025-03-15T17:54:18.881Z"
   },
   {
    "duration": 83,
    "start_time": "2025-03-15T17:55:08.621Z"
   },
   {
    "duration": 193,
    "start_time": "2025-03-15T17:55:17.967Z"
   },
   {
    "duration": 28,
    "start_time": "2025-03-15T18:01:28.209Z"
   },
   {
    "duration": 135,
    "start_time": "2025-03-15T18:11:25.636Z"
   },
   {
    "duration": 170,
    "start_time": "2025-03-15T18:26:14.509Z"
   },
   {
    "duration": 168,
    "start_time": "2025-03-15T18:26:37.362Z"
   },
   {
    "duration": 26,
    "start_time": "2025-03-15T21:41:51.279Z"
   },
   {
    "duration": 129,
    "start_time": "2025-03-15T21:51:22.235Z"
   },
   {
    "duration": 82,
    "start_time": "2025-03-15T21:58:22.366Z"
   },
   {
    "duration": 75,
    "start_time": "2025-03-15T21:58:35.214Z"
   },
   {
    "duration": 26,
    "start_time": "2025-03-15T21:59:10.794Z"
   },
   {
    "duration": 20,
    "start_time": "2025-03-15T22:03:03.276Z"
   },
   {
    "duration": 26,
    "start_time": "2025-03-15T22:04:13.650Z"
   },
   {
    "duration": 12,
    "start_time": "2025-03-15T22:09:57.808Z"
   },
   {
    "duration": 26,
    "start_time": "2025-03-15T22:10:43.975Z"
   },
   {
    "duration": 28,
    "start_time": "2025-03-15T22:11:54.047Z"
   },
   {
    "duration": 26,
    "start_time": "2025-03-15T22:12:11.705Z"
   },
   {
    "duration": 26,
    "start_time": "2025-03-15T22:12:27.023Z"
   },
   {
    "duration": 27,
    "start_time": "2025-03-15T22:22:18.715Z"
   },
   {
    "duration": 25,
    "start_time": "2025-03-15T22:26:30.952Z"
   },
   {
    "duration": 27,
    "start_time": "2025-03-15T22:27:14.494Z"
   },
   {
    "duration": 222,
    "start_time": "2025-03-15T22:37:32.793Z"
   },
   {
    "duration": 183,
    "start_time": "2025-03-15T22:39:14.795Z"
   },
   {
    "duration": 175,
    "start_time": "2025-03-15T22:39:26.564Z"
   },
   {
    "duration": 180,
    "start_time": "2025-03-15T22:39:47.886Z"
   },
   {
    "duration": 183,
    "start_time": "2025-03-15T22:40:15.601Z"
   },
   {
    "duration": 27,
    "start_time": "2025-03-16T11:59:24.912Z"
   },
   {
    "duration": 27,
    "start_time": "2025-03-16T12:00:37.619Z"
   },
   {
    "duration": 193,
    "start_time": "2025-03-16T12:00:54.362Z"
   },
   {
    "duration": 18,
    "start_time": "2025-03-16T12:01:36.742Z"
   },
   {
    "duration": 5,
    "start_time": "2025-03-16T12:06:39.443Z"
   },
   {
    "duration": 100,
    "start_time": "2025-03-16T12:10:08.503Z"
   },
   {
    "duration": 74,
    "start_time": "2025-03-16T12:12:12.039Z"
   },
   {
    "duration": 23,
    "start_time": "2025-03-16T12:12:22.859Z"
   },
   {
    "duration": 22,
    "start_time": "2025-03-16T12:49:08.508Z"
   },
   {
    "duration": 30,
    "start_time": "2025-03-16T13:19:59.677Z"
   },
   {
    "duration": 36,
    "start_time": "2025-03-16T13:20:25.586Z"
   },
   {
    "duration": 29,
    "start_time": "2025-03-16T13:29:18.822Z"
   },
   {
    "duration": 38,
    "start_time": "2025-03-16T13:29:47.200Z"
   },
   {
    "duration": 111,
    "start_time": "2025-03-16T13:30:29.886Z"
   },
   {
    "duration": 37,
    "start_time": "2025-03-16T13:30:37.394Z"
   },
   {
    "duration": 49,
    "start_time": "2025-03-16T13:33:01.519Z"
   },
   {
    "duration": 313,
    "start_time": "2025-03-16T13:34:45.154Z"
   },
   {
    "duration": 210,
    "start_time": "2025-03-16T13:40:28.517Z"
   },
   {
    "duration": 237,
    "start_time": "2025-03-16T13:41:04.470Z"
   },
   {
    "duration": 229,
    "start_time": "2025-03-16T13:42:08.781Z"
   },
   {
    "duration": 201,
    "start_time": "2025-03-16T13:42:32.692Z"
   },
   {
    "duration": 28,
    "start_time": "2025-03-16T13:48:05.911Z"
   },
   {
    "duration": 8,
    "start_time": "2025-03-16T14:16:09.126Z"
   },
   {
    "duration": 8,
    "start_time": "2025-03-16T14:16:52.137Z"
   },
   {
    "duration": 43,
    "start_time": "2025-03-16T14:17:47.288Z"
   },
   {
    "duration": 12,
    "start_time": "2025-03-16T14:18:23.783Z"
   },
   {
    "duration": 3,
    "start_time": "2025-03-16T14:18:39.996Z"
   },
   {
    "duration": 8,
    "start_time": "2025-03-16T14:23:37.011Z"
   },
   {
    "duration": 21,
    "start_time": "2025-03-16T14:23:54.425Z"
   },
   {
    "duration": 26,
    "start_time": "2025-03-16T14:24:24.461Z"
   },
   {
    "duration": 25,
    "start_time": "2025-03-16T14:25:14.405Z"
   },
   {
    "duration": 25,
    "start_time": "2025-03-16T14:27:01.144Z"
   },
   {
    "duration": 24,
    "start_time": "2025-03-16T14:29:14.544Z"
   },
   {
    "duration": 84,
    "start_time": "2025-03-16T14:38:20.211Z"
   },
   {
    "duration": 171,
    "start_time": "2025-03-16T14:38:33.919Z"
   },
   {
    "duration": 181,
    "start_time": "2025-03-16T14:42:00.688Z"
   },
   {
    "duration": 42,
    "start_time": "2025-03-16T14:46:35.146Z"
   },
   {
    "duration": 195,
    "start_time": "2025-03-16T14:46:47.877Z"
   },
   {
    "duration": 234,
    "start_time": "2025-03-16T14:48:30.244Z"
   },
   {
    "duration": 14,
    "start_time": "2025-03-16T14:51:26.210Z"
   },
   {
    "duration": 172,
    "start_time": "2025-03-16T14:51:46.898Z"
   },
   {
    "duration": 16,
    "start_time": "2025-03-16T14:52:05.946Z"
   },
   {
    "duration": 189,
    "start_time": "2025-03-16T14:52:17.826Z"
   },
   {
    "duration": 188,
    "start_time": "2025-03-16T14:58:49.410Z"
   },
   {
    "duration": 227,
    "start_time": "2025-03-16T14:59:05.193Z"
   },
   {
    "duration": 170,
    "start_time": "2025-03-16T15:07:25.280Z"
   },
   {
    "duration": 160,
    "start_time": "2025-03-16T15:08:39.675Z"
   },
   {
    "duration": 171,
    "start_time": "2025-03-16T15:08:59.897Z"
   },
   {
    "duration": 203,
    "start_time": "2025-03-16T15:09:35.823Z"
   },
   {
    "duration": 172,
    "start_time": "2025-03-16T15:09:59.734Z"
   },
   {
    "duration": 176,
    "start_time": "2025-03-16T15:10:21.122Z"
   },
   {
    "duration": 25,
    "start_time": "2025-03-16T15:21:54.282Z"
   },
   {
    "duration": 174,
    "start_time": "2025-03-16T15:22:20.615Z"
   },
   {
    "duration": 183,
    "start_time": "2025-03-16T15:22:58.404Z"
   },
   {
    "duration": 77,
    "start_time": "2025-03-16T15:35:16.661Z"
   },
   {
    "duration": 81,
    "start_time": "2025-03-16T15:35:26.337Z"
   },
   {
    "duration": 60,
    "start_time": "2025-03-16T15:36:25.060Z"
   },
   {
    "duration": 21,
    "start_time": "2025-03-16T15:36:50.505Z"
   },
   {
    "duration": 177,
    "start_time": "2025-03-16T15:37:02.380Z"
   },
   {
    "duration": 33,
    "start_time": "2025-03-16T15:37:16.526Z"
   },
   {
    "duration": 145,
    "start_time": "2025-03-16T15:41:00.864Z"
   },
   {
    "duration": 187,
    "start_time": "2025-03-16T15:41:20.136Z"
   },
   {
    "duration": 49,
    "start_time": "2025-03-16T16:33:03.526Z"
   },
   {
    "duration": 60,
    "start_time": "2025-03-16T16:33:21.855Z"
   },
   {
    "duration": 98,
    "start_time": "2025-03-16T16:33:44.206Z"
   },
   {
    "duration": 43,
    "start_time": "2025-03-16T16:42:30.046Z"
   },
   {
    "duration": 11,
    "start_time": "2025-03-16T17:10:36.241Z"
   },
   {
    "duration": 15,
    "start_time": "2025-03-16T17:11:17.331Z"
   },
   {
    "duration": 27,
    "start_time": "2025-03-16T19:09:56.602Z"
   },
   {
    "duration": 658,
    "start_time": "2025-03-17T01:10:28.099Z"
   },
   {
    "duration": 126,
    "start_time": "2025-03-17T01:10:28.759Z"
   },
   {
    "duration": 15,
    "start_time": "2025-03-17T01:10:28.887Z"
   },
   {
    "duration": 1946,
    "start_time": "2025-03-17T01:10:28.904Z"
   },
   {
    "duration": 7,
    "start_time": "2025-03-17T01:10:30.851Z"
   },
   {
    "duration": 16,
    "start_time": "2025-03-17T01:10:30.859Z"
   },
   {
    "duration": 15,
    "start_time": "2025-03-17T01:10:30.876Z"
   },
   {
    "duration": 9,
    "start_time": "2025-03-17T01:10:30.892Z"
   },
   {
    "duration": 22,
    "start_time": "2025-03-17T01:10:30.903Z"
   },
   {
    "duration": 9,
    "start_time": "2025-03-17T01:10:30.926Z"
   },
   {
    "duration": 10,
    "start_time": "2025-03-17T01:10:30.937Z"
   },
   {
    "duration": 7,
    "start_time": "2025-03-17T01:10:30.974Z"
   },
   {
    "duration": 24,
    "start_time": "2025-03-17T01:10:30.983Z"
   },
   {
    "duration": 20,
    "start_time": "2025-03-17T01:10:31.010Z"
   },
   {
    "duration": 6,
    "start_time": "2025-03-17T01:10:31.031Z"
   },
   {
    "duration": 20,
    "start_time": "2025-03-17T01:10:31.038Z"
   },
   {
    "duration": 16,
    "start_time": "2025-03-17T01:10:31.059Z"
   },
   {
    "duration": 7,
    "start_time": "2025-03-17T01:10:31.077Z"
   },
   {
    "duration": 11,
    "start_time": "2025-03-17T01:10:31.085Z"
   },
   {
    "duration": 9,
    "start_time": "2025-03-17T01:10:31.098Z"
   },
   {
    "duration": 16,
    "start_time": "2025-03-17T01:10:31.109Z"
   },
   {
    "duration": 14,
    "start_time": "2025-03-17T01:10:31.127Z"
   },
   {
    "duration": 36,
    "start_time": "2025-03-17T01:10:31.142Z"
   },
   {
    "duration": 10,
    "start_time": "2025-03-17T01:10:31.180Z"
   },
   {
    "duration": 12,
    "start_time": "2025-03-17T01:10:31.191Z"
   },
   {
    "duration": 48,
    "start_time": "2025-03-17T01:10:31.204Z"
   },
   {
    "duration": 20,
    "start_time": "2025-03-17T01:10:31.253Z"
   },
   {
    "duration": 61,
    "start_time": "2025-03-17T01:10:31.275Z"
   },
   {
    "duration": 36,
    "start_time": "2025-03-17T01:10:31.337Z"
   },
   {
    "duration": 79,
    "start_time": "2025-03-17T01:10:31.375Z"
   },
   {
    "duration": 20,
    "start_time": "2025-03-17T01:10:31.455Z"
   },
   {
    "duration": 5,
    "start_time": "2025-03-17T01:10:31.477Z"
   },
   {
    "duration": 20,
    "start_time": "2025-03-17T01:10:31.483Z"
   },
   {
    "duration": 19,
    "start_time": "2025-03-17T01:10:31.504Z"
   },
   {
    "duration": 122,
    "start_time": "2025-03-17T01:10:31.524Z"
   },
   {
    "duration": 7,
    "start_time": "2025-03-17T01:10:31.648Z"
   },
   {
    "duration": 36,
    "start_time": "2025-03-17T01:10:31.656Z"
   },
   {
    "duration": 15,
    "start_time": "2025-03-17T01:10:31.694Z"
   },
   {
    "duration": 22,
    "start_time": "2025-03-17T01:10:31.711Z"
   },
   {
    "duration": 136,
    "start_time": "2025-03-17T01:10:31.735Z"
   },
   {
    "duration": 9,
    "start_time": "2025-03-17T01:10:31.877Z"
   },
   {
    "duration": 27,
    "start_time": "2025-03-17T01:10:31.888Z"
   },
   {
    "duration": 6,
    "start_time": "2025-03-17T01:10:31.916Z"
   },
   {
    "duration": 123,
    "start_time": "2025-03-17T01:10:31.923Z"
   },
   {
    "duration": 34,
    "start_time": "2025-03-17T01:10:32.048Z"
   },
   {
    "duration": 131,
    "start_time": "2025-03-17T01:10:32.084Z"
   },
   {
    "duration": 9,
    "start_time": "2025-03-17T01:10:32.216Z"
   },
   {
    "duration": 3,
    "start_time": "2025-03-17T01:10:32.226Z"
   },
   {
    "duration": 4,
    "start_time": "2025-03-17T01:10:32.231Z"
   },
   {
    "duration": 8,
    "start_time": "2025-03-17T01:10:32.237Z"
   },
   {
    "duration": 29,
    "start_time": "2025-03-17T01:10:32.247Z"
   },
   {
    "duration": 22,
    "start_time": "2025-03-17T01:10:32.277Z"
   },
   {
    "duration": 15,
    "start_time": "2025-03-17T01:10:32.301Z"
   },
   {
    "duration": 16,
    "start_time": "2025-03-17T01:10:32.318Z"
   },
   {
    "duration": 7,
    "start_time": "2025-03-17T01:10:32.335Z"
   },
   {
    "duration": 25,
    "start_time": "2025-03-17T01:10:32.343Z"
   },
   {
    "duration": 26,
    "start_time": "2025-03-17T01:10:32.370Z"
   },
   {
    "duration": 30,
    "start_time": "2025-03-17T01:10:32.397Z"
   },
   {
    "duration": 35,
    "start_time": "2025-03-17T01:10:32.428Z"
   },
   {
    "duration": 3,
    "start_time": "2025-03-17T01:10:32.464Z"
   },
   {
    "duration": 432,
    "start_time": "2025-03-17T01:10:32.469Z"
   },
   {
    "duration": 25,
    "start_time": "2025-03-17T01:10:32.903Z"
   },
   {
    "duration": 6,
    "start_time": "2025-03-17T01:10:32.930Z"
   },
   {
    "duration": 43,
    "start_time": "2025-03-17T01:10:32.937Z"
   },
   {
    "duration": 190,
    "start_time": "2025-03-17T01:10:32.982Z"
   },
   {
    "duration": 9,
    "start_time": "2025-03-17T01:10:33.174Z"
   },
   {
    "duration": 190,
    "start_time": "2025-03-17T01:10:33.185Z"
   },
   {
    "duration": 10,
    "start_time": "2025-03-17T01:10:33.377Z"
   },
   {
    "duration": 190,
    "start_time": "2025-03-17T01:10:33.389Z"
   },
   {
    "duration": 9,
    "start_time": "2025-03-17T01:10:33.581Z"
   },
   {
    "duration": 195,
    "start_time": "2025-03-17T01:10:33.592Z"
   },
   {
    "duration": 10,
    "start_time": "2025-03-17T01:10:33.789Z"
   },
   {
    "duration": 215,
    "start_time": "2025-03-17T01:10:33.801Z"
   },
   {
    "duration": 8,
    "start_time": "2025-03-17T01:10:34.019Z"
   },
   {
    "duration": 171,
    "start_time": "2025-03-17T01:10:34.029Z"
   },
   {
    "duration": 8,
    "start_time": "2025-03-17T01:10:34.202Z"
   },
   {
    "duration": 18,
    "start_time": "2025-03-17T01:10:34.212Z"
   },
   {
    "duration": 15,
    "start_time": "2025-03-17T01:10:34.231Z"
   },
   {
    "duration": 123,
    "start_time": "2025-03-17T01:10:34.248Z"
   },
   {
    "duration": 159,
    "start_time": "2025-03-17T01:10:34.373Z"
   },
   {
    "duration": 9,
    "start_time": "2025-03-17T01:10:34.533Z"
   },
   {
    "duration": 162,
    "start_time": "2025-03-17T01:10:34.543Z"
   },
   {
    "duration": 12,
    "start_time": "2025-03-17T01:10:34.706Z"
   },
   {
    "duration": 173,
    "start_time": "2025-03-17T01:10:34.720Z"
   },
   {
    "duration": 9,
    "start_time": "2025-03-17T01:10:34.895Z"
   },
   {
    "duration": 9,
    "start_time": "2025-03-17T01:10:34.905Z"
   },
   {
    "duration": 223,
    "start_time": "2025-03-17T01:10:34.916Z"
   },
   {
    "duration": 241,
    "start_time": "2025-03-17T01:10:35.141Z"
   },
   {
    "duration": 203,
    "start_time": "2025-03-17T01:10:35.384Z"
   },
   {
    "duration": 5,
    "start_time": "2025-03-17T01:10:35.589Z"
   },
   {
    "duration": 220,
    "start_time": "2025-03-17T01:10:35.595Z"
   },
   {
    "duration": 5,
    "start_time": "2025-03-17T01:10:35.816Z"
   },
   {
    "duration": 207,
    "start_time": "2025-03-17T01:10:35.823Z"
   },
   {
    "duration": 4,
    "start_time": "2025-03-17T01:10:36.032Z"
   },
   {
    "duration": 221,
    "start_time": "2025-03-17T01:10:36.038Z"
   },
   {
    "duration": 13,
    "start_time": "2025-03-17T01:10:36.261Z"
   },
   {
    "duration": 42,
    "start_time": "2025-03-17T01:10:36.276Z"
   },
   {
    "duration": 127,
    "start_time": "2025-03-17T01:10:36.319Z"
   },
   {
    "duration": 34,
    "start_time": "2025-03-17T01:10:36.449Z"
   },
   {
    "duration": 145,
    "start_time": "2025-03-17T01:10:36.484Z"
   },
   {
    "duration": 26,
    "start_time": "2025-03-17T01:10:36.630Z"
   },
   {
    "duration": 193,
    "start_time": "2025-03-17T01:10:36.658Z"
   },
   {
    "duration": 41,
    "start_time": "2025-03-17T01:10:36.852Z"
   },
   {
    "duration": 172,
    "start_time": "2025-03-17T01:10:36.895Z"
   },
   {
    "duration": 27,
    "start_time": "2025-03-17T01:10:37.073Z"
   },
   {
    "duration": 302,
    "start_time": "2025-03-17T01:10:37.101Z"
   },
   {
    "duration": 35,
    "start_time": "2025-03-17T01:10:37.405Z"
   },
   {
    "duration": 213,
    "start_time": "2025-03-17T01:10:37.442Z"
   },
   {
    "duration": 195,
    "start_time": "2025-03-17T01:10:37.656Z"
   },
   {
    "duration": 29,
    "start_time": "2025-03-17T01:10:37.853Z"
   },
   {
    "duration": 22,
    "start_time": "2025-03-17T01:10:37.884Z"
   },
   {
    "duration": 24,
    "start_time": "2025-03-17T01:10:37.908Z"
   },
   {
    "duration": 204,
    "start_time": "2025-03-17T01:10:37.933Z"
   },
   {
    "duration": 36,
    "start_time": "2025-03-17T01:10:38.138Z"
   },
   {
    "duration": 683,
    "start_time": "2025-03-17T02:08:05.876Z"
   },
   {
    "duration": 112,
    "start_time": "2025-03-17T02:08:06.561Z"
   },
   {
    "duration": 14,
    "start_time": "2025-03-17T02:08:06.675Z"
   },
   {
    "duration": 1906,
    "start_time": "2025-03-17T02:08:06.691Z"
   },
   {
    "duration": 6,
    "start_time": "2025-03-17T02:08:08.599Z"
   },
   {
    "duration": 10,
    "start_time": "2025-03-17T02:08:08.607Z"
   },
   {
    "duration": 14,
    "start_time": "2025-03-17T02:08:08.618Z"
   },
   {
    "duration": 41,
    "start_time": "2025-03-17T02:08:08.633Z"
   },
   {
    "duration": 16,
    "start_time": "2025-03-17T02:08:08.676Z"
   },
   {
    "duration": 10,
    "start_time": "2025-03-17T02:08:08.694Z"
   },
   {
    "duration": 11,
    "start_time": "2025-03-17T02:08:08.705Z"
   },
   {
    "duration": 6,
    "start_time": "2025-03-17T02:08:08.717Z"
   },
   {
    "duration": 7,
    "start_time": "2025-03-17T02:08:08.724Z"
   },
   {
    "duration": 43,
    "start_time": "2025-03-17T02:08:08.732Z"
   },
   {
    "duration": 4,
    "start_time": "2025-03-17T02:08:08.776Z"
   },
   {
    "duration": 48,
    "start_time": "2025-03-17T02:08:08.781Z"
   },
   {
    "duration": 9,
    "start_time": "2025-03-17T02:08:08.830Z"
   },
   {
    "duration": 6,
    "start_time": "2025-03-17T02:08:08.841Z"
   },
   {
    "duration": 10,
    "start_time": "2025-03-17T02:08:08.849Z"
   },
   {
    "duration": 8,
    "start_time": "2025-03-17T02:08:08.860Z"
   },
   {
    "duration": 7,
    "start_time": "2025-03-17T02:08:08.870Z"
   },
   {
    "duration": 14,
    "start_time": "2025-03-17T02:08:08.878Z"
   },
   {
    "duration": 6,
    "start_time": "2025-03-17T02:08:08.893Z"
   },
   {
    "duration": 20,
    "start_time": "2025-03-17T02:08:08.900Z"
   },
   {
    "duration": 5,
    "start_time": "2025-03-17T02:08:08.921Z"
   },
   {
    "duration": 24,
    "start_time": "2025-03-17T02:08:08.928Z"
   },
   {
    "duration": 34,
    "start_time": "2025-03-17T02:08:08.954Z"
   },
   {
    "duration": 61,
    "start_time": "2025-03-17T02:08:08.993Z"
   },
   {
    "duration": 39,
    "start_time": "2025-03-17T02:08:09.055Z"
   },
   {
    "duration": 94,
    "start_time": "2025-03-17T02:08:09.096Z"
   },
   {
    "duration": 14,
    "start_time": "2025-03-17T02:08:09.192Z"
   },
   {
    "duration": 10,
    "start_time": "2025-03-17T02:08:09.208Z"
   },
   {
    "duration": 18,
    "start_time": "2025-03-17T02:08:09.220Z"
   },
   {
    "duration": 12,
    "start_time": "2025-03-17T02:08:09.239Z"
   },
   {
    "duration": 122,
    "start_time": "2025-03-17T02:08:09.253Z"
   },
   {
    "duration": 7,
    "start_time": "2025-03-17T02:08:09.376Z"
   },
   {
    "duration": 21,
    "start_time": "2025-03-17T02:08:09.384Z"
   },
   {
    "duration": 3,
    "start_time": "2025-03-17T02:08:09.407Z"
   },
   {
    "duration": 9,
    "start_time": "2025-03-17T02:08:09.412Z"
   },
   {
    "duration": 155,
    "start_time": "2025-03-17T02:08:09.422Z"
   },
   {
    "duration": 9,
    "start_time": "2025-03-17T02:08:09.578Z"
   },
   {
    "duration": 23,
    "start_time": "2025-03-17T02:08:09.588Z"
   },
   {
    "duration": 4,
    "start_time": "2025-03-17T02:08:09.613Z"
   },
   {
    "duration": 137,
    "start_time": "2025-03-17T02:08:09.618Z"
   },
   {
    "duration": 39,
    "start_time": "2025-03-17T02:08:09.757Z"
   },
   {
    "duration": 117,
    "start_time": "2025-03-17T02:08:09.798Z"
   },
   {
    "duration": 8,
    "start_time": "2025-03-17T02:08:09.917Z"
   },
   {
    "duration": 15,
    "start_time": "2025-03-17T02:08:09.927Z"
   },
   {
    "duration": 15,
    "start_time": "2025-03-17T02:08:09.943Z"
   },
   {
    "duration": 9,
    "start_time": "2025-03-17T02:08:09.959Z"
   },
   {
    "duration": 8,
    "start_time": "2025-03-17T02:08:09.969Z"
   },
   {
    "duration": 52,
    "start_time": "2025-03-17T02:08:09.978Z"
   },
   {
    "duration": 6,
    "start_time": "2025-03-17T02:08:10.032Z"
   },
   {
    "duration": 6,
    "start_time": "2025-03-17T02:08:10.040Z"
   },
   {
    "duration": 5,
    "start_time": "2025-03-17T02:08:10.047Z"
   },
   {
    "duration": 4,
    "start_time": "2025-03-17T02:08:10.054Z"
   },
   {
    "duration": 27,
    "start_time": "2025-03-17T02:08:10.060Z"
   },
   {
    "duration": 11,
    "start_time": "2025-03-17T02:08:10.089Z"
   },
   {
    "duration": 25,
    "start_time": "2025-03-17T02:08:10.102Z"
   },
   {
    "duration": 4,
    "start_time": "2025-03-17T02:08:10.128Z"
   },
   {
    "duration": 428,
    "start_time": "2025-03-17T02:08:10.133Z"
   },
   {
    "duration": 23,
    "start_time": "2025-03-17T02:08:10.563Z"
   },
   {
    "duration": 4,
    "start_time": "2025-03-17T02:08:10.588Z"
   },
   {
    "duration": 28,
    "start_time": "2025-03-17T02:08:10.594Z"
   },
   {
    "duration": 203,
    "start_time": "2025-03-17T02:08:10.624Z"
   },
   {
    "duration": 9,
    "start_time": "2025-03-17T02:08:10.829Z"
   },
   {
    "duration": 198,
    "start_time": "2025-03-17T02:08:10.840Z"
   },
   {
    "duration": 10,
    "start_time": "2025-03-17T02:08:11.040Z"
   },
   {
    "duration": 196,
    "start_time": "2025-03-17T02:08:11.052Z"
   },
   {
    "duration": 10,
    "start_time": "2025-03-17T02:08:11.250Z"
   },
   {
    "duration": 175,
    "start_time": "2025-03-17T02:08:11.273Z"
   },
   {
    "duration": 8,
    "start_time": "2025-03-17T02:08:11.450Z"
   },
   {
    "duration": 171,
    "start_time": "2025-03-17T02:08:11.460Z"
   },
   {
    "duration": 8,
    "start_time": "2025-03-17T02:08:11.632Z"
   },
   {
    "duration": 155,
    "start_time": "2025-03-17T02:08:11.642Z"
   },
   {
    "duration": 9,
    "start_time": "2025-03-17T02:08:11.798Z"
   },
   {
    "duration": 9,
    "start_time": "2025-03-17T02:08:11.808Z"
   },
   {
    "duration": 30,
    "start_time": "2025-03-17T02:08:11.818Z"
   },
   {
    "duration": 113,
    "start_time": "2025-03-17T02:08:11.850Z"
   },
   {
    "duration": 164,
    "start_time": "2025-03-17T02:08:11.973Z"
   },
   {
    "duration": 8,
    "start_time": "2025-03-17T02:08:12.138Z"
   },
   {
    "duration": 159,
    "start_time": "2025-03-17T02:08:12.152Z"
   },
   {
    "duration": 9,
    "start_time": "2025-03-17T02:08:12.313Z"
   },
   {
    "duration": 174,
    "start_time": "2025-03-17T02:08:12.323Z"
   },
   {
    "duration": 9,
    "start_time": "2025-03-17T02:08:12.499Z"
   },
   {
    "duration": 12,
    "start_time": "2025-03-17T02:08:12.509Z"
   },
   {
    "duration": 236,
    "start_time": "2025-03-17T02:08:12.523Z"
   },
   {
    "duration": 262,
    "start_time": "2025-03-17T02:08:12.764Z"
   },
   {
    "duration": 193,
    "start_time": "2025-03-17T02:08:13.029Z"
   },
   {
    "duration": 5,
    "start_time": "2025-03-17T02:08:13.224Z"
   },
   {
    "duration": 213,
    "start_time": "2025-03-17T02:08:13.231Z"
   },
   {
    "duration": 6,
    "start_time": "2025-03-17T02:08:13.446Z"
   },
   {
    "duration": 200,
    "start_time": "2025-03-17T02:08:13.454Z"
   },
   {
    "duration": 18,
    "start_time": "2025-03-17T02:08:13.656Z"
   },
   {
    "duration": 214,
    "start_time": "2025-03-17T02:08:13.676Z"
   },
   {
    "duration": 7,
    "start_time": "2025-03-17T02:08:13.893Z"
   },
   {
    "duration": 40,
    "start_time": "2025-03-17T02:08:13.903Z"
   },
   {
    "duration": 158,
    "start_time": "2025-03-17T02:08:13.945Z"
   },
   {
    "duration": 27,
    "start_time": "2025-03-17T02:08:14.104Z"
   },
   {
    "duration": 162,
    "start_time": "2025-03-17T02:08:14.133Z"
   },
   {
    "duration": 28,
    "start_time": "2025-03-17T02:08:14.297Z"
   },
   {
    "duration": 202,
    "start_time": "2025-03-17T02:08:14.327Z"
   },
   {
    "duration": 27,
    "start_time": "2025-03-17T02:08:14.531Z"
   },
   {
    "duration": 178,
    "start_time": "2025-03-17T02:08:14.560Z"
   },
   {
    "duration": 25,
    "start_time": "2025-03-17T02:08:14.740Z"
   },
   {
    "duration": 283,
    "start_time": "2025-03-17T02:08:14.773Z"
   },
   {
    "duration": 45,
    "start_time": "2025-03-17T02:08:15.058Z"
   },
   {
    "duration": 206,
    "start_time": "2025-03-17T02:08:15.105Z"
   },
   {
    "duration": 207,
    "start_time": "2025-03-17T02:08:15.312Z"
   },
   {
    "duration": 22,
    "start_time": "2025-03-17T02:08:15.521Z"
   },
   {
    "duration": 37,
    "start_time": "2025-03-17T02:08:15.544Z"
   },
   {
    "duration": 24,
    "start_time": "2025-03-17T02:08:15.582Z"
   },
   {
    "duration": 181,
    "start_time": "2025-03-17T02:08:15.607Z"
   },
   {
    "duration": 25,
    "start_time": "2025-03-17T02:08:15.790Z"
   }
  ],
  "colab": {
   "provenance": []
  },
  "kernelspec": {
   "display_name": "Python 3 (ipykernel)",
   "language": "python",
   "name": "python3"
  },
  "language_info": {
   "codemirror_mode": {
    "name": "ipython",
    "version": 3
   },
   "file_extension": ".py",
   "mimetype": "text/x-python",
   "name": "python",
   "nbconvert_exporter": "python",
   "pygments_lexer": "ipython3",
   "version": "3.9.5"
  },
  "toc": {
   "base_numbering": 1,
   "nav_menu": {},
   "number_sections": false,
   "sideBar": true,
   "skip_h1_title": true,
   "title_cell": "Table of Contents",
   "title_sidebar": "Contents",
   "toc_cell": false,
   "toc_position": {},
   "toc_section_display": true,
   "toc_window_display": false
  }
 },
 "nbformat": 4,
 "nbformat_minor": 1
}
