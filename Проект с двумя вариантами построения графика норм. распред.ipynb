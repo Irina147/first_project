{
 "cells": [
  {
   "cell_type": "markdown",
   "id": "89d86e24",
   "metadata": {},
   "source": [
    "# **Статистический анализ данных сервиса аренды самокатов GoFast**"
   ]
  },
  {
   "cell_type": "markdown",
   "id": "1dd06e9b",
   "metadata": {},
   "source": [
    "Для работы представлены данные от сервиса аренды самокатов GoFast о некоторых пользователях из нескольких городов, а также об их поездках. \n",
    "\n",
    "**Цель исследования**:\n",
    "\n",
    "В ходе исследования предстоит изучить и обработать представленные данные, провести исследовательский анализ данных, проверить некоторые гипотезы о времени поездок, расстоянии, помесячной выручке и влиянии технических обновлений, определить минимальное число промокодов для достижения плана и построить график распределения для оценки открытия push-уведомлений. Далее необходимо сделать выводы по поставленным вопросам, что может поспособствовать росту бизнеса.  \n",
    "\n",
    "Чтобы совершать поездки по городу, пользователи сервиса GoFast пользуются мобильным приложением. Сервисом можно пользоваться:\n",
    "- без подписки\n",
    "   - абонентская плата отсутствует;\n",
    "   - стоимость одной минуты поездки — 8 рублей;\n",
    "   - стоимость старта (начала поездки) — 50 рублей;\n",
    "- с подпиской Ultra\n",
    "   - абонентская плата — 199 рублей в месяц;\n",
    "   - стоимость одной минуты поездки — 6 рублей;\n",
    "   - стоимость старта — бесплатно.  \n",
    "   \n",
    "**Представленная информация**:  \n",
    "\n",
    "В исходных данных есть информация о пользователях, их поездках и подписках, сгруппированных в файлы.\n",
    "\n",
    "1. Пользователи — `users_go.csv`:\n",
    "\n",
    "- `user_id` — уникальный идентификатор пользователя; \n",
    "- `name` — имя пользователя;\n",
    "- `age` — возраст;\n",
    "- `city` — город;\n",
    "- `subscription_type` — тип подписки (free, ultra).  \n",
    "\n",
    "2. Поездки — `rides_go.csv`:\n",
    "\n",
    "- `user_id` — уникальный идентификатор пользователя;\n",
    "- `distance` — расстояние, которое пользователь проехал в текущей сессии (в метрах);\n",
    "- `duration` — продолжительность сессии (в минутах) — время с того момента, как пользователь нажал кнопку «Начать поездку» до момента, как он нажал кнопку «Завершить поездку»;\n",
    "- `date` — дата совершения поездки.  \n",
    "\n",
    "3. Подписки — `subscriptions_go.csv`:\n",
    "\n",
    "- `subscription_type` — тип подписки;\n",
    "- `minute_price` — стоимость одной минуты поездки по данной подписке;\n",
    "- `start_ride_price` — стоимость начала поездки;\n",
    "- `subscription_fee` — стоимость ежемесячного платежа.  \n",
    "\n",
    "**Этапы исследования**:  \n",
    "\n",
    "   Шаг 0. Загрузка и настройка библиотек\n",
    "   \n",
    "1  Шаг 1. Загрузка данных\n",
    "\n",
    "2  Шаг 2. Предобработка данных  \n",
    "- 2.1  Корректировка типов данных столбцов  \n",
    "- 2.2  Добавление столбцов  \n",
    "- 2.3  Изучение и обработка пропущенных значений и дубликатов\n",
    "\n",
    "3  Шаг 3. Исследовательский анализ данных  \n",
    "- 3.1  Частота встречаемости городов  \n",
    "- 3.2  Соотношение пользователей с подпиской и без нее  \n",
    "- 3.3  Возраст пользователей  \n",
    "- 3.4  Расстояние, которое пользователь преодолел за одну поездку  \n",
    "- 3.5  Продолжительность поездок  \n",
    "\n",
    "4  Шаг 4. Объединение данных\n",
    "- 4.1  Объединение данных о пользователях, поездках и подписках в один датафрейм методом merge()\n",
    "- 4.2  Создание двух датафреймов из датафрейма, созданного на предыдущем этапе:  \n",
    "- с данными о пользователях без подписки;  \n",
    "- с данными о пользователях с подпиской;  \n",
    "- 4.3  Визуализация информации о расстоянии и времени поездок для пользователей обеих категорий \n",
    "\n",
    "5  Шаг 5. Подсчёт выручки  \n",
    "- 5.1  Создание датафрейма с агрегированными данными о поездках  \n",
    "- 5.2  Добавление столбца с помесячной выручкой, которую принес каждый пользователь\n",
    "\n",
    "6  Шаг 6. Проверка гипотез  \n",
    "- 6.1  Тратят ли пользователи с подпиской больше времени на поездки?\n",
    "- 6.2  Среднее расстояние, которое проезжают пользователи с подпиской за одну поездку, не превышает 3130 метров?\n",
    "- 6.3  Будет ли помесячная выручка от пользователей с подпиской по месяцам выше, чем выручка от пользователей без подписки?   Сделать выводы  \n",
    "- 6.4  Каким тестом проверить гипотезу о значимом снижении количества пользовательских обращений в техподдержку после обновления сервиса, с которым взаимодействует мобильное приложение? \n",
    "\n",
    "7  Шаг 7. Распределения \n",
    "\n",
    "8  Выводы \n",
    "\n",
    "\n",
    "  \n"
   ]
  },
  {
   "cell_type": "markdown",
   "id": "8c35727b",
   "metadata": {},
   "source": [
    "**Шаг 0. Загрузка и настройка библиотек**"
   ]
  },
  {
   "cell_type": "code",
   "execution_count": null,
   "id": "67e1eca1",
   "metadata": {},
   "outputs": [],
   "source": []
  },
  {
   "cell_type": "code",
   "execution_count": 352,
   "id": "29d65975",
   "metadata": {},
   "outputs": [],
   "source": [
    "import pandas as pd\n",
    "import numpy as np\n",
    "import matplotlib.pyplot as plt\n",
    "from scipy import stats as st\n",
    "from scipy.stats import binom, poisson, norm\n",
    "from math import sqrt, factorial"
   ]
  },
  {
   "cell_type": "markdown",
   "id": "c42cbe00",
   "metadata": {},
   "source": [
    "#### Шаг 1. Загрузка данных"
   ]
  },
  {
   "cell_type": "code",
   "execution_count": 274,
   "id": "d91a6345",
   "metadata": {},
   "outputs": [],
   "source": [
    "# Считываем файлы\n",
    "data_users = pd.read_csv('/datasets/users_go.csv') \n",
    "data_rides = pd.read_csv('/datasets/rides_go.csv') \n",
    "data_subscriptions = pd.read_csv('/datasets/subscriptions_go.csv') \n"
   ]
  },
  {
   "cell_type": "markdown",
   "id": "84bae478",
   "metadata": {},
   "source": [
    "<u>Датафрейм `Пользователи` - `data_users`<u>"
   ]
  },
  {
   "cell_type": "code",
   "execution_count": 275,
   "id": "79608da3",
   "metadata": {},
   "outputs": [
    {
     "data": {
      "text/html": [
       "<div>\n",
       "<style scoped>\n",
       "    .dataframe tbody tr th:only-of-type {\n",
       "        vertical-align: middle;\n",
       "    }\n",
       "\n",
       "    .dataframe tbody tr th {\n",
       "        vertical-align: top;\n",
       "    }\n",
       "\n",
       "    .dataframe thead th {\n",
       "        text-align: right;\n",
       "    }\n",
       "</style>\n",
       "<table border=\"1\" class=\"dataframe\">\n",
       "  <thead>\n",
       "    <tr style=\"text-align: right;\">\n",
       "      <th></th>\n",
       "      <th>user_id</th>\n",
       "      <th>name</th>\n",
       "      <th>age</th>\n",
       "      <th>city</th>\n",
       "      <th>subscription_type</th>\n",
       "    </tr>\n",
       "  </thead>\n",
       "  <tbody>\n",
       "    <tr>\n",
       "      <th>0</th>\n",
       "      <td>1</td>\n",
       "      <td>Кира</td>\n",
       "      <td>22</td>\n",
       "      <td>Тюмень</td>\n",
       "      <td>ultra</td>\n",
       "    </tr>\n",
       "    <tr>\n",
       "      <th>1</th>\n",
       "      <td>2</td>\n",
       "      <td>Станислав</td>\n",
       "      <td>31</td>\n",
       "      <td>Омск</td>\n",
       "      <td>ultra</td>\n",
       "    </tr>\n",
       "    <tr>\n",
       "      <th>2</th>\n",
       "      <td>3</td>\n",
       "      <td>Алексей</td>\n",
       "      <td>20</td>\n",
       "      <td>Москва</td>\n",
       "      <td>ultra</td>\n",
       "    </tr>\n",
       "    <tr>\n",
       "      <th>3</th>\n",
       "      <td>4</td>\n",
       "      <td>Константин</td>\n",
       "      <td>26</td>\n",
       "      <td>Ростов-на-Дону</td>\n",
       "      <td>ultra</td>\n",
       "    </tr>\n",
       "    <tr>\n",
       "      <th>4</th>\n",
       "      <td>5</td>\n",
       "      <td>Адель</td>\n",
       "      <td>28</td>\n",
       "      <td>Омск</td>\n",
       "      <td>ultra</td>\n",
       "    </tr>\n",
       "  </tbody>\n",
       "</table>\n",
       "</div>"
      ],
      "text/plain": [
       "   user_id        name  age            city subscription_type\n",
       "0        1        Кира   22          Тюмень             ultra\n",
       "1        2   Станислав   31            Омск             ultra\n",
       "2        3     Алексей   20          Москва             ultra\n",
       "3        4  Константин   26  Ростов-на-Дону             ultra\n",
       "4        5       Адель   28            Омск             ultra"
      ]
     },
     "execution_count": 275,
     "metadata": {},
     "output_type": "execute_result"
    }
   ],
   "source": [
    "# Смотрим первые строки\n",
    "data_users.head()"
   ]
  },
  {
   "cell_type": "code",
   "execution_count": 276,
   "id": "cb178c70",
   "metadata": {},
   "outputs": [
    {
     "name": "stdout",
     "output_type": "stream",
     "text": [
      "<class 'pandas.core.frame.DataFrame'>\n",
      "RangeIndex: 1565 entries, 0 to 1564\n",
      "Data columns (total 5 columns):\n",
      " #   Column             Non-Null Count  Dtype \n",
      "---  ------             --------------  ----- \n",
      " 0   user_id            1565 non-null   int64 \n",
      " 1   name               1565 non-null   object\n",
      " 2   age                1565 non-null   int64 \n",
      " 3   city               1565 non-null   object\n",
      " 4   subscription_type  1565 non-null   object\n",
      "dtypes: int64(2), object(3)\n",
      "memory usage: 61.3+ KB\n"
     ]
    },
    {
     "data": {
      "text/html": [
       "<div>\n",
       "<style scoped>\n",
       "    .dataframe tbody tr th:only-of-type {\n",
       "        vertical-align: middle;\n",
       "    }\n",
       "\n",
       "    .dataframe tbody tr th {\n",
       "        vertical-align: top;\n",
       "    }\n",
       "\n",
       "    .dataframe thead th {\n",
       "        text-align: right;\n",
       "    }\n",
       "</style>\n",
       "<table border=\"1\" class=\"dataframe\">\n",
       "  <thead>\n",
       "    <tr style=\"text-align: right;\">\n",
       "      <th></th>\n",
       "      <th>user_id</th>\n",
       "      <th>age</th>\n",
       "    </tr>\n",
       "  </thead>\n",
       "  <tbody>\n",
       "    <tr>\n",
       "      <th>count</th>\n",
       "      <td>1565.000000</td>\n",
       "      <td>1565.000000</td>\n",
       "    </tr>\n",
       "    <tr>\n",
       "      <th>mean</th>\n",
       "      <td>762.633866</td>\n",
       "      <td>24.922045</td>\n",
       "    </tr>\n",
       "    <tr>\n",
       "      <th>std</th>\n",
       "      <td>443.260155</td>\n",
       "      <td>4.553496</td>\n",
       "    </tr>\n",
       "    <tr>\n",
       "      <th>min</th>\n",
       "      <td>1.000000</td>\n",
       "      <td>12.000000</td>\n",
       "    </tr>\n",
       "    <tr>\n",
       "      <th>25%</th>\n",
       "      <td>378.000000</td>\n",
       "      <td>22.000000</td>\n",
       "    </tr>\n",
       "    <tr>\n",
       "      <th>50%</th>\n",
       "      <td>762.000000</td>\n",
       "      <td>25.000000</td>\n",
       "    </tr>\n",
       "    <tr>\n",
       "      <th>75%</th>\n",
       "      <td>1146.000000</td>\n",
       "      <td>28.000000</td>\n",
       "    </tr>\n",
       "    <tr>\n",
       "      <th>max</th>\n",
       "      <td>1534.000000</td>\n",
       "      <td>43.000000</td>\n",
       "    </tr>\n",
       "  </tbody>\n",
       "</table>\n",
       "</div>"
      ],
      "text/plain": [
       "           user_id          age\n",
       "count  1565.000000  1565.000000\n",
       "mean    762.633866    24.922045\n",
       "std     443.260155     4.553496\n",
       "min       1.000000    12.000000\n",
       "25%     378.000000    22.000000\n",
       "50%     762.000000    25.000000\n",
       "75%    1146.000000    28.000000\n",
       "max    1534.000000    43.000000"
      ]
     },
     "execution_count": 276,
     "metadata": {},
     "output_type": "execute_result"
    }
   ],
   "source": [
    "# Выведем основную информацию о датафрейме `Пользователи` - `data_users` с помощью метода info()\n",
    "data_users.info()\n",
    "\n",
    "# Применим также метод describe()\n",
    "data_users.describe()"
   ]
  },
  {
   "cell_type": "code",
   "execution_count": 277,
   "id": "dad402e9",
   "metadata": {},
   "outputs": [
    {
     "data": {
      "image/png": "[encoded data removed]",
      "text/plain": [
       "<Figure size 432x288 with 2 Axes>"
      ]
     },
     "metadata": {
      "needs_background": "light"
     },
     "output_type": "display_data"
    }
   ],
   "source": [
    "# Построим гистограмму для всех числовых столбцов таблицы на одном графике\n",
    "data_users.hist();"
   ]
  },
  {
   "cell_type": "markdown",
   "id": "c5123f61",
   "metadata": {},
   "source": [
    "Мы видим, что датафрейм `data_users` состоит из 5 столбцов, в которых находятся данные с типами object и int64. Общее количество индексов в таблице составляет 1 565, и такие же количества ненулевых значений во всех столбцах, поэтому предположим, что данные не содержат пропусков. Также не наблюдается особых выбросов. \n",
    "Названия столбцов соответствуют стилю `snake_case`.\n",
    "\n",
    "В столбце `user_id` максимальное значение указано как 1 534 при наличии 1 565 строк. Возможно, присутствуют дубликаты. Далее это будет проверяться."
   ]
  },
  {
   "cell_type": "markdown",
   "id": "3eb66761",
   "metadata": {},
   "source": [
    "<u>Датафрейм `Поездки` - `data_rides`<u>"
   ]
  },
  {
   "cell_type": "code",
   "execution_count": 278,
   "id": "d8451e16",
   "metadata": {},
   "outputs": [
    {
     "data": {
      "text/html": [
       "<div>\n",
       "<style scoped>\n",
       "    .dataframe tbody tr th:only-of-type {\n",
       "        vertical-align: middle;\n",
       "    }\n",
       "\n",
       "    .dataframe tbody tr th {\n",
       "        vertical-align: top;\n",
       "    }\n",
       "\n",
       "    .dataframe thead th {\n",
       "        text-align: right;\n",
       "    }\n",
       "</style>\n",
       "<table border=\"1\" class=\"dataframe\">\n",
       "  <thead>\n",
       "    <tr style=\"text-align: right;\">\n",
       "      <th></th>\n",
       "      <th>user_id</th>\n",
       "      <th>distance</th>\n",
       "      <th>duration</th>\n",
       "      <th>date</th>\n",
       "    </tr>\n",
       "  </thead>\n",
       "  <tbody>\n",
       "    <tr>\n",
       "      <th>0</th>\n",
       "      <td>1</td>\n",
       "      <td>4409.919140</td>\n",
       "      <td>25.599769</td>\n",
       "      <td>2021-01-01</td>\n",
       "    </tr>\n",
       "    <tr>\n",
       "      <th>1</th>\n",
       "      <td>1</td>\n",
       "      <td>2617.592153</td>\n",
       "      <td>15.816871</td>\n",
       "      <td>2021-01-18</td>\n",
       "    </tr>\n",
       "    <tr>\n",
       "      <th>2</th>\n",
       "      <td>1</td>\n",
       "      <td>754.159807</td>\n",
       "      <td>6.232113</td>\n",
       "      <td>2021-04-20</td>\n",
       "    </tr>\n",
       "    <tr>\n",
       "      <th>3</th>\n",
       "      <td>1</td>\n",
       "      <td>2694.783254</td>\n",
       "      <td>18.511000</td>\n",
       "      <td>2021-08-11</td>\n",
       "    </tr>\n",
       "    <tr>\n",
       "      <th>4</th>\n",
       "      <td>1</td>\n",
       "      <td>4028.687306</td>\n",
       "      <td>26.265803</td>\n",
       "      <td>2021-08-28</td>\n",
       "    </tr>\n",
       "  </tbody>\n",
       "</table>\n",
       "</div>"
      ],
      "text/plain": [
       "   user_id     distance   duration        date\n",
       "0        1  4409.919140  25.599769  2021-01-01\n",
       "1        1  2617.592153  15.816871  2021-01-18\n",
       "2        1   754.159807   6.232113  2021-04-20\n",
       "3        1  2694.783254  18.511000  2021-08-11\n",
       "4        1  4028.687306  26.265803  2021-08-28"
      ]
     },
     "execution_count": 278,
     "metadata": {},
     "output_type": "execute_result"
    }
   ],
   "source": [
    "# Смотрим первые строки\n",
    "data_rides.head()"
   ]
  },
  {
   "cell_type": "code",
   "execution_count": 279,
   "id": "e0b5cf6e",
   "metadata": {},
   "outputs": [
    {
     "name": "stdout",
     "output_type": "stream",
     "text": [
      "<class 'pandas.core.frame.DataFrame'>\n",
      "RangeIndex: 18068 entries, 0 to 18067\n",
      "Data columns (total 4 columns):\n",
      " #   Column    Non-Null Count  Dtype  \n",
      "---  ------    --------------  -----  \n",
      " 0   user_id   18068 non-null  int64  \n",
      " 1   distance  18068 non-null  float64\n",
      " 2   duration  18068 non-null  float64\n",
      " 3   date      18068 non-null  object \n",
      "dtypes: float64(2), int64(1), object(1)\n",
      "memory usage: 564.8+ KB\n"
     ]
    },
    {
     "data": {
      "text/html": [
       "<div>\n",
       "<style scoped>\n",
       "    .dataframe tbody tr th:only-of-type {\n",
       "        vertical-align: middle;\n",
       "    }\n",
       "\n",
       "    .dataframe tbody tr th {\n",
       "        vertical-align: top;\n",
       "    }\n",
       "\n",
       "    .dataframe thead th {\n",
       "        text-align: right;\n",
       "    }\n",
       "</style>\n",
       "<table border=\"1\" class=\"dataframe\">\n",
       "  <thead>\n",
       "    <tr style=\"text-align: right;\">\n",
       "      <th></th>\n",
       "      <th>user_id</th>\n",
       "      <th>distance</th>\n",
       "      <th>duration</th>\n",
       "    </tr>\n",
       "  </thead>\n",
       "  <tbody>\n",
       "    <tr>\n",
       "      <th>count</th>\n",
       "      <td>18068.000000</td>\n",
       "      <td>18068.000000</td>\n",
       "      <td>18068.000000</td>\n",
       "    </tr>\n",
       "    <tr>\n",
       "      <th>mean</th>\n",
       "      <td>842.869936</td>\n",
       "      <td>3070.659976</td>\n",
       "      <td>17.805011</td>\n",
       "    </tr>\n",
       "    <tr>\n",
       "      <th>std</th>\n",
       "      <td>434.734317</td>\n",
       "      <td>1116.831209</td>\n",
       "      <td>6.091051</td>\n",
       "    </tr>\n",
       "    <tr>\n",
       "      <th>min</th>\n",
       "      <td>1.000000</td>\n",
       "      <td>0.855683</td>\n",
       "      <td>0.500000</td>\n",
       "    </tr>\n",
       "    <tr>\n",
       "      <th>25%</th>\n",
       "      <td>487.000000</td>\n",
       "      <td>2543.226360</td>\n",
       "      <td>13.597563</td>\n",
       "    </tr>\n",
       "    <tr>\n",
       "      <th>50%</th>\n",
       "      <td>889.000000</td>\n",
       "      <td>3133.609994</td>\n",
       "      <td>17.678395</td>\n",
       "    </tr>\n",
       "    <tr>\n",
       "      <th>75%</th>\n",
       "      <td>1213.250000</td>\n",
       "      <td>3776.222735</td>\n",
       "      <td>21.724800</td>\n",
       "    </tr>\n",
       "    <tr>\n",
       "      <th>max</th>\n",
       "      <td>1534.000000</td>\n",
       "      <td>7211.007745</td>\n",
       "      <td>40.823963</td>\n",
       "    </tr>\n",
       "  </tbody>\n",
       "</table>\n",
       "</div>"
      ],
      "text/plain": [
       "            user_id      distance      duration\n",
       "count  18068.000000  18068.000000  18068.000000\n",
       "mean     842.869936   3070.659976     17.805011\n",
       "std      434.734317   1116.831209      6.091051\n",
       "min        1.000000      0.855683      0.500000\n",
       "25%      487.000000   2543.226360     13.597563\n",
       "50%      889.000000   3133.609994     17.678395\n",
       "75%     1213.250000   3776.222735     21.724800\n",
       "max     1534.000000   7211.007745     40.823963"
      ]
     },
     "execution_count": 279,
     "metadata": {},
     "output_type": "execute_result"
    }
   ],
   "source": [
    "# Выведем основную информацию о датафрейме `Поездки` - `data_rides` с помощью метода info()\n",
    "data_rides.info()\n",
    "\n",
    "# Применим также метод describe()\n",
    "data_rides.describe()"
   ]
  },
  {
   "cell_type": "code",
   "execution_count": 280,
   "id": "880ac94c",
   "metadata": {},
   "outputs": [
    {
     "data": {
      "image/png": "[encoded data removed]",
      "text/plain": [
       "<Figure size 720x720 with 4 Axes>"
      ]
     },
     "metadata": {
      "needs_background": "light"
     },
     "output_type": "display_data"
    }
   ],
   "source": [
    "# Построим гистограмму для всех числовых столбцов таблицы на одном графике\n",
    "data_rides.hist(figsize = (10, 10));"
   ]
  },
  {
   "cell_type": "markdown",
   "id": "0cc71a3e",
   "metadata": {},
   "source": [
    "Датафрейм `data_rides` состоит из 4 столбцов и 18 068 строк. В датафрейме содержатся данные с типами object, float64 и int64. Количество ненулевых значений во всех столбцах также соответствует 18 068, поэтому и в этом случае предположим, что данные не содержат пропусков. Также не наблюдается особых выбросов. Названия столбцов соответствуют стилю snake_case.\n",
    "\n",
    "Есть данные, у которых нужно изменить тип:\n",
    "\n",
    "- cтолбец `date` имеет тип данных object, что необходимо будет преобразовать в тип `datetime` в ходе предобработки данных"
   ]
  },
  {
   "cell_type": "markdown",
   "id": "933bbd65",
   "metadata": {},
   "source": [
    "<u>Датафрейм `Подписки` - `data_subscriptions`<u>"
   ]
  },
  {
   "cell_type": "code",
   "execution_count": 281,
   "id": "4648f6fc",
   "metadata": {},
   "outputs": [
    {
     "data": {
      "text/html": [
       "<div>\n",
       "<style scoped>\n",
       "    .dataframe tbody tr th:only-of-type {\n",
       "        vertical-align: middle;\n",
       "    }\n",
       "\n",
       "    .dataframe tbody tr th {\n",
       "        vertical-align: top;\n",
       "    }\n",
       "\n",
       "    .dataframe thead th {\n",
       "        text-align: right;\n",
       "    }\n",
       "</style>\n",
       "<table border=\"1\" class=\"dataframe\">\n",
       "  <thead>\n",
       "    <tr style=\"text-align: right;\">\n",
       "      <th></th>\n",
       "      <th>subscription_type</th>\n",
       "      <th>minute_price</th>\n",
       "      <th>start_ride_price</th>\n",
       "      <th>subscription_fee</th>\n",
       "    </tr>\n",
       "  </thead>\n",
       "  <tbody>\n",
       "    <tr>\n",
       "      <th>0</th>\n",
       "      <td>free</td>\n",
       "      <td>8</td>\n",
       "      <td>50</td>\n",
       "      <td>0</td>\n",
       "    </tr>\n",
       "    <tr>\n",
       "      <th>1</th>\n",
       "      <td>ultra</td>\n",
       "      <td>6</td>\n",
       "      <td>0</td>\n",
       "      <td>199</td>\n",
       "    </tr>\n",
       "  </tbody>\n",
       "</table>\n",
       "</div>"
      ],
      "text/plain": [
       "  subscription_type  minute_price  start_ride_price  subscription_fee\n",
       "0              free             8                50                 0\n",
       "1             ultra             6                 0               199"
      ]
     },
     "execution_count": 281,
     "metadata": {},
     "output_type": "execute_result"
    }
   ],
   "source": [
    "# Смотрим первые строки\n",
    "data_subscriptions.head()"
   ]
  },
  {
   "cell_type": "code",
   "execution_count": 282,
   "id": "dc8a0e69",
   "metadata": {},
   "outputs": [
    {
     "name": "stdout",
     "output_type": "stream",
     "text": [
      "<class 'pandas.core.frame.DataFrame'>\n",
      "RangeIndex: 2 entries, 0 to 1\n",
      "Data columns (total 4 columns):\n",
      " #   Column             Non-Null Count  Dtype \n",
      "---  ------             --------------  ----- \n",
      " 0   subscription_type  2 non-null      object\n",
      " 1   minute_price       2 non-null      int64 \n",
      " 2   start_ride_price   2 non-null      int64 \n",
      " 3   subscription_fee   2 non-null      int64 \n",
      "dtypes: int64(3), object(1)\n",
      "memory usage: 192.0+ bytes\n"
     ]
    }
   ],
   "source": [
    "# Выведем основную информацию о датафрейме `Подписки` - `data_subscriptions` с помощью метода info()\n",
    "data_subscriptions.info()"
   ]
  },
  {
   "cell_type": "markdown",
   "id": "678c3dc0",
   "metadata": {},
   "source": [
    "Датафрейм `data_subscriptions` состоит из 4 столбцов и 2 строк, без пропусков и выбросов. В датафрейме находятся данные с типами object и int64. Названия столбцов соответствуют стилю snake_case."
   ]
  },
  {
   "cell_type": "markdown",
   "id": "e95ebca7",
   "metadata": {},
   "source": [
    "#### Шаг 2. Предобработка данных"
   ]
  },
  {
   "cell_type": "markdown",
   "id": "b86c1626",
   "metadata": {},
   "source": [
    "##### Корректировка типов данных столбцов"
   ]
  },
  {
   "cell_type": "markdown",
   "id": "6142fabb",
   "metadata": {},
   "source": [
    "Как уже упоминалось выше, cтолбец `date` имеет тип данных `object`. Приведем этот столбец к типу datetime."
   ]
  },
  {
   "cell_type": "code",
   "execution_count": 283,
   "id": "7181ae7c",
   "metadata": {},
   "outputs": [],
   "source": [
    "# Преобразуем столбец 'date' к типу данных datetime\n",
    "data_rides['date'] = pd.to_datetime(data_rides['date'], format='%Y-%m-%d')"
   ]
  },
  {
   "cell_type": "code",
   "execution_count": 284,
   "id": "36a58a35",
   "metadata": {},
   "outputs": [
    {
     "data": {
      "text/plain": [
       "0       2021-01-01\n",
       "1       2021-01-18\n",
       "2       2021-04-20\n",
       "3       2021-08-11\n",
       "4       2021-08-28\n",
       "           ...    \n",
       "18063   2021-11-04\n",
       "18064   2021-11-16\n",
       "18065   2021-11-18\n",
       "18066   2021-11-27\n",
       "18067   2021-12-29\n",
       "Name: date, Length: 18068, dtype: datetime64[ns]"
      ]
     },
     "execution_count": 284,
     "metadata": {},
     "output_type": "execute_result"
    }
   ],
   "source": [
    "# Проверим\n",
    "data_rides['date']"
   ]
  },
  {
   "cell_type": "markdown",
   "id": "6255b7c1",
   "metadata": {},
   "source": [
    "##### Добавление столбцов"
   ]
  },
  {
   "cell_type": "markdown",
   "id": "e0c61c7c",
   "metadata": {},
   "source": [
    "Создадим новый столбец с номером месяца на основе столбца `date`.\n",
    "Но сначала проверим, за какие годы предоставлены данные, поскольку если они за несколько лет, то разные годы могут попасть в один и тот же месяц"
   ]
  },
  {
   "cell_type": "code",
   "execution_count": 285,
   "id": "a25125e4",
   "metadata": {},
   "outputs": [
    {
     "data": {
      "text/plain": [
       "array([2021])"
      ]
     },
     "execution_count": 285,
     "metadata": {},
     "output_type": "execute_result"
    }
   ],
   "source": [
    "data_rides['date'].dt.year.unique()"
   ]
  },
  {
   "cell_type": "markdown",
   "id": "b0e28356",
   "metadata": {},
   "source": [
    "Данные представлены только за один год, 2021. Можно указать номер месяца. "
   ]
  },
  {
   "cell_type": "code",
   "execution_count": 286,
   "id": "54f54a64",
   "metadata": {},
   "outputs": [],
   "source": [
    "# Создаем новый столбец с номером месяца на основе столбца date\n",
    "data_rides['month'] = data_rides['date'].dt.month"
   ]
  },
  {
   "cell_type": "code",
   "execution_count": 287,
   "id": "80295386",
   "metadata": {},
   "outputs": [
    {
     "data": {
      "text/html": [
       "<div>\n",
       "<style scoped>\n",
       "    .dataframe tbody tr th:only-of-type {\n",
       "        vertical-align: middle;\n",
       "    }\n",
       "\n",
       "    .dataframe tbody tr th {\n",
       "        vertical-align: top;\n",
       "    }\n",
       "\n",
       "    .dataframe thead th {\n",
       "        text-align: right;\n",
       "    }\n",
       "</style>\n",
       "<table border=\"1\" class=\"dataframe\">\n",
       "  <thead>\n",
       "    <tr style=\"text-align: right;\">\n",
       "      <th></th>\n",
       "      <th>user_id</th>\n",
       "      <th>distance</th>\n",
       "      <th>duration</th>\n",
       "      <th>date</th>\n",
       "      <th>month</th>\n",
       "    </tr>\n",
       "  </thead>\n",
       "  <tbody>\n",
       "    <tr>\n",
       "      <th>8734</th>\n",
       "      <td>867</td>\n",
       "      <td>2865.953213</td>\n",
       "      <td>17.115129</td>\n",
       "      <td>2021-11-20</td>\n",
       "      <td>11</td>\n",
       "    </tr>\n",
       "    <tr>\n",
       "      <th>4940</th>\n",
       "      <td>532</td>\n",
       "      <td>2923.890051</td>\n",
       "      <td>21.695560</td>\n",
       "      <td>2021-02-28</td>\n",
       "      <td>2</td>\n",
       "    </tr>\n",
       "    <tr>\n",
       "      <th>14838</th>\n",
       "      <td>1305</td>\n",
       "      <td>3529.061996</td>\n",
       "      <td>20.763540</td>\n",
       "      <td>2021-04-09</td>\n",
       "      <td>4</td>\n",
       "    </tr>\n",
       "    <tr>\n",
       "      <th>14094</th>\n",
       "      <td>1252</td>\n",
       "      <td>2804.068431</td>\n",
       "      <td>16.011624</td>\n",
       "      <td>2021-01-07</td>\n",
       "      <td>1</td>\n",
       "    </tr>\n",
       "    <tr>\n",
       "      <th>5592</th>\n",
       "      <td>596</td>\n",
       "      <td>3853.244156</td>\n",
       "      <td>17.247786</td>\n",
       "      <td>2021-08-04</td>\n",
       "      <td>8</td>\n",
       "    </tr>\n",
       "  </tbody>\n",
       "</table>\n",
       "</div>"
      ],
      "text/plain": [
       "       user_id     distance   duration       date  month\n",
       "8734       867  2865.953213  17.115129 2021-11-20     11\n",
       "4940       532  2923.890051  21.695560 2021-02-28      2\n",
       "14838     1305  3529.061996  20.763540 2021-04-09      4\n",
       "14094     1252  2804.068431  16.011624 2021-01-07      1\n",
       "5592       596  3853.244156  17.247786 2021-08-04      8"
      ]
     },
     "execution_count": 287,
     "metadata": {},
     "output_type": "execute_result"
    }
   ],
   "source": [
    "# Проверяем\n",
    "data_rides.sample(5)"
   ]
  },
  {
   "cell_type": "code",
   "execution_count": null,
   "id": "17dcbe60",
   "metadata": {},
   "outputs": [],
   "source": []
  },
  {
   "cell_type": "markdown",
   "id": "0f325ac9",
   "metadata": {},
   "source": [
    "##### Изучение и обработка пропущенных значений и дубликатов"
   ]
  },
  {
   "cell_type": "markdown",
   "id": "fd00704f",
   "metadata": {},
   "source": [
    "<u>Пропуски<u>"
   ]
  },
  {
   "cell_type": "code",
   "execution_count": 288,
   "id": "7c5cda73",
   "metadata": {},
   "outputs": [
    {
     "data": {
      "text/plain": [
       "user_id              0\n",
       "name                 0\n",
       "age                  0\n",
       "city                 0\n",
       "subscription_type    0\n",
       "dtype: int64"
      ]
     },
     "execution_count": 288,
     "metadata": {},
     "output_type": "execute_result"
    }
   ],
   "source": [
    "# Проверим наличие пропусков в data_users\n",
    "data_users.isna().sum()"
   ]
  },
  {
   "cell_type": "code",
   "execution_count": 289,
   "id": "770d025b",
   "metadata": {},
   "outputs": [
    {
     "data": {
      "text/plain": [
       "user_id     0\n",
       "distance    0\n",
       "duration    0\n",
       "date        0\n",
       "month       0\n",
       "dtype: int64"
      ]
     },
     "execution_count": 289,
     "metadata": {},
     "output_type": "execute_result"
    }
   ],
   "source": [
    "# Проверим наличие пропусков в data_rides\n",
    "data_rides.isna().sum()"
   ]
  },
  {
   "cell_type": "code",
   "execution_count": 290,
   "id": "66a1cf3a",
   "metadata": {},
   "outputs": [
    {
     "data": {
      "text/plain": [
       "subscription_type    0\n",
       "minute_price         0\n",
       "start_ride_price     0\n",
       "subscription_fee     0\n",
       "dtype: int64"
      ]
     },
     "execution_count": 290,
     "metadata": {},
     "output_type": "execute_result"
    }
   ],
   "source": [
    "# Проверим наличие пропусков в data_subscriptions\n",
    "data_subscriptions.isna().sum()"
   ]
  },
  {
   "cell_type": "markdown",
   "id": "64c7047c",
   "metadata": {},
   "source": [
    "Пропуски отсутствуют во всех трех датафреймах."
   ]
  },
  {
   "cell_type": "markdown",
   "id": "ddaac5ee",
   "metadata": {},
   "source": [
    "<u>Дубликаты<u>"
   ]
  },
  {
   "cell_type": "code",
   "execution_count": 291,
   "id": "a9a4fac8",
   "metadata": {},
   "outputs": [
    {
     "data": {
      "text/plain": [
       "31"
      ]
     },
     "execution_count": 291,
     "metadata": {},
     "output_type": "execute_result"
    }
   ],
   "source": [
    "# Проверим наличие дубликатов в data_users\n",
    "data_users.duplicated().sum()"
   ]
  },
  {
   "cell_type": "markdown",
   "id": "7e64a63d",
   "metadata": {},
   "source": [
    "Видим, что есть 31 явный дубликат."
   ]
  },
  {
   "cell_type": "code",
   "execution_count": 292,
   "id": "30fcb7d3",
   "metadata": {},
   "outputs": [
    {
     "data": {
      "text/plain": [
       "209     2\n",
       "807     2\n",
       "611     2\n",
       "43      2\n",
       "737     2\n",
       "       ..\n",
       "520     1\n",
       "519     1\n",
       "518     1\n",
       "517     1\n",
       "1534    1\n",
       "Name: user_id, Length: 1534, dtype: int64"
      ]
     },
     "execution_count": 292,
     "metadata": {},
     "output_type": "execute_result"
    }
   ],
   "source": [
    "data_users['user_id'].value_counts()"
   ]
  },
  {
   "cell_type": "code",
   "execution_count": 293,
   "id": "dbca1057",
   "metadata": {},
   "outputs": [
    {
     "data": {
      "text/html": [
       "<div>\n",
       "<style scoped>\n",
       "    .dataframe tbody tr th:only-of-type {\n",
       "        vertical-align: middle;\n",
       "    }\n",
       "\n",
       "    .dataframe tbody tr th {\n",
       "        vertical-align: top;\n",
       "    }\n",
       "\n",
       "    .dataframe thead th {\n",
       "        text-align: right;\n",
       "    }\n",
       "</style>\n",
       "<table border=\"1\" class=\"dataframe\">\n",
       "  <thead>\n",
       "    <tr style=\"text-align: right;\">\n",
       "      <th></th>\n",
       "      <th>user_id</th>\n",
       "      <th>name</th>\n",
       "      <th>age</th>\n",
       "      <th>city</th>\n",
       "      <th>subscription_type</th>\n",
       "    </tr>\n",
       "  </thead>\n",
       "  <tbody>\n",
       "    <tr>\n",
       "      <th>15</th>\n",
       "      <td>16</td>\n",
       "      <td>Амалия</td>\n",
       "      <td>27</td>\n",
       "      <td>Краснодар</td>\n",
       "      <td>ultra</td>\n",
       "    </tr>\n",
       "    <tr>\n",
       "      <th>42</th>\n",
       "      <td>43</td>\n",
       "      <td>Стефания</td>\n",
       "      <td>22</td>\n",
       "      <td>Омск</td>\n",
       "      <td>ultra</td>\n",
       "    </tr>\n",
       "    <tr>\n",
       "      <th>46</th>\n",
       "      <td>47</td>\n",
       "      <td>Юрий</td>\n",
       "      <td>28</td>\n",
       "      <td>Тюмень</td>\n",
       "      <td>ultra</td>\n",
       "    </tr>\n",
       "    <tr>\n",
       "      <th>71</th>\n",
       "      <td>72</td>\n",
       "      <td>Никита</td>\n",
       "      <td>25</td>\n",
       "      <td>Москва</td>\n",
       "      <td>ultra</td>\n",
       "    </tr>\n",
       "    <tr>\n",
       "      <th>107</th>\n",
       "      <td>108</td>\n",
       "      <td>Влада</td>\n",
       "      <td>29</td>\n",
       "      <td>Тюмень</td>\n",
       "      <td>ultra</td>\n",
       "    </tr>\n",
       "    <tr>\n",
       "      <th>...</th>\n",
       "      <td>...</td>\n",
       "      <td>...</td>\n",
       "      <td>...</td>\n",
       "      <td>...</td>\n",
       "      <td>...</td>\n",
       "    </tr>\n",
       "    <tr>\n",
       "      <th>1560</th>\n",
       "      <td>829</td>\n",
       "      <td>Федор</td>\n",
       "      <td>29</td>\n",
       "      <td>Пятигорск</td>\n",
       "      <td>free</td>\n",
       "    </tr>\n",
       "    <tr>\n",
       "      <th>1561</th>\n",
       "      <td>809</td>\n",
       "      <td>Юрий</td>\n",
       "      <td>26</td>\n",
       "      <td>Сочи</td>\n",
       "      <td>free</td>\n",
       "    </tr>\n",
       "    <tr>\n",
       "      <th>1562</th>\n",
       "      <td>307</td>\n",
       "      <td>Ясмина</td>\n",
       "      <td>19</td>\n",
       "      <td>Краснодар</td>\n",
       "      <td>ultra</td>\n",
       "    </tr>\n",
       "    <tr>\n",
       "      <th>1563</th>\n",
       "      <td>47</td>\n",
       "      <td>Юрий</td>\n",
       "      <td>28</td>\n",
       "      <td>Тюмень</td>\n",
       "      <td>ultra</td>\n",
       "    </tr>\n",
       "    <tr>\n",
       "      <th>1564</th>\n",
       "      <td>1045</td>\n",
       "      <td>Артемий</td>\n",
       "      <td>28</td>\n",
       "      <td>Ростов-на-Дону</td>\n",
       "      <td>free</td>\n",
       "    </tr>\n",
       "  </tbody>\n",
       "</table>\n",
       "<p>62 rows × 5 columns</p>\n",
       "</div>"
      ],
      "text/plain": [
       "      user_id      name  age            city subscription_type\n",
       "15         16    Амалия   27       Краснодар             ultra\n",
       "42         43  Стефания   22            Омск             ultra\n",
       "46         47      Юрий   28          Тюмень             ultra\n",
       "71         72    Никита   25          Москва             ultra\n",
       "107       108     Влада   29          Тюмень             ultra\n",
       "...       ...       ...  ...             ...               ...\n",
       "1560      829     Федор   29       Пятигорск              free\n",
       "1561      809      Юрий   26            Сочи              free\n",
       "1562      307    Ясмина   19       Краснодар             ultra\n",
       "1563       47      Юрий   28          Тюмень             ultra\n",
       "1564     1045   Артемий   28  Ростов-на-Дону              free\n",
       "\n",
       "[62 rows x 5 columns]"
      ]
     },
     "execution_count": 293,
     "metadata": {},
     "output_type": "execute_result"
    }
   ],
   "source": [
    "data_users[data_users['user_id'].duplicated(keep=False)]"
   ]
  },
  {
   "cell_type": "markdown",
   "id": "e4258126",
   "metadata": {},
   "source": [
    "Видим одинаковые строки с идентификатором пользователя 47. Посмотрим еще. "
   ]
  },
  {
   "cell_type": "code",
   "execution_count": 294,
   "id": "600c7228",
   "metadata": {},
   "outputs": [
    {
     "data": {
      "text/html": [
       "<div>\n",
       "<style scoped>\n",
       "    .dataframe tbody tr th:only-of-type {\n",
       "        vertical-align: middle;\n",
       "    }\n",
       "\n",
       "    .dataframe tbody tr th {\n",
       "        vertical-align: top;\n",
       "    }\n",
       "\n",
       "    .dataframe thead th {\n",
       "        text-align: right;\n",
       "    }\n",
       "</style>\n",
       "<table border=\"1\" class=\"dataframe\">\n",
       "  <thead>\n",
       "    <tr style=\"text-align: right;\">\n",
       "      <th></th>\n",
       "      <th>user_id</th>\n",
       "      <th>name</th>\n",
       "      <th>age</th>\n",
       "      <th>city</th>\n",
       "      <th>subscription_type</th>\n",
       "    </tr>\n",
       "  </thead>\n",
       "  <tbody>\n",
       "    <tr>\n",
       "      <th>107</th>\n",
       "      <td>108</td>\n",
       "      <td>Влада</td>\n",
       "      <td>29</td>\n",
       "      <td>Тюмень</td>\n",
       "      <td>ultra</td>\n",
       "    </tr>\n",
       "    <tr>\n",
       "      <th>1044</th>\n",
       "      <td>1045</td>\n",
       "      <td>Артемий</td>\n",
       "      <td>28</td>\n",
       "      <td>Ростов-на-Дону</td>\n",
       "      <td>free</td>\n",
       "    </tr>\n",
       "    <tr>\n",
       "      <th>1549</th>\n",
       "      <td>108</td>\n",
       "      <td>Влада</td>\n",
       "      <td>29</td>\n",
       "      <td>Тюмень</td>\n",
       "      <td>ultra</td>\n",
       "    </tr>\n",
       "    <tr>\n",
       "      <th>1564</th>\n",
       "      <td>1045</td>\n",
       "      <td>Артемий</td>\n",
       "      <td>28</td>\n",
       "      <td>Ростов-на-Дону</td>\n",
       "      <td>free</td>\n",
       "    </tr>\n",
       "  </tbody>\n",
       "</table>\n",
       "</div>"
      ],
      "text/plain": [
       "      user_id     name  age            city subscription_type\n",
       "107       108    Влада   29          Тюмень             ultra\n",
       "1044     1045  Артемий   28  Ростов-на-Дону              free\n",
       "1549      108    Влада   29          Тюмень             ultra\n",
       "1564     1045  Артемий   28  Ростов-на-Дону              free"
      ]
     },
     "execution_count": 294,
     "metadata": {},
     "output_type": "execute_result"
    }
   ],
   "source": [
    "# Посмотрим для примера строки с какими-нибудь еще одинаковыми идентификаторами\n",
    "data_users.query('user_id == 108 or user_id == 1045')"
   ]
  },
  {
   "cell_type": "markdown",
   "id": "f3ef25b1",
   "metadata": {},
   "source": [
    "Строки действительно идентичны. Нужно удалить дубликаты."
   ]
  },
  {
   "cell_type": "code",
   "execution_count": 295,
   "id": "c70a8ee4",
   "metadata": {},
   "outputs": [],
   "source": [
    "# Удалим дубликаты в data_users и сбросим индексы\n",
    "data_users = data_users.drop_duplicates().reset_index(drop = True)"
   ]
  },
  {
   "cell_type": "code",
   "execution_count": 296,
   "id": "a8d16bfc",
   "metadata": {},
   "outputs": [
    {
     "data": {
      "text/plain": [
       "0"
      ]
     },
     "execution_count": 296,
     "metadata": {},
     "output_type": "execute_result"
    }
   ],
   "source": [
    "# Проверим\n",
    "data_users.duplicated().sum()"
   ]
  },
  {
   "cell_type": "markdown",
   "id": "cc701d94",
   "metadata": {},
   "source": [
    "Теперь дубликаты в `data_users` отсутствуют."
   ]
  },
  {
   "cell_type": "code",
   "execution_count": 297,
   "id": "c55a99be",
   "metadata": {},
   "outputs": [
    {
     "data": {
      "text/plain": [
       "0"
      ]
     },
     "execution_count": 297,
     "metadata": {},
     "output_type": "execute_result"
    }
   ],
   "source": [
    "# Проверим наличие дубликатов в data_rides\n",
    "data_rides.duplicated().sum()"
   ]
  },
  {
   "cell_type": "markdown",
   "id": "ccc44760",
   "metadata": {},
   "source": [
    "Дубликаты в `data_rides` отсутствуют."
   ]
  },
  {
   "cell_type": "markdown",
   "id": "baffaf50",
   "metadata": {},
   "source": [
    "В `data_subscriptions` всего две строки, и визуально очевидно, что дубликатов нет. "
   ]
  },
  {
   "cell_type": "markdown",
   "id": "a1b37df6",
   "metadata": {},
   "source": [
    "Итоги по предобработке данных:\n",
    "\n",
    "- изменили тип данных в столбце `date` датафрейма `Поездки` - `data_rides` на `datetime` \n",
    "- обнаружили и удалили дубликаты в датафрейме `Пользователи` - `data_users`\n",
    "- cоздали новый столбец с номером месяца на основе столбца `date` в датафрейме `Поездки` - `data_rides`"
   ]
  },
  {
   "cell_type": "markdown",
   "id": "212593c7",
   "metadata": {},
   "source": [
    "#### Шаг 3. Исследовательский анализ данных"
   ]
  },
  {
   "cell_type": "markdown",
   "id": "306d7d0a",
   "metadata": {},
   "source": [
    "##### Частота встречаемости городов"
   ]
  },
  {
   "cell_type": "code",
   "execution_count": 298,
   "id": "7ea40ba2",
   "metadata": {},
   "outputs": [
    {
     "data": {
      "text/plain": [
       "Пятигорск         219\n",
       "Екатеринбург      204\n",
       "Ростов-на-Дону    198\n",
       "Краснодар         193\n",
       "Сочи              189\n",
       "Омск              183\n",
       "Тюмень            180\n",
       "Москва            168\n",
       "Name: city, dtype: int64"
      ]
     },
     "execution_count": 298,
     "metadata": {},
     "output_type": "execute_result"
    }
   ],
   "source": [
    "# Посмотрим города по количеству\n",
    "data_users['city'].value_counts()"
   ]
  },
  {
   "cell_type": "code",
   "execution_count": 299,
   "id": "48ac6add",
   "metadata": {},
   "outputs": [
    {
     "data": {
      "image/png": "[encoded data removed]",
      "text/plain": [
       "<Figure size 648x432 with 1 Axes>"
      ]
     },
     "metadata": {
      "needs_background": "light"
     },
     "output_type": "display_data"
    }
   ],
   "source": [
    "# Посмотрим на графике\n",
    "data_users['city'].value_counts().sort_values() \\\n",
    ".plot(kind='barh',\n",
    "      title='Частота встречаемости городов',\n",
    "      xlabel='Город',\n",
    "      ylabel='Количество',\n",
    "      figsize=(9, 6));"
   ]
  },
  {
   "cell_type": "markdown",
   "id": "a47f73c9",
   "metadata": {},
   "source": [
    "Из полученных данных и диаграммы видно, что чаще всего встречается Пятигорск, затем Екатеринбург и Ростов-на-Дону. На последнем месте - Москва. В целом можно заметить, что южные города располагаются выше (за исключением Екатеринбурга, находящегося на 2-м месте), возможно, потому, что в более теплом климате больше возможностей для использования самокатов, и также сезон проката продолжается дольше. "
   ]
  },
  {
   "cell_type": "markdown",
   "id": "5b387345",
   "metadata": {},
   "source": [
    "Посмотрим также структуру распределения пользователей по городам."
   ]
  },
  {
   "cell_type": "code",
   "execution_count": 300,
   "id": "36fee8f6",
   "metadata": {},
   "outputs": [
    {
     "data": {
      "image/png": "[encoded data removed]",
      "text/plain": [
       "<Figure size 504x504 with 1 Axes>"
      ]
     },
     "metadata": {},
     "output_type": "display_data"
    }
   ],
   "source": [
    "# Построим круговую диаграмму\n",
    "data_users['city'].value_counts().sort_values() \\\n",
    ".plot(kind='pie',\n",
    "      title='Структура распределения пользователей по городам',\n",
    "      autopct='%1.1f%%',\n",
    "      figsize=(7, 7),\n",
    "      startangle=90);"
   ]
  },
  {
   "cell_type": "markdown",
   "id": "e2963436",
   "metadata": {},
   "source": [
    "Структура распределения достаточно равномерная: от самой большой доли 14,3% у Пятигорска до самой меньшей 11% у Москвы.  \n",
    "\n",
    "Также ко всему вышесказанному можно добавить, что влияние на данные показатели, помимо климатических условий, может оказывать и размер города: в Пятигорске, который является не таким крупным населенным пунктом, как прочие, удобнее использовать самокат, чтобы куда-то добраться, чем, например, в Москве."
   ]
  },
  {
   "cell_type": "markdown",
   "id": "3693b31d",
   "metadata": {},
   "source": [
    "##### Соотношение пользователей с подпиской и без нее"
   ]
  },
  {
   "cell_type": "code",
   "execution_count": 301,
   "id": "b2b5c628",
   "metadata": {},
   "outputs": [
    {
     "data": {
      "image/png": "[encoded data removed]",
      "text/plain": [
       "<Figure size 504x504 with 1 Axes>"
      ]
     },
     "metadata": {},
     "output_type": "display_data"
    }
   ],
   "source": [
    "# Создадим сводную таблицу и на ее основе круговую диаграмму\n",
    "data_users.pivot_table(index='subscription_type', values='user_id', aggfunc='count') \\\n",
    ".plot(kind='pie',\n",
    "      title='Соотношение пользователей с подпиской и без подписки',\n",
    "      y='user_id',      \n",
    "      autopct='%1.0f%%',\n",
    "      colors=['orange', 'blue'],\n",
    "      figsize=(7, 7));\n",
    "      "
   ]
  },
  {
   "cell_type": "code",
   "execution_count": 302,
   "id": "99a80ce6",
   "metadata": {},
   "outputs": [
    {
     "data": {
      "text/plain": [
       "free     835\n",
       "ultra    699\n",
       "Name: subscription_type, dtype: int64"
      ]
     },
     "execution_count": 302,
     "metadata": {},
     "output_type": "execute_result"
    }
   ],
   "source": [
    "data_users['subscription_type'].value_counts()"
   ]
  },
  {
   "cell_type": "markdown",
   "id": "a5433e14",
   "metadata": {},
   "source": [
    "Количество пользователей без подписки - 835, что составляет 54% от общего количества. Количество пользователей с подпиской Ultra - 699, что составляет 46% от общего количества. Соответственно, пользователей без подписки больше, чем пользователей с подпиской."
   ]
  },
  {
   "cell_type": "markdown",
   "id": "f9cf5212",
   "metadata": {},
   "source": [
    "##### Возраст пользователей"
   ]
  },
  {
   "cell_type": "code",
   "execution_count": 303,
   "id": "96ca46ab",
   "metadata": {},
   "outputs": [
    {
     "data": {
      "text/plain": [
       "count    1534.000000\n",
       "mean       24.903520\n",
       "std         4.572367\n",
       "min        12.000000\n",
       "25%        22.000000\n",
       "50%        25.000000\n",
       "75%        28.000000\n",
       "max        43.000000\n",
       "Name: age, dtype: float64"
      ]
     },
     "execution_count": 303,
     "metadata": {},
     "output_type": "execute_result"
    }
   ],
   "source": [
    "# Посмотрим возраст пользователей\n",
    "data_users['age'].describe()"
   ]
  },
  {
   "cell_type": "code",
   "execution_count": 304,
   "id": "e88d3c6c",
   "metadata": {},
   "outputs": [
    {
     "data": {
      "image/png": "[encoded data removed]",
      "text/plain": [
       "<Figure size 720x432 with 1 Axes>"
      ]
     },
     "metadata": {
      "needs_background": "light"
     },
     "output_type": "display_data"
    }
   ],
   "source": [
    "data_users.pivot_table(index='age', values='user_id', aggfunc='count') \\\n",
    ".plot(kind='bar',\n",
    "      title='Количество пользователей по возрастам',\n",
    "      grid=True,\n",
    "      xlabel='Возраст',\n",
    "      ylabel='Количество',\n",
    "      figsize=(10, 6));"
   ]
  },
  {
   "cell_type": "markdown",
   "id": "22d44d04",
   "metadata": {},
   "source": [
    "Услугами сервиса аренды самокатов GoFast пользуются люди в возрасте от 12 до 43 лет. Максимальное количество пользователей находится в возрасте 25 лет, этот же возраст является медианным. Средний возраст составляет 24,9 лет, что практически равно медианному возрасту 25 лет."
   ]
  },
  {
   "cell_type": "markdown",
   "id": "d27c9806",
   "metadata": {},
   "source": [
    "##### Расстояние, которое пользователь преодолел за одну поездку"
   ]
  },
  {
   "cell_type": "code",
   "execution_count": 305,
   "id": "5e44d91b",
   "metadata": {},
   "outputs": [
    {
     "data": {
      "text/plain": [
       "count    18068.000000\n",
       "mean      3070.659976\n",
       "std       1116.831209\n",
       "min          0.855683\n",
       "25%       2543.226360\n",
       "50%       3133.609994\n",
       "75%       3776.222735\n",
       "max       7211.007745\n",
       "Name: distance, dtype: float64"
      ]
     },
     "execution_count": 305,
     "metadata": {},
     "output_type": "execute_result"
    }
   ],
   "source": [
    "# Посмотрим общие сведения о расстоянии\n",
    "data_rides['distance'].describe()"
   ]
  },
  {
   "cell_type": "code",
   "execution_count": 306,
   "id": "2471091c",
   "metadata": {},
   "outputs": [
    {
     "data": {
      "image/png": "[encoded data removed]",
      "text/plain": [
       "<Figure size 720x432 with 1 Axes>"
      ]
     },
     "metadata": {
      "needs_background": "light"
     },
     "output_type": "display_data"
    }
   ],
   "source": [
    "# Построим гистограмму\n",
    "data_rides['distance'].plot(kind='hist',\n",
    "                            title='Количество поездок в зависимости от их расстояния',\n",
    "                            grid=True,\n",
    "                            bins=35,\n",
    "                            xlabel='Расстояние, м',\n",
    "                            ylabel='Количество поездок',\n",
    "                            figsize=(10, 6));"
   ]
  },
  {
   "cell_type": "markdown",
   "id": "27b494b1",
   "metadata": {},
   "source": [
    "Мы видим, что за одну поездку пользователи преодолевают от 1 до 7211 м. Медианное значение составляет 3134 м, среднее - 3071 м, и они очень близки друг к другу. Наибольшее количество поездок было совершено на расстояние 2700-3500 метров. Также наблюдается всплеск - поездки на расстояние около 600 - 700 м, возможно, до станций метро или остановок наземного транспорта. Исходя из этого можно выделить такие типы поездок, как:\n",
    "- когда самокат используется в качестве основного средства передвижения;\n",
    "- когда самокат используется в качестве вспомогательного средства передвижения для того, чтобы добраться до основного транспорта. "
   ]
  },
  {
   "cell_type": "markdown",
   "id": "21ae8ca3",
   "metadata": {},
   "source": [
    "##### Продолжительность поездок"
   ]
  },
  {
   "cell_type": "code",
   "execution_count": 307,
   "id": "eb3a7211",
   "metadata": {},
   "outputs": [
    {
     "data": {
      "text/plain": [
       "count    18068.000000\n",
       "mean        17.805011\n",
       "std          6.091051\n",
       "min          0.500000\n",
       "25%         13.597563\n",
       "50%         17.678395\n",
       "75%         21.724800\n",
       "max         40.823963\n",
       "Name: duration, dtype: float64"
      ]
     },
     "execution_count": 307,
     "metadata": {},
     "output_type": "execute_result"
    }
   ],
   "source": [
    "# Посмотрим общие сведения о продолжительности поездок\n",
    "data_rides['duration'].describe()"
   ]
  },
  {
   "cell_type": "code",
   "execution_count": 308,
   "id": "e60b8344",
   "metadata": {},
   "outputs": [
    {
     "data": {
      "image/png": "[encoded data removed]",
      "text/plain": [
       "<Figure size 720x432 with 1 Axes>"
      ]
     },
     "metadata": {
      "needs_background": "light"
     },
     "output_type": "display_data"
    }
   ],
   "source": [
    "# Построим гистограмму\n",
    "data_rides['duration'].plot(kind='hist',\n",
    "                            title='Распределение поездок по их продолжительности',\n",
    "                            grid=True,\n",
    "                            bins=30,\n",
    "                            xlabel='Продолжительность поездки, мин',\n",
    "                            ylabel='Количество поездок',\n",
    "                            figsize=(10, 6));"
   ]
  },
  {
   "cell_type": "markdown",
   "id": "c0124861",
   "metadata": {},
   "source": [
    "Продолжительность поездок нормально распределена от 0,5 мин (минимальное значение) до 40,8 мин (максимальное значение). В основном же длительность поездки составляет около 13 - 22 мин. Среднее значение продолжительности поездки составляет в 17,8 мин, медианное значение - 17,7 мин, они практически одинаковые.  \n",
    "Самая длинная поездка составила 40,8 мин. Самые короткие поездки - по 0,5 мин, что выглядит достаточно странно. На гистограмме такие поездки выделяются в виде всплеска в количестве около 100. Возможно пользователи сразу после начала поездки передумали использовать самокат или же возникала техническая неисправность самоката.  \n",
    "Посмотрим, что это за поездки.\n"
   ]
  },
  {
   "cell_type": "code",
   "execution_count": 309,
   "id": "e6cf80b1",
   "metadata": {},
   "outputs": [
    {
     "data": {
      "text/html": [
       "<div>\n",
       "<style scoped>\n",
       "    .dataframe tbody tr th:only-of-type {\n",
       "        vertical-align: middle;\n",
       "    }\n",
       "\n",
       "    .dataframe tbody tr th {\n",
       "        vertical-align: top;\n",
       "    }\n",
       "\n",
       "    .dataframe thead th {\n",
       "        text-align: right;\n",
       "    }\n",
       "</style>\n",
       "<table border=\"1\" class=\"dataframe\">\n",
       "  <thead>\n",
       "    <tr style=\"text-align: right;\">\n",
       "      <th></th>\n",
       "      <th>user_id</th>\n",
       "      <th>distance</th>\n",
       "      <th>duration</th>\n",
       "      <th>date</th>\n",
       "      <th>month</th>\n",
       "    </tr>\n",
       "  </thead>\n",
       "  <tbody>\n",
       "    <tr>\n",
       "      <th>6531</th>\n",
       "      <td>701</td>\n",
       "      <td>4196.445201</td>\n",
       "      <td>0.5</td>\n",
       "      <td>2021-08-31</td>\n",
       "      <td>8</td>\n",
       "    </tr>\n",
       "    <tr>\n",
       "      <th>6570</th>\n",
       "      <td>704</td>\n",
       "      <td>4830.824371</td>\n",
       "      <td>0.5</td>\n",
       "      <td>2021-10-14</td>\n",
       "      <td>10</td>\n",
       "    </tr>\n",
       "    <tr>\n",
       "      <th>6680</th>\n",
       "      <td>712</td>\n",
       "      <td>4684.004397</td>\n",
       "      <td>0.5</td>\n",
       "      <td>2021-03-04</td>\n",
       "      <td>3</td>\n",
       "    </tr>\n",
       "    <tr>\n",
       "      <th>6695</th>\n",
       "      <td>713</td>\n",
       "      <td>5215.642710</td>\n",
       "      <td>0.5</td>\n",
       "      <td>2021-02-25</td>\n",
       "      <td>2</td>\n",
       "    </tr>\n",
       "    <tr>\n",
       "      <th>6768</th>\n",
       "      <td>718</td>\n",
       "      <td>5197.436649</td>\n",
       "      <td>0.5</td>\n",
       "      <td>2021-02-11</td>\n",
       "      <td>2</td>\n",
       "    </tr>\n",
       "    <tr>\n",
       "      <th>...</th>\n",
       "      <td>...</td>\n",
       "      <td>...</td>\n",
       "      <td>...</td>\n",
       "      <td>...</td>\n",
       "      <td>...</td>\n",
       "    </tr>\n",
       "    <tr>\n",
       "      <th>17004</th>\n",
       "      <td>1460</td>\n",
       "      <td>5531.335845</td>\n",
       "      <td>0.5</td>\n",
       "      <td>2021-01-19</td>\n",
       "      <td>1</td>\n",
       "    </tr>\n",
       "    <tr>\n",
       "      <th>17242</th>\n",
       "      <td>1477</td>\n",
       "      <td>6724.932981</td>\n",
       "      <td>0.5</td>\n",
       "      <td>2021-01-12</td>\n",
       "      <td>1</td>\n",
       "    </tr>\n",
       "    <tr>\n",
       "      <th>17314</th>\n",
       "      <td>1483</td>\n",
       "      <td>4445.481070</td>\n",
       "      <td>0.5</td>\n",
       "      <td>2021-03-06</td>\n",
       "      <td>3</td>\n",
       "    </tr>\n",
       "    <tr>\n",
       "      <th>17505</th>\n",
       "      <td>1496</td>\n",
       "      <td>5722.551787</td>\n",
       "      <td>0.5</td>\n",
       "      <td>2021-02-14</td>\n",
       "      <td>2</td>\n",
       "    </tr>\n",
       "    <tr>\n",
       "      <th>17909</th>\n",
       "      <td>1524</td>\n",
       "      <td>4103.998874</td>\n",
       "      <td>0.5</td>\n",
       "      <td>2021-06-18</td>\n",
       "      <td>6</td>\n",
       "    </tr>\n",
       "  </tbody>\n",
       "</table>\n",
       "<p>95 rows × 5 columns</p>\n",
       "</div>"
      ],
      "text/plain": [
       "       user_id     distance  duration       date  month\n",
       "6531       701  4196.445201       0.5 2021-08-31      8\n",
       "6570       704  4830.824371       0.5 2021-10-14     10\n",
       "6680       712  4684.004397       0.5 2021-03-04      3\n",
       "6695       713  5215.642710       0.5 2021-02-25      2\n",
       "6768       718  5197.436649       0.5 2021-02-11      2\n",
       "...        ...          ...       ...        ...    ...\n",
       "17004     1460  5531.335845       0.5 2021-01-19      1\n",
       "17242     1477  6724.932981       0.5 2021-01-12      1\n",
       "17314     1483  4445.481070       0.5 2021-03-06      3\n",
       "17505     1496  5722.551787       0.5 2021-02-14      2\n",
       "17909     1524  4103.998874       0.5 2021-06-18      6\n",
       "\n",
       "[95 rows x 5 columns]"
      ]
     },
     "execution_count": 309,
     "metadata": {},
     "output_type": "execute_result"
    }
   ],
   "source": [
    "data_rides.query('duration == 0.5')"
   ]
  },
  {
   "cell_type": "code",
   "execution_count": 310,
   "id": "43e1abe7",
   "metadata": {},
   "outputs": [
    {
     "data": {
      "text/plain": [
       "count      95.000000\n",
       "mean     5113.176549\n",
       "std       658.254104\n",
       "min      4030.308008\n",
       "25%      4611.510820\n",
       "50%      5052.769411\n",
       "75%      5488.459099\n",
       "max      7211.007745\n",
       "Name: distance, dtype: float64"
      ]
     },
     "execution_count": 310,
     "metadata": {},
     "output_type": "execute_result"
    }
   ],
   "source": [
    "data_rides.query('duration == 0.5')['distance'].describe()"
   ]
  },
  {
   "cell_type": "markdown",
   "id": "f39930f7",
   "metadata": {},
   "source": [
    "Видим, что было 95 поездок продолжительностью 0,5 мин. При этом получается, что за эти полминуты было преодолено расстояние в разных случаях от четырех с небольшим до семи тысяч метров, что совершенно невозможно. НО, если это ошибочные данные, и на самом деле продолжительность была не 0,5 мин, а 0,5 ч, тогда получается вполне логично: при скорости примерно от 8,2 до 14 км/ч можно проехать указанные расстояния за 0,5 ч. Очень вероятно, что в данном случае произошла ошибка ввода данных или ошибка фиксации времени.\n",
    "Полагаю, что будет корректным исправить 0.5 мин на 30 мин."
   ]
  },
  {
   "cell_type": "code",
   "execution_count": 311,
   "id": "49155288",
   "metadata": {},
   "outputs": [],
   "source": [
    "data_rides['duration'] = data_rides['duration'].replace(0.5, 30)"
   ]
  },
  {
   "cell_type": "code",
   "execution_count": 312,
   "id": "9ed15a67",
   "metadata": {},
   "outputs": [
    {
     "data": {
      "text/html": [
       "<div>\n",
       "<style scoped>\n",
       "    .dataframe tbody tr th:only-of-type {\n",
       "        vertical-align: middle;\n",
       "    }\n",
       "\n",
       "    .dataframe tbody tr th {\n",
       "        vertical-align: top;\n",
       "    }\n",
       "\n",
       "    .dataframe thead th {\n",
       "        text-align: right;\n",
       "    }\n",
       "</style>\n",
       "<table border=\"1\" class=\"dataframe\">\n",
       "  <thead>\n",
       "    <tr style=\"text-align: right;\">\n",
       "      <th></th>\n",
       "      <th>user_id</th>\n",
       "      <th>distance</th>\n",
       "      <th>duration</th>\n",
       "      <th>date</th>\n",
       "      <th>month</th>\n",
       "    </tr>\n",
       "  </thead>\n",
       "  <tbody>\n",
       "  </tbody>\n",
       "</table>\n",
       "</div>"
      ],
      "text/plain": [
       "Empty DataFrame\n",
       "Columns: [user_id, distance, duration, date, month]\n",
       "Index: []"
      ]
     },
     "execution_count": 312,
     "metadata": {},
     "output_type": "execute_result"
    }
   ],
   "source": [
    "# Проверим\n",
    "data_rides.query('duration == 0.5')"
   ]
  },
  {
   "cell_type": "code",
   "execution_count": 313,
   "id": "bc9b0275",
   "metadata": {},
   "outputs": [
    {
     "data": {
      "text/plain": [
       "count    18068.000000\n",
       "mean        17.960120\n",
       "std          6.023636\n",
       "min          2.035632\n",
       "25%         13.697117\n",
       "50%         17.750643\n",
       "75%         21.824361\n",
       "max         40.823963\n",
       "Name: duration, dtype: float64"
      ]
     },
     "execution_count": 313,
     "metadata": {},
     "output_type": "execute_result"
    }
   ],
   "source": [
    "# Еще раз посмотрим общие сведения о продолжительности поездок\n",
    "data_rides['duration'].describe()"
   ]
  },
  {
   "cell_type": "code",
   "execution_count": 314,
   "id": "62e4e807",
   "metadata": {},
   "outputs": [
    {
     "data": {
      "image/png": "[encoded data removed]",
      "text/plain": [
       "<Figure size 720x432 with 1 Axes>"
      ]
     },
     "metadata": {
      "needs_background": "light"
     },
     "output_type": "display_data"
    }
   ],
   "source": [
    "# и построим гистограмму\n",
    "data_rides['duration'].plot(kind='hist',\n",
    "                            title='Распределение поездок по их продолжительности',\n",
    "                            grid=True,\n",
    "                            bins=30,\n",
    "                            xlabel='Продолжительность поездки, мин',\n",
    "                            ylabel='Количество поездок',\n",
    "                            figsize=(10, 6));"
   ]
  },
  {
   "cell_type": "markdown",
   "id": "bdefff53",
   "metadata": {},
   "source": [
    "Теперь самые короткие поездки составляют 2 мин. Среднее значение немного изменилось - с 17,8 мин до 18 мин, медианное - с 17,7 мин до 17,8 мин. "
   ]
  },
  {
   "cell_type": "markdown",
   "id": "00b79e19",
   "metadata": {},
   "source": [
    "*Выводы по итогам исследовательского анализа:* \n",
    "\n",
    "- Чаще всего услугами сервиса аренды самокатов пользовались в Пятигорске, затем Екатеринбурге и Ростове-на-Дону. Реже всего - в Москве. В целом видно, что южные города располагаются выше (за исключением Екатеринбурга, находящегося на 2-м месте), возможно, потому, что в более теплом климате больше возможностей для использования самокатов, и также сезон проката продолжается дольше. Также, помимо климатических условий, важным может быть и размер города: в Пятигорске, который является не таким крупным населенным пунктом, как прочие, удобнее использовать самокат, чтобы куда-то добраться, чем, например, в Москве.\n",
    "\n",
    "- Пользователей без подписки больше, чем пользователей с подпиской Ultra: количество пользователей без подписки составило 835, что представляет собой 54% от общего количества пользователей, а пользователей с подпиской - 699, что составляет 46% от общего количества.\n",
    "\n",
    "- Услугами сервиса аренды самокатов GoFast пользуются люди в возрасте от 12 до 43 лет. Максимальное количество пользователей находится в возрасте 25 лет, этот же возраст является медианным. Средний возраст составляет 24,9 лет, что практически равно медианному возрасту 25 лет.  \n",
    "\n",
    "- За одну поездку пользователи преодолевают от 1 до 7211 м. Медианное значение составляет 3134 м, среднее - 3071 м, и они очень близки друг к другу. Наибольшее количество поездок было совершено на расстояние 2700-3500 метров. Также наблюдается всплеск - поездки на расстояние около 600 - 700 м, возможно, до станций метро или остановок наземного транспорта. Исходя из этого можно выделить следующие типы поездок:\n",
    "\n",
    "   - использование самоката как основного средства передвижения;\n",
    "   - использование самоката в качестве вспомогательного средства передвижения для того, чтобы добраться до основного транспорта.  \n",
    "   \n",
    "- Продолжительность поездок согласно представленным данным нормально распределена от 0,5 мин (минимальное значение) до 40,8 мин (максимальное значение). В основном же длительность поездки составляла около 13 - 22 мин. Среднее значение продолжительности поездки составляло в 17,8 мин, медианное значение - 17,7 мин, они практически одинаковые.  \n",
    "Самые короткие поездки - по 0,5 мин - выглядят странно. На гистограмме такие поездки выделяются в виде всплеска в количестве около 100. При более детальном изучении этих поездок выяснилось, что их было 95. При этом получается, что за эти полминуты было преодолено расстояние в разных случаях от четырех с небольшим до семи тысяч метров, что совершенно невозможно. Однако если это ошибка в данных, и на самом деле продолжительность была не 0,5 мин, а 0,5 ч, тогда получается вполне логично: при скорости примерно от 8,2 до 14 км/ч можно проехать указанные расстояния за 0,5 ч. Весьма вероятно, что в данном случае произошла ошибка ввода данных или ошибка фиксации времени. Поэтому значение 0.5 мин было исправлено на 30 мин. В результате среднее значение совсем немного изменилось - с 17,8 мин до 18 мин, медианное - с 17,7 мин до 17,8 мин."
   ]
  },
  {
   "cell_type": "markdown",
   "id": "4ef51331",
   "metadata": {},
   "source": [
    "#### Шаг 4. Объединение данных"
   ]
  },
  {
   "cell_type": "markdown",
   "id": "0501df31",
   "metadata": {},
   "source": [
    " ##### Объединение данных о пользователях, поездках и подписках в один датафрейм методом merge()"
   ]
  },
  {
   "cell_type": "code",
   "execution_count": 315,
   "id": "f8b67ada",
   "metadata": {},
   "outputs": [
    {
     "data": {
      "text/html": [
       "<div>\n",
       "<style scoped>\n",
       "    .dataframe tbody tr th:only-of-type {\n",
       "        vertical-align: middle;\n",
       "    }\n",
       "\n",
       "    .dataframe tbody tr th {\n",
       "        vertical-align: top;\n",
       "    }\n",
       "\n",
       "    .dataframe thead th {\n",
       "        text-align: right;\n",
       "    }\n",
       "</style>\n",
       "<table border=\"1\" class=\"dataframe\">\n",
       "  <thead>\n",
       "    <tr style=\"text-align: right;\">\n",
       "      <th></th>\n",
       "      <th>user_id</th>\n",
       "      <th>name</th>\n",
       "      <th>age</th>\n",
       "      <th>city</th>\n",
       "      <th>subscription_type</th>\n",
       "      <th>distance</th>\n",
       "      <th>duration</th>\n",
       "      <th>date</th>\n",
       "      <th>month</th>\n",
       "      <th>minute_price</th>\n",
       "      <th>start_ride_price</th>\n",
       "      <th>subscription_fee</th>\n",
       "    </tr>\n",
       "  </thead>\n",
       "  <tbody>\n",
       "    <tr>\n",
       "      <th>16662</th>\n",
       "      <td>1432</td>\n",
       "      <td>Федор</td>\n",
       "      <td>23</td>\n",
       "      <td>Тюмень</td>\n",
       "      <td>free</td>\n",
       "      <td>2619.528324</td>\n",
       "      <td>20.731761</td>\n",
       "      <td>2021-10-18</td>\n",
       "      <td>10</td>\n",
       "      <td>8</td>\n",
       "      <td>50</td>\n",
       "      <td>0</td>\n",
       "    </tr>\n",
       "    <tr>\n",
       "      <th>1888</th>\n",
       "      <td>205</td>\n",
       "      <td>Тимофей</td>\n",
       "      <td>26</td>\n",
       "      <td>Пятигорск</td>\n",
       "      <td>ultra</td>\n",
       "      <td>3476.820496</td>\n",
       "      <td>14.069967</td>\n",
       "      <td>2021-02-14</td>\n",
       "      <td>2</td>\n",
       "      <td>6</td>\n",
       "      <td>0</td>\n",
       "      <td>199</td>\n",
       "    </tr>\n",
       "    <tr>\n",
       "      <th>6151</th>\n",
       "      <td>659</td>\n",
       "      <td>Злата</td>\n",
       "      <td>27</td>\n",
       "      <td>Ростов-на-Дону</td>\n",
       "      <td>ultra</td>\n",
       "      <td>4907.951693</td>\n",
       "      <td>13.517039</td>\n",
       "      <td>2021-06-30</td>\n",
       "      <td>6</td>\n",
       "      <td>6</td>\n",
       "      <td>0</td>\n",
       "      <td>199</td>\n",
       "    </tr>\n",
       "    <tr>\n",
       "      <th>2955</th>\n",
       "      <td>317</td>\n",
       "      <td>Лариса</td>\n",
       "      <td>28</td>\n",
       "      <td>Москва</td>\n",
       "      <td>ultra</td>\n",
       "      <td>2927.050405</td>\n",
       "      <td>15.708202</td>\n",
       "      <td>2021-10-06</td>\n",
       "      <td>10</td>\n",
       "      <td>6</td>\n",
       "      <td>0</td>\n",
       "      <td>199</td>\n",
       "    </tr>\n",
       "    <tr>\n",
       "      <th>4069</th>\n",
       "      <td>438</td>\n",
       "      <td>Вероника</td>\n",
       "      <td>29</td>\n",
       "      <td>Екатеринбург</td>\n",
       "      <td>ultra</td>\n",
       "      <td>534.892463</td>\n",
       "      <td>5.674462</td>\n",
       "      <td>2021-03-24</td>\n",
       "      <td>3</td>\n",
       "      <td>6</td>\n",
       "      <td>0</td>\n",
       "      <td>199</td>\n",
       "    </tr>\n",
       "    <tr>\n",
       "      <th>8016</th>\n",
       "      <td>811</td>\n",
       "      <td>Маргарита</td>\n",
       "      <td>14</td>\n",
       "      <td>Сочи</td>\n",
       "      <td>free</td>\n",
       "      <td>814.487427</td>\n",
       "      <td>17.072437</td>\n",
       "      <td>2021-04-09</td>\n",
       "      <td>4</td>\n",
       "      <td>8</td>\n",
       "      <td>50</td>\n",
       "      <td>0</td>\n",
       "    </tr>\n",
       "    <tr>\n",
       "      <th>13990</th>\n",
       "      <td>1244</td>\n",
       "      <td>Ксения</td>\n",
       "      <td>23</td>\n",
       "      <td>Екатеринбург</td>\n",
       "      <td>free</td>\n",
       "      <td>2191.762778</td>\n",
       "      <td>10.921356</td>\n",
       "      <td>2021-10-10</td>\n",
       "      <td>10</td>\n",
       "      <td>8</td>\n",
       "      <td>50</td>\n",
       "      <td>0</td>\n",
       "    </tr>\n",
       "    <tr>\n",
       "      <th>4447</th>\n",
       "      <td>479</td>\n",
       "      <td>Эмиль</td>\n",
       "      <td>16</td>\n",
       "      <td>Ростов-на-Дону</td>\n",
       "      <td>ultra</td>\n",
       "      <td>3150.514837</td>\n",
       "      <td>24.752574</td>\n",
       "      <td>2021-09-01</td>\n",
       "      <td>9</td>\n",
       "      <td>6</td>\n",
       "      <td>0</td>\n",
       "      <td>199</td>\n",
       "    </tr>\n",
       "    <tr>\n",
       "      <th>4033</th>\n",
       "      <td>434</td>\n",
       "      <td>Дарья</td>\n",
       "      <td>21</td>\n",
       "      <td>Тюмень</td>\n",
       "      <td>ultra</td>\n",
       "      <td>3055.958044</td>\n",
       "      <td>11.731309</td>\n",
       "      <td>2021-12-14</td>\n",
       "      <td>12</td>\n",
       "      <td>6</td>\n",
       "      <td>0</td>\n",
       "      <td>199</td>\n",
       "    </tr>\n",
       "    <tr>\n",
       "      <th>16981</th>\n",
       "      <td>1458</td>\n",
       "      <td>Тамерлан</td>\n",
       "      <td>24</td>\n",
       "      <td>Сочи</td>\n",
       "      <td>free</td>\n",
       "      <td>5165.059611</td>\n",
       "      <td>33.838737</td>\n",
       "      <td>2021-06-25</td>\n",
       "      <td>6</td>\n",
       "      <td>8</td>\n",
       "      <td>50</td>\n",
       "      <td>0</td>\n",
       "    </tr>\n",
       "  </tbody>\n",
       "</table>\n",
       "</div>"
      ],
      "text/plain": [
       "       user_id       name  age            city subscription_type     distance  \\\n",
       "16662     1432      Федор   23          Тюмень              free  2619.528324   \n",
       "1888       205    Тимофей   26       Пятигорск             ultra  3476.820496   \n",
       "6151       659      Злата   27  Ростов-на-Дону             ultra  4907.951693   \n",
       "2955       317     Лариса   28          Москва             ultra  2927.050405   \n",
       "4069       438   Вероника   29    Екатеринбург             ultra   534.892463   \n",
       "8016       811  Маргарита   14            Сочи              free   814.487427   \n",
       "13990     1244     Ксения   23    Екатеринбург              free  2191.762778   \n",
       "4447       479      Эмиль   16  Ростов-на-Дону             ultra  3150.514837   \n",
       "4033       434      Дарья   21          Тюмень             ultra  3055.958044   \n",
       "16981     1458   Тамерлан   24            Сочи              free  5165.059611   \n",
       "\n",
       "        duration       date  month  minute_price  start_ride_price  \\\n",
       "16662  20.731761 2021-10-18     10             8                50   \n",
       "1888   14.069967 2021-02-14      2             6                 0   \n",
       "6151   13.517039 2021-06-30      6             6                 0   \n",
       "2955   15.708202 2021-10-06     10             6                 0   \n",
       "4069    5.674462 2021-03-24      3             6                 0   \n",
       "8016   17.072437 2021-04-09      4             8                50   \n",
       "13990  10.921356 2021-10-10     10             8                50   \n",
       "4447   24.752574 2021-09-01      9             6                 0   \n",
       "4033   11.731309 2021-12-14     12             6                 0   \n",
       "16981  33.838737 2021-06-25      6             8                50   \n",
       "\n",
       "       subscription_fee  \n",
       "16662                 0  \n",
       "1888                199  \n",
       "6151                199  \n",
       "2955                199  \n",
       "4069                199  \n",
       "8016                  0  \n",
       "13990                 0  \n",
       "4447                199  \n",
       "4033                199  \n",
       "16981                 0  "
      ]
     },
     "execution_count": 315,
     "metadata": {},
     "output_type": "execute_result"
    }
   ],
   "source": [
    "# Объединим таблицы в один датафрейм\n",
    "data = data_users.merge(data_rides).merge(data_subscriptions)\n",
    "data.sample(10)"
   ]
  },
  {
   "cell_type": "code",
   "execution_count": 316,
   "id": "f42ac7a4",
   "metadata": {},
   "outputs": [
    {
     "name": "stdout",
     "output_type": "stream",
     "text": [
      "<class 'pandas.core.frame.DataFrame'>\n",
      "Int64Index: 18068 entries, 0 to 18067\n",
      "Data columns (total 12 columns):\n",
      " #   Column             Non-Null Count  Dtype         \n",
      "---  ------             --------------  -----         \n",
      " 0   user_id            18068 non-null  int64         \n",
      " 1   name               18068 non-null  object        \n",
      " 2   age                18068 non-null  int64         \n",
      " 3   city               18068 non-null  object        \n",
      " 4   subscription_type  18068 non-null  object        \n",
      " 5   distance           18068 non-null  float64       \n",
      " 6   duration           18068 non-null  float64       \n",
      " 7   date               18068 non-null  datetime64[ns]\n",
      " 8   month              18068 non-null  int64         \n",
      " 9   minute_price       18068 non-null  int64         \n",
      " 10  start_ride_price   18068 non-null  int64         \n",
      " 11  subscription_fee   18068 non-null  int64         \n",
      "dtypes: datetime64[ns](1), float64(2), int64(6), object(3)\n",
      "memory usage: 1.8+ MB\n"
     ]
    }
   ],
   "source": [
    "# Проверим\n",
    "data.info()"
   ]
  },
  {
   "cell_type": "code",
   "execution_count": 317,
   "id": "00a69844",
   "metadata": {},
   "outputs": [
    {
     "data": {
      "text/plain": [
       "0"
      ]
     },
     "execution_count": 317,
     "metadata": {},
     "output_type": "execute_result"
    }
   ],
   "source": [
    "data.duplicated().sum()"
   ]
  },
  {
   "cell_type": "markdown",
   "id": "499a7c36",
   "metadata": {},
   "source": [
    "Созданный датафрейм `data` объединил таблицы `data_users`, `data_rides` и `data_subscriptions`. Он состоит из 18068 строк во всех столбцах, что соответствует исходной таблице `data_rides`, пропуски в столбцах отсутствуют. Дополнительно произведена проверка на явные дубликаты, которые тоже отсутствуют."
   ]
  },
  {
   "cell_type": "markdown",
   "id": "511466ff",
   "metadata": {},
   "source": [
    "##### Создание двух датафреймов из датафрейма, созданного на предыдущем этапе:"
   ]
  },
  {
   "cell_type": "markdown",
   "id": "e0b7c4c4",
   "metadata": {},
   "source": [
    "- датафрейм с данными о пользователях без подписки"
   ]
  },
  {
   "cell_type": "code",
   "execution_count": 318,
   "id": "d277a85f",
   "metadata": {},
   "outputs": [
    {
     "data": {
      "text/html": [
       "<div>\n",
       "<style scoped>\n",
       "    .dataframe tbody tr th:only-of-type {\n",
       "        vertical-align: middle;\n",
       "    }\n",
       "\n",
       "    .dataframe tbody tr th {\n",
       "        vertical-align: top;\n",
       "    }\n",
       "\n",
       "    .dataframe thead th {\n",
       "        text-align: right;\n",
       "    }\n",
       "</style>\n",
       "<table border=\"1\" class=\"dataframe\">\n",
       "  <thead>\n",
       "    <tr style=\"text-align: right;\">\n",
       "      <th></th>\n",
       "      <th>user_id</th>\n",
       "      <th>name</th>\n",
       "      <th>age</th>\n",
       "      <th>city</th>\n",
       "      <th>subscription_type</th>\n",
       "      <th>distance</th>\n",
       "      <th>duration</th>\n",
       "      <th>date</th>\n",
       "      <th>month</th>\n",
       "      <th>minute_price</th>\n",
       "      <th>start_ride_price</th>\n",
       "      <th>subscription_fee</th>\n",
       "    </tr>\n",
       "  </thead>\n",
       "  <tbody>\n",
       "    <tr>\n",
       "      <th>6500</th>\n",
       "      <td>700</td>\n",
       "      <td>Айдар</td>\n",
       "      <td>22</td>\n",
       "      <td>Омск</td>\n",
       "      <td>free</td>\n",
       "      <td>2515.690719</td>\n",
       "      <td>14.944286</td>\n",
       "      <td>2021-01-02</td>\n",
       "      <td>1</td>\n",
       "      <td>8</td>\n",
       "      <td>50</td>\n",
       "      <td>0</td>\n",
       "    </tr>\n",
       "    <tr>\n",
       "      <th>6501</th>\n",
       "      <td>700</td>\n",
       "      <td>Айдар</td>\n",
       "      <td>22</td>\n",
       "      <td>Омск</td>\n",
       "      <td>free</td>\n",
       "      <td>846.932642</td>\n",
       "      <td>16.234663</td>\n",
       "      <td>2021-02-01</td>\n",
       "      <td>2</td>\n",
       "      <td>8</td>\n",
       "      <td>50</td>\n",
       "      <td>0</td>\n",
       "    </tr>\n",
       "    <tr>\n",
       "      <th>6502</th>\n",
       "      <td>700</td>\n",
       "      <td>Айдар</td>\n",
       "      <td>22</td>\n",
       "      <td>Омск</td>\n",
       "      <td>free</td>\n",
       "      <td>4004.434142</td>\n",
       "      <td>20.016628</td>\n",
       "      <td>2021-02-04</td>\n",
       "      <td>2</td>\n",
       "      <td>8</td>\n",
       "      <td>50</td>\n",
       "      <td>0</td>\n",
       "    </tr>\n",
       "    <tr>\n",
       "      <th>6503</th>\n",
       "      <td>700</td>\n",
       "      <td>Айдар</td>\n",
       "      <td>22</td>\n",
       "      <td>Омск</td>\n",
       "      <td>free</td>\n",
       "      <td>1205.911290</td>\n",
       "      <td>9.782872</td>\n",
       "      <td>2021-02-10</td>\n",
       "      <td>2</td>\n",
       "      <td>8</td>\n",
       "      <td>50</td>\n",
       "      <td>0</td>\n",
       "    </tr>\n",
       "    <tr>\n",
       "      <th>6504</th>\n",
       "      <td>700</td>\n",
       "      <td>Айдар</td>\n",
       "      <td>22</td>\n",
       "      <td>Омск</td>\n",
       "      <td>free</td>\n",
       "      <td>3047.379435</td>\n",
       "      <td>17.427673</td>\n",
       "      <td>2021-02-14</td>\n",
       "      <td>2</td>\n",
       "      <td>8</td>\n",
       "      <td>50</td>\n",
       "      <td>0</td>\n",
       "    </tr>\n",
       "    <tr>\n",
       "      <th>6505</th>\n",
       "      <td>700</td>\n",
       "      <td>Айдар</td>\n",
       "      <td>22</td>\n",
       "      <td>Омск</td>\n",
       "      <td>free</td>\n",
       "      <td>4342.002254</td>\n",
       "      <td>22.368009</td>\n",
       "      <td>2021-02-23</td>\n",
       "      <td>2</td>\n",
       "      <td>8</td>\n",
       "      <td>50</td>\n",
       "      <td>0</td>\n",
       "    </tr>\n",
       "    <tr>\n",
       "      <th>6506</th>\n",
       "      <td>700</td>\n",
       "      <td>Айдар</td>\n",
       "      <td>22</td>\n",
       "      <td>Омск</td>\n",
       "      <td>free</td>\n",
       "      <td>3798.334905</td>\n",
       "      <td>18.243756</td>\n",
       "      <td>2021-03-03</td>\n",
       "      <td>3</td>\n",
       "      <td>8</td>\n",
       "      <td>50</td>\n",
       "      <td>0</td>\n",
       "    </tr>\n",
       "  </tbody>\n",
       "</table>\n",
       "</div>"
      ],
      "text/plain": [
       "      user_id   name  age  city subscription_type     distance   duration  \\\n",
       "6500      700  Айдар   22  Омск              free  2515.690719  14.944286   \n",
       "6501      700  Айдар   22  Омск              free   846.932642  16.234663   \n",
       "6502      700  Айдар   22  Омск              free  4004.434142  20.016628   \n",
       "6503      700  Айдар   22  Омск              free  1205.911290   9.782872   \n",
       "6504      700  Айдар   22  Омск              free  3047.379435  17.427673   \n",
       "6505      700  Айдар   22  Омск              free  4342.002254  22.368009   \n",
       "6506      700  Айдар   22  Омск              free  3798.334905  18.243756   \n",
       "\n",
       "           date  month  minute_price  start_ride_price  subscription_fee  \n",
       "6500 2021-01-02      1             8                50                 0  \n",
       "6501 2021-02-01      2             8                50                 0  \n",
       "6502 2021-02-04      2             8                50                 0  \n",
       "6503 2021-02-10      2             8                50                 0  \n",
       "6504 2021-02-14      2             8                50                 0  \n",
       "6505 2021-02-23      2             8                50                 0  \n",
       "6506 2021-03-03      3             8                50                 0  "
      ]
     },
     "execution_count": 318,
     "metadata": {},
     "output_type": "execute_result"
    }
   ],
   "source": [
    "data_free = data.query('subscription_type == \"free\"')\n",
    "data_free.head(7)"
   ]
  },
  {
   "cell_type": "code",
   "execution_count": 319,
   "id": "f208121a",
   "metadata": {},
   "outputs": [
    {
     "name": "stdout",
     "output_type": "stream",
     "text": [
      "<class 'pandas.core.frame.DataFrame'>\n",
      "Int64Index: 11568 entries, 6500 to 18067\n",
      "Data columns (total 12 columns):\n",
      " #   Column             Non-Null Count  Dtype         \n",
      "---  ------             --------------  -----         \n",
      " 0   user_id            11568 non-null  int64         \n",
      " 1   name               11568 non-null  object        \n",
      " 2   age                11568 non-null  int64         \n",
      " 3   city               11568 non-null  object        \n",
      " 4   subscription_type  11568 non-null  object        \n",
      " 5   distance           11568 non-null  float64       \n",
      " 6   duration           11568 non-null  float64       \n",
      " 7   date               11568 non-null  datetime64[ns]\n",
      " 8   month              11568 non-null  int64         \n",
      " 9   minute_price       11568 non-null  int64         \n",
      " 10  start_ride_price   11568 non-null  int64         \n",
      " 11  subscription_fee   11568 non-null  int64         \n",
      "dtypes: datetime64[ns](1), float64(2), int64(6), object(3)\n",
      "memory usage: 1.1+ MB\n"
     ]
    }
   ],
   "source": [
    "data_free.info()"
   ]
  },
  {
   "cell_type": "markdown",
   "id": "5103a72a",
   "metadata": {},
   "source": [
    "- датафрейм с данными о пользователях с подпиской"
   ]
  },
  {
   "cell_type": "code",
   "execution_count": 320,
   "id": "db85861a",
   "metadata": {},
   "outputs": [
    {
     "data": {
      "text/html": [
       "<div>\n",
       "<style scoped>\n",
       "    .dataframe tbody tr th:only-of-type {\n",
       "        vertical-align: middle;\n",
       "    }\n",
       "\n",
       "    .dataframe tbody tr th {\n",
       "        vertical-align: top;\n",
       "    }\n",
       "\n",
       "    .dataframe thead th {\n",
       "        text-align: right;\n",
       "    }\n",
       "</style>\n",
       "<table border=\"1\" class=\"dataframe\">\n",
       "  <thead>\n",
       "    <tr style=\"text-align: right;\">\n",
       "      <th></th>\n",
       "      <th>user_id</th>\n",
       "      <th>name</th>\n",
       "      <th>age</th>\n",
       "      <th>city</th>\n",
       "      <th>subscription_type</th>\n",
       "      <th>distance</th>\n",
       "      <th>duration</th>\n",
       "      <th>date</th>\n",
       "      <th>month</th>\n",
       "      <th>minute_price</th>\n",
       "      <th>start_ride_price</th>\n",
       "      <th>subscription_fee</th>\n",
       "    </tr>\n",
       "  </thead>\n",
       "  <tbody>\n",
       "    <tr>\n",
       "      <th>0</th>\n",
       "      <td>1</td>\n",
       "      <td>Кира</td>\n",
       "      <td>22</td>\n",
       "      <td>Тюмень</td>\n",
       "      <td>ultra</td>\n",
       "      <td>4409.919140</td>\n",
       "      <td>25.599769</td>\n",
       "      <td>2021-01-01</td>\n",
       "      <td>1</td>\n",
       "      <td>6</td>\n",
       "      <td>0</td>\n",
       "      <td>199</td>\n",
       "    </tr>\n",
       "    <tr>\n",
       "      <th>1</th>\n",
       "      <td>1</td>\n",
       "      <td>Кира</td>\n",
       "      <td>22</td>\n",
       "      <td>Тюмень</td>\n",
       "      <td>ultra</td>\n",
       "      <td>2617.592153</td>\n",
       "      <td>15.816871</td>\n",
       "      <td>2021-01-18</td>\n",
       "      <td>1</td>\n",
       "      <td>6</td>\n",
       "      <td>0</td>\n",
       "      <td>199</td>\n",
       "    </tr>\n",
       "    <tr>\n",
       "      <th>2</th>\n",
       "      <td>1</td>\n",
       "      <td>Кира</td>\n",
       "      <td>22</td>\n",
       "      <td>Тюмень</td>\n",
       "      <td>ultra</td>\n",
       "      <td>754.159807</td>\n",
       "      <td>6.232113</td>\n",
       "      <td>2021-04-20</td>\n",
       "      <td>4</td>\n",
       "      <td>6</td>\n",
       "      <td>0</td>\n",
       "      <td>199</td>\n",
       "    </tr>\n",
       "    <tr>\n",
       "      <th>3</th>\n",
       "      <td>1</td>\n",
       "      <td>Кира</td>\n",
       "      <td>22</td>\n",
       "      <td>Тюмень</td>\n",
       "      <td>ultra</td>\n",
       "      <td>2694.783254</td>\n",
       "      <td>18.511000</td>\n",
       "      <td>2021-08-11</td>\n",
       "      <td>8</td>\n",
       "      <td>6</td>\n",
       "      <td>0</td>\n",
       "      <td>199</td>\n",
       "    </tr>\n",
       "    <tr>\n",
       "      <th>4</th>\n",
       "      <td>1</td>\n",
       "      <td>Кира</td>\n",
       "      <td>22</td>\n",
       "      <td>Тюмень</td>\n",
       "      <td>ultra</td>\n",
       "      <td>4028.687306</td>\n",
       "      <td>26.265803</td>\n",
       "      <td>2021-08-28</td>\n",
       "      <td>8</td>\n",
       "      <td>6</td>\n",
       "      <td>0</td>\n",
       "      <td>199</td>\n",
       "    </tr>\n",
       "    <tr>\n",
       "      <th>5</th>\n",
       "      <td>1</td>\n",
       "      <td>Кира</td>\n",
       "      <td>22</td>\n",
       "      <td>Тюмень</td>\n",
       "      <td>ultra</td>\n",
       "      <td>2770.890808</td>\n",
       "      <td>16.650138</td>\n",
       "      <td>2021-10-09</td>\n",
       "      <td>10</td>\n",
       "      <td>6</td>\n",
       "      <td>0</td>\n",
       "      <td>199</td>\n",
       "    </tr>\n",
       "    <tr>\n",
       "      <th>6</th>\n",
       "      <td>1</td>\n",
       "      <td>Кира</td>\n",
       "      <td>22</td>\n",
       "      <td>Тюмень</td>\n",
       "      <td>ultra</td>\n",
       "      <td>3039.020292</td>\n",
       "      <td>14.927879</td>\n",
       "      <td>2021-10-19</td>\n",
       "      <td>10</td>\n",
       "      <td>6</td>\n",
       "      <td>0</td>\n",
       "      <td>199</td>\n",
       "    </tr>\n",
       "  </tbody>\n",
       "</table>\n",
       "</div>"
      ],
      "text/plain": [
       "   user_id  name  age    city subscription_type     distance   duration  \\\n",
       "0        1  Кира   22  Тюмень             ultra  4409.919140  25.599769   \n",
       "1        1  Кира   22  Тюмень             ultra  2617.592153  15.816871   \n",
       "2        1  Кира   22  Тюмень             ultra   754.159807   6.232113   \n",
       "3        1  Кира   22  Тюмень             ultra  2694.783254  18.511000   \n",
       "4        1  Кира   22  Тюмень             ultra  4028.687306  26.265803   \n",
       "5        1  Кира   22  Тюмень             ultra  2770.890808  16.650138   \n",
       "6        1  Кира   22  Тюмень             ultra  3039.020292  14.927879   \n",
       "\n",
       "        date  month  minute_price  start_ride_price  subscription_fee  \n",
       "0 2021-01-01      1             6                 0               199  \n",
       "1 2021-01-18      1             6                 0               199  \n",
       "2 2021-04-20      4             6                 0               199  \n",
       "3 2021-08-11      8             6                 0               199  \n",
       "4 2021-08-28      8             6                 0               199  \n",
       "5 2021-10-09     10             6                 0               199  \n",
       "6 2021-10-19     10             6                 0               199  "
      ]
     },
     "execution_count": 320,
     "metadata": {},
     "output_type": "execute_result"
    }
   ],
   "source": [
    "data_ultra = data.query('subscription_type == \"ultra\"')\n",
    "data_ultra.head(7)"
   ]
  },
  {
   "cell_type": "code",
   "execution_count": 321,
   "id": "105c575a",
   "metadata": {},
   "outputs": [
    {
     "name": "stdout",
     "output_type": "stream",
     "text": [
      "<class 'pandas.core.frame.DataFrame'>\n",
      "Int64Index: 6500 entries, 0 to 6499\n",
      "Data columns (total 12 columns):\n",
      " #   Column             Non-Null Count  Dtype         \n",
      "---  ------             --------------  -----         \n",
      " 0   user_id            6500 non-null   int64         \n",
      " 1   name               6500 non-null   object        \n",
      " 2   age                6500 non-null   int64         \n",
      " 3   city               6500 non-null   object        \n",
      " 4   subscription_type  6500 non-null   object        \n",
      " 5   distance           6500 non-null   float64       \n",
      " 6   duration           6500 non-null   float64       \n",
      " 7   date               6500 non-null   datetime64[ns]\n",
      " 8   month              6500 non-null   int64         \n",
      " 9   minute_price       6500 non-null   int64         \n",
      " 10  start_ride_price   6500 non-null   int64         \n",
      " 11  subscription_fee   6500 non-null   int64         \n",
      "dtypes: datetime64[ns](1), float64(2), int64(6), object(3)\n",
      "memory usage: 660.2+ KB\n"
     ]
    }
   ],
   "source": [
    "data_ultra.info()"
   ]
  },
  {
   "cell_type": "markdown",
   "id": "055d81e7",
   "metadata": {},
   "source": [
    "##### Визуализация информации о расстоянии и времени поездок для пользователей обеих категорий"
   ]
  },
  {
   "cell_type": "code",
   "execution_count": 322,
   "id": "6240da1d",
   "metadata": {},
   "outputs": [
    {
     "data": {
      "image/png": "[encoded data removed]",
      "text/plain": [
       "<Figure size 720x432 with 1 Axes>"
      ]
     },
     "metadata": {
      "needs_background": "light"
     },
     "output_type": "display_data"
    }
   ],
   "source": [
    "# Информация о расстоянии поездок для пользователей обеих категорий\n",
    "data_free['distance'].plot(kind='hist', \n",
    "                           title = 'Распределение поездок в зависимости от расстояния поездки', \n",
    "                           xlabel = 'Расстояние, м', \n",
    "                           ylabel = 'Количество поездок',\n",
    "                           figsize = (10,6),\n",
    "                           bins=30,\n",
    "                           grid=True,\n",
    "                           label='без подписки');\n",
    "data_ultra['distance'].plot(kind='hist', \n",
    "                           title = 'Распределение поездок в зависимости от расстояния поездки', \n",
    "                           xlabel = 'Расстояние, м', \n",
    "                           ylabel = 'Количество поездок',\n",
    "                           figsize = (10,6),\n",
    "                           bins=30,\n",
    "                           grid=True,\n",
    "                           label='с подпиской');\n",
    "plt.legend(loc='upper right');"
   ]
  },
  {
   "cell_type": "code",
   "execution_count": 323,
   "id": "a18fd875",
   "metadata": {},
   "outputs": [
    {
     "data": {
      "text/plain": [
       "count    11568.000000\n",
       "mean      3045.495282\n",
       "std       1246.173806\n",
       "min          0.855683\n",
       "25%       2366.562689\n",
       "50%       3114.648465\n",
       "75%       3905.697894\n",
       "max       7211.007745\n",
       "Name: distance, dtype: float64"
      ]
     },
     "execution_count": 323,
     "metadata": {},
     "output_type": "execute_result"
    }
   ],
   "source": [
    "data_free['distance'].describe()"
   ]
  },
  {
   "cell_type": "code",
   "execution_count": 324,
   "id": "756c16a9",
   "metadata": {},
   "outputs": [
    {
     "data": {
      "text/plain": [
       "count    6500.000000\n",
       "mean     3115.445388\n",
       "std       836.895330\n",
       "min       244.210438\n",
       "25%      2785.444017\n",
       "50%      3148.637229\n",
       "75%      3560.574425\n",
       "max      5699.769662\n",
       "Name: distance, dtype: float64"
      ]
     },
     "execution_count": 324,
     "metadata": {},
     "output_type": "execute_result"
    }
   ],
   "source": [
    "data_ultra['distance'].describe()"
   ]
  },
  {
   "cell_type": "markdown",
   "id": "6e740360",
   "metadata": {},
   "source": [
    "Общее количество поездок пользователей без подписки (11568) на 5068 больше, чем количество поездок пользователей с подпиской `ultra`(6500).\n",
    "Данные описательной статистики говорят о том, что медианное значение расстояния поездок пользователей без подписки составляет 3115 м, а с подпиской 3149 м. Средние значения: без подписки - 3045 м, с подпиской - 3115 м. Стандартное отклонение по поездкам с подпиской - 836 м, и оно меньше, чем по поездкам без подписки - 1246 м.  \n",
    "Максимальное расстояние больше для поездок без подписки - 7211 м против 5700 м для поездок с подпиской."
   ]
  },
  {
   "cell_type": "code",
   "execution_count": 325,
   "id": "ef48ba60",
   "metadata": {},
   "outputs": [
    {
     "data": {
      "image/png": "[encoded data removed]",
      "text/plain": [
       "<Figure size 720x432 with 1 Axes>"
      ]
     },
     "metadata": {
      "needs_background": "light"
     },
     "output_type": "display_data"
    }
   ],
   "source": [
    "# Информация о времени поездок для пользователей обеих категорий\n",
    "data_free['duration'].plot(kind='hist', \n",
    "                           title = 'Распределение поездок в зависимости от длительности поездки', \n",
    "                           xlabel = 'Длительность поездки, мин', \n",
    "                           ylabel = 'Количество поездок',\n",
    "                           figsize = (10,6),\n",
    "                           bins=30,\n",
    "                           grid=True,\n",
    "                           label='без подписки');\n",
    "data_ultra['duration'].plot(kind='hist', \n",
    "                           title = 'Распределение поездок в зависимости от длительности поездки', \n",
    "                           xlabel = 'Длительность поездки, мин', \n",
    "                           ylabel = 'Количество поездок',\n",
    "                           figsize = (10,6),\n",
    "                           bins=30,\n",
    "                           grid=True,\n",
    "                           label='с подпиской');\n",
    "plt.legend(loc='upper right');"
   ]
  },
  {
   "cell_type": "markdown",
   "id": "6a529504",
   "metadata": {},
   "source": [
    "У пользователей без подписки есть всплеск на 30 мин. Видимо, это те поездки, которые изначально были указаны с продолжительностью 0,5 мин и которые были откорректированы на 30 мин. И все они оказались у пользователей без подписки.  \n",
    "Посмотрим этот момент."
   ]
  },
  {
   "cell_type": "code",
   "execution_count": 328,
   "id": "3fc86058",
   "metadata": {},
   "outputs": [
    {
     "data": {
      "text/html": [
       "<div>\n",
       "<style scoped>\n",
       "    .dataframe tbody tr th:only-of-type {\n",
       "        vertical-align: middle;\n",
       "    }\n",
       "\n",
       "    .dataframe tbody tr th {\n",
       "        vertical-align: top;\n",
       "    }\n",
       "\n",
       "    .dataframe thead th {\n",
       "        text-align: right;\n",
       "    }\n",
       "</style>\n",
       "<table border=\"1\" class=\"dataframe\">\n",
       "  <thead>\n",
       "    <tr style=\"text-align: right;\">\n",
       "      <th></th>\n",
       "      <th>user_id</th>\n",
       "      <th>name</th>\n",
       "      <th>age</th>\n",
       "      <th>city</th>\n",
       "      <th>subscription_type</th>\n",
       "      <th>distance</th>\n",
       "      <th>duration</th>\n",
       "      <th>date</th>\n",
       "      <th>month</th>\n",
       "      <th>minute_price</th>\n",
       "      <th>start_ride_price</th>\n",
       "      <th>subscription_fee</th>\n",
       "    </tr>\n",
       "  </thead>\n",
       "  <tbody>\n",
       "    <tr>\n",
       "      <th>6531</th>\n",
       "      <td>701</td>\n",
       "      <td>Иван</td>\n",
       "      <td>31</td>\n",
       "      <td>Екатеринбург</td>\n",
       "      <td>free</td>\n",
       "      <td>4196.445201</td>\n",
       "      <td>30.0</td>\n",
       "      <td>2021-08-31</td>\n",
       "      <td>8</td>\n",
       "      <td>8</td>\n",
       "      <td>50</td>\n",
       "      <td>0</td>\n",
       "    </tr>\n",
       "    <tr>\n",
       "      <th>6570</th>\n",
       "      <td>704</td>\n",
       "      <td>Мирон</td>\n",
       "      <td>29</td>\n",
       "      <td>Ростов-на-Дону</td>\n",
       "      <td>free</td>\n",
       "      <td>4830.824371</td>\n",
       "      <td>30.0</td>\n",
       "      <td>2021-10-14</td>\n",
       "      <td>10</td>\n",
       "      <td>8</td>\n",
       "      <td>50</td>\n",
       "      <td>0</td>\n",
       "    </tr>\n",
       "    <tr>\n",
       "      <th>6680</th>\n",
       "      <td>712</td>\n",
       "      <td>Дарья</td>\n",
       "      <td>28</td>\n",
       "      <td>Москва</td>\n",
       "      <td>free</td>\n",
       "      <td>4684.004397</td>\n",
       "      <td>30.0</td>\n",
       "      <td>2021-03-04</td>\n",
       "      <td>3</td>\n",
       "      <td>8</td>\n",
       "      <td>50</td>\n",
       "      <td>0</td>\n",
       "    </tr>\n",
       "    <tr>\n",
       "      <th>6695</th>\n",
       "      <td>713</td>\n",
       "      <td>Святослав</td>\n",
       "      <td>30</td>\n",
       "      <td>Краснодар</td>\n",
       "      <td>free</td>\n",
       "      <td>5215.642710</td>\n",
       "      <td>30.0</td>\n",
       "      <td>2021-02-25</td>\n",
       "      <td>2</td>\n",
       "      <td>8</td>\n",
       "      <td>50</td>\n",
       "      <td>0</td>\n",
       "    </tr>\n",
       "    <tr>\n",
       "      <th>6768</th>\n",
       "      <td>718</td>\n",
       "      <td>Владислава</td>\n",
       "      <td>31</td>\n",
       "      <td>Москва</td>\n",
       "      <td>free</td>\n",
       "      <td>5197.436649</td>\n",
       "      <td>30.0</td>\n",
       "      <td>2021-02-11</td>\n",
       "      <td>2</td>\n",
       "      <td>8</td>\n",
       "      <td>50</td>\n",
       "      <td>0</td>\n",
       "    </tr>\n",
       "    <tr>\n",
       "      <th>...</th>\n",
       "      <td>...</td>\n",
       "      <td>...</td>\n",
       "      <td>...</td>\n",
       "      <td>...</td>\n",
       "      <td>...</td>\n",
       "      <td>...</td>\n",
       "      <td>...</td>\n",
       "      <td>...</td>\n",
       "      <td>...</td>\n",
       "      <td>...</td>\n",
       "      <td>...</td>\n",
       "      <td>...</td>\n",
       "    </tr>\n",
       "    <tr>\n",
       "      <th>17004</th>\n",
       "      <td>1460</td>\n",
       "      <td>Жанна</td>\n",
       "      <td>27</td>\n",
       "      <td>Пятигорск</td>\n",
       "      <td>free</td>\n",
       "      <td>5531.335845</td>\n",
       "      <td>30.0</td>\n",
       "      <td>2021-01-19</td>\n",
       "      <td>1</td>\n",
       "      <td>8</td>\n",
       "      <td>50</td>\n",
       "      <td>0</td>\n",
       "    </tr>\n",
       "    <tr>\n",
       "      <th>17242</th>\n",
       "      <td>1477</td>\n",
       "      <td>Ян</td>\n",
       "      <td>17</td>\n",
       "      <td>Сочи</td>\n",
       "      <td>free</td>\n",
       "      <td>6724.932981</td>\n",
       "      <td>30.0</td>\n",
       "      <td>2021-01-12</td>\n",
       "      <td>1</td>\n",
       "      <td>8</td>\n",
       "      <td>50</td>\n",
       "      <td>0</td>\n",
       "    </tr>\n",
       "    <tr>\n",
       "      <th>17314</th>\n",
       "      <td>1483</td>\n",
       "      <td>Роберт</td>\n",
       "      <td>26</td>\n",
       "      <td>Екатеринбург</td>\n",
       "      <td>free</td>\n",
       "      <td>4445.481070</td>\n",
       "      <td>30.0</td>\n",
       "      <td>2021-03-06</td>\n",
       "      <td>3</td>\n",
       "      <td>8</td>\n",
       "      <td>50</td>\n",
       "      <td>0</td>\n",
       "    </tr>\n",
       "    <tr>\n",
       "      <th>17505</th>\n",
       "      <td>1496</td>\n",
       "      <td>Яна</td>\n",
       "      <td>19</td>\n",
       "      <td>Москва</td>\n",
       "      <td>free</td>\n",
       "      <td>5722.551787</td>\n",
       "      <td>30.0</td>\n",
       "      <td>2021-02-14</td>\n",
       "      <td>2</td>\n",
       "      <td>8</td>\n",
       "      <td>50</td>\n",
       "      <td>0</td>\n",
       "    </tr>\n",
       "    <tr>\n",
       "      <th>17909</th>\n",
       "      <td>1524</td>\n",
       "      <td>Матвей</td>\n",
       "      <td>32</td>\n",
       "      <td>Москва</td>\n",
       "      <td>free</td>\n",
       "      <td>4103.998874</td>\n",
       "      <td>30.0</td>\n",
       "      <td>2021-06-18</td>\n",
       "      <td>6</td>\n",
       "      <td>8</td>\n",
       "      <td>50</td>\n",
       "      <td>0</td>\n",
       "    </tr>\n",
       "  </tbody>\n",
       "</table>\n",
       "<p>95 rows × 12 columns</p>\n",
       "</div>"
      ],
      "text/plain": [
       "       user_id        name  age            city subscription_type  \\\n",
       "6531       701        Иван   31    Екатеринбург              free   \n",
       "6570       704       Мирон   29  Ростов-на-Дону              free   \n",
       "6680       712       Дарья   28          Москва              free   \n",
       "6695       713   Святослав   30       Краснодар              free   \n",
       "6768       718  Владислава   31          Москва              free   \n",
       "...        ...         ...  ...             ...               ...   \n",
       "17004     1460       Жанна   27       Пятигорск              free   \n",
       "17242     1477          Ян   17            Сочи              free   \n",
       "17314     1483      Роберт   26    Екатеринбург              free   \n",
       "17505     1496         Яна   19          Москва              free   \n",
       "17909     1524      Матвей   32          Москва              free   \n",
       "\n",
       "          distance  duration       date  month  minute_price  \\\n",
       "6531   4196.445201      30.0 2021-08-31      8             8   \n",
       "6570   4830.824371      30.0 2021-10-14     10             8   \n",
       "6680   4684.004397      30.0 2021-03-04      3             8   \n",
       "6695   5215.642710      30.0 2021-02-25      2             8   \n",
       "6768   5197.436649      30.0 2021-02-11      2             8   \n",
       "...            ...       ...        ...    ...           ...   \n",
       "17004  5531.335845      30.0 2021-01-19      1             8   \n",
       "17242  6724.932981      30.0 2021-01-12      1             8   \n",
       "17314  4445.481070      30.0 2021-03-06      3             8   \n",
       "17505  5722.551787      30.0 2021-02-14      2             8   \n",
       "17909  4103.998874      30.0 2021-06-18      6             8   \n",
       "\n",
       "       start_ride_price  subscription_fee  \n",
       "6531                 50                 0  \n",
       "6570                 50                 0  \n",
       "6680                 50                 0  \n",
       "6695                 50                 0  \n",
       "6768                 50                 0  \n",
       "...                 ...               ...  \n",
       "17004                50                 0  \n",
       "17242                50                 0  \n",
       "17314                50                 0  \n",
       "17505                50                 0  \n",
       "17909                50                 0  \n",
       "\n",
       "[95 rows x 12 columns]"
      ]
     },
     "execution_count": 328,
     "metadata": {},
     "output_type": "execute_result"
    }
   ],
   "source": [
    "data_free.query('duration == 30')"
   ]
  },
  {
   "cell_type": "code",
   "execution_count": 329,
   "id": "cabc84ec",
   "metadata": {},
   "outputs": [
    {
     "data": {
      "text/html": [
       "<div>\n",
       "<style scoped>\n",
       "    .dataframe tbody tr th:only-of-type {\n",
       "        vertical-align: middle;\n",
       "    }\n",
       "\n",
       "    .dataframe tbody tr th {\n",
       "        vertical-align: top;\n",
       "    }\n",
       "\n",
       "    .dataframe thead th {\n",
       "        text-align: right;\n",
       "    }\n",
       "</style>\n",
       "<table border=\"1\" class=\"dataframe\">\n",
       "  <thead>\n",
       "    <tr style=\"text-align: right;\">\n",
       "      <th></th>\n",
       "      <th>user_id</th>\n",
       "      <th>name</th>\n",
       "      <th>age</th>\n",
       "      <th>city</th>\n",
       "      <th>subscription_type</th>\n",
       "      <th>distance</th>\n",
       "      <th>duration</th>\n",
       "      <th>date</th>\n",
       "      <th>month</th>\n",
       "      <th>minute_price</th>\n",
       "      <th>start_ride_price</th>\n",
       "      <th>subscription_fee</th>\n",
       "    </tr>\n",
       "  </thead>\n",
       "  <tbody>\n",
       "  </tbody>\n",
       "</table>\n",
       "</div>"
      ],
      "text/plain": [
       "Empty DataFrame\n",
       "Columns: [user_id, name, age, city, subscription_type, distance, duration, date, month, minute_price, start_ride_price, subscription_fee]\n",
       "Index: []"
      ]
     },
     "execution_count": 329,
     "metadata": {},
     "output_type": "execute_result"
    }
   ],
   "source": [
    "data_ultra.query('duration == 30')"
   ]
  },
  {
   "cell_type": "markdown",
   "id": "a917179e",
   "metadata": {},
   "source": [
    "Видим, что это 95 поездок с теми же идентификаторами, т.е., они действительно все оказались у пользователей без подписки. У пользователей же с подпиской поездок с такой продолжительностью нет."
   ]
  },
  {
   "cell_type": "code",
   "execution_count": 330,
   "id": "31080a39",
   "metadata": {},
   "outputs": [
    {
     "data": {
      "text/plain": [
       "count    11568.000000\n",
       "mean        17.633172\n",
       "std          6.239577\n",
       "min          2.035632\n",
       "25%         13.127082\n",
       "50%         17.446822\n",
       "75%         21.779484\n",
       "max         34.948498\n",
       "Name: duration, dtype: float64"
      ]
     },
     "execution_count": 330,
     "metadata": {},
     "output_type": "execute_result"
    }
   ],
   "source": [
    "data_free['duration'].describe()"
   ]
  },
  {
   "cell_type": "code",
   "execution_count": 331,
   "id": "b10ef336",
   "metadata": {},
   "outputs": [
    {
     "data": {
      "text/plain": [
       "count    6500.000000\n",
       "mean       18.541985\n",
       "std         5.572048\n",
       "min         3.760353\n",
       "25%        14.524654\n",
       "50%        18.178153\n",
       "75%        21.884129\n",
       "max        40.823963\n",
       "Name: duration, dtype: float64"
      ]
     },
     "execution_count": 331,
     "metadata": {},
     "output_type": "execute_result"
    }
   ],
   "source": [
    "data_ultra['duration'].describe()"
   ]
  },
  {
   "cell_type": "markdown",
   "id": "b15911d6",
   "metadata": {},
   "source": [
    "Видим, что медианное значение продолжительности поездок пользователей без подписки составляет 17,4 мин, а с подпиской - 18,2 мин. Средние значения: без подписки - 17,6 мин, с подпиской - 18,5 мин. Минимальное время поездок без подписки и с подпиской составляет 2 мин и 3,7 мин соответственно, а максимальное - 34,9 мин без подписки и 40,8 мин с подпиской.\n",
    "Таким образом, продолжительность поездок без подписки немного ниже по всем показателям, чем при использовании подписки `ultra`. "
   ]
  },
  {
   "cell_type": "markdown",
   "id": "ec707d68",
   "metadata": {},
   "source": [
    "*Вывод по визуализации информации о расстоянии и времени поездок для пользователей без подписки и с подпиской `ultra`:*  \n",
    "\n",
    "Общее количество поездок пользователей без подписки больше, чем количество поездок пользователей с подпиской ultra. Медианное значение расстояния поездок пользователей без подписки составляет 3115 м, а с подпиской 3149 м. Средние значения: без подписки - 3045 м, с подпиской - 3115 м. Максимальное расстояние больше для поездок без подписки - 7211 м против 5700 м для поездок с подпиской. При этом можно видеть, что у пользователей с подпиской меньший разброс (что заметно из графиков и по стандартному отклонению: без подписки - 1246,17, с подпиской `ultra` - 836,90), также наблюдается сдвиг центра того небольшого пика, о котором говорилось в п. 3.5 `Продолжительность поездок` с примерно 500 м (без подписки) до 1000 м (ultra). \n",
    "Что касается продолжительности поездок, то она по всем показателям у поездок без подписки несколько ниже, чем у поездок по подписке: медианные значения - 17,4 мин и 18,2 мин; средние значения - 17,6 мин и 18,5 мин; минимальное время поездок - 2 мин и 3,7 мин, максимальное - 34,9 мин и 40,8 мин. \n",
    "Исходя из данной информации, можно сказать, что наличие/отсутствие подписки влияет на длительность и расстояние.\n"
   ]
  },
  {
   "cell_type": "markdown",
   "id": "3631215f",
   "metadata": {},
   "source": [
    "#### Шаг 5. Подсчёт выручки"
   ]
  },
  {
   "cell_type": "markdown",
   "id": "b6c62922",
   "metadata": {},
   "source": [
    "##### Создание датафрейма с агрегированными данными о поездках  \n",
    "##### Добавление столбца с помесячной выручкой, которую принес каждый пользователь"
   ]
  },
  {
   "cell_type": "code",
   "execution_count": 332,
   "id": "62718596",
   "metadata": {},
   "outputs": [],
   "source": [
    "# Сначала округлим продолжительность каждой поездки до следующего целого числа: \n",
    "data['duration'] = np.ceil(data['duration']) "
   ]
  },
  {
   "cell_type": "code",
   "execution_count": 333,
   "id": "b8ef278a",
   "metadata": {},
   "outputs": [
    {
     "data": {
      "text/html": [
       "<div>\n",
       "<style scoped>\n",
       "    .dataframe tbody tr th:only-of-type {\n",
       "        vertical-align: middle;\n",
       "    }\n",
       "\n",
       "    .dataframe tbody tr th {\n",
       "        vertical-align: top;\n",
       "    }\n",
       "\n",
       "    .dataframe thead th {\n",
       "        text-align: right;\n",
       "    }\n",
       "</style>\n",
       "<table border=\"1\" class=\"dataframe\">\n",
       "  <thead>\n",
       "    <tr style=\"text-align: right;\">\n",
       "      <th></th>\n",
       "      <th></th>\n",
       "      <th>count</th>\n",
       "      <th>distance</th>\n",
       "      <th>duration</th>\n",
       "      <th>minute_price</th>\n",
       "      <th>start_ride_price</th>\n",
       "      <th>subscription_fee</th>\n",
       "    </tr>\n",
       "    <tr>\n",
       "      <th>user_id</th>\n",
       "      <th>month</th>\n",
       "      <th></th>\n",
       "      <th></th>\n",
       "      <th></th>\n",
       "      <th></th>\n",
       "      <th></th>\n",
       "      <th></th>\n",
       "    </tr>\n",
       "  </thead>\n",
       "  <tbody>\n",
       "    <tr>\n",
       "      <th rowspan=\"6\" valign=\"top\">1</th>\n",
       "      <th>1</th>\n",
       "      <td>2</td>\n",
       "      <td>7027.511294</td>\n",
       "      <td>42.0</td>\n",
       "      <td>6</td>\n",
       "      <td>0</td>\n",
       "      <td>199</td>\n",
       "    </tr>\n",
       "    <tr>\n",
       "      <th>4</th>\n",
       "      <td>1</td>\n",
       "      <td>754.159807</td>\n",
       "      <td>7.0</td>\n",
       "      <td>6</td>\n",
       "      <td>0</td>\n",
       "      <td>199</td>\n",
       "    </tr>\n",
       "    <tr>\n",
       "      <th>8</th>\n",
       "      <td>2</td>\n",
       "      <td>6723.470560</td>\n",
       "      <td>46.0</td>\n",
       "      <td>6</td>\n",
       "      <td>0</td>\n",
       "      <td>199</td>\n",
       "    </tr>\n",
       "    <tr>\n",
       "      <th>10</th>\n",
       "      <td>2</td>\n",
       "      <td>5809.911100</td>\n",
       "      <td>32.0</td>\n",
       "      <td>6</td>\n",
       "      <td>0</td>\n",
       "      <td>199</td>\n",
       "    </tr>\n",
       "    <tr>\n",
       "      <th>11</th>\n",
       "      <td>3</td>\n",
       "      <td>7003.499363</td>\n",
       "      <td>56.0</td>\n",
       "      <td>6</td>\n",
       "      <td>0</td>\n",
       "      <td>199</td>\n",
       "    </tr>\n",
       "    <tr>\n",
       "      <th>12</th>\n",
       "      <td>2</td>\n",
       "      <td>6751.629942</td>\n",
       "      <td>28.0</td>\n",
       "      <td>6</td>\n",
       "      <td>0</td>\n",
       "      <td>199</td>\n",
       "    </tr>\n",
       "    <tr>\n",
       "      <th rowspan=\"4\" valign=\"top\">2</th>\n",
       "      <th>3</th>\n",
       "      <td>3</td>\n",
       "      <td>10187.723006</td>\n",
       "      <td>63.0</td>\n",
       "      <td>6</td>\n",
       "      <td>0</td>\n",
       "      <td>199</td>\n",
       "    </tr>\n",
       "    <tr>\n",
       "      <th>4</th>\n",
       "      <td>2</td>\n",
       "      <td>6164.381824</td>\n",
       "      <td>40.0</td>\n",
       "      <td>6</td>\n",
       "      <td>0</td>\n",
       "      <td>199</td>\n",
       "    </tr>\n",
       "    <tr>\n",
       "      <th>6</th>\n",
       "      <td>1</td>\n",
       "      <td>3255.338202</td>\n",
       "      <td>14.0</td>\n",
       "      <td>6</td>\n",
       "      <td>0</td>\n",
       "      <td>199</td>\n",
       "    </tr>\n",
       "    <tr>\n",
       "      <th>7</th>\n",
       "      <td>2</td>\n",
       "      <td>6780.722964</td>\n",
       "      <td>48.0</td>\n",
       "      <td>6</td>\n",
       "      <td>0</td>\n",
       "      <td>199</td>\n",
       "    </tr>\n",
       "  </tbody>\n",
       "</table>\n",
       "</div>"
      ],
      "text/plain": [
       "               count      distance  duration  minute_price  start_ride_price  \\\n",
       "user_id month                                                                  \n",
       "1       1          2   7027.511294      42.0             6                 0   \n",
       "        4          1    754.159807       7.0             6                 0   \n",
       "        8          2   6723.470560      46.0             6                 0   \n",
       "        10         2   5809.911100      32.0             6                 0   \n",
       "        11         3   7003.499363      56.0             6                 0   \n",
       "        12         2   6751.629942      28.0             6                 0   \n",
       "2       3          3  10187.723006      63.0             6                 0   \n",
       "        4          2   6164.381824      40.0             6                 0   \n",
       "        6          1   3255.338202      14.0             6                 0   \n",
       "        7          2   6780.722964      48.0             6                 0   \n",
       "\n",
       "               subscription_fee  \n",
       "user_id month                    \n",
       "1       1                   199  \n",
       "        4                   199  \n",
       "        8                   199  \n",
       "        10                  199  \n",
       "        11                  199  \n",
       "        12                  199  \n",
       "2       3                   199  \n",
       "        4                   199  \n",
       "        6                   199  \n",
       "        7                   199  "
      ]
     },
     "execution_count": 333,
     "metadata": {},
     "output_type": "execute_result"
    }
   ],
   "source": [
    "data_agg = data.pivot_table(index = ('user_id','month'),\n",
    "                 values = ('distance', 'duration', 'minute_price','start_ride_price','subscription_fee'), \n",
    "                 aggfunc = {'distance':['count','sum'], \n",
    "                            'duration':'sum',\n",
    "                            'minute_price': 'mean',\n",
    "                            'start_ride_price':'mean',\n",
    "                            'subscription_fee':'mean'}\n",
    "                 )\n",
    "\n",
    "# Переименуем столбцы\n",
    "data_agg.columns = ['count', 'distance', 'duration', 'minute_price', 'start_ride_price', 'subscription_fee']\n",
    "\n",
    "# Выведем первые строки\n",
    "data_agg.head(10)"
   ]
  },
  {
   "cell_type": "code",
   "execution_count": 334,
   "id": "1a0ba023",
   "metadata": {},
   "outputs": [
    {
     "data": {
      "text/html": [
       "<div>\n",
       "<style scoped>\n",
       "    .dataframe tbody tr th:only-of-type {\n",
       "        vertical-align: middle;\n",
       "    }\n",
       "\n",
       "    .dataframe tbody tr th {\n",
       "        vertical-align: top;\n",
       "    }\n",
       "\n",
       "    .dataframe thead th {\n",
       "        text-align: right;\n",
       "    }\n",
       "</style>\n",
       "<table border=\"1\" class=\"dataframe\">\n",
       "  <thead>\n",
       "    <tr style=\"text-align: right;\">\n",
       "      <th></th>\n",
       "      <th></th>\n",
       "      <th>count</th>\n",
       "      <th>distance</th>\n",
       "      <th>duration</th>\n",
       "      <th>minute_price</th>\n",
       "      <th>start_ride_price</th>\n",
       "      <th>subscription_fee</th>\n",
       "      <th>revenue_monthly</th>\n",
       "    </tr>\n",
       "    <tr>\n",
       "      <th>user_id</th>\n",
       "      <th>month</th>\n",
       "      <th></th>\n",
       "      <th></th>\n",
       "      <th></th>\n",
       "      <th></th>\n",
       "      <th></th>\n",
       "      <th></th>\n",
       "      <th></th>\n",
       "    </tr>\n",
       "  </thead>\n",
       "  <tbody>\n",
       "    <tr>\n",
       "      <th rowspan=\"6\" valign=\"top\">1</th>\n",
       "      <th>1</th>\n",
       "      <td>2</td>\n",
       "      <td>7027.511294</td>\n",
       "      <td>42.0</td>\n",
       "      <td>6</td>\n",
       "      <td>0</td>\n",
       "      <td>199</td>\n",
       "      <td>451.0</td>\n",
       "    </tr>\n",
       "    <tr>\n",
       "      <th>4</th>\n",
       "      <td>1</td>\n",
       "      <td>754.159807</td>\n",
       "      <td>7.0</td>\n",
       "      <td>6</td>\n",
       "      <td>0</td>\n",
       "      <td>199</td>\n",
       "      <td>241.0</td>\n",
       "    </tr>\n",
       "    <tr>\n",
       "      <th>8</th>\n",
       "      <td>2</td>\n",
       "      <td>6723.470560</td>\n",
       "      <td>46.0</td>\n",
       "      <td>6</td>\n",
       "      <td>0</td>\n",
       "      <td>199</td>\n",
       "      <td>475.0</td>\n",
       "    </tr>\n",
       "    <tr>\n",
       "      <th>10</th>\n",
       "      <td>2</td>\n",
       "      <td>5809.911100</td>\n",
       "      <td>32.0</td>\n",
       "      <td>6</td>\n",
       "      <td>0</td>\n",
       "      <td>199</td>\n",
       "      <td>391.0</td>\n",
       "    </tr>\n",
       "    <tr>\n",
       "      <th>11</th>\n",
       "      <td>3</td>\n",
       "      <td>7003.499363</td>\n",
       "      <td>56.0</td>\n",
       "      <td>6</td>\n",
       "      <td>0</td>\n",
       "      <td>199</td>\n",
       "      <td>535.0</td>\n",
       "    </tr>\n",
       "    <tr>\n",
       "      <th>12</th>\n",
       "      <td>2</td>\n",
       "      <td>6751.629942</td>\n",
       "      <td>28.0</td>\n",
       "      <td>6</td>\n",
       "      <td>0</td>\n",
       "      <td>199</td>\n",
       "      <td>367.0</td>\n",
       "    </tr>\n",
       "    <tr>\n",
       "      <th rowspan=\"4\" valign=\"top\">2</th>\n",
       "      <th>3</th>\n",
       "      <td>3</td>\n",
       "      <td>10187.723006</td>\n",
       "      <td>63.0</td>\n",
       "      <td>6</td>\n",
       "      <td>0</td>\n",
       "      <td>199</td>\n",
       "      <td>577.0</td>\n",
       "    </tr>\n",
       "    <tr>\n",
       "      <th>4</th>\n",
       "      <td>2</td>\n",
       "      <td>6164.381824</td>\n",
       "      <td>40.0</td>\n",
       "      <td>6</td>\n",
       "      <td>0</td>\n",
       "      <td>199</td>\n",
       "      <td>439.0</td>\n",
       "    </tr>\n",
       "    <tr>\n",
       "      <th>6</th>\n",
       "      <td>1</td>\n",
       "      <td>3255.338202</td>\n",
       "      <td>14.0</td>\n",
       "      <td>6</td>\n",
       "      <td>0</td>\n",
       "      <td>199</td>\n",
       "      <td>283.0</td>\n",
       "    </tr>\n",
       "    <tr>\n",
       "      <th>7</th>\n",
       "      <td>2</td>\n",
       "      <td>6780.722964</td>\n",
       "      <td>48.0</td>\n",
       "      <td>6</td>\n",
       "      <td>0</td>\n",
       "      <td>199</td>\n",
       "      <td>487.0</td>\n",
       "    </tr>\n",
       "  </tbody>\n",
       "</table>\n",
       "</div>"
      ],
      "text/plain": [
       "               count      distance  duration  minute_price  start_ride_price  \\\n",
       "user_id month                                                                  \n",
       "1       1          2   7027.511294      42.0             6                 0   \n",
       "        4          1    754.159807       7.0             6                 0   \n",
       "        8          2   6723.470560      46.0             6                 0   \n",
       "        10         2   5809.911100      32.0             6                 0   \n",
       "        11         3   7003.499363      56.0             6                 0   \n",
       "        12         2   6751.629942      28.0             6                 0   \n",
       "2       3          3  10187.723006      63.0             6                 0   \n",
       "        4          2   6164.381824      40.0             6                 0   \n",
       "        6          1   3255.338202      14.0             6                 0   \n",
       "        7          2   6780.722964      48.0             6                 0   \n",
       "\n",
       "               subscription_fee  revenue_monthly  \n",
       "user_id month                                     \n",
       "1       1                   199            451.0  \n",
       "        4                   199            241.0  \n",
       "        8                   199            475.0  \n",
       "        10                  199            391.0  \n",
       "        11                  199            535.0  \n",
       "        12                  199            367.0  \n",
       "2       3                   199            577.0  \n",
       "        4                   199            439.0  \n",
       "        6                   199            283.0  \n",
       "        7                   199            487.0  "
      ]
     },
     "execution_count": 334,
     "metadata": {},
     "output_type": "execute_result"
    }
   ],
   "source": [
    "# Добавим столбец с помесячной выручкой, которую принёс каждый пользователь\n",
    "data_agg['revenue_monthly'] = (data_agg['start_ride_price'] * data_agg['count']\n",
    "                        + data_agg['minute_price'] * data_agg['duration'] + data_agg['subscription_fee'])\n",
    "data_agg.head(10)"
   ]
  },
  {
   "cell_type": "markdown",
   "id": "a0540b38",
   "metadata": {},
   "source": [
    "Был добавлен столбец с помесячной выручкой, которую принёс каждый пользователь.  "
   ]
  },
  {
   "cell_type": "markdown",
   "id": "41545ac0",
   "metadata": {},
   "source": [
    "#### Шаг 6. Проверка гипотез"
   ]
  },
  {
   "cell_type": "markdown",
   "id": "d296fabb",
   "metadata": {},
   "source": [
    "##### Тратят ли пользователи с подпиской больше времени на поездки?"
   ]
  },
  {
   "cell_type": "markdown",
   "id": "67849e60",
   "metadata": {},
   "source": [
    "Важно понять, тратят ли пользователи с подпиской больше времени на поездки. Если да, то пользователи с подпиской могут быть «выгоднее» для компании. Используем исходные данные о продолжительности каждой сессии — отдельно для подписчиков и тех, у кого нет подписки. Проверим гипотезу.  \n",
    "\n",
    "- H0: Пользователи с подпиской тратят на поездки столько же времени, сколько пользователи без подписки (иными словами - средняя продолжительность поездок пользователей с подпиской и пользователей без подписки равны)  \n",
    "- Н1: Пользователи с подпиской тратят на поездки больше времени, чем пользователи без подписки (средняя продолжительность поездок пользователей с подпиской больше, чем у пользователей без подписки)\n"
   ]
  },
  {
   "cell_type": "code",
   "execution_count": 355,
   "id": "3ddeb979",
   "metadata": {},
   "outputs": [
    {
     "name": "stdout",
     "output_type": "stream",
     "text": [
      "Среднее время поездок пользователей c подпиской: 18.54198516280583\n",
      "Среднее время поездок пользователей без подписки: 17.6331724383597\n",
      "p-значение: 9.65242247012189e-23\n",
      "Отвергаем нулевую гипотезу\n"
     ]
    }
   ],
   "source": [
    "print('Среднее время поездок пользователей c подпиской:', data_ultra['duration'].mean())\n",
    "print('Среднее время поездок пользователей без подписки:', data_free['duration'].mean())\n",
    "\n",
    "# выбранный уровень статистической значимости\n",
    "alpha = 0.05\n",
    "\n",
    "results = st.ttest_ind(\n",
    "    data_ultra['duration'], \n",
    "    data_free['duration'], \n",
    "    alternative='greater')\n",
    "print('p-значение:', results.pvalue)\n",
    "\n",
    "if results.pvalue < alpha:\n",
    "    print('Отвергаем нулевую гипотезу')\n",
    "else:\n",
    "    print('Не получилось отвергнуть нулевую гипотезу')"
   ]
  },
  {
   "cell_type": "markdown",
   "id": "cc844b08",
   "metadata": {},
   "source": [
    "Нулевая гипотеза отвергнута, можно предположить, что длительность поездок у пользователей с подпиской больше, чем у пользователей без подписки; есть основания утверждать, что средняя продолжительность поездок пользователей с подпиской больше средней продолжительности поездок без подписки при установленном уровне значимости в 5 %."
   ]
  },
  {
   "cell_type": "code",
   "execution_count": 348,
   "id": "34624fa3",
   "metadata": {},
   "outputs": [
    {
     "name": "stdout",
     "output_type": "stream",
     "text": [
      "Среднее время поездок пользователей c подпиской: 18.54198516280583\n",
      "Среднее время поездок пользователей без подписки: 17.6331724383597\n",
      "p-значение: 9.65242247012189e-23\n",
      "Отвергаем нулевую гипотезу\n"
     ]
    }
   ],
   "source": [
    "print('Среднее время поездок пользователей c подпиской:', data_ultra['duration'].mean())\n",
    "print('Среднее время поездок пользователей без подписки:', data_free['duration'].mean())\n",
    "\n",
    "# выбранный уровень статистической значимости\n",
    "alpha = 0.01\n",
    "\n",
    "results = st.ttest_ind(\n",
    "    data_ultra['duration'], \n",
    "    data_free['duration'], \n",
    "    alternative='greater')\n",
    "print('p-значение:', results.pvalue)\n",
    "\n",
    "if results.pvalue < alpha:\n",
    "    print('Отвергаем нулевую гипотезу')\n",
    "else:\n",
    "    print('Не получилось отвергнуть нулевую гипотезу')"
   ]
  },
  {
   "cell_type": "markdown",
   "id": "b0914f4a",
   "metadata": {},
   "source": [
    "##### Среднее расстояние, которое проезжают пользователи с подпиской за одну поездку, не превышает 3130 метров?"
   ]
  },
  {
   "cell_type": "markdown",
   "id": "0809166e",
   "metadata": {},
   "source": [
    "Расстояние одной поездки в 3130 метров — оптимальное с точки зрения износа самоката. Можно ли сказать, что среднее расстояние, которое проезжают пользователи с подпиской за одну поездку, не превышает 3130 метров? Проверим гипотезу:\n",
    "\n",
    "- Н0: Среднее расстояние, которое проезжают пользователи с подпиской за одну поездку, равно оптимальному расстоянию 3130 метров\n",
    "- Н1: Среднее расстояние, которое проезжают пользователи с подпиской за одну поездку, больше оптимального растояния 3130 метров"
   ]
  },
  {
   "cell_type": "code",
   "execution_count": 351,
   "id": "be4ca3dd",
   "metadata": {},
   "outputs": [
    {
     "name": "stdout",
     "output_type": "stream",
     "text": [
      "Среднее расстояние поездок пользователей c подпиской: 3115.4453880370247\n",
      "p-значение: 0.9195368847849785\n",
      "Не отвергаем нулевую гипотезу\n"
     ]
    }
   ],
   "source": [
    "print('Среднее расстояние поездок пользователей c подпиской:', data_ultra['distance'].mean())\n",
    "\n",
    "# выбранный уровень статистической значимости\n",
    "alpha = 0.05\n",
    "\n",
    "value = 3130\n",
    "\n",
    "results = st.ttest_1samp(\n",
    "    data_ultra['distance'],\n",
    "    value,\n",
    "    alternative='greater')\n",
    "print('p-значение:', results.pvalue)\n",
    "\n",
    "if results.pvalue < alpha:\n",
    "    print('Отвергаем нулевую гипотезу')\n",
    "else:\n",
    "    print('Не отвергаем нулевую гипотезу')"
   ]
  },
  {
   "cell_type": "markdown",
   "id": "ec0771cc",
   "metadata": {},
   "source": [
    "Нулевая гипотеза не отвергается и, следовательно, есть основания утверждать, что среднее расстояние поездок пользователей с подпиской не превышает оптимальное с точки зрения износа самоката расстояние в 3130 метров при установленном уровне значимости в 5 %.  "
   ]
  },
  {
   "cell_type": "markdown",
   "id": "6f4a24c4",
   "metadata": {},
   "source": [
    "##### Будет ли помесячная выручка от пользователей с подпиской по месяцам выше, чем выручка от пользователей без подписки? "
   ]
  },
  {
   "cell_type": "markdown",
   "id": "2c40fe28",
   "metadata": {},
   "source": [
    "Проверим гипотезу:\n",
    "\n",
    "Н0: Помесячная средняя выручка от пользователей с подпиской равна помесячной средней выручке от пользователей без подписки  \n",
    "Н1: Помесячная средняя выручка от пользователей с подпиской больше помесячной средней выручки от пользователей без подписки"
   ]
  },
  {
   "cell_type": "code",
   "execution_count": 356,
   "id": "5a094f4f",
   "metadata": {},
   "outputs": [
    {
     "name": "stdout",
     "output_type": "stream",
     "text": [
      "Средняя помесячная выручка от пользователей c подпиской: 362.7921906022502\n",
      "Средняя помесячная выручка от пользователей без подписки: 331.88349514563106\n",
      "p-значение: 7.430720991422216e-26\n",
      "Отвергаем нулевую гипотезу\n"
     ]
    }
   ],
   "source": [
    "print('Средняя помесячная выручка от пользователей c подпиской:', data_agg.query('subscription_fee == 199') \\\n",
    "    ['revenue_monthly'].mean())\n",
    "print('Средняя помесячная выручка от пользователей без подписки:', data_agg.query('subscription_fee == 0') \\\n",
    "    ['revenue_monthly'].mean())\n",
    "\n",
    "# выбранный уровень статистической значимости\n",
    "alpha = 0.05\n",
    "\n",
    "results = st.ttest_ind(\n",
    "    data_agg.query('subscription_fee == 199') \\\n",
    "    ['revenue_monthly'], \n",
    "    data_agg.query('subscription_fee == 0') \\\n",
    "    ['revenue_monthly'], \n",
    "    alternative='greater')\n",
    "print('p-значение:', results.pvalue)\n",
    "\n",
    "if results.pvalue < alpha:\n",
    "    print('Отвергаем нулевую гипотезу')\n",
    "else:\n",
    "    print('Не получилось отвергнуть нулевую гипотезу')"
   ]
  },
  {
   "cell_type": "markdown",
   "id": "41297b9d",
   "metadata": {},
   "source": [
    "Нулевая гипотеза отвергнута. Есть основания предполагать, что средняя месячная выручка от пользователей с подпиской больше средней месячной выручки от пользователей без подписки, при установленном уровне значимости в 5 %."
   ]
  },
  {
   "cell_type": "markdown",
   "id": "400edec0",
   "metadata": {},
   "source": [
    "##### Каким тестом проверить гипотезу о значимом снижении количества пользовательских обращений в техподдержку после обновления сервиса, с которым взаимодействует мобильное приложение?"
   ]
  },
  {
   "cell_type": "markdown",
   "id": "74e4d22f",
   "metadata": {},
   "source": [
    "Техническая команда сервиса обновила сервера, с которыми взаимодействует мобильное приложение. Она надеется, что из-за этого количество обращений в техподдержку значимо снизилось. Некоторый файл содержит для каждого пользователя данные о количестве обращений до обновления и после него. Какой тест нужен для проверки этой гипотезы?"
   ]
  },
  {
   "cell_type": "markdown",
   "id": "9dd4ebe8",
   "metadata": {},
   "source": [
    "**Ответ:**  \n",
    "\n",
    "В данном случае будет анализироваться одна генеральная совокупность, с которой произошли некоторые изменения. В этой ситуации проверяется, равны ли средние значения до и после изменения.  \n",
    "\n",
    "Выборки в этом случае будут зависимыми, иначе - парными, что означает, что некоторая переменная измеряется дважды для одних и тех же объектов (количество обращений до обновления и после него).  \n",
    "Чтобы проверить гипозу о равенстве среднего генеральной совокупности для зависимых (парных) выборок, можно применить метод `scipy.stats.ttest_rel()`  \n",
    "\n",
    "Ему достаточно передать два параметра: наборы данных до обновления и после, alternative='greater' — проверяется правосторонняя гипотеза:\n",
    "H0: средние значения до и после изменения равны  \n",
    "H1: правосторонняя альтернативная гипотеза о том, что среднее до изменения больше, чем среднее после изменения.  \n",
    "\n",
    "Оба набора должны быть одинаковыми по размеру: каждое измерение должно быть проведено до и после изменения.  \n",
    "Подразумевается, что порядок объектов, для которых сделаны измерения, в обоих массивах тоже одинаковый."
   ]
  },
  {
   "cell_type": "markdown",
   "id": "c10c060c",
   "metadata": {},
   "source": [
    "*Вывод по проверке гипотез:*\n",
    "\n",
    "- Нулевая гипотеза о том, что пользователи с подпиской тратят на поездки столько же времени, сколько пользователи без подписки (средняя продолжительность поездок пользователей с подпиской и пользователей без подписки равны) отвергнута. Можно предположить, что длительность поездок у пользователей с подпиской больше, чем у пользователей без подписки; есть основания утверждать, что средняя продолжительность поездок пользователей с подпиской больше средней продолжительности поездок без подписки при установленном уровне значимости в 5 %.\n",
    "\n",
    "- Нулевая гипотеза о том, что среднее расстояние, которое проезжают пользователи с подпиской за одну поездку, равно оптимальному расстоянию 3130 метров, не отвергается, и, следовательно, можно полагать, что среднее расстояние поездок пользователей с подпиской не превышает оптимальное с точки зрения износа самоката расстояние в 3130 метров при установленном уровне значимости в 5 %. \n",
    "\n",
    "- Нулевая гипотеза о том, что помесячная средняя выручка от пользователей с подпиской равна помесячной средней выручке от пользователей без подписки, отвергнута. Есть основания предполагать, что средняя месячная выручка от пользователей с подпиской больше средней месячной выручки от пользователей без подписки, при установленном уровне значимости в 5 %. \n",
    "\n",
    "Приведено пояснение о применения метода `scipy.stats.ttest_rel()` для проверки гипотезы о равенстве средних для зависимых (парных) выборок, а именно, чтобы проверить гипотезу о значимом снижении количества пользовательских обращений в техподдержку после обновления сервиса, с которым взаимодействует мобильное приложение. "
   ]
  },
  {
   "cell_type": "markdown",
   "id": "61213c5e",
   "metadata": {},
   "source": [
    "#### Шаг 7. Распределения"
   ]
  },
  {
   "cell_type": "markdown",
   "id": "d9de0f6e",
   "metadata": {},
   "source": [
    "7.1\n",
    "\n",
    "Отделу маркетинга GoFast поставили задачу: нужно провести акцию с раздачей промокодов на один бесплатный месяц подписки, в рамках которой как минимум 100 существующих клиентов должны продлить эту подписку. То есть, по завершении периода действия подписки пользователь может либо отказаться от неё, либо продлить, совершив соответствующий платёж.  \n",
    "Эта акция уже проводилась ранее и по итогу выяснилось, что после бесплатного пробного периода подписку продлевают \n",
    "10% пользователей.  \n",
    "Необходимо выяснить, какое минимальное количество промокодов нужно разослать, чтобы вероятность не выполнить план была примерно 5%; подобрать параметры распределения, описывающего эту ситуацию; построить график распределения и сформулировать ответ на вопрос о количестве промокодов."
   ]
  },
  {
   "cell_type": "code",
   "execution_count": 362,
   "id": "42ee094c",
   "metadata": {},
   "outputs": [
    {
     "data": {
      "image/png": "[encoded data removed]",
      "text/plain": [
       "<Figure size 432x288 with 1 Axes>"
      ]
     },
     "metadata": {
      "needs_background": "light"
     },
     "output_type": "display_data"
    }
   ],
   "source": [
    "n = 1000\n",
    "p = 0.1\n",
    "\n",
    "distr = []\n",
    "\n",
    "for k in range(0, n + 1):\n",
    "    current_value = binom.pmf(k, n, p)\n",
    "    distr.append(current_value)\n",
    "    \n",
    "plt.bar(range(0, n + 1), distr);"
   ]
  },
  {
   "cell_type": "code",
   "execution_count": 361,
   "id": "40f95fe3",
   "metadata": {},
   "outputs": [
    {
     "name": "stdout",
     "output_type": "stream",
     "text": [
      "Минимальное количество промокодов: 1161\n"
     ]
    }
   ],
   "source": [
    "n = 1000\n",
    "p = 0.1\n",
    "k = 100 \n",
    "\n",
    "while binom.cdf(k-1, n, p) > 0.05:\n",
    "    n += 1\n",
    "\n",
    "print(f'Минимальное количество промокодов: {n}')\n"
   ]
  },
  {
   "cell_type": "markdown",
   "id": "b3658e04",
   "metadata": {},
   "source": [
    "Вывод: Минимальное количество промокодов, которые нужно разослать, чтобы вероятность не выполнить план (как минимум 100 существующих клиентов должны продлить подписку) была примерно 5%, составляет 1161."
   ]
  },
  {
   "cell_type": "markdown",
   "id": "a8ff6e3c",
   "metadata": {},
   "source": [
    "7.2"
   ]
  },
  {
   "cell_type": "markdown",
   "id": "863c173a",
   "metadata": {},
   "source": [
    "Отдел маркетинга рассылает клиентам push-уведомления в мобильном приложении. Клиенты могут открыть его или не открывать. Известно, что уведомления открывают около 40 % получивших клиентов. Отдел планирует разослать 1 млн уведомлений. С помощью аппроксимации нужно построить примерный график распределения и оценить вероятность того, что уведомление откроют не более 399,5 тыс. пользователей."
   ]
  },
  {
   "cell_type": "code",
   "execution_count": 381,
   "id": "651916d7",
   "metadata": {},
   "outputs": [
    {
     "data": {
      "image/png": "[encoded data removed]",
      "text/plain": [
       "<Figure size 432x288 with 1 Axes>"
      ]
     },
     "metadata": {
      "needs_background": "light"
     },
     "output_type": "display_data"
    },
    {
     "name": "stdout",
     "output_type": "stream",
     "text": [
      "Вероятность, что уведомление откроют не более 399,5 тыс. пользователей: 0.1537\n"
     ]
    }
   ],
   "source": [
    "# Аппроксимируем биномиальное распределение нормальным\n",
    "# задаём параметры биномиального распределения\n",
    "n = 1000000\n",
    "p = 0.4\n",
    "k = 399500\n",
    "\n",
    "# возьмем мат.ожидание и станд.отклонение нормального распределения равными\n",
    "# мат.ожиданию и станд.отклонению биномиального распределения\n",
    "mu = n * p\n",
    "sigma = sqrt(n * p * (1 - p))\n",
    "\n",
    "# задаём нормальное распределение\n",
    "distr = st.norm(mu, sigma)\n",
    "\n",
    "# считаем вероятность получить значение, равное 399500 или меньше (т.е., \"хвоста\" слева от 399500)\n",
    "result = distr.cdf(k)\n",
    "\n",
    "# Построение графика\n",
    "arange = np.arange(\n",
    "        (mu - 4 * sigma), \n",
    "        (mu + 4 * sigma)        \n",
    "        )\n",
    "plt.plot(arange, st.norm.pdf(arange, mu, sigma), 'm-')\n",
    "plt.axvline(x=k, color='red')\n",
    "plt.axvline(x=mu, color='green')\n",
    "plt.show()\n",
    "\n",
    "print('Вероятность, что уведомление откроют не более 399,5 тыс. пользователей:', result.round(4))"
   ]
  },
  {
   "cell_type": "code",
   "execution_count": 383,
   "id": "64344aa9",
   "metadata": {},
   "outputs": [
    {
     "data": {
      "image/png": "[encoded data removed]",
      "text/plain": [
       "<Figure size 432x288 with 1 Axes>"
      ]
     },
     "metadata": {
      "needs_background": "light"
     },
     "output_type": "display_data"
    }
   ],
   "source": [
    "x = np.linspace(mu - 4*sigma, mu + 4*sigma, 1000)\n",
    "y = norm.pdf(x, mu, sigma)\n",
    "plt.plot(x, y, 'b-')\n",
    "plt.axvline(x=k, color='red')\n",
    "plt.axvline(x=mu, color='green')\n",
    "plt.show()"
   ]
  },
  {
   "cell_type": "code",
   "execution_count": null,
   "id": "3bebc44d",
   "metadata": {},
   "outputs": [],
   "source": []
  }
 ],
 "metadata": {
  "ExecuteTimeLog": [
   {
    "duration": 446,
    "start_time": "2025-04-15T12:03:43.947Z"
   },
   {
    "duration": 3,
    "start_time": "2025-04-15T12:04:09.107Z"
   },
   {
    "duration": 3,
    "start_time": "2025-04-15T12:34:48.252Z"
   },
   {
    "duration": 969,
    "start_time": "2025-04-15T21:25:13.107Z"
   },
   {
    "duration": 62,
    "start_time": "2025-04-15T21:29:04.669Z"
   },
   {
    "duration": 14,
    "start_time": "2025-04-15T21:32:29.903Z"
   },
   {
    "duration": 12,
    "start_time": "2025-04-16T08:39:48.230Z"
   },
   {
    "duration": 386,
    "start_time": "2025-04-16T08:54:22.342Z"
   },
   {
    "duration": 262,
    "start_time": "2025-04-16T08:55:01.467Z"
   },
   {
    "duration": 246,
    "start_time": "2025-04-16T08:56:01.527Z"
   },
   {
    "duration": 25,
    "start_time": "2025-04-16T09:01:18.700Z"
   },
   {
    "duration": 9,
    "start_time": "2025-04-16T09:14:35.956Z"
   },
   {
    "duration": 30,
    "start_time": "2025-04-16T09:18:48.225Z"
   },
   {
    "duration": 299,
    "start_time": "2025-04-16T09:22:36.660Z"
   },
   {
    "duration": 431,
    "start_time": "2025-04-16T09:24:33.085Z"
   },
   {
    "duration": 501,
    "start_time": "2025-04-16T09:24:47.559Z"
   },
   {
    "duration": 412,
    "start_time": "2025-04-16T09:25:00.703Z"
   },
   {
    "duration": 99,
    "start_time": "2025-04-16T09:37:18.870Z"
   },
   {
    "duration": 7,
    "start_time": "2025-04-16T09:37:24.868Z"
   },
   {
    "duration": 25,
    "start_time": "2025-04-16T16:55:01.832Z"
   },
   {
    "duration": 10,
    "start_time": "2025-04-16T16:56:57.887Z"
   },
   {
    "duration": 7,
    "start_time": "2025-04-16T17:17:45.962Z"
   },
   {
    "duration": 6,
    "start_time": "2025-04-16T17:18:55.382Z"
   },
   {
    "duration": 10,
    "start_time": "2025-04-16T17:29:17.229Z"
   },
   {
    "duration": 6,
    "start_time": "2025-04-16T17:29:26.940Z"
   },
   {
    "duration": 9,
    "start_time": "2025-04-16T17:30:21.274Z"
   },
   {
    "duration": 10,
    "start_time": "2025-04-16T17:30:38.091Z"
   },
   {
    "duration": 6,
    "start_time": "2025-04-16T17:42:35.098Z"
   },
   {
    "duration": 6,
    "start_time": "2025-04-16T17:43:22.762Z"
   },
   {
    "duration": 9,
    "start_time": "2025-04-16T17:43:57.677Z"
   },
   {
    "duration": 6,
    "start_time": "2025-04-16T17:44:03.694Z"
   },
   {
    "duration": 6,
    "start_time": "2025-04-16T17:54:12.108Z"
   },
   {
    "duration": 13,
    "start_time": "2025-04-16T18:02:41.464Z"
   },
   {
    "duration": 7,
    "start_time": "2025-04-16T18:03:27.984Z"
   },
   {
    "duration": 9,
    "start_time": "2025-04-16T18:08:09.324Z"
   },
   {
    "duration": 14,
    "start_time": "2025-04-16T18:08:17.003Z"
   },
   {
    "duration": 9,
    "start_time": "2025-04-16T18:23:24.728Z"
   },
   {
    "duration": 13,
    "start_time": "2025-04-16T18:26:37.177Z"
   },
   {
    "duration": 9,
    "start_time": "2025-04-16T18:35:54.455Z"
   },
   {
    "duration": 9,
    "start_time": "2025-04-16T18:35:59.919Z"
   },
   {
    "duration": 5,
    "start_time": "2025-04-16T18:40:02.721Z"
   },
   {
    "duration": 6,
    "start_time": "2025-04-16T18:41:10.698Z"
   },
   {
    "duration": 9,
    "start_time": "2025-04-16T18:42:13.130Z"
   },
   {
    "duration": 11,
    "start_time": "2025-04-16T18:42:20.584Z"
   },
   {
    "duration": 9,
    "start_time": "2025-04-16T18:44:08.719Z"
   },
   {
    "duration": 7,
    "start_time": "2025-04-17T09:23:41.545Z"
   },
   {
    "duration": 11,
    "start_time": "2025-04-17T09:34:36.840Z"
   },
   {
    "duration": 13,
    "start_time": "2025-04-17T09:34:46.002Z"
   },
   {
    "duration": 16,
    "start_time": "2025-04-17T09:35:42.058Z"
   },
   {
    "duration": 13,
    "start_time": "2025-04-17T09:36:04.437Z"
   },
   {
    "duration": 133,
    "start_time": "2025-04-17T09:49:03.690Z"
   },
   {
    "duration": 160,
    "start_time": "2025-04-17T09:49:19.344Z"
   },
   {
    "duration": 146,
    "start_time": "2025-04-17T09:49:48.713Z"
   },
   {
    "duration": 157,
    "start_time": "2025-04-17T09:49:56.589Z"
   },
   {
    "duration": 153,
    "start_time": "2025-04-17T09:50:09.831Z"
   },
   {
    "duration": 167,
    "start_time": "2025-04-17T09:50:52.299Z"
   },
   {
    "duration": 162,
    "start_time": "2025-04-17T09:51:21.307Z"
   },
   {
    "duration": 162,
    "start_time": "2025-04-17T09:55:03.069Z"
   },
   {
    "duration": 16,
    "start_time": "2025-04-17T09:56:05.854Z"
   },
   {
    "duration": 257,
    "start_time": "2025-04-17T09:56:13.973Z"
   },
   {
    "duration": 151,
    "start_time": "2025-04-17T09:56:29.909Z"
   },
   {
    "duration": 153,
    "start_time": "2025-04-17T16:25:24.094Z"
   },
   {
    "duration": 168,
    "start_time": "2025-04-17T16:48:22.840Z"
   },
   {
    "duration": 146,
    "start_time": "2025-04-17T16:49:14.167Z"
   },
   {
    "duration": 151,
    "start_time": "2025-04-17T16:50:58.088Z"
   },
   {
    "duration": 165,
    "start_time": "2025-04-17T16:52:03.705Z"
   },
   {
    "duration": 66,
    "start_time": "2025-04-17T16:52:55.740Z"
   },
   {
    "duration": 66,
    "start_time": "2025-04-17T16:54:11.702Z"
   },
   {
    "duration": 154,
    "start_time": "2025-04-17T16:54:17.163Z"
   },
   {
    "duration": 155,
    "start_time": "2025-04-17T16:54:57.299Z"
   },
   {
    "duration": 67,
    "start_time": "2025-04-17T16:57:46.509Z"
   },
   {
    "duration": 163,
    "start_time": "2025-04-17T16:57:53.331Z"
   },
   {
    "duration": 153,
    "start_time": "2025-04-17T16:58:25.161Z"
   },
   {
    "duration": 14,
    "start_time": "2025-04-17T17:11:45.966Z"
   },
   {
    "duration": 12,
    "start_time": "2025-04-17T17:17:10.042Z"
   },
   {
    "duration": 18,
    "start_time": "2025-04-17T17:21:15.839Z"
   },
   {
    "duration": 258,
    "start_time": "2025-04-17T17:22:37.204Z"
   },
   {
    "duration": 156,
    "start_time": "2025-04-17T17:23:12.200Z"
   },
   {
    "duration": 59,
    "start_time": "2025-04-17T17:23:51.632Z"
   },
   {
    "duration": 159,
    "start_time": "2025-04-17T17:24:19.335Z"
   },
   {
    "duration": 63,
    "start_time": "2025-04-17T17:25:26.182Z"
   },
   {
    "duration": 167,
    "start_time": "2025-04-17T17:25:33.415Z"
   },
   {
    "duration": 168,
    "start_time": "2025-04-17T17:25:46.645Z"
   },
   {
    "duration": 158,
    "start_time": "2025-04-17T17:26:09.997Z"
   },
   {
    "duration": 155,
    "start_time": "2025-04-17T17:26:36.169Z"
   },
   {
    "duration": 157,
    "start_time": "2025-04-17T17:27:19.517Z"
   },
   {
    "duration": 158,
    "start_time": "2025-04-17T17:27:32.886Z"
   },
   {
    "duration": 158,
    "start_time": "2025-04-17T17:28:20.087Z"
   },
   {
    "duration": 164,
    "start_time": "2025-04-17T17:28:32.825Z"
   },
   {
    "duration": 6,
    "start_time": "2025-04-17T17:47:57.271Z"
   },
   {
    "duration": 14,
    "start_time": "2025-04-17T17:56:32.719Z"
   },
   {
    "duration": 7,
    "start_time": "2025-04-17T18:08:31.388Z"
   },
   {
    "duration": 9,
    "start_time": "2025-04-17T18:20:10.823Z"
   },
   {
    "duration": 313,
    "start_time": "2025-04-17T18:23:00.864Z"
   },
   {
    "duration": 6,
    "start_time": "2025-04-17T18:24:28.998Z"
   },
   {
    "duration": 322,
    "start_time": "2025-04-17T18:25:23.023Z"
   },
   {
    "duration": 451,
    "start_time": "2025-04-17T18:25:46.900Z"
   },
   {
    "duration": 315,
    "start_time": "2025-04-17T18:26:05.357Z"
   },
   {
    "duration": 8,
    "start_time": "2025-04-17T18:42:11.330Z"
   },
   {
    "duration": 9,
    "start_time": "2025-04-17T18:42:18.165Z"
   },
   {
    "duration": 175,
    "start_time": "2025-04-17T18:53:53.435Z"
   },
   {
    "duration": 61,
    "start_time": "2025-04-17T18:54:52.573Z"
   },
   {
    "duration": 222,
    "start_time": "2025-04-17T18:54:57.697Z"
   },
   {
    "duration": 211,
    "start_time": "2025-04-17T20:53:25.772Z"
   },
   {
    "duration": 9,
    "start_time": "2025-04-17T21:15:24.900Z"
   },
   {
    "duration": 214,
    "start_time": "2025-04-17T21:35:23.762Z"
   },
   {
    "duration": 205,
    "start_time": "2025-04-17T21:41:43.905Z"
   },
   {
    "duration": 203,
    "start_time": "2025-04-17T21:41:59.790Z"
   },
   {
    "duration": 9,
    "start_time": "2025-04-17T21:57:41.060Z"
   },
   {
    "duration": 12,
    "start_time": "2025-04-17T21:57:54.556Z"
   },
   {
    "duration": 11,
    "start_time": "2025-04-17T21:58:07.736Z"
   },
   {
    "duration": 10,
    "start_time": "2025-04-17T21:58:14.012Z"
   },
   {
    "duration": 11,
    "start_time": "2025-04-17T21:58:22.725Z"
   },
   {
    "duration": 18,
    "start_time": "2025-04-17T21:59:29.987Z"
   },
   {
    "duration": 12,
    "start_time": "2025-04-17T22:03:12.719Z"
   },
   {
    "duration": 9,
    "start_time": "2025-04-17T22:03:16.565Z"
   },
   {
    "duration": 16,
    "start_time": "2025-04-17T22:03:20.164Z"
   },
   {
    "duration": 9,
    "start_time": "2025-04-17T22:04:18.638Z"
   },
   {
    "duration": 21,
    "start_time": "2025-04-17T22:04:55.865Z"
   },
   {
    "duration": 10,
    "start_time": "2025-04-17T22:12:34.750Z"
   },
   {
    "duration": 18,
    "start_time": "2025-04-17T22:13:02.972Z"
   },
   {
    "duration": 11,
    "start_time": "2025-04-17T22:13:12.932Z"
   },
   {
    "duration": 9,
    "start_time": "2025-04-17T22:13:49.797Z"
   },
   {
    "duration": 3,
    "start_time": "2025-04-17T22:30:08.683Z"
   },
   {
    "duration": 9,
    "start_time": "2025-04-17T22:31:41.818Z"
   },
   {
    "duration": 4,
    "start_time": "2025-04-17T22:31:50.279Z"
   },
   {
    "duration": 9,
    "start_time": "2025-04-17T22:32:33.576Z"
   },
   {
    "duration": 9,
    "start_time": "2025-04-17T22:33:11.564Z"
   },
   {
    "duration": 9,
    "start_time": "2025-04-17T22:35:24.328Z"
   },
   {
    "duration": 12,
    "start_time": "2025-04-17T22:35:51.993Z"
   },
   {
    "duration": 10,
    "start_time": "2025-04-17T22:36:15.484Z"
   },
   {
    "duration": 17,
    "start_time": "2025-04-17T22:36:28.468Z"
   },
   {
    "duration": 9,
    "start_time": "2025-04-17T22:36:53.072Z"
   },
   {
    "duration": 15,
    "start_time": "2025-04-17T22:37:43.318Z"
   },
   {
    "duration": 222,
    "start_time": "2025-04-17T22:40:00.949Z"
   },
   {
    "duration": 294,
    "start_time": "2025-04-17T22:43:11.264Z"
   },
   {
    "duration": 207,
    "start_time": "2025-04-17T22:43:30.423Z"
   },
   {
    "duration": 197,
    "start_time": "2025-04-17T22:44:08.154Z"
   },
   {
    "duration": 67,
    "start_time": "2025-04-17T22:44:43.629Z"
   },
   {
    "duration": 9,
    "start_time": "2025-04-17T22:44:46.462Z"
   },
   {
    "duration": 29,
    "start_time": "2025-04-17T22:44:55.337Z"
   },
   {
    "duration": 238,
    "start_time": "2025-04-17T22:45:02.280Z"
   },
   {
    "duration": 9,
    "start_time": "2025-04-17T22:45:06.516Z"
   },
   {
    "duration": 400,
    "start_time": "2025-04-17T22:45:15.464Z"
   },
   {
    "duration": 8,
    "start_time": "2025-04-17T22:45:21.664Z"
   },
   {
    "duration": 11,
    "start_time": "2025-04-17T22:45:25.516Z"
   },
   {
    "duration": 8,
    "start_time": "2025-04-17T22:45:41.995Z"
   },
   {
    "duration": 6,
    "start_time": "2025-04-17T22:45:44.925Z"
   },
   {
    "duration": 7,
    "start_time": "2025-04-17T22:45:48.978Z"
   },
   {
    "duration": 6,
    "start_time": "2025-04-17T22:45:52.464Z"
   },
   {
    "duration": 14,
    "start_time": "2025-04-17T22:45:55.504Z"
   },
   {
    "duration": 8,
    "start_time": "2025-04-17T22:46:02.381Z"
   },
   {
    "duration": 8,
    "start_time": "2025-04-17T22:46:06.343Z"
   },
   {
    "duration": 6,
    "start_time": "2025-04-17T22:46:10.328Z"
   },
   {
    "duration": 6,
    "start_time": "2025-04-17T22:46:14.327Z"
   },
   {
    "duration": 7,
    "start_time": "2025-04-17T22:46:17.692Z"
   },
   {
    "duration": 13,
    "start_time": "2025-04-17T22:46:22.124Z"
   },
   {
    "duration": 11,
    "start_time": "2025-04-17T22:46:26.273Z"
   },
   {
    "duration": 5,
    "start_time": "2025-04-17T22:46:41.437Z"
   },
   {
    "duration": 7,
    "start_time": "2025-04-17T22:46:49.301Z"
   },
   {
    "duration": 9,
    "start_time": "2025-04-17T22:46:52.408Z"
   },
   {
    "duration": 7,
    "start_time": "2025-04-17T22:46:58.638Z"
   },
   {
    "duration": 148,
    "start_time": "2025-04-17T22:47:04.417Z"
   },
   {
    "duration": 144,
    "start_time": "2025-04-17T22:47:09.321Z"
   },
   {
    "duration": 149,
    "start_time": "2025-04-17T22:47:13.916Z"
   },
   {
    "duration": 5,
    "start_time": "2025-04-17T22:47:18.538Z"
   },
   {
    "duration": 8,
    "start_time": "2025-04-17T22:47:21.662Z"
   },
   {
    "duration": 324,
    "start_time": "2025-04-17T22:47:27.518Z"
   },
   {
    "duration": 9,
    "start_time": "2025-04-17T22:47:36.823Z"
   },
   {
    "duration": 8,
    "start_time": "2025-04-17T22:47:49.929Z"
   },
   {
    "duration": 312,
    "start_time": "2025-04-17T22:48:06.175Z"
   },
   {
    "duration": 209,
    "start_time": "2025-04-17T22:48:42.496Z"
   },
   {
    "duration": 200,
    "start_time": "2025-04-17T22:48:53.741Z"
   },
   {
    "duration": 16,
    "start_time": "2025-04-17T22:49:02.020Z"
   },
   {
    "duration": 4,
    "start_time": "2025-04-17T22:52:42.255Z"
   },
   {
    "duration": 9,
    "start_time": "2025-04-17T22:52:45.120Z"
   },
   {
    "duration": 9,
    "start_time": "2025-04-17T22:52:48.809Z"
   },
   {
    "duration": 198,
    "start_time": "2025-04-17T22:53:02.117Z"
   },
   {
    "duration": 17,
    "start_time": "2025-04-17T22:54:38.850Z"
   },
   {
    "duration": 201,
    "start_time": "2025-04-17T23:11:04.843Z"
   },
   {
    "duration": 197,
    "start_time": "2025-04-17T23:13:01.347Z"
   },
   {
    "duration": 56,
    "start_time": "2025-04-17T23:14:21.773Z"
   },
   {
    "duration": 8,
    "start_time": "2025-04-17T23:14:26.110Z"
   },
   {
    "duration": 24,
    "start_time": "2025-04-17T23:14:45.067Z"
   },
   {
    "duration": 236,
    "start_time": "2025-04-17T23:14:51.432Z"
   },
   {
    "duration": 9,
    "start_time": "2025-04-17T23:14:55.554Z"
   },
   {
    "duration": 368,
    "start_time": "2025-04-17T23:15:01.916Z"
   },
   {
    "duration": 7,
    "start_time": "2025-04-17T23:15:07.623Z"
   },
   {
    "duration": 11,
    "start_time": "2025-04-17T23:15:11.283Z"
   },
   {
    "duration": 7,
    "start_time": "2025-04-17T23:15:16.049Z"
   },
   {
    "duration": 6,
    "start_time": "2025-04-17T23:15:18.381Z"
   },
   {
    "duration": 6,
    "start_time": "2025-04-17T23:15:31.211Z"
   },
   {
    "duration": 5,
    "start_time": "2025-04-17T23:15:34.475Z"
   },
   {
    "duration": 10,
    "start_time": "2025-04-17T23:15:36.927Z"
   },
   {
    "duration": 7,
    "start_time": "2025-04-17T23:15:41.008Z"
   },
   {
    "duration": 8,
    "start_time": "2025-04-17T23:15:43.692Z"
   },
   {
    "duration": 7,
    "start_time": "2025-04-17T23:15:47.156Z"
   },
   {
    "duration": 6,
    "start_time": "2025-04-17T23:15:51.061Z"
   },
   {
    "duration": 6,
    "start_time": "2025-04-17T23:15:55.606Z"
   },
   {
    "duration": 6,
    "start_time": "2025-04-17T23:16:10.225Z"
   },
   {
    "duration": 14,
    "start_time": "2025-04-17T23:16:12.960Z"
   },
   {
    "duration": 10,
    "start_time": "2025-04-17T23:16:17.405Z"
   },
   {
    "duration": 5,
    "start_time": "2025-04-17T23:16:20.591Z"
   },
   {
    "duration": 6,
    "start_time": "2025-04-17T23:16:24.528Z"
   },
   {
    "duration": 8,
    "start_time": "2025-04-17T23:16:27.952Z"
   },
   {
    "duration": 5,
    "start_time": "2025-04-17T23:16:32.258Z"
   },
   {
    "duration": 142,
    "start_time": "2025-04-17T23:16:37.273Z"
   },
   {
    "duration": 252,
    "start_time": "2025-04-17T23:16:41.982Z"
   },
   {
    "duration": 143,
    "start_time": "2025-04-17T23:16:46.125Z"
   },
   {
    "duration": 6,
    "start_time": "2025-04-17T23:16:50.831Z"
   },
   {
    "duration": 8,
    "start_time": "2025-04-17T23:16:56.362Z"
   },
   {
    "duration": 302,
    "start_time": "2025-04-17T23:17:01.205Z"
   },
   {
    "duration": 9,
    "start_time": "2025-04-17T23:17:05.439Z"
   },
   {
    "duration": 192,
    "start_time": "2025-04-17T23:17:10.273Z"
   },
   {
    "duration": 9,
    "start_time": "2025-04-17T23:17:17.576Z"
   },
   {
    "duration": 198,
    "start_time": "2025-04-17T23:17:32.675Z"
   },
   {
    "duration": 17,
    "start_time": "2025-04-17T23:17:59.251Z"
   },
   {
    "duration": 4,
    "start_time": "2025-04-17T23:18:05.532Z"
   },
   {
    "duration": 9,
    "start_time": "2025-04-17T23:18:08.126Z"
   },
   {
    "duration": 9,
    "start_time": "2025-04-17T23:18:13.413Z"
   },
   {
    "duration": 199,
    "start_time": "2025-04-17T23:18:18.090Z"
   },
   {
    "duration": 17,
    "start_time": "2025-04-18T08:46:06.515Z"
   },
   {
    "duration": 29,
    "start_time": "2025-04-18T08:46:41.335Z"
   },
   {
    "duration": 16,
    "start_time": "2025-04-18T08:54:10.484Z"
   },
   {
    "duration": 28,
    "start_time": "2025-04-18T09:07:51.133Z"
   },
   {
    "duration": 15,
    "start_time": "2025-04-18T09:08:02.872Z"
   },
   {
    "duration": 31,
    "start_time": "2025-04-18T09:12:46.995Z"
   },
   {
    "duration": 28,
    "start_time": "2025-04-18T09:12:58.853Z"
   },
   {
    "duration": 14,
    "start_time": "2025-04-18T09:13:17.919Z"
   },
   {
    "duration": 15,
    "start_time": "2025-04-18T09:13:58.921Z"
   },
   {
    "duration": 7,
    "start_time": "2025-04-18T09:24:18.317Z"
   },
   {
    "duration": 17,
    "start_time": "2025-04-18T09:26:07.318Z"
   },
   {
    "duration": 14,
    "start_time": "2025-04-18T09:27:43.102Z"
   },
   {
    "duration": 16,
    "start_time": "2025-04-18T09:30:13.853Z"
   },
   {
    "duration": 14,
    "start_time": "2025-04-18T09:31:30.550Z"
   },
   {
    "duration": 16,
    "start_time": "2025-04-18T09:31:44.498Z"
   },
   {
    "duration": 17,
    "start_time": "2025-04-18T09:32:02.549Z"
   },
   {
    "duration": 14,
    "start_time": "2025-04-18T09:32:10.944Z"
   },
   {
    "duration": 267,
    "start_time": "2025-04-18T10:33:06.648Z"
   },
   {
    "duration": 175,
    "start_time": "2025-04-18T10:40:07.647Z"
   },
   {
    "duration": 417,
    "start_time": "2025-04-18T10:41:24.798Z"
   },
   {
    "duration": 311,
    "start_time": "2025-04-18T10:41:39.075Z"
   },
   {
    "duration": 332,
    "start_time": "2025-04-18T10:43:19.363Z"
   },
   {
    "duration": 69,
    "start_time": "2025-04-18T10:44:18.599Z"
   },
   {
    "duration": 354,
    "start_time": "2025-04-18T10:44:41.049Z"
   },
   {
    "duration": 336,
    "start_time": "2025-04-18T10:44:52.842Z"
   },
   {
    "duration": 10,
    "start_time": "2025-04-18T10:46:56.175Z"
   },
   {
    "duration": 9,
    "start_time": "2025-04-18T10:47:27.261Z"
   },
   {
    "duration": 15,
    "start_time": "2025-04-18T10:50:25.906Z"
   },
   {
    "duration": 15,
    "start_time": "2025-04-18T10:50:46.553Z"
   },
   {
    "duration": 318,
    "start_time": "2025-04-18T11:12:18.013Z"
   },
   {
    "duration": 448,
    "start_time": "2025-04-18T11:14:33.374Z"
   },
   {
    "duration": 264,
    "start_time": "2025-04-18T11:15:08.006Z"
   },
   {
    "duration": 293,
    "start_time": "2025-04-18T11:15:33.241Z"
   },
   {
    "duration": 295,
    "start_time": "2025-04-18T11:15:45.006Z"
   },
   {
    "duration": 275,
    "start_time": "2025-04-18T11:16:02.281Z"
   },
   {
    "duration": 276,
    "start_time": "2025-04-18T11:16:19.466Z"
   },
   {
    "duration": 9,
    "start_time": "2025-04-18T11:18:12.525Z"
   },
   {
    "duration": 9,
    "start_time": "2025-04-18T11:18:41.308Z"
   },
   {
    "duration": 33,
    "start_time": "2025-04-18T21:14:01.976Z"
   },
   {
    "duration": 22,
    "start_time": "2025-04-18T21:18:12.011Z"
   },
   {
    "duration": 156,
    "start_time": "2025-04-18T21:19:06.647Z"
   },
   {
    "duration": 29,
    "start_time": "2025-04-18T21:19:25.428Z"
   },
   {
    "duration": 4,
    "start_time": "2025-04-18T21:40:16.537Z"
   },
   {
    "duration": 47,
    "start_time": "2025-04-18T21:44:57.685Z"
   },
   {
    "duration": 6,
    "start_time": "2025-04-18T21:49:50.714Z"
   },
   {
    "duration": 14,
    "start_time": "2025-04-18T21:50:11.655Z"
   },
   {
    "duration": 5,
    "start_time": "2025-04-18T21:52:07.509Z"
   },
   {
    "duration": 7,
    "start_time": "2025-04-20T10:07:05.693Z"
   },
   {
    "duration": 6,
    "start_time": "2025-04-20T10:09:04.316Z"
   },
   {
    "duration": 11,
    "start_time": "2025-04-20T10:12:48.803Z"
   },
   {
    "duration": 8,
    "start_time": "2025-04-20T10:13:46.312Z"
   },
   {
    "duration": 11,
    "start_time": "2025-04-20T10:14:13.825Z"
   },
   {
    "duration": 59,
    "start_time": "2025-04-20T10:14:48.445Z"
   },
   {
    "duration": 10,
    "start_time": "2025-04-20T10:14:51.047Z"
   },
   {
    "duration": 24,
    "start_time": "2025-04-20T10:14:56.683Z"
   },
   {
    "duration": 240,
    "start_time": "2025-04-20T10:15:06.921Z"
   },
   {
    "duration": 9,
    "start_time": "2025-04-20T10:15:11.316Z"
   },
   {
    "duration": 30,
    "start_time": "2025-04-20T10:15:15.341Z"
   },
   {
    "duration": 390,
    "start_time": "2025-04-20T10:15:20.361Z"
   },
   {
    "duration": 8,
    "start_time": "2025-04-20T10:15:25.183Z"
   },
   {
    "duration": 11,
    "start_time": "2025-04-20T10:15:29.212Z"
   },
   {
    "duration": 9,
    "start_time": "2025-04-20T10:15:33.537Z"
   },
   {
    "duration": 6,
    "start_time": "2025-04-20T10:15:36.063Z"
   },
   {
    "duration": 6,
    "start_time": "2025-04-20T10:15:47.215Z"
   },
   {
    "duration": 6,
    "start_time": "2025-04-20T10:15:49.797Z"
   },
   {
    "duration": 11,
    "start_time": "2025-04-20T10:15:52.874Z"
   },
   {
    "duration": 7,
    "start_time": "2025-04-20T10:15:57.352Z"
   },
   {
    "duration": 6,
    "start_time": "2025-04-20T10:16:00.844Z"
   },
   {
    "duration": 6,
    "start_time": "2025-04-20T10:16:06.086Z"
   },
   {
    "duration": 7,
    "start_time": "2025-04-20T10:16:09.731Z"
   },
   {
    "duration": 7,
    "start_time": "2025-04-20T10:16:13.386Z"
   },
   {
    "duration": 15,
    "start_time": "2025-04-20T10:16:18.785Z"
   },
   {
    "duration": 11,
    "start_time": "2025-04-20T10:16:30.471Z"
   },
   {
    "duration": 5,
    "start_time": "2025-04-20T10:16:44.661Z"
   },
   {
    "duration": 7,
    "start_time": "2025-04-20T10:16:47.117Z"
   },
   {
    "duration": 9,
    "start_time": "2025-04-20T10:16:50.571Z"
   },
   {
    "duration": 6,
    "start_time": "2025-04-20T10:17:03.987Z"
   },
   {
    "duration": 153,
    "start_time": "2025-04-20T10:17:08.023Z"
   },
   {
    "duration": 164,
    "start_time": "2025-04-20T10:17:12.936Z"
   },
   {
    "duration": 159,
    "start_time": "2025-04-20T10:17:18.282Z"
   },
   {
    "duration": 6,
    "start_time": "2025-04-20T10:17:22.558Z"
   },
   {
    "duration": 7,
    "start_time": "2025-04-20T10:17:25.983Z"
   },
   {
    "duration": 318,
    "start_time": "2025-04-20T10:17:32.261Z"
   },
   {
    "duration": 10,
    "start_time": "2025-04-20T10:17:42.571Z"
   },
   {
    "duration": 208,
    "start_time": "2025-04-20T10:17:49.986Z"
   },
   {
    "duration": 9,
    "start_time": "2025-04-20T10:17:55.172Z"
   },
   {
    "duration": 215,
    "start_time": "2025-04-20T10:18:04.436Z"
   },
   {
    "duration": 18,
    "start_time": "2025-04-20T10:18:16.786Z"
   },
   {
    "duration": 10,
    "start_time": "2025-04-20T10:18:31.763Z"
   },
   {
    "duration": 4,
    "start_time": "2025-04-20T10:20:21.739Z"
   },
   {
    "duration": 9,
    "start_time": "2025-04-20T10:20:25.849Z"
   },
   {
    "duration": 10,
    "start_time": "2025-04-20T10:20:30.917Z"
   },
   {
    "duration": 337,
    "start_time": "2025-04-20T10:20:43.820Z"
   },
   {
    "duration": 30,
    "start_time": "2025-04-20T10:20:54.996Z"
   },
   {
    "duration": 15,
    "start_time": "2025-04-20T10:20:59.860Z"
   },
   {
    "duration": 14,
    "start_time": "2025-04-20T10:21:03.412Z"
   },
   {
    "duration": 18,
    "start_time": "2025-04-20T10:21:08.620Z"
   },
   {
    "duration": 14,
    "start_time": "2025-04-20T10:21:11.984Z"
   },
   {
    "duration": 17,
    "start_time": "2025-04-20T10:21:18.565Z"
   },
   {
    "duration": 13,
    "start_time": "2025-04-20T10:21:27.657Z"
   },
   {
    "duration": 249,
    "start_time": "2025-04-20T10:21:34.671Z"
   },
   {
    "duration": 9,
    "start_time": "2025-04-20T10:21:39.765Z"
   },
   {
    "duration": 9,
    "start_time": "2025-04-20T10:21:42.898Z"
   },
   {
    "duration": 269,
    "start_time": "2025-04-20T10:21:49.963Z"
   },
   {
    "duration": 12,
    "start_time": "2025-04-20T10:25:19.892Z"
   },
   {
    "duration": 11,
    "start_time": "2025-04-20T10:25:33.114Z"
   },
   {
    "duration": 22,
    "start_time": "2025-04-20T10:25:56.036Z"
   },
   {
    "duration": 10,
    "start_time": "2025-04-20T10:29:06.022Z"
   },
   {
    "duration": 10,
    "start_time": "2025-04-20T10:33:05.127Z"
   },
   {
    "duration": 8,
    "start_time": "2025-04-20T10:33:16.172Z"
   },
   {
    "duration": 3,
    "start_time": "2025-04-20T10:33:29.498Z"
   },
   {
    "duration": 49,
    "start_time": "2025-04-20T10:33:32.753Z"
   },
   {
    "duration": 16,
    "start_time": "2025-04-20T10:33:39.942Z"
   },
   {
    "duration": 6,
    "start_time": "2025-04-20T10:33:44.942Z"
   },
   {
    "duration": 8,
    "start_time": "2025-04-20T21:44:16.111Z"
   },
   {
    "duration": 12,
    "start_time": "2025-04-20T21:45:52.017Z"
   },
   {
    "duration": 5,
    "start_time": "2025-04-20T21:47:18.360Z"
   },
   {
    "duration": 7,
    "start_time": "2025-04-20T21:52:47.222Z"
   },
   {
    "duration": 58,
    "start_time": "2025-04-20T21:59:57.412Z"
   },
   {
    "duration": 64,
    "start_time": "2025-04-20T22:00:46.944Z"
   },
   {
    "duration": 99,
    "start_time": "2025-04-20T22:01:35.673Z"
   },
   {
    "duration": 69,
    "start_time": "2025-04-20T22:03:39.291Z"
   },
   {
    "duration": 7,
    "start_time": "2025-04-20T22:04:20.500Z"
   },
   {
    "duration": 8,
    "start_time": "2025-04-20T22:05:56.630Z"
   },
   {
    "duration": 8,
    "start_time": "2025-04-20T22:06:06.628Z"
   },
   {
    "duration": 7,
    "start_time": "2025-04-20T22:08:48.168Z"
   },
   {
    "duration": 8,
    "start_time": "2025-04-20T22:13:19.054Z"
   },
   {
    "duration": 120,
    "start_time": "2025-04-20T22:20:44.633Z"
   },
   {
    "duration": 6,
    "start_time": "2025-04-20T22:21:19.021Z"
   },
   {
    "duration": 6,
    "start_time": "2025-04-20T22:29:16.655Z"
   },
   {
    "duration": 3,
    "start_time": "2025-04-20T22:43:43.984Z"
   },
   {
    "duration": 99,
    "start_time": "2025-04-21T13:42:21.005Z"
   },
   {
    "duration": 117,
    "start_time": "2025-04-21T13:43:32.802Z"
   },
   {
    "duration": 11,
    "start_time": "2025-04-21T13:44:24.553Z"
   },
   {
    "duration": 20,
    "start_time": "2025-04-21T13:45:55.132Z"
   },
   {
    "duration": 1588,
    "start_time": "2025-04-21T21:38:31.886Z"
   },
   {
    "duration": 1615,
    "start_time": "2025-04-21T21:40:48.069Z"
   },
   {
    "duration": 0,
    "start_time": "2025-04-21T22:55:23.042Z"
   },
   {
    "duration": 1678,
    "start_time": "2025-04-21T22:56:26.742Z"
   },
   {
    "duration": 24,
    "start_time": "2025-04-21T22:57:02.529Z"
   },
   {
    "duration": 1479,
    "start_time": "2025-04-21T23:00:47.011Z"
   },
   {
    "duration": 1607,
    "start_time": "2025-04-21T23:01:03.169Z"
   },
   {
    "duration": 5,
    "start_time": "2025-04-22T09:28:15.957Z"
   },
   {
    "duration": 5,
    "start_time": "2025-04-22T09:28:49.458Z"
   },
   {
    "duration": 6,
    "start_time": "2025-04-22T09:29:03.667Z"
   },
   {
    "duration": 322,
    "start_time": "2025-04-22T10:13:06.950Z"
   },
   {
    "duration": 292,
    "start_time": "2025-04-22T10:13:26.756Z"
   },
   {
    "duration": 238,
    "start_time": "2025-04-22T10:14:48.709Z"
   },
   {
    "duration": 194,
    "start_time": "2025-04-22T10:19:21.303Z"
   },
   {
    "duration": 161,
    "start_time": "2025-04-22T10:23:30.858Z"
   },
   {
    "duration": 10,
    "start_time": "2025-04-22T10:23:42.517Z"
   },
   {
    "duration": 257,
    "start_time": "2025-04-22T10:23:52.721Z"
   },
   {
    "duration": 252,
    "start_time": "2025-04-22T10:29:20.317Z"
   },
   {
    "duration": 76,
    "start_time": "2025-04-22T10:37:31.246Z"
   },
   {
    "duration": 247,
    "start_time": "2025-04-22T10:37:37.738Z"
   },
   {
    "duration": 204,
    "start_time": "2025-04-22T10:39:26.185Z"
   },
   {
    "duration": 100,
    "start_time": "2025-04-22T10:39:54.565Z"
   },
   {
    "duration": 202,
    "start_time": "2025-04-22T10:40:11.595Z"
   },
   {
    "duration": 218,
    "start_time": "2025-04-22T10:40:35.080Z"
   },
   {
    "duration": 272,
    "start_time": "2025-04-22T10:41:37.316Z"
   },
   {
    "duration": 103,
    "start_time": "2025-04-22T10:50:18.852Z"
   },
   {
    "duration": 200,
    "start_time": "2025-04-22T10:50:33.586Z"
   }
  ],
  "kernelspec": {
   "display_name": "Python 3 (ipykernel)",
   "language": "python",
   "name": "python3"
  },
  "language_info": {
   "codemirror_mode": {
    "name": "ipython",
    "version": 3
   },
   "file_extension": ".py",
   "mimetype": "text/x-python",
   "name": "python",
   "nbconvert_exporter": "python",
   "pygments_lexer": "ipython3",
   "version": "3.9.5"
  },
  "toc": {
   "base_numbering": 1,
   "nav_menu": {},
   "number_sections": true,
   "sideBar": true,
   "skip_h1_title": true,
   "title_cell": "Table of Contents",
   "title_sidebar": "Contents",
   "toc_cell": false,
   "toc_position": {
    "height": "calc(100% - 180px)",
    "left": "10px",
    "top": "150px",
    "width": "260.391px"
   },
   "toc_section_display": true,
   "toc_window_display": false
  }
 },
 "nbformat": 4,
 "nbformat_minor": 5
}
